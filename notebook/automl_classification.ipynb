{
 "cells": [
  {
   "cell_type": "markdown",
   "metadata": {
    "slideshow": {
     "slide_type": "slide"
    }
   },
   "source": [
    "Copyright (c) Microsoft Corporation. All rights reserved. \n",
    "\n",
    "Licensed under the MIT License.\n",
    "\n",
    "# AutoML with FLAML Library\n",
    "\n",
    "\n",
    "## 1. Introduction\n",
    "\n",
    "FLAML is a Python library (https://github.com/microsoft/FLAML) designed to automatically produce accurate machine learning models \n",
    "with low computational cost. It is fast and economical. The simple and lightweight design makes it easy to use and extend, such as adding new learners. FLAML can \n",
    "- serve as an economical AutoML engine,\n",
    "- be used as a fast hyperparameter tuning tool, or \n",
    "- be embedded in self-tuning software that requires low latency & resource in repetitive\n",
    "   tuning tasks.\n",
    "\n",
    "In this notebook, we use one real data example (binary classification) to showcase how to use FLAML library.\n",
    "\n",
    "FLAML requires `Python>=3.7`. To run this notebook example, please install flaml with the `notebook` option:\n",
    "```bash\n",
    "pip install flaml[notebook]\n",
    "```"
   ]
  },
  {
   "cell_type": "code",
   "execution_count": null,
   "metadata": {},
   "outputs": [],
   "source": [
    "%pip install flaml[notebook]\n",
    "# From v0.6.6, catboost is made an optional dependency to build conda package.\n",
    "# To install catboost, you can run:\n",
    "# %pip install flaml[catboost]"
   ]
  },
  {
   "cell_type": "markdown",
   "metadata": {
    "slideshow": {
     "slide_type": "slide"
    }
   },
   "source": [
    "## 2. Classification Example\n",
    "### Load data and preprocess\n",
    "\n",
    "Download [Airlines dataset](https://www.openml.org/d/1169) from OpenML. The task is to predict whether a given flight will be delayed, given the information of the scheduled departure."
   ]
  },
  {
   "cell_type": "code",
   "execution_count": 3,
   "metadata": {
    "slideshow": {
     "slide_type": "subslide"
    },
    "tags": []
   },
   "outputs": [
    {
     "name": "stdout",
     "output_type": "stream",
     "text": [
      "load dataset from ./openml_ds1169.pkl\n",
      "Dataset name: airlines\n",
      "X_train.shape: (404537, 7), y_train.shape: (404537,);\n",
      "X_test.shape: (134846, 7), y_test.shape: (134846,)\n"
     ]
    }
   ],
   "source": [
    "from flaml.data import load_openml_dataset\n",
    "X_train, X_test, y_train, y_test = load_openml_dataset(dataset_id=1169, data_dir='./')"
   ]
  },
  {
   "cell_type": "markdown",
   "metadata": {
    "slideshow": {
     "slide_type": "slide"
    }
   },
   "source": [
    "### Run FLAML\n",
    "In the FLAML automl run configuration, users can specify the task type, time budget, error metric, learner list, whether to subsample, resampling strategy type, and so on. All these arguments have default values which will be used if users do not provide them. For example, the default classifiers are `['lgbm', 'xgboost', 'xgb_limitdepth', 'catboost', 'rf', 'extra_tree', 'lrl1']`. "
   ]
  },
  {
   "cell_type": "code",
   "execution_count": 4,
   "metadata": {
    "slideshow": {
     "slide_type": "slide"
    }
   },
   "outputs": [],
   "source": [
    "''' import AutoML class from flaml package '''\n",
    "from flaml import AutoML\n",
    "automl = AutoML()"
   ]
  },
  {
   "cell_type": "code",
   "execution_count": 5,
   "metadata": {
    "slideshow": {
     "slide_type": "slide"
    }
   },
   "outputs": [],
   "source": [
    "settings = {\n",
    "    \"time_budget\": 600,  # total running time in seconds\n",
    "    \"metric\": 'accuracy', \n",
    "                        # check the documentation for options of metrics (https://microsoft.github.io/FLAML/docs/Use-Cases/Task-Oriented-AutoML#optimization-metric)\n",
    "    \"task\": 'classification',  # task type\n",
    "    \"log_file_name\": 'airlines_experiment.log',  # flaml log file\n",
    "    \"seed\": 7654321,    # random seed\n",
    "}\n"
   ]
  },
  {
   "cell_type": "code",
   "execution_count": 6,
   "metadata": {
    "slideshow": {
     "slide_type": "slide"
    },
    "tags": [
     "outputPrepend"
    ]
   },
   "outputs": [
    {
     "name": "stderr",
     "output_type": "stream",
     "text": [
      "[flaml.automl.automl: 12-08 11:44:42] {2625} INFO - task = classification\n",
      "[flaml.automl.automl: 12-08 11:44:42] {2627} INFO - Data split method: stratified\n",
      "[flaml.automl.automl: 12-08 11:44:42] {2630} INFO - Evaluation method: holdout\n",
      "[flaml.automl.automl: 12-08 11:44:42] {2757} INFO - Minimizing error metric: 1-accuracy\n",
      "[flaml.automl.automl: 12-08 11:44:42] {2902} INFO - List of ML learners in AutoML Run: ['lgbm', 'rf', 'catboost', 'xgboost', 'extra_tree', 'xgb_limitdepth', 'lrl1']\n",
      "[flaml.automl.automl: 12-08 11:44:42] {3203} INFO - iteration 0, current learner lgbm\n",
      "[flaml.automl.automl: 12-08 11:44:42] {3340} INFO - Estimated sufficient time budget=22556s. Estimated necessary time budget=554s.\n",
      "[flaml.automl.automl: 12-08 11:44:42] {3387} INFO -  at 0.8s,\testimator lgbm's best error=0.3777,\tbest estimator lgbm's best error=0.3777\n",
      "[flaml.automl.automl: 12-08 11:44:42] {3203} INFO - iteration 1, current learner lgbm\n",
      "[flaml.automl.automl: 12-08 11:44:42] {3387} INFO -  at 0.8s,\testimator lgbm's best error=0.3777,\tbest estimator lgbm's best error=0.3777\n",
      "[flaml.automl.automl: 12-08 11:44:42] {3203} INFO - iteration 2, current learner lgbm\n",
      "[flaml.automl.automl: 12-08 11:44:42] {3387} INFO -  at 0.8s,\testimator lgbm's best error=0.3614,\tbest estimator lgbm's best error=0.3614\n",
      "[flaml.automl.automl: 12-08 11:44:42] {3203} INFO - iteration 3, current learner lgbm\n",
      "[flaml.automl.automl: 12-08 11:44:42] {3387} INFO -  at 1.0s,\testimator lgbm's best error=0.3614,\tbest estimator lgbm's best error=0.3614\n",
      "[flaml.automl.automl: 12-08 11:44:42] {3203} INFO - iteration 4, current learner xgboost\n",
      "/home/qxw5138/miniconda3/envs/myflaml/lib/python3.8/site-packages/xgboost/data.py:192: FutureWarning: pandas.Int64Index is deprecated and will be removed from pandas in a future version. Use pandas.Index with the appropriate dtype instead.\n",
      "  from pandas import MultiIndex, Int64Index\n",
      "[flaml.automl.automl: 12-08 11:44:47] {3387} INFO -  at 5.2s,\testimator xgboost's best error=0.3787,\tbest estimator lgbm's best error=0.3614\n",
      "[flaml.automl.automl: 12-08 11:44:47] {3203} INFO - iteration 5, current learner lgbm\n",
      "[flaml.automl.automl: 12-08 11:44:47] {3387} INFO -  at 5.3s,\testimator lgbm's best error=0.3614,\tbest estimator lgbm's best error=0.3614\n",
      "[flaml.automl.automl: 12-08 11:44:47] {3203} INFO - iteration 6, current learner extra_tree\n",
      "[flaml.automl.automl: 12-08 11:44:47] {3387} INFO -  at 5.4s,\testimator extra_tree's best error=0.3787,\tbest estimator lgbm's best error=0.3614\n",
      "[flaml.automl.automl: 12-08 11:44:47] {3203} INFO - iteration 7, current learner rf\n",
      "[flaml.automl.automl: 12-08 11:44:47] {3387} INFO -  at 5.6s,\testimator rf's best error=0.3816,\tbest estimator lgbm's best error=0.3614\n",
      "[flaml.automl.automl: 12-08 11:44:47] {3203} INFO - iteration 8, current learner lgbm\n",
      "[flaml.automl.automl: 12-08 11:44:47] {3387} INFO -  at 5.7s,\testimator lgbm's best error=0.3614,\tbest estimator lgbm's best error=0.3614\n",
      "[flaml.automl.automl: 12-08 11:44:47] {3203} INFO - iteration 9, current learner lgbm\n",
      "[flaml.automl.automl: 12-08 11:44:47] {3387} INFO -  at 5.8s,\testimator lgbm's best error=0.3614,\tbest estimator lgbm's best error=0.3614\n",
      "[flaml.automl.automl: 12-08 11:44:47] {3203} INFO - iteration 10, current learner lgbm\n",
      "[flaml.automl.automl: 12-08 11:44:47] {3387} INFO -  at 5.9s,\testimator lgbm's best error=0.3614,\tbest estimator lgbm's best error=0.3614\n",
      "[flaml.automl.automl: 12-08 11:44:47] {3203} INFO - iteration 11, current learner rf\n",
      "[flaml.automl.automl: 12-08 11:44:47] {3387} INFO -  at 6.1s,\testimator rf's best error=0.3791,\tbest estimator lgbm's best error=0.3614\n",
      "[flaml.automl.automl: 12-08 11:44:47] {3203} INFO - iteration 12, current learner rf\n",
      "[flaml.automl.automl: 12-08 11:44:48] {3387} INFO -  at 6.3s,\testimator rf's best error=0.3791,\tbest estimator lgbm's best error=0.3614\n",
      "[flaml.automl.automl: 12-08 11:44:48] {3203} INFO - iteration 13, current learner extra_tree\n",
      "[flaml.automl.automl: 12-08 11:44:48] {3387} INFO -  at 6.5s,\testimator extra_tree's best error=0.3787,\tbest estimator lgbm's best error=0.3614\n",
      "[flaml.automl.automl: 12-08 11:44:48] {3203} INFO - iteration 14, current learner extra_tree\n",
      "[flaml.automl.automl: 12-08 11:44:48] {3387} INFO -  at 6.7s,\testimator extra_tree's best error=0.3787,\tbest estimator lgbm's best error=0.3614\n",
      "[flaml.automl.automl: 12-08 11:44:48] {3203} INFO - iteration 15, current learner lgbm\n",
      "[flaml.automl.automl: 12-08 11:44:48] {3387} INFO -  at 6.9s,\testimator lgbm's best error=0.3550,\tbest estimator lgbm's best error=0.3550\n",
      "[flaml.automl.automl: 12-08 11:44:48] {3203} INFO - iteration 16, current learner lgbm\n",
      "[flaml.automl.automl: 12-08 11:44:48] {3387} INFO -  at 7.0s,\testimator lgbm's best error=0.3550,\tbest estimator lgbm's best error=0.3550\n",
      "[flaml.automl.automl: 12-08 11:44:48] {3203} INFO - iteration 17, current learner xgboost\n",
      "/home/qxw5138/miniconda3/envs/myflaml/lib/python3.8/site-packages/xgboost/data.py:192: FutureWarning: pandas.Int64Index is deprecated and will be removed from pandas in a future version. Use pandas.Index with the appropriate dtype instead.\n",
      "  from pandas import MultiIndex, Int64Index\n",
      "[flaml.automl.automl: 12-08 11:44:48] {3387} INFO -  at 7.1s,\testimator xgboost's best error=0.3787,\tbest estimator lgbm's best error=0.3550\n",
      "[flaml.automl.automl: 12-08 11:44:48] {3203} INFO - iteration 18, current learner lgbm\n",
      "[flaml.automl.automl: 12-08 11:44:49] {3387} INFO -  at 7.5s,\testimator lgbm's best error=0.3545,\tbest estimator lgbm's best error=0.3545\n",
      "[flaml.automl.automl: 12-08 11:44:49] {3203} INFO - iteration 19, current learner lgbm\n",
      "[flaml.automl.automl: 12-08 11:44:49] {3387} INFO -  at 7.8s,\testimator lgbm's best error=0.3545,\tbest estimator lgbm's best error=0.3545\n",
      "[flaml.automl.automl: 12-08 11:44:49] {3203} INFO - iteration 20, current learner lgbm\n",
      "[flaml.automl.automl: 12-08 11:44:50] {3387} INFO -  at 8.5s,\testimator lgbm's best error=0.3545,\tbest estimator lgbm's best error=0.3545\n",
      "[flaml.automl.automl: 12-08 11:44:50] {3203} INFO - iteration 21, current learner catboost\n",
      "[flaml.automl.automl: 12-08 11:44:52] {3387} INFO -  at 10.2s,\testimator catboost's best error=0.3587,\tbest estimator lgbm's best error=0.3545\n",
      "[flaml.automl.automl: 12-08 11:44:52] {3203} INFO - iteration 22, current learner rf\n",
      "[flaml.automl.automl: 12-08 11:44:52] {3387} INFO -  at 10.3s,\testimator rf's best error=0.3791,\tbest estimator lgbm's best error=0.3545\n",
      "[flaml.automl.automl: 12-08 11:44:52] {3203} INFO - iteration 23, current learner lgbm\n",
      "[flaml.automl.automl: 12-08 11:44:52] {3387} INFO -  at 10.6s,\testimator lgbm's best error=0.3536,\tbest estimator lgbm's best error=0.3536\n",
      "[flaml.automl.automl: 12-08 11:44:52] {3203} INFO - iteration 24, current learner lgbm\n",
      "[flaml.automl.automl: 12-08 11:44:52] {3387} INFO -  at 11.0s,\testimator lgbm's best error=0.3536,\tbest estimator lgbm's best error=0.3536\n",
      "[flaml.automl.automl: 12-08 11:44:52] {3203} INFO - iteration 25, current learner catboost\n",
      "[flaml.automl.automl: 12-08 11:44:53] {3387} INFO -  at 11.5s,\testimator catboost's best error=0.3587,\tbest estimator lgbm's best error=0.3536\n",
      "[flaml.automl.automl: 12-08 11:44:53] {3203} INFO - iteration 26, current learner xgboost\n",
      "/home/qxw5138/miniconda3/envs/myflaml/lib/python3.8/site-packages/xgboost/data.py:192: FutureWarning: pandas.Int64Index is deprecated and will be removed from pandas in a future version. Use pandas.Index with the appropriate dtype instead.\n",
      "  from pandas import MultiIndex, Int64Index\n",
      "[flaml.automl.automl: 12-08 11:44:54] {3387} INFO -  at 12.8s,\testimator xgboost's best error=0.3604,\tbest estimator lgbm's best error=0.3536\n",
      "[flaml.automl.automl: 12-08 11:44:54] {3203} INFO - iteration 27, current learner lgbm\n",
      "[flaml.automl.automl: 12-08 11:44:55] {3387} INFO -  at 13.5s,\testimator lgbm's best error=0.3536,\tbest estimator lgbm's best error=0.3536\n",
      "[flaml.automl.automl: 12-08 11:44:55] {3203} INFO - iteration 28, current learner xgboost\n",
      "/home/qxw5138/miniconda3/envs/myflaml/lib/python3.8/site-packages/xgboost/data.py:192: FutureWarning: pandas.Int64Index is deprecated and will be removed from pandas in a future version. Use pandas.Index with the appropriate dtype instead.\n",
      "  from pandas import MultiIndex, Int64Index\n",
      "[flaml.automl.automl: 12-08 11:45:00] {3387} INFO -  at 18.6s,\testimator xgboost's best error=0.3601,\tbest estimator lgbm's best error=0.3536\n",
      "[flaml.automl.automl: 12-08 11:45:00] {3203} INFO - iteration 29, current learner catboost\n",
      "[flaml.automl.automl: 12-08 11:45:01] {3387} INFO -  at 19.5s,\testimator catboost's best error=0.3587,\tbest estimator lgbm's best error=0.3536\n",
      "[flaml.automl.automl: 12-08 11:45:01] {3203} INFO - iteration 30, current learner catboost\n",
      "[flaml.automl.automl: 12-08 11:45:04] {3387} INFO -  at 22.9s,\testimator catboost's best error=0.3587,\tbest estimator lgbm's best error=0.3536\n",
      "[flaml.automl.automl: 12-08 11:45:04] {3203} INFO - iteration 31, current learner lgbm\n",
      "[flaml.automl.automl: 12-08 11:45:05] {3387} INFO -  at 24.0s,\testimator lgbm's best error=0.3528,\tbest estimator lgbm's best error=0.3528\n",
      "[flaml.automl.automl: 12-08 11:45:05] {3203} INFO - iteration 32, current learner lgbm\n",
      "[flaml.automl.automl: 12-08 11:45:09] {3387} INFO -  at 27.5s,\testimator lgbm's best error=0.3405,\tbest estimator lgbm's best error=0.3405\n",
      "[flaml.automl.automl: 12-08 11:45:09] {3203} INFO - iteration 33, current learner lgbm\n",
      "[flaml.automl.automl: 12-08 11:45:10] {3387} INFO -  at 28.7s,\testimator lgbm's best error=0.3405,\tbest estimator lgbm's best error=0.3405\n",
      "[flaml.automl.automl: 12-08 11:45:10] {3203} INFO - iteration 34, current learner catboost\n",
      "[flaml.automl.automl: 12-08 11:45:14] {3387} INFO -  at 32.4s,\testimator catboost's best error=0.3587,\tbest estimator lgbm's best error=0.3405\n",
      "[flaml.automl.automl: 12-08 11:45:14] {3203} INFO - iteration 35, current learner lgbm\n",
      "[flaml.automl.automl: 12-08 11:45:17] {3387} INFO -  at 35.5s,\testimator lgbm's best error=0.3370,\tbest estimator lgbm's best error=0.3370\n",
      "[flaml.automl.automl: 12-08 11:45:17] {3203} INFO - iteration 36, current learner xgb_limitdepth\n",
      "/home/qxw5138/miniconda3/envs/myflaml/lib/python3.8/site-packages/xgboost/data.py:192: FutureWarning: pandas.Int64Index is deprecated and will be removed from pandas in a future version. Use pandas.Index with the appropriate dtype instead.\n",
      "  from pandas import MultiIndex, Int64Index\n",
      "[flaml.automl.automl: 12-08 11:45:17] {3387} INFO -  at 35.8s,\testimator xgb_limitdepth's best error=0.3630,\tbest estimator lgbm's best error=0.3370\n",
      "[flaml.automl.automl: 12-08 11:45:17] {3203} INFO - iteration 37, current learner xgb_limitdepth\n",
      "/home/qxw5138/miniconda3/envs/myflaml/lib/python3.8/site-packages/xgboost/data.py:192: FutureWarning: pandas.Int64Index is deprecated and will be removed from pandas in a future version. Use pandas.Index with the appropriate dtype instead.\n",
      "  from pandas import MultiIndex, Int64Index\n",
      "[flaml.automl.automl: 12-08 11:45:17] {3387} INFO -  at 35.8s,\testimator xgb_limitdepth's best error=0.3630,\tbest estimator lgbm's best error=0.3370\n",
      "[flaml.automl.automl: 12-08 11:45:17] {3203} INFO - iteration 38, current learner xgb_limitdepth\n",
      "/home/qxw5138/miniconda3/envs/myflaml/lib/python3.8/site-packages/xgboost/data.py:192: FutureWarning: pandas.Int64Index is deprecated and will be removed from pandas in a future version. Use pandas.Index with the appropriate dtype instead.\n",
      "  from pandas import MultiIndex, Int64Index\n",
      "[flaml.automl.automl: 12-08 11:45:17] {3387} INFO -  at 36.1s,\testimator xgb_limitdepth's best error=0.3630,\tbest estimator lgbm's best error=0.3370\n",
      "[flaml.automl.automl: 12-08 11:45:17] {3203} INFO - iteration 39, current learner xgb_limitdepth\n",
      "/home/qxw5138/miniconda3/envs/myflaml/lib/python3.8/site-packages/xgboost/data.py:192: FutureWarning: pandas.Int64Index is deprecated and will be removed from pandas in a future version. Use pandas.Index with the appropriate dtype instead.\n",
      "  from pandas import MultiIndex, Int64Index\n",
      "[flaml.automl.automl: 12-08 11:45:18] {3387} INFO -  at 36.2s,\testimator xgb_limitdepth's best error=0.3630,\tbest estimator lgbm's best error=0.3370\n",
      "[flaml.automl.automl: 12-08 11:45:18] {3203} INFO - iteration 40, current learner xgb_limitdepth\n",
      "/home/qxw5138/miniconda3/envs/myflaml/lib/python3.8/site-packages/xgboost/data.py:192: FutureWarning: pandas.Int64Index is deprecated and will be removed from pandas in a future version. Use pandas.Index with the appropriate dtype instead.\n",
      "  from pandas import MultiIndex, Int64Index\n",
      "[flaml.automl.automl: 12-08 11:45:18] {3387} INFO -  at 36.3s,\testimator xgb_limitdepth's best error=0.3629,\tbest estimator lgbm's best error=0.3370\n",
      "[flaml.automl.automl: 12-08 11:45:18] {3203} INFO - iteration 41, current learner lgbm\n",
      "[flaml.automl.automl: 12-08 11:45:21] {3387} INFO -  at 39.9s,\testimator lgbm's best error=0.3370,\tbest estimator lgbm's best error=0.3370\n",
      "[flaml.automl.automl: 12-08 11:45:21] {3203} INFO - iteration 42, current learner catboost\n",
      "[flaml.automl.automl: 12-08 11:45:23] {3387} INFO -  at 41.3s,\testimator catboost's best error=0.3487,\tbest estimator lgbm's best error=0.3370\n",
      "[flaml.automl.automl: 12-08 11:45:23] {3203} INFO - iteration 43, current learner rf\n",
      "[flaml.automl.automl: 12-08 11:45:23] {3387} INFO -  at 41.5s,\testimator rf's best error=0.3789,\tbest estimator lgbm's best error=0.3370\n",
      "[flaml.automl.automl: 12-08 11:45:23] {3203} INFO - iteration 44, current learner lgbm\n",
      "[flaml.automl.automl: 12-08 11:45:26] {3387} INFO -  at 45.0s,\testimator lgbm's best error=0.3370,\tbest estimator lgbm's best error=0.3370\n",
      "[flaml.automl.automl: 12-08 11:45:26] {3203} INFO - iteration 45, current learner catboost\n",
      "[flaml.automl.automl: 12-08 11:45:27] {3387} INFO -  at 45.9s,\testimator catboost's best error=0.3477,\tbest estimator lgbm's best error=0.3370\n",
      "[flaml.automl.automl: 12-08 11:45:27] {3203} INFO - iteration 46, current learner xgb_limitdepth\n",
      "/home/qxw5138/miniconda3/envs/myflaml/lib/python3.8/site-packages/xgboost/data.py:192: FutureWarning: pandas.Int64Index is deprecated and will be removed from pandas in a future version. Use pandas.Index with the appropriate dtype instead.\n",
      "  from pandas import MultiIndex, Int64Index\n",
      "[flaml.automl.automl: 12-08 11:45:27] {3387} INFO -  at 45.9s,\testimator xgb_limitdepth's best error=0.3629,\tbest estimator lgbm's best error=0.3370\n",
      "[flaml.automl.automl: 12-08 11:45:27] {3203} INFO - iteration 47, current learner catboost\n",
      "[flaml.automl.automl: 12-08 11:45:40] {3387} INFO -  at 58.5s,\testimator catboost's best error=0.3477,\tbest estimator lgbm's best error=0.3370\n",
      "[flaml.automl.automl: 12-08 11:45:40] {3203} INFO - iteration 48, current learner lgbm\n",
      "[flaml.automl.automl: 12-08 11:45:44] {3387} INFO -  at 62.4s,\testimator lgbm's best error=0.3318,\tbest estimator lgbm's best error=0.3318\n",
      "[flaml.automl.automl: 12-08 11:45:44] {3203} INFO - iteration 49, current learner lrl1\n",
      "/home/qxw5138/miniconda3/envs/myflaml/lib/python3.8/site-packages/sklearn/linear_model/_sag.py:328: ConvergenceWarning: The max_iter was reached which means the coef_ did not converge\n",
      "  warnings.warn(\"The max_iter was reached which means \"\n",
      "[flaml.automl.automl: 12-08 11:45:44] {3387} INFO -  at 62.5s,\testimator lrl1's best error=0.4338,\tbest estimator lgbm's best error=0.3318\n",
      "[flaml.automl.automl: 12-08 11:45:44] {3203} INFO - iteration 50, current learner lrl1\n",
      "/home/qxw5138/miniconda3/envs/myflaml/lib/python3.8/site-packages/sklearn/linear_model/_sag.py:328: ConvergenceWarning: The max_iter was reached which means the coef_ did not converge\n",
      "  warnings.warn(\"The max_iter was reached which means \"\n",
      "[flaml.automl.automl: 12-08 11:45:44] {3387} INFO -  at 62.8s,\testimator lrl1's best error=0.4338,\tbest estimator lgbm's best error=0.3318\n",
      "[flaml.automl.automl: 12-08 11:45:44] {3203} INFO - iteration 51, current learner lgbm\n",
      "[flaml.automl.automl: 12-08 11:45:47] {3387} INFO -  at 66.0s,\testimator lgbm's best error=0.3282,\tbest estimator lgbm's best error=0.3282\n",
      "[flaml.automl.automl: 12-08 11:45:47] {3203} INFO - iteration 52, current learner lgbm\n",
      "[flaml.automl.automl: 12-08 11:45:51] {3387} INFO -  at 69.9s,\testimator lgbm's best error=0.3282,\tbest estimator lgbm's best error=0.3282\n",
      "[flaml.automl.automl: 12-08 11:45:51] {3203} INFO - iteration 53, current learner lgbm\n",
      "[flaml.automl.automl: 12-08 11:45:55] {3387} INFO -  at 73.4s,\testimator lgbm's best error=0.3282,\tbest estimator lgbm's best error=0.3282\n",
      "[flaml.automl.automl: 12-08 11:45:55] {3203} INFO - iteration 54, current learner lgbm\n",
      "[flaml.automl.automl: 12-08 11:45:59] {3387} INFO -  at 77.3s,\testimator lgbm's best error=0.3282,\tbest estimator lgbm's best error=0.3282\n",
      "[flaml.automl.automl: 12-08 11:45:59] {3203} INFO - iteration 55, current learner lgbm\n",
      "[flaml.automl.automl: 12-08 11:46:02] {3387} INFO -  at 81.0s,\testimator lgbm's best error=0.3282,\tbest estimator lgbm's best error=0.3282\n",
      "[flaml.automl.automl: 12-08 11:46:02] {3203} INFO - iteration 56, current learner lgbm\n",
      "[flaml.automl.automl: 12-08 11:46:05] {3387} INFO -  at 84.1s,\testimator lgbm's best error=0.3282,\tbest estimator lgbm's best error=0.3282\n",
      "[flaml.automl.automl: 12-08 11:46:05] {3203} INFO - iteration 57, current learner lgbm\n",
      "[flaml.automl.automl: 12-08 11:46:08] {3387} INFO -  at 86.4s,\testimator lgbm's best error=0.3282,\tbest estimator lgbm's best error=0.3282\n",
      "[flaml.automl.automl: 12-08 11:46:08] {3203} INFO - iteration 58, current learner lgbm\n",
      "[flaml.automl.automl: 12-08 11:46:14] {3387} INFO -  at 92.9s,\testimator lgbm's best error=0.3282,\tbest estimator lgbm's best error=0.3282\n",
      "[flaml.automl.automl: 12-08 11:46:14] {3203} INFO - iteration 59, current learner lgbm\n",
      "[flaml.automl.automl: 12-08 11:46:28] {3387} INFO -  at 106.2s,\testimator lgbm's best error=0.3282,\tbest estimator lgbm's best error=0.3282\n",
      "[flaml.automl.automl: 12-08 11:46:28] {3203} INFO - iteration 60, current learner lgbm\n",
      "[flaml.automl.automl: 12-08 11:46:29] {3387} INFO -  at 107.5s,\testimator lgbm's best error=0.3282,\tbest estimator lgbm's best error=0.3282\n",
      "[flaml.automl.automl: 12-08 11:46:29] {3203} INFO - iteration 61, current learner lgbm\n",
      "[flaml.automl.automl: 12-08 11:46:50] {3387} INFO -  at 128.9s,\testimator lgbm's best error=0.3282,\tbest estimator lgbm's best error=0.3282\n",
      "[flaml.automl.automl: 12-08 11:46:50] {3203} INFO - iteration 62, current learner lgbm\n",
      "[flaml.automl.automl: 12-08 11:46:51] {3387} INFO -  at 130.0s,\testimator lgbm's best error=0.3282,\tbest estimator lgbm's best error=0.3282\n",
      "[flaml.automl.automl: 12-08 11:46:51] {3203} INFO - iteration 63, current learner lgbm\n",
      "[flaml.automl.automl: 12-08 11:46:55] {3387} INFO -  at 133.8s,\testimator lgbm's best error=0.3282,\tbest estimator lgbm's best error=0.3282\n",
      "[flaml.automl.automl: 12-08 11:46:55] {3203} INFO - iteration 64, current learner lgbm\n",
      "[flaml.automl.automl: 12-08 11:46:58] {3387} INFO -  at 136.8s,\testimator lgbm's best error=0.3282,\tbest estimator lgbm's best error=0.3282\n",
      "[flaml.automl.automl: 12-08 11:46:58] {3203} INFO - iteration 65, current learner rf\n",
      "[flaml.automl.automl: 12-08 11:46:58] {3387} INFO -  at 137.1s,\testimator rf's best error=0.3781,\tbest estimator lgbm's best error=0.3282\n",
      "[flaml.automl.automl: 12-08 11:46:58] {3203} INFO - iteration 66, current learner rf\n",
      "[flaml.automl.automl: 12-08 11:46:59] {3387} INFO -  at 137.3s,\testimator rf's best error=0.3781,\tbest estimator lgbm's best error=0.3282\n",
      "[flaml.automl.automl: 12-08 11:46:59] {3203} INFO - iteration 67, current learner lgbm\n",
      "[flaml.automl.automl: 12-08 11:47:02] {3387} INFO -  at 140.6s,\testimator lgbm's best error=0.3274,\tbest estimator lgbm's best error=0.3274\n",
      "[flaml.automl.automl: 12-08 11:47:02] {3203} INFO - iteration 68, current learner rf\n",
      "[flaml.automl.automl: 12-08 11:47:02] {3387} INFO -  at 140.9s,\testimator rf's best error=0.3725,\tbest estimator lgbm's best error=0.3274\n",
      "[flaml.automl.automl: 12-08 11:47:02] {3203} INFO - iteration 69, current learner rf\n",
      "[flaml.automl.automl: 12-08 11:47:03] {3387} INFO -  at 141.2s,\testimator rf's best error=0.3725,\tbest estimator lgbm's best error=0.3274\n",
      "[flaml.automl.automl: 12-08 11:47:03] {3203} INFO - iteration 70, current learner rf\n",
      "[flaml.automl.automl: 12-08 11:47:03] {3387} INFO -  at 141.5s,\testimator rf's best error=0.3725,\tbest estimator lgbm's best error=0.3274\n",
      "[flaml.automl.automl: 12-08 11:47:03] {3203} INFO - iteration 71, current learner lgbm\n",
      "[flaml.automl.automl: 12-08 11:47:07] {3387} INFO -  at 145.5s,\testimator lgbm's best error=0.3274,\tbest estimator lgbm's best error=0.3274\n",
      "[flaml.automl.automl: 12-08 11:47:07] {3203} INFO - iteration 72, current learner rf\n",
      "[flaml.automl.automl: 12-08 11:47:07] {3387} INFO -  at 145.7s,\testimator rf's best error=0.3706,\tbest estimator lgbm's best error=0.3274\n",
      "[flaml.automl.automl: 12-08 11:47:07] {3203} INFO - iteration 73, current learner rf\n",
      "[flaml.automl.automl: 12-08 11:47:07] {3387} INFO -  at 146.0s,\testimator rf's best error=0.3706,\tbest estimator lgbm's best error=0.3274\n",
      "[flaml.automl.automl: 12-08 11:47:07] {3203} INFO - iteration 74, current learner rf\n",
      "[flaml.automl.automl: 12-08 11:47:08] {3387} INFO -  at 146.3s,\testimator rf's best error=0.3706,\tbest estimator lgbm's best error=0.3274\n",
      "[flaml.automl.automl: 12-08 11:47:08] {3203} INFO - iteration 75, current learner xgb_limitdepth\n",
      "/home/qxw5138/miniconda3/envs/myflaml/lib/python3.8/site-packages/xgboost/data.py:192: FutureWarning: pandas.Int64Index is deprecated and will be removed from pandas in a future version. Use pandas.Index with the appropriate dtype instead.\n",
      "  from pandas import MultiIndex, Int64Index\n",
      "[flaml.automl.automl: 12-08 11:47:08] {3387} INFO -  at 146.4s,\testimator xgb_limitdepth's best error=0.3629,\tbest estimator lgbm's best error=0.3274\n",
      "[flaml.automl.automl: 12-08 11:47:08] {3203} INFO - iteration 76, current learner rf\n",
      "[flaml.automl.automl: 12-08 11:47:08] {3387} INFO -  at 146.5s,\testimator rf's best error=0.3706,\tbest estimator lgbm's best error=0.3274\n",
      "[flaml.automl.automl: 12-08 11:47:08] {3203} INFO - iteration 77, current learner extra_tree\n",
      "[flaml.automl.automl: 12-08 11:47:08] {3387} INFO -  at 146.7s,\testimator extra_tree's best error=0.3787,\tbest estimator lgbm's best error=0.3274\n",
      "[flaml.automl.automl: 12-08 11:47:08] {3203} INFO - iteration 78, current learner lgbm\n",
      "[flaml.automl.automl: 12-08 11:47:11] {3387} INFO -  at 149.4s,\testimator lgbm's best error=0.3274,\tbest estimator lgbm's best error=0.3274\n",
      "[flaml.automl.automl: 12-08 11:47:11] {3203} INFO - iteration 79, current learner lgbm\n",
      "[flaml.automl.automl: 12-08 11:47:21] {3387} INFO -  at 159.7s,\testimator lgbm's best error=0.3268,\tbest estimator lgbm's best error=0.3268\n",
      "[flaml.automl.automl: 12-08 11:47:21] {3203} INFO - iteration 80, current learner rf\n",
      "[flaml.automl.automl: 12-08 11:47:21] {3387} INFO -  at 160.0s,\testimator rf's best error=0.3706,\tbest estimator lgbm's best error=0.3268\n",
      "[flaml.automl.automl: 12-08 11:47:21] {3203} INFO - iteration 81, current learner lgbm\n",
      "[flaml.automl.automl: 12-08 11:47:26] {3387} INFO -  at 165.0s,\testimator lgbm's best error=0.3268,\tbest estimator lgbm's best error=0.3268\n",
      "[flaml.automl.automl: 12-08 11:47:26] {3203} INFO - iteration 82, current learner lgbm\n",
      "[flaml.automl.automl: 12-08 11:47:37] {3387} INFO -  at 175.8s,\testimator lgbm's best error=0.3250,\tbest estimator lgbm's best error=0.3250\n",
      "[flaml.automl.automl: 12-08 11:47:37] {3203} INFO - iteration 83, current learner catboost\n",
      "[flaml.automl.automl: 12-08 11:47:42] {3387} INFO -  at 180.3s,\testimator catboost's best error=0.3396,\tbest estimator lgbm's best error=0.3250\n",
      "[flaml.automl.automl: 12-08 11:47:42] {3203} INFO - iteration 84, current learner lgbm\n",
      "[flaml.automl.automl: 12-08 11:47:49] {3387} INFO -  at 187.9s,\testimator lgbm's best error=0.3250,\tbest estimator lgbm's best error=0.3250\n",
      "[flaml.automl.automl: 12-08 11:47:49] {3203} INFO - iteration 85, current learner rf\n",
      "[flaml.automl.automl: 12-08 11:47:50] {3387} INFO -  at 188.3s,\testimator rf's best error=0.3678,\tbest estimator lgbm's best error=0.3250\n",
      "[flaml.automl.automl: 12-08 11:47:50] {3203} INFO - iteration 86, current learner rf\n",
      "[flaml.automl.automl: 12-08 11:47:50] {3387} INFO -  at 188.7s,\testimator rf's best error=0.3628,\tbest estimator lgbm's best error=0.3250\n",
      "[flaml.automl.automl: 12-08 11:47:50] {3203} INFO - iteration 87, current learner rf\n",
      "[flaml.automl.automl: 12-08 11:47:50] {3387} INFO -  at 189.0s,\testimator rf's best error=0.3628,\tbest estimator lgbm's best error=0.3250\n",
      "[flaml.automl.automl: 12-08 11:47:50] {3203} INFO - iteration 88, current learner rf\n",
      "[flaml.automl.automl: 12-08 11:47:51] {3387} INFO -  at 189.2s,\testimator rf's best error=0.3628,\tbest estimator lgbm's best error=0.3250\n",
      "[flaml.automl.automl: 12-08 11:47:51] {3203} INFO - iteration 89, current learner rf\n",
      "[flaml.automl.automl: 12-08 11:47:51] {3387} INFO -  at 189.6s,\testimator rf's best error=0.3579,\tbest estimator lgbm's best error=0.3250\n",
      "[flaml.automl.automl: 12-08 11:47:51] {3203} INFO - iteration 90, current learner lgbm\n",
      "[flaml.automl.automl: 12-08 11:48:19] {3387} INFO -  at 218.0s,\testimator lgbm's best error=0.3250,\tbest estimator lgbm's best error=0.3250\n",
      "[flaml.automl.automl: 12-08 11:48:19] {3203} INFO - iteration 91, current learner rf\n",
      "[flaml.automl.automl: 12-08 11:48:20] {3387} INFO -  at 218.4s,\testimator rf's best error=0.3579,\tbest estimator lgbm's best error=0.3250\n",
      "[flaml.automl.automl: 12-08 11:48:20] {3203} INFO - iteration 92, current learner catboost\n",
      "[flaml.automl.automl: 12-08 11:50:02] {3387} INFO -  at 321.1s,\testimator catboost's best error=0.3396,\tbest estimator lgbm's best error=0.3250\n",
      "[flaml.automl.automl: 12-08 11:50:02] {3203} INFO - iteration 93, current learner rf\n",
      "[flaml.automl.automl: 12-08 11:50:03] {3387} INFO -  at 321.6s,\testimator rf's best error=0.3579,\tbest estimator lgbm's best error=0.3250\n",
      "[flaml.automl.automl: 12-08 11:50:03] {3203} INFO - iteration 94, current learner extra_tree\n",
      "[flaml.automl.automl: 12-08 11:50:03] {3387} INFO -  at 321.9s,\testimator extra_tree's best error=0.3787,\tbest estimator lgbm's best error=0.3250\n",
      "[flaml.automl.automl: 12-08 11:50:03] {3203} INFO - iteration 95, current learner rf\n",
      "[flaml.automl.automl: 12-08 11:50:04] {3387} INFO -  at 322.3s,\testimator rf's best error=0.3579,\tbest estimator lgbm's best error=0.3250\n",
      "[flaml.automl.automl: 12-08 11:50:04] {3203} INFO - iteration 96, current learner rf\n",
      "[flaml.automl.automl: 12-08 11:50:04] {3387} INFO -  at 322.8s,\testimator rf's best error=0.3569,\tbest estimator lgbm's best error=0.3250\n",
      "[flaml.automl.automl: 12-08 11:50:04] {3203} INFO - iteration 97, current learner lgbm\n",
      "[flaml.automl.automl: 12-08 11:50:21] {3387} INFO -  at 339.6s,\testimator lgbm's best error=0.3250,\tbest estimator lgbm's best error=0.3250\n",
      "[flaml.automl.automl: 12-08 11:50:21] {3203} INFO - iteration 98, current learner xgb_limitdepth\n",
      "/home/qxw5138/miniconda3/envs/myflaml/lib/python3.8/site-packages/xgboost/data.py:192: FutureWarning: pandas.Int64Index is deprecated and will be removed from pandas in a future version. Use pandas.Index with the appropriate dtype instead.\n",
      "  from pandas import MultiIndex, Int64Index\n",
      "[flaml.automl.automl: 12-08 11:50:21] {3387} INFO -  at 339.8s,\testimator xgb_limitdepth's best error=0.3629,\tbest estimator lgbm's best error=0.3250\n",
      "[flaml.automl.automl: 12-08 11:50:21] {3203} INFO - iteration 99, current learner lgbm\n",
      "[flaml.automl.automl: 12-08 11:50:32] {3387} INFO -  at 350.6s,\testimator lgbm's best error=0.3250,\tbest estimator lgbm's best error=0.3250\n",
      "[flaml.automl.automl: 12-08 11:50:32] {3203} INFO - iteration 100, current learner rf\n",
      "[flaml.automl.automl: 12-08 11:50:32] {3387} INFO -  at 350.9s,\testimator rf's best error=0.3569,\tbest estimator lgbm's best error=0.3250\n",
      "[flaml.automl.automl: 12-08 11:50:32] {3203} INFO - iteration 101, current learner lgbm\n",
      "[flaml.automl.automl: 12-08 11:50:40] {3387} INFO -  at 358.5s,\testimator lgbm's best error=0.3250,\tbest estimator lgbm's best error=0.3250\n",
      "[flaml.automl.automl: 12-08 11:50:40] {3203} INFO - iteration 102, current learner lgbm\n",
      "[flaml.automl.automl: 12-08 11:50:54] {3387} INFO -  at 372.9s,\testimator lgbm's best error=0.3250,\tbest estimator lgbm's best error=0.3250\n",
      "[flaml.automl.automl: 12-08 11:50:54] {3203} INFO - iteration 103, current learner extra_tree\n",
      "[flaml.automl.automl: 12-08 11:50:54] {3387} INFO -  at 373.1s,\testimator extra_tree's best error=0.3787,\tbest estimator lgbm's best error=0.3250\n",
      "[flaml.automl.automl: 12-08 11:50:54] {3203} INFO - iteration 104, current learner rf\n",
      "[flaml.automl.automl: 12-08 11:50:55] {3387} INFO -  at 373.8s,\testimator rf's best error=0.3529,\tbest estimator lgbm's best error=0.3250\n",
      "[flaml.automl.automl: 12-08 11:50:55] {3203} INFO - iteration 105, current learner lgbm\n",
      "[flaml.automl.automl: 12-08 11:50:58] {3387} INFO -  at 377.1s,\testimator lgbm's best error=0.3250,\tbest estimator lgbm's best error=0.3250\n",
      "[flaml.automl.automl: 12-08 11:50:58] {3203} INFO - iteration 106, current learner rf\n",
      "[flaml.automl.automl: 12-08 11:50:59] {3387} INFO -  at 377.6s,\testimator rf's best error=0.3529,\tbest estimator lgbm's best error=0.3250\n",
      "[flaml.automl.automl: 12-08 11:50:59] {3203} INFO - iteration 107, current learner rf\n",
      "[flaml.automl.automl: 12-08 11:51:00] {3387} INFO -  at 378.2s,\testimator rf's best error=0.3529,\tbest estimator lgbm's best error=0.3250\n",
      "[flaml.automl.automl: 12-08 11:51:00] {3203} INFO - iteration 108, current learner rf\n",
      "[flaml.automl.automl: 12-08 11:51:00] {3387} INFO -  at 379.0s,\testimator rf's best error=0.3529,\tbest estimator lgbm's best error=0.3250\n",
      "[flaml.automl.automl: 12-08 11:51:00] {3203} INFO - iteration 109, current learner catboost\n",
      "[flaml.automl.automl: 12-08 11:51:03] {3387} INFO -  at 382.1s,\testimator catboost's best error=0.3396,\tbest estimator lgbm's best error=0.3250\n",
      "[flaml.automl.automl: 12-08 11:51:03] {3203} INFO - iteration 110, current learner rf\n",
      "[flaml.automl.automl: 12-08 11:51:04] {3387} INFO -  at 382.6s,\testimator rf's best error=0.3529,\tbest estimator lgbm's best error=0.3250\n",
      "[flaml.automl.automl: 12-08 11:51:04] {3203} INFO - iteration 111, current learner xgboost\n",
      "/home/qxw5138/miniconda3/envs/myflaml/lib/python3.8/site-packages/xgboost/data.py:192: FutureWarning: pandas.Int64Index is deprecated and will be removed from pandas in a future version. Use pandas.Index with the appropriate dtype instead.\n",
      "  from pandas import MultiIndex, Int64Index\n",
      "[flaml.automl.automl: 12-08 11:51:04] {3387} INFO -  at 382.7s,\testimator xgboost's best error=0.3594,\tbest estimator lgbm's best error=0.3250\n",
      "[flaml.automl.automl: 12-08 11:51:04] {3203} INFO - iteration 112, current learner xgboost\n",
      "/home/qxw5138/miniconda3/envs/myflaml/lib/python3.8/site-packages/xgboost/data.py:192: FutureWarning: pandas.Int64Index is deprecated and will be removed from pandas in a future version. Use pandas.Index with the appropriate dtype instead.\n",
      "  from pandas import MultiIndex, Int64Index\n",
      "[flaml.automl.automl: 12-08 11:51:04] {3387} INFO -  at 383.1s,\testimator xgboost's best error=0.3594,\tbest estimator lgbm's best error=0.3250\n",
      "[flaml.automl.automl: 12-08 11:51:04] {3203} INFO - iteration 113, current learner lgbm\n",
      "[flaml.automl.automl: 12-08 11:52:01] {3387} INFO -  at 439.3s,\testimator lgbm's best error=0.3250,\tbest estimator lgbm's best error=0.3250\n",
      "[flaml.automl.automl: 12-08 11:52:01] {3203} INFO - iteration 114, current learner xgboost\n",
      "/home/qxw5138/miniconda3/envs/myflaml/lib/python3.8/site-packages/xgboost/data.py:192: FutureWarning: pandas.Int64Index is deprecated and will be removed from pandas in a future version. Use pandas.Index with the appropriate dtype instead.\n",
      "  from pandas import MultiIndex, Int64Index\n",
      "[flaml.automl.automl: 12-08 11:52:01] {3387} INFO -  at 439.4s,\testimator xgboost's best error=0.3594,\tbest estimator lgbm's best error=0.3250\n",
      "[flaml.automl.automl: 12-08 11:52:01] {3203} INFO - iteration 115, current learner xgboost\n",
      "/home/qxw5138/miniconda3/envs/myflaml/lib/python3.8/site-packages/xgboost/data.py:192: FutureWarning: pandas.Int64Index is deprecated and will be removed from pandas in a future version. Use pandas.Index with the appropriate dtype instead.\n",
      "  from pandas import MultiIndex, Int64Index\n",
      "[flaml.automl.automl: 12-08 11:52:01] {3387} INFO -  at 439.4s,\testimator xgboost's best error=0.3582,\tbest estimator lgbm's best error=0.3250\n",
      "[flaml.automl.automl: 12-08 11:52:01] {3203} INFO - iteration 116, current learner lrl1\n",
      "/home/qxw5138/miniconda3/envs/myflaml/lib/python3.8/site-packages/sklearn/linear_model/_sag.py:328: ConvergenceWarning: The max_iter was reached which means the coef_ did not converge\n",
      "  warnings.warn(\"The max_iter was reached which means \"\n",
      "[flaml.automl.automl: 12-08 11:52:01] {3387} INFO -  at 439.6s,\testimator lrl1's best error=0.4338,\tbest estimator lgbm's best error=0.3250\n",
      "[flaml.automl.automl: 12-08 11:52:01] {3203} INFO - iteration 117, current learner rf\n",
      "[flaml.automl.automl: 12-08 11:52:02] {3387} INFO -  at 440.4s,\testimator rf's best error=0.3524,\tbest estimator lgbm's best error=0.3250\n",
      "[flaml.automl.automl: 12-08 11:52:02] {3203} INFO - iteration 118, current learner lgbm\n",
      "[flaml.automl.automl: 12-08 11:53:50] {3387} INFO -  at 548.6s,\testimator lgbm's best error=0.3250,\tbest estimator lgbm's best error=0.3250\n",
      "[flaml.automl.automl: 12-08 11:53:50] {3203} INFO - iteration 119, current learner xgboost\n",
      "/home/qxw5138/miniconda3/envs/myflaml/lib/python3.8/site-packages/xgboost/data.py:192: FutureWarning: pandas.Int64Index is deprecated and will be removed from pandas in a future version. Use pandas.Index with the appropriate dtype instead.\n",
      "  from pandas import MultiIndex, Int64Index\n",
      "[flaml.automl.automl: 12-08 11:53:50] {3387} INFO -  at 548.7s,\testimator xgboost's best error=0.3567,\tbest estimator lgbm's best error=0.3250\n",
      "[flaml.automl.automl: 12-08 11:53:50] {3203} INFO - iteration 120, current learner xgboost\n",
      "/home/qxw5138/miniconda3/envs/myflaml/lib/python3.8/site-packages/xgboost/data.py:192: FutureWarning: pandas.Int64Index is deprecated and will be removed from pandas in a future version. Use pandas.Index with the appropriate dtype instead.\n",
      "  from pandas import MultiIndex, Int64Index\n",
      "[flaml.automl.automl: 12-08 11:53:50] {3387} INFO -  at 548.8s,\testimator xgboost's best error=0.3567,\tbest estimator lgbm's best error=0.3250\n",
      "[flaml.automl.automl: 12-08 11:53:50] {3203} INFO - iteration 121, current learner catboost\n",
      "[flaml.automl.automl: 12-08 11:53:51] {3387} INFO -  at 549.6s,\testimator catboost's best error=0.3396,\tbest estimator lgbm's best error=0.3250\n",
      "[flaml.automl.automl: 12-08 11:53:51] {3203} INFO - iteration 122, current learner xgboost\n",
      "/home/qxw5138/miniconda3/envs/myflaml/lib/python3.8/site-packages/xgboost/data.py:192: FutureWarning: pandas.Int64Index is deprecated and will be removed from pandas in a future version. Use pandas.Index with the appropriate dtype instead.\n",
      "  from pandas import MultiIndex, Int64Index\n",
      "[flaml.automl.automl: 12-08 11:53:51] {3387} INFO -  at 549.7s,\testimator xgboost's best error=0.3531,\tbest estimator lgbm's best error=0.3250\n",
      "[flaml.automl.automl: 12-08 11:53:51] {3203} INFO - iteration 123, current learner xgboost\n",
      "/home/qxw5138/miniconda3/envs/myflaml/lib/python3.8/site-packages/xgboost/data.py:192: FutureWarning: pandas.Int64Index is deprecated and will be removed from pandas in a future version. Use pandas.Index with the appropriate dtype instead.\n",
      "  from pandas import MultiIndex, Int64Index\n",
      "[flaml.automl.automl: 12-08 11:53:51] {3387} INFO -  at 550.0s,\testimator xgboost's best error=0.3531,\tbest estimator lgbm's best error=0.3250\n",
      "[flaml.automl.automl: 12-08 11:53:51] {3203} INFO - iteration 124, current learner xgboost\n",
      "/home/qxw5138/miniconda3/envs/myflaml/lib/python3.8/site-packages/xgboost/data.py:192: FutureWarning: pandas.Int64Index is deprecated and will be removed from pandas in a future version. Use pandas.Index with the appropriate dtype instead.\n",
      "  from pandas import MultiIndex, Int64Index\n",
      "[flaml.automl.automl: 12-08 11:53:52] {3387} INFO -  at 550.3s,\testimator xgboost's best error=0.3531,\tbest estimator lgbm's best error=0.3250\n",
      "[flaml.automl.automl: 12-08 11:53:52] {3203} INFO - iteration 125, current learner catboost\n",
      "[flaml.automl.automl: 12-08 11:53:53] {3387} INFO -  at 551.9s,\testimator catboost's best error=0.3396,\tbest estimator lgbm's best error=0.3250\n",
      "[flaml.automl.automl: 12-08 11:53:53] {3203} INFO - iteration 126, current learner lgbm\n",
      "[flaml.automl.automl: 12-08 11:53:56] {3387} INFO -  at 554.3s,\testimator lgbm's best error=0.3250,\tbest estimator lgbm's best error=0.3250\n",
      "[flaml.automl.automl: 12-08 11:53:56] {3203} INFO - iteration 127, current learner lgbm\n",
      "[flaml.automl.automl: 12-08 11:53:59] {3387} INFO -  at 557.4s,\testimator lgbm's best error=0.3250,\tbest estimator lgbm's best error=0.3250\n",
      "[flaml.automl.automl: 12-08 11:53:59] {3203} INFO - iteration 128, current learner lgbm\n",
      "[flaml.automl.automl: 12-08 11:54:59] {3387} INFO -  at 617.4s,\testimator lgbm's best error=0.3250,\tbest estimator lgbm's best error=0.3250\n",
      "[flaml.automl.automl: 12-08 11:55:08] {3647} INFO - retrain lgbm for 9.8s\n",
      "[flaml.automl.automl: 12-08 11:55:09] {3654} INFO - retrained model: LGBMClassifier(colsample_bytree=0.763983850698587,\n",
      "               learning_rate=0.087493667994037, max_bin=127,\n",
      "               min_child_samples=128, n_estimators=302, num_leaves=466,\n",
      "               reg_alpha=0.0996800847730337, reg_lambda=23.22741934331899,\n",
      "               verbose=-1)\n",
      "[flaml.automl.automl: 12-08 11:55:09] {2932} INFO - fit succeeded\n",
      "[flaml.automl.automl: 12-08 11:55:09] {2933} INFO - Time taken to find the best model: 175.77305936813354\n"
     ]
    }
   ],
   "source": [
    "'''The main flaml automl API'''\n",
    "automl.fit(X_train=X_train, y_train=y_train, **settings)"
   ]
  },
  {
   "cell_type": "markdown",
   "metadata": {
    "slideshow": {
     "slide_type": "slide"
    }
   },
   "source": [
    "### Best model and metric"
   ]
  },
  {
   "cell_type": "code",
   "execution_count": 7,
   "metadata": {
    "slideshow": {
     "slide_type": "slide"
    },
    "tags": []
   },
   "outputs": [
    {
     "name": "stdout",
     "output_type": "stream",
     "text": [
      "Best ML leaner: lgbm\n",
      "Best hyperparmeter config: {'n_estimators': 302, 'num_leaves': 466, 'min_child_samples': 128, 'learning_rate': 0.087493667994037, 'log_max_bin': 7, 'colsample_bytree': 0.763983850698587, 'reg_alpha': 0.0996800847730337, 'reg_lambda': 23.22741934331899, 'FLAML_sample_size': 364083}\n",
      "Best accuracy on validation data: 0.675\n",
      "Training duration of best run: 9.786 s\n"
     ]
    }
   ],
   "source": [
    "'''retrieve best config and best learner'''\n",
    "print('Best ML leaner:', automl.best_estimator)\n",
    "print('Best hyperparmeter config:', automl.best_config)\n",
    "print('Best accuracy on validation data: {0:.4g}'.format(1-automl.best_loss))\n",
    "print('Training duration of best run: {0:.4g} s'.format(automl.best_config_train_time))"
   ]
  },
  {
   "cell_type": "code",
   "execution_count": 8,
   "metadata": {
    "slideshow": {
     "slide_type": "slide"
    }
   },
   "outputs": [
    {
     "data": {
      "text/plain": [
       "LGBMClassifier(colsample_bytree=0.763983850698587,\n",
       "               learning_rate=0.087493667994037, max_bin=127,\n",
       "               min_child_samples=128, n_estimators=302, num_leaves=466,\n",
       "               reg_alpha=0.0996800847730337, reg_lambda=23.22741934331899,\n",
       "               verbose=-1)"
      ]
     },
     "execution_count": 8,
     "metadata": {},
     "output_type": "execute_result"
    }
   ],
   "source": [
    "automl.model.estimator"
   ]
  },
  {
   "cell_type": "code",
   "execution_count": 9,
   "metadata": {
    "slideshow": {
     "slide_type": "slide"
    }
   },
   "outputs": [],
   "source": [
    "'''pickle and save the automl object'''\n",
    "import pickle\n",
    "with open('automl.pkl', 'wb') as f:\n",
    "    pickle.dump(automl, f, pickle.HIGHEST_PROTOCOL)\n",
    "'''load pickled automl object'''\n",
    "with open('automl.pkl', 'rb') as f:\n",
    "    automl = pickle.load(f)"
   ]
  },
  {
   "cell_type": "code",
   "execution_count": 10,
   "metadata": {
    "slideshow": {
     "slide_type": "slide"
    },
    "tags": []
   },
   "outputs": [
    {
     "name": "stdout",
     "output_type": "stream",
     "text": [
      "Predicted labels ['1' '0' '1' ... '1' '0' '0']\n",
      "True labels 118331    0\n",
      "328182    0\n",
      "335454    0\n",
      "520591    1\n",
      "344651    0\n",
      "         ..\n",
      "367080    0\n",
      "203510    1\n",
      "254894    0\n",
      "296512    1\n",
      "362444    0\n",
      "Name: Delay, Length: 134846, dtype: category\n",
      "Categories (2, object): ['0' < '1']\n"
     ]
    }
   ],
   "source": [
    "'''compute predictions of testing dataset''' \n",
    "y_pred = automl.predict(X_test)\n",
    "print('Predicted labels', y_pred)\n",
    "print('True labels', y_test)\n",
    "y_pred_proba = automl.predict_proba(X_test)[:,1]"
   ]
  },
  {
   "cell_type": "code",
   "execution_count": 11,
   "metadata": {
    "slideshow": {
     "slide_type": "slide"
    },
    "tags": []
   },
   "outputs": [
    {
     "name": "stdout",
     "output_type": "stream",
     "text": [
      "accuracy = 0.6732939797991784\n",
      "roc_auc = 0.7276250346550404\n",
      "log_loss = 0.6014655432027879\n"
     ]
    }
   ],
   "source": [
    "''' compute different metric values on testing dataset'''\n",
    "from flaml.ml import sklearn_metric_loss_score\n",
    "print('accuracy', '=', 1 - sklearn_metric_loss_score('accuracy', y_pred, y_test))\n",
    "print('roc_auc', '=', 1 - sklearn_metric_loss_score('roc_auc', y_pred_proba, y_test))\n",
    "print('log_loss', '=', sklearn_metric_loss_score('log_loss', y_pred_proba, y_test))"
   ]
  },
  {
   "cell_type": "markdown",
   "metadata": {
    "slideshow": {
     "slide_type": "slide"
    }
   },
   "source": [
    "See Section 4 for an accuracy comparison with default LightGBM and XGBoost.\n",
    "\n",
    "### Log history"
   ]
  },
  {
   "cell_type": "code",
   "execution_count": 12,
   "metadata": {
    "slideshow": {
     "slide_type": "subslide"
    },
    "tags": []
   },
   "outputs": [
    {
     "name": "stdout",
     "output_type": "stream",
     "text": [
      "{'Current Learner': 'lgbm', 'Current Sample': 10000, 'Current Hyper-parameters': {'n_estimators': 4, 'num_leaves': 4, 'min_child_samples': 20, 'learning_rate': 0.09999999999999995, 'log_max_bin': 8, 'colsample_bytree': 1.0, 'reg_alpha': 0.0009765625, 'reg_lambda': 1.0, 'FLAML_sample_size': 10000}, 'Best Learner': 'lgbm', 'Best Hyper-parameters': {'n_estimators': 4, 'num_leaves': 4, 'min_child_samples': 20, 'learning_rate': 0.09999999999999995, 'log_max_bin': 8, 'colsample_bytree': 1.0, 'reg_alpha': 0.0009765625, 'reg_lambda': 1.0, 'FLAML_sample_size': 10000}}\n",
      "{'Current Learner': 'lgbm', 'Current Sample': 10000, 'Current Hyper-parameters': {'n_estimators': 26, 'num_leaves': 4, 'min_child_samples': 18, 'learning_rate': 0.22930096764186372, 'log_max_bin': 9, 'colsample_bytree': 0.9086551727646448, 'reg_alpha': 0.0015561782752413472, 'reg_lambda': 0.33127416269768944, 'FLAML_sample_size': 10000}, 'Best Learner': 'lgbm', 'Best Hyper-parameters': {'n_estimators': 26, 'num_leaves': 4, 'min_child_samples': 18, 'learning_rate': 0.22930096764186372, 'log_max_bin': 9, 'colsample_bytree': 0.9086551727646448, 'reg_alpha': 0.0015561782752413472, 'reg_lambda': 0.33127416269768944, 'FLAML_sample_size': 10000}}\n",
      "{'Current Learner': 'lgbm', 'Current Sample': 40000, 'Current Hyper-parameters': {'n_estimators': 55, 'num_leaves': 4, 'min_child_samples': 20, 'learning_rate': 0.4365396221333287, 'log_max_bin': 10, 'colsample_bytree': 0.8048558760626646, 'reg_alpha': 0.0009765625, 'reg_lambda': 0.23010605579846408, 'FLAML_sample_size': 40000}, 'Best Learner': 'lgbm', 'Best Hyper-parameters': {'n_estimators': 55, 'num_leaves': 4, 'min_child_samples': 20, 'learning_rate': 0.4365396221333287, 'log_max_bin': 10, 'colsample_bytree': 0.8048558760626646, 'reg_alpha': 0.0009765625, 'reg_lambda': 0.23010605579846408, 'FLAML_sample_size': 40000}}\n",
      "{'Current Learner': 'lgbm', 'Current Sample': 40000, 'Current Hyper-parameters': {'n_estimators': 90, 'num_leaves': 18, 'min_child_samples': 34, 'learning_rate': 0.3572626620529719, 'log_max_bin': 10, 'colsample_bytree': 0.9295656128173544, 'reg_alpha': 0.0009765625, 'reg_lambda': 0.19814636043056766, 'FLAML_sample_size': 40000}, 'Best Learner': 'lgbm', 'Best Hyper-parameters': {'n_estimators': 90, 'num_leaves': 18, 'min_child_samples': 34, 'learning_rate': 0.3572626620529719, 'log_max_bin': 10, 'colsample_bytree': 0.9295656128173544, 'reg_alpha': 0.0009765625, 'reg_lambda': 0.19814636043056766, 'FLAML_sample_size': 40000}}\n",
      "{'Current Learner': 'lgbm', 'Current Sample': 40000, 'Current Hyper-parameters': {'n_estimators': 56, 'num_leaves': 7, 'min_child_samples': 92, 'learning_rate': 0.23536463281405412, 'log_max_bin': 10, 'colsample_bytree': 0.9898009552962395, 'reg_alpha': 0.0009765625, 'reg_lambda': 0.14329426172643323, 'FLAML_sample_size': 40000}, 'Best Learner': 'lgbm', 'Best Hyper-parameters': {'n_estimators': 56, 'num_leaves': 7, 'min_child_samples': 92, 'learning_rate': 0.23536463281405412, 'log_max_bin': 10, 'colsample_bytree': 0.9898009552962395, 'reg_alpha': 0.0009765625, 'reg_lambda': 0.14329426172643323, 'FLAML_sample_size': 40000}}\n",
      "{'Current Learner': 'lgbm', 'Current Sample': 364083, 'Current Hyper-parameters': {'n_estimators': 56, 'num_leaves': 7, 'min_child_samples': 92, 'learning_rate': 0.23536463281405412, 'log_max_bin': 10, 'colsample_bytree': 0.9898009552962395, 'reg_alpha': 0.0009765625, 'reg_lambda': 0.14329426172643323, 'FLAML_sample_size': 364083}, 'Best Learner': 'lgbm', 'Best Hyper-parameters': {'n_estimators': 56, 'num_leaves': 7, 'min_child_samples': 92, 'learning_rate': 0.23536463281405412, 'log_max_bin': 10, 'colsample_bytree': 0.9898009552962395, 'reg_alpha': 0.0009765625, 'reg_lambda': 0.14329426172643323, 'FLAML_sample_size': 364083}}\n",
      "{'Current Learner': 'lgbm', 'Current Sample': 364083, 'Current Hyper-parameters': {'n_estimators': 179, 'num_leaves': 27, 'min_child_samples': 75, 'learning_rate': 0.09744966359309021, 'log_max_bin': 10, 'colsample_bytree': 1.0, 'reg_alpha': 0.002826104794043855, 'reg_lambda': 0.14573182371561622, 'FLAML_sample_size': 364083}, 'Best Learner': 'lgbm', 'Best Hyper-parameters': {'n_estimators': 179, 'num_leaves': 27, 'min_child_samples': 75, 'learning_rate': 0.09744966359309021, 'log_max_bin': 10, 'colsample_bytree': 1.0, 'reg_alpha': 0.002826104794043855, 'reg_lambda': 0.14573182371561622, 'FLAML_sample_size': 364083}}\n",
      "{'Current Learner': 'lgbm', 'Current Sample': 364083, 'Current Hyper-parameters': {'n_estimators': 180, 'num_leaves': 31, 'min_child_samples': 112, 'learning_rate': 0.14172261747380874, 'log_max_bin': 8, 'colsample_bytree': 0.9882716197099741, 'reg_alpha': 0.004676080321450302, 'reg_lambda': 2.704862827036818, 'FLAML_sample_size': 364083}, 'Best Learner': 'lgbm', 'Best Hyper-parameters': {'n_estimators': 180, 'num_leaves': 31, 'min_child_samples': 112, 'learning_rate': 0.14172261747380874, 'log_max_bin': 8, 'colsample_bytree': 0.9882716197099741, 'reg_alpha': 0.004676080321450302, 'reg_lambda': 2.704862827036818, 'FLAML_sample_size': 364083}}\n",
      "{'Current Learner': 'lgbm', 'Current Sample': 364083, 'Current Hyper-parameters': {'n_estimators': 284, 'num_leaves': 24, 'min_child_samples': 57, 'learning_rate': 0.3450637443178264, 'log_max_bin': 8, 'colsample_bytree': 0.9661606582789269, 'reg_alpha': 0.05708594148438568, 'reg_lambda': 3.0806435484123478, 'FLAML_sample_size': 364083}, 'Best Learner': 'lgbm', 'Best Hyper-parameters': {'n_estimators': 284, 'num_leaves': 24, 'min_child_samples': 57, 'learning_rate': 0.3450637443178264, 'log_max_bin': 8, 'colsample_bytree': 0.9661606582789269, 'reg_alpha': 0.05708594148438568, 'reg_lambda': 3.0806435484123478, 'FLAML_sample_size': 364083}}\n",
      "{'Current Learner': 'lgbm', 'Current Sample': 364083, 'Current Hyper-parameters': {'n_estimators': 150, 'num_leaves': 176, 'min_child_samples': 62, 'learning_rate': 0.2607939951456863, 'log_max_bin': 8, 'colsample_bytree': 1.0, 'reg_alpha': 0.015973158305354482, 'reg_lambda': 1.1581244082992255, 'FLAML_sample_size': 364083}, 'Best Learner': 'lgbm', 'Best Hyper-parameters': {'n_estimators': 150, 'num_leaves': 176, 'min_child_samples': 62, 'learning_rate': 0.2607939951456863, 'log_max_bin': 8, 'colsample_bytree': 1.0, 'reg_alpha': 0.015973158305354482, 'reg_lambda': 1.1581244082992255, 'FLAML_sample_size': 364083}}\n",
      "{'Current Learner': 'lgbm', 'Current Sample': 364083, 'Current Hyper-parameters': {'n_estimators': 100, 'num_leaves': 380, 'min_child_samples': 83, 'learning_rate': 0.1439688182217924, 'log_max_bin': 7, 'colsample_bytree': 0.9365250834556608, 'reg_alpha': 0.07492795084698504, 'reg_lambda': 10.854898771631584, 'FLAML_sample_size': 364083}, 'Best Learner': 'lgbm', 'Best Hyper-parameters': {'n_estimators': 100, 'num_leaves': 380, 'min_child_samples': 83, 'learning_rate': 0.1439688182217924, 'log_max_bin': 7, 'colsample_bytree': 0.9365250834556608, 'reg_alpha': 0.07492795084698504, 'reg_lambda': 10.854898771631584, 'FLAML_sample_size': 364083}}\n",
      "{'Current Learner': 'lgbm', 'Current Sample': 364083, 'Current Hyper-parameters': {'n_estimators': 157, 'num_leaves': 985, 'min_child_samples': 115, 'learning_rate': 0.15986853540486204, 'log_max_bin': 6, 'colsample_bytree': 0.8905312088154893, 'reg_alpha': 0.17376372850615002, 'reg_lambda': 196.88994398476, 'FLAML_sample_size': 364083}, 'Best Learner': 'lgbm', 'Best Hyper-parameters': {'n_estimators': 157, 'num_leaves': 985, 'min_child_samples': 115, 'learning_rate': 0.15986853540486204, 'log_max_bin': 6, 'colsample_bytree': 0.8905312088154893, 'reg_alpha': 0.17376372850615002, 'reg_lambda': 196.88994398476, 'FLAML_sample_size': 364083}}\n",
      "{'Current Learner': 'lgbm', 'Current Sample': 364083, 'Current Hyper-parameters': {'n_estimators': 302, 'num_leaves': 466, 'min_child_samples': 128, 'learning_rate': 0.087493667994037, 'log_max_bin': 7, 'colsample_bytree': 0.763983850698587, 'reg_alpha': 0.0996800847730337, 'reg_lambda': 23.22741934331899, 'FLAML_sample_size': 364083}, 'Best Learner': 'lgbm', 'Best Hyper-parameters': {'n_estimators': 302, 'num_leaves': 466, 'min_child_samples': 128, 'learning_rate': 0.087493667994037, 'log_max_bin': 7, 'colsample_bytree': 0.763983850698587, 'reg_alpha': 0.0996800847730337, 'reg_lambda': 23.22741934331899, 'FLAML_sample_size': 364083}}\n"
     ]
    }
   ],
   "source": [
    "from flaml.data import get_output_from_log\n",
    "time_history, best_valid_loss_history, valid_loss_history, config_history, metric_history = \\\n",
    "    get_output_from_log(filename=settings['log_file_name'], time_budget=240)\n",
    "for config in config_history:\n",
    "    print(config)"
   ]
  },
  {
   "cell_type": "code",
   "execution_count": 13,
   "metadata": {
    "slideshow": {
     "slide_type": "slide"
    }
   },
   "outputs": [
    {
     "data": {
      "image/png": "[encoded data removed]",
      "text/plain": [
       "<Figure size 432x288 with 1 Axes>"
      ]
     },
     "metadata": {
      "needs_background": "light"
     },
     "output_type": "display_data"
    }
   ],
   "source": [
    "import matplotlib.pyplot as plt\n",
    "import numpy as np\n",
    "\n",
    "plt.title('Learning Curve')\n",
    "plt.xlabel('Wall Clock Time (s)')\n",
    "plt.ylabel('Validation Accuracy')\n",
    "plt.scatter(time_history, 1 - np.array(valid_loss_history))\n",
    "plt.step(time_history, 1 - np.array(best_valid_loss_history), where='post')\n",
    "plt.show()"
   ]
  },
  {
   "cell_type": "markdown",
   "metadata": {},
   "source": [
    "## 3. Comparison with alternatives\n"
   ]
  },
  {
   "cell_type": "markdown",
   "metadata": {},
   "source": [
    "### Default LightGBM"
   ]
  },
  {
   "cell_type": "code",
   "execution_count": 14,
   "metadata": {},
   "outputs": [],
   "source": [
    "from lightgbm import LGBMClassifier\n",
    "lgbm = LGBMClassifier()"
   ]
  },
  {
   "cell_type": "code",
   "execution_count": 15,
   "metadata": {},
   "outputs": [
    {
     "data": {
      "text/plain": [
       "LGBMClassifier()"
      ]
     },
     "execution_count": 15,
     "metadata": {},
     "output_type": "execute_result"
    }
   ],
   "source": [
    "lgbm.fit(X_train, y_train)"
   ]
  },
  {
   "cell_type": "code",
   "execution_count": 16,
   "metadata": {},
   "outputs": [],
   "source": [
    "y_pred_lgbm = lgbm.predict(X_test)"
   ]
  },
  {
   "cell_type": "markdown",
   "metadata": {},
   "source": [
    "### Default XGBoost"
   ]
  },
  {
   "cell_type": "code",
   "execution_count": 17,
   "metadata": {},
   "outputs": [],
   "source": [
    "from xgboost import XGBClassifier\n",
    "xgb = XGBClassifier()\n",
    "cat_columns = X_train.select_dtypes(include=['category']).columns\n",
    "X = X_train.copy()\n",
    "X[cat_columns] = X[cat_columns].apply(lambda x: x.cat.codes)\n"
   ]
  },
  {
   "cell_type": "code",
   "execution_count": 18,
   "metadata": {},
   "outputs": [
    {
     "name": "stderr",
     "output_type": "stream",
     "text": [
      "/home/qxw5138/miniconda3/envs/myflaml/lib/python3.8/site-packages/xgboost/sklearn.py:888: UserWarning: The use of label encoder in XGBClassifier is deprecated and will be removed in a future release. To remove this warning, do the following: 1) Pass option use_label_encoder=False when constructing XGBClassifier object; and 2) Encode your labels (y) as integers starting with 0, i.e. 0, 1, 2, ..., [num_class - 1].\n",
      "  warnings.warn(label_encoder_deprecation_msg, UserWarning)\n",
      "/home/qxw5138/miniconda3/envs/myflaml/lib/python3.8/site-packages/xgboost/data.py:192: FutureWarning: pandas.Int64Index is deprecated and will be removed from pandas in a future version. Use pandas.Index with the appropriate dtype instead.\n",
      "  from pandas import MultiIndex, Int64Index\n"
     ]
    },
    {
     "data": {
      "text/plain": [
       "XGBClassifier(base_score=0.5, booster='gbtree', colsample_bylevel=1,\n",
       "              colsample_bynode=1, colsample_bytree=1, gamma=0, gpu_id=-1,\n",
       "              importance_type='gain', interaction_constraints='',\n",
       "              learning_rate=0.300000012, max_delta_step=0, max_depth=6,\n",
       "              min_child_weight=1, missing=nan, monotone_constraints='()',\n",
       "              n_estimators=100, n_jobs=48, num_parallel_tree=1, random_state=0,\n",
       "              reg_alpha=0, reg_lambda=1, scale_pos_weight=1, subsample=1,\n",
       "              tree_method='exact', validate_parameters=1, verbosity=None)"
      ]
     },
     "execution_count": 18,
     "metadata": {},
     "output_type": "execute_result"
    }
   ],
   "source": [
    "xgb.fit(X, y_train)"
   ]
  },
  {
   "cell_type": "code",
   "execution_count": 19,
   "metadata": {},
   "outputs": [],
   "source": [
    "X = X_test.copy()\n",
    "X[cat_columns] = X[cat_columns].apply(lambda x: x.cat.codes)\n",
    "y_pred_xgb = xgb.predict(X)"
   ]
  },
  {
   "cell_type": "code",
   "execution_count": 20,
   "metadata": {},
   "outputs": [
    {
     "name": "stdout",
     "output_type": "stream",
     "text": [
      "default xgboost accuracy = 0.6676060098186078\n",
      "default lgbm accuracy = 0.6602346380315323\n",
      "flaml (10 min) accuracy = 0.6732939797991784\n"
     ]
    }
   ],
   "source": [
    "print('default xgboost accuracy', '=', 1 - sklearn_metric_loss_score('accuracy', y_pred_xgb, y_test))\n",
    "print('default lgbm accuracy', '=', 1 - sklearn_metric_loss_score('accuracy', y_pred_lgbm, y_test))\n",
    "print('flaml (10 min) accuracy', '=', 1 - sklearn_metric_loss_score('accuracy', y_pred, y_test))"
   ]
  }
 ],
 "metadata": {
  "kernelspec": {
   "display_name": "Python 3.9.15 64-bit",
   "language": "python",
   "name": "python3"
  },
  "language_info": {
   "codemirror_mode": {
    "name": "ipython",
    "version": 3
   },
   "file_extension": ".py",
   "mimetype": "text/x-python",
   "name": "python",
   "nbconvert_exporter": "python",
   "pygments_lexer": "ipython3",
   "version": "3.8.12"
  },
  "vscode": {
   "interpreter": {
    "hash": "949777d72b0d2535278d3dc13498b2535136f6dfe0678499012e853ee9abcab1"
   }
  }
 },
 "nbformat": 4,
 "nbformat_minor": 2
}
