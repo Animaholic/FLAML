{
 "cells": [
  {
   "cell_type": "markdown",
   "metadata": {
    "slideshow": {
     "slide_type": "slide"
    }
   },
   "source": [
    "Copyright (c) Microsoft Corporation. All rights reserved. \n",
    "\n",
    "Licensed under the MIT License.\n",
    "\n",
    "# AutoML with FLAML Library\n",
    "\n",
    "\n",
    "## 1. Introduction\n",
    "\n",
    "FLAML is a Python library (https://github.com/microsoft/FLAML) designed to automatically produce accurate machine learning models \n",
    "with low computational cost. It is fast and economical. The simple and lightweight design makes it easy to use and extend, such as adding new learners. FLAML can \n",
    "- serve as an economical AutoML engine,\n",
    "- be used as a fast hyperparameter tuning tool, or \n",
    "- be embedded in self-tuning software that requires low latency & resource in repetitive\n",
    "   tuning tasks.\n",
    "\n",
    "In this notebook, we use one real data example (binary classification) to showcase how to use FLAML library.\n",
    "\n",
    "FLAML requires `Python>=3.7`. To run this notebook example, please install flaml with the `notebook` option:\n",
    "```bash\n",
    "pip install flaml[notebook]\n",
    "```"
   ]
  },
  {
   "cell_type": "code",
   "execution_count": null,
   "metadata": {},
   "outputs": [],
   "source": [
    "%pip install flaml[notebook]\n",
    "# From v0.6.6, catboost is made an optional dependency to build conda package.\n",
    "# To install catboost, you can run:\n",
    "# %pip install flaml[catboost]"
   ]
  },
  {
   "cell_type": "markdown",
   "metadata": {
    "slideshow": {
     "slide_type": "slide"
    }
   },
   "source": [
    "## 2. Classification Example\n",
    "### Load data and preprocess\n",
    "\n",
    "Download [Airlines dataset](https://www.openml.org/d/1169) from OpenML. The task is to predict whether a given flight will be delayed, given the information of the scheduled departure."
   ]
  },
  {
   "cell_type": "code",
   "execution_count": 2,
   "metadata": {
    "slideshow": {
     "slide_type": "subslide"
    },
    "tags": []
   },
   "outputs": [
    {
     "name": "stderr",
     "output_type": "stream",
     "text": [
      "/home/qxw5138/miniconda3/envs/myflaml/lib/python3.8/site-packages/xgboost/compat.py:31: FutureWarning: pandas.Int64Index is deprecated and will be removed from pandas in a future version. Use pandas.Index with the appropriate dtype instead.\n",
      "  from pandas import MultiIndex, Int64Index\n"
     ]
    },
    {
     "name": "stdout",
     "output_type": "stream",
     "text": [
      "load dataset from ./openml_ds1169.pkl\n",
      "Dataset name: airlines\n",
      "X_train.shape: (404537, 7), y_train.shape: (404537,);\n",
      "X_test.shape: (134846, 7), y_test.shape: (134846,)\n"
     ]
    }
   ],
   "source": [
    "from flaml.data import load_openml_dataset\n",
    "X_train, X_test, y_train, y_test = load_openml_dataset(dataset_id=1169, data_dir='./')"
   ]
  },
  {
   "cell_type": "markdown",
   "metadata": {
    "slideshow": {
     "slide_type": "slide"
    }
   },
   "source": [
    "### Run FLAML\n",
    "In the FLAML automl run configuration, users can specify the task type, time budget, error metric, learner list, whether to subsample, resampling strategy type, and so on. All these arguments have default values which will be used if users do not provide them. For example, the default classifiers are `['lgbm', 'xgboost', 'xgb_limitdepth', 'catboost', 'rf', 'extra_tree', 'lrl1']`. "
   ]
  },
  {
   "cell_type": "code",
   "execution_count": 3,
   "metadata": {
    "slideshow": {
     "slide_type": "slide"
    }
   },
   "outputs": [],
   "source": [
    "''' import AutoML class from flaml package '''\n",
    "from flaml import AutoML\n",
    "automl = AutoML()"
   ]
  },
  {
   "cell_type": "code",
   "execution_count": 4,
   "metadata": {
    "slideshow": {
     "slide_type": "slide"
    }
   },
   "outputs": [],
   "source": [
    "settings = {\n",
    "    \"time_budget\": 600,  # total running time in seconds\n",
    "    \"metric\": 'accuracy', \n",
    "                        # check the documentation for options of metrics (https://microsoft.github.io/FLAML/docs/Use-Cases/Task-Oriented-AutoML#optimization-metric)\n",
    "    \"task\": 'classification',  # task type\n",
    "    \"log_file_name\": 'airlines_experiment.log',  # flaml log file\n",
    "    \"seed\": 7654321,    # random seed\n",
    "}\n"
   ]
  },
  {
   "cell_type": "code",
   "execution_count": 5,
   "metadata": {
    "slideshow": {
     "slide_type": "slide"
    },
    "tags": [
     "outputPrepend"
    ]
   },
   "outputs": [
    {
     "name": "stderr",
     "output_type": "stream",
     "text": [
      "[flaml.automl.automl: 12-08 10:19:22] {2625} INFO - task = classification\n",
      "[flaml.automl.automl: 12-08 10:19:22] {2627} INFO - Data split method: stratified\n",
      "[flaml.automl.automl: 12-08 10:19:22] {2630} INFO - Evaluation method: holdout\n",
      "[flaml.automl.automl: 12-08 10:19:22] {2757} INFO - Minimizing error metric: 1-accuracy\n",
      "[flaml.automl.automl: 12-08 10:19:22] {2902} INFO - List of ML learners in AutoML Run: ['lgbm', 'rf', 'catboost', 'xgboost', 'extra_tree', 'xgb_limitdepth', 'lrl1']\n",
      "[flaml.automl.automl: 12-08 10:19:22] {3203} INFO - iteration 0, current learner lgbm\n",
      "[flaml.automl.automl: 12-08 10:19:23] {3340} INFO - Estimated sufficient time budget=41709s. Estimated necessary time budget=1024s.\n",
      "[flaml.automl.automl: 12-08 10:19:23] {3387} INFO -  at 1.0s,\testimator lgbm's best error=0.3777,\tbest estimator lgbm's best error=0.3777\n",
      "[flaml.automl.automl: 12-08 10:19:23] {3203} INFO - iteration 1, current learner lgbm\n",
      "[flaml.automl.automl: 12-08 10:19:23] {3387} INFO -  at 1.0s,\testimator lgbm's best error=0.3777,\tbest estimator lgbm's best error=0.3777\n",
      "[flaml.automl.automl: 12-08 10:19:23] {3203} INFO - iteration 2, current learner lgbm\n",
      "[flaml.automl.automl: 12-08 10:19:23] {3387} INFO -  at 1.1s,\testimator lgbm's best error=0.3614,\tbest estimator lgbm's best error=0.3614\n",
      "[flaml.automl.automl: 12-08 10:19:23] {3203} INFO - iteration 3, current learner lgbm\n",
      "[flaml.automl.automl: 12-08 10:19:23] {3387} INFO -  at 1.2s,\testimator lgbm's best error=0.3614,\tbest estimator lgbm's best error=0.3614\n",
      "[flaml.automl.automl: 12-08 10:19:23] {3203} INFO - iteration 4, current learner lgbm\n",
      "[flaml.automl.automl: 12-08 10:19:23] {3387} INFO -  at 1.3s,\testimator lgbm's best error=0.3614,\tbest estimator lgbm's best error=0.3614\n",
      "[flaml.automl.automl: 12-08 10:19:23] {3203} INFO - iteration 5, current learner xgboost\n",
      "/home/qxw5138/miniconda3/envs/myflaml/lib/python3.8/site-packages/xgboost/data.py:192: FutureWarning: pandas.Int64Index is deprecated and will be removed from pandas in a future version. Use pandas.Index with the appropriate dtype instead.\n",
      "  from pandas import MultiIndex, Int64Index\n",
      "[flaml.automl.automl: 12-08 10:19:28] {3387} INFO -  at 6.6s,\testimator xgboost's best error=0.3787,\tbest estimator lgbm's best error=0.3614\n",
      "[flaml.automl.automl: 12-08 10:19:28] {3203} INFO - iteration 6, current learner lgbm\n",
      "[flaml.automl.automl: 12-08 10:19:28] {3387} INFO -  at 6.7s,\testimator lgbm's best error=0.3614,\tbest estimator lgbm's best error=0.3614\n",
      "[flaml.automl.automl: 12-08 10:19:28] {3203} INFO - iteration 7, current learner extra_tree\n",
      "[flaml.automl.automl: 12-08 10:19:28] {3387} INFO -  at 6.9s,\testimator extra_tree's best error=0.3787,\tbest estimator lgbm's best error=0.3614\n",
      "[flaml.automl.automl: 12-08 10:19:28] {3203} INFO - iteration 8, current learner lgbm\n",
      "[flaml.automl.automl: 12-08 10:19:29] {3387} INFO -  at 7.1s,\testimator lgbm's best error=0.3614,\tbest estimator lgbm's best error=0.3614\n",
      "[flaml.automl.automl: 12-08 10:19:29] {3203} INFO - iteration 9, current learner lgbm\n",
      "[flaml.automl.automl: 12-08 10:19:29] {3387} INFO -  at 7.2s,\testimator lgbm's best error=0.3614,\tbest estimator lgbm's best error=0.3614\n",
      "[flaml.automl.automl: 12-08 10:19:29] {3203} INFO - iteration 10, current learner lgbm\n",
      "[flaml.automl.automl: 12-08 10:19:29] {3387} INFO -  at 7.4s,\testimator lgbm's best error=0.3550,\tbest estimator lgbm's best error=0.3550\n",
      "[flaml.automl.automl: 12-08 10:19:29] {3203} INFO - iteration 11, current learner extra_tree\n",
      "[flaml.automl.automl: 12-08 10:19:29] {3387} INFO -  at 7.5s,\testimator extra_tree's best error=0.3787,\tbest estimator lgbm's best error=0.3550\n",
      "[flaml.automl.automl: 12-08 10:19:29] {3203} INFO - iteration 12, current learner extra_tree\n",
      "[flaml.automl.automl: 12-08 10:19:29] {3387} INFO -  at 7.8s,\testimator extra_tree's best error=0.3787,\tbest estimator lgbm's best error=0.3550\n",
      "[flaml.automl.automl: 12-08 10:19:29] {3203} INFO - iteration 13, current learner rf\n",
      "[flaml.automl.automl: 12-08 10:19:30] {3387} INFO -  at 8.0s,\testimator rf's best error=0.3816,\tbest estimator lgbm's best error=0.3550\n",
      "[flaml.automl.automl: 12-08 10:19:30] {3203} INFO - iteration 14, current learner rf\n",
      "[flaml.automl.automl: 12-08 10:19:30] {3387} INFO -  at 8.1s,\testimator rf's best error=0.3791,\tbest estimator lgbm's best error=0.3550\n",
      "[flaml.automl.automl: 12-08 10:19:30] {3203} INFO - iteration 15, current learner lgbm\n",
      "[flaml.automl.automl: 12-08 10:19:30] {3387} INFO -  at 8.3s,\testimator lgbm's best error=0.3550,\tbest estimator lgbm's best error=0.3550\n",
      "[flaml.automl.automl: 12-08 10:19:30] {3203} INFO - iteration 16, current learner lgbm\n",
      "[flaml.automl.automl: 12-08 10:19:30] {3387} INFO -  at 8.7s,\testimator lgbm's best error=0.3545,\tbest estimator lgbm's best error=0.3545\n",
      "[flaml.automl.automl: 12-08 10:19:30] {3203} INFO - iteration 17, current learner rf\n",
      "[flaml.automl.automl: 12-08 10:19:31] {3387} INFO -  at 9.0s,\testimator rf's best error=0.3791,\tbest estimator lgbm's best error=0.3545\n",
      "[flaml.automl.automl: 12-08 10:19:31] {3203} INFO - iteration 18, current learner lgbm\n",
      "[flaml.automl.automl: 12-08 10:19:31] {3387} INFO -  at 9.3s,\testimator lgbm's best error=0.3545,\tbest estimator lgbm's best error=0.3545\n",
      "[flaml.automl.automl: 12-08 10:19:31] {3203} INFO - iteration 19, current learner lgbm\n",
      "[flaml.automl.automl: 12-08 10:19:32] {3387} INFO -  at 10.0s,\testimator lgbm's best error=0.3545,\tbest estimator lgbm's best error=0.3545\n",
      "[flaml.automl.automl: 12-08 10:19:32] {3203} INFO - iteration 20, current learner lgbm\n",
      "[flaml.automl.automl: 12-08 10:19:32] {3387} INFO -  at 10.3s,\testimator lgbm's best error=0.3536,\tbest estimator lgbm's best error=0.3536\n",
      "[flaml.automl.automl: 12-08 10:19:32] {3203} INFO - iteration 21, current learner lgbm\n",
      "[flaml.automl.automl: 12-08 10:19:32] {3387} INFO -  at 10.7s,\testimator lgbm's best error=0.3536,\tbest estimator lgbm's best error=0.3536\n",
      "[flaml.automl.automl: 12-08 10:19:32] {3203} INFO - iteration 22, current learner lgbm\n",
      "[flaml.automl.automl: 12-08 10:19:33] {3387} INFO -  at 11.5s,\testimator lgbm's best error=0.3536,\tbest estimator lgbm's best error=0.3536\n",
      "[flaml.automl.automl: 12-08 10:19:33] {3203} INFO - iteration 23, current learner lgbm\n",
      "[flaml.automl.automl: 12-08 10:19:34] {3387} INFO -  at 12.8s,\testimator lgbm's best error=0.3528,\tbest estimator lgbm's best error=0.3528\n",
      "[flaml.automl.automl: 12-08 10:19:34] {3203} INFO - iteration 24, current learner catboost\n",
      "[flaml.automl.automl: 12-08 10:19:35] {3387} INFO -  at 13.7s,\testimator catboost's best error=0.3587,\tbest estimator lgbm's best error=0.3528\n",
      "[flaml.automl.automl: 12-08 10:19:35] {3203} INFO - iteration 25, current learner catboost\n",
      "[flaml.automl.automl: 12-08 10:19:35] {3387} INFO -  at 13.9s,\testimator catboost's best error=0.3587,\tbest estimator lgbm's best error=0.3528\n",
      "[flaml.automl.automl: 12-08 10:19:35] {3203} INFO - iteration 26, current learner xgboost\n",
      "/home/qxw5138/miniconda3/envs/myflaml/lib/python3.8/site-packages/xgboost/data.py:192: FutureWarning: pandas.Int64Index is deprecated and will be removed from pandas in a future version. Use pandas.Index with the appropriate dtype instead.\n",
      "  from pandas import MultiIndex, Int64Index\n",
      "[flaml.automl.automl: 12-08 10:19:37] {3387} INFO -  at 15.4s,\testimator xgboost's best error=0.3787,\tbest estimator lgbm's best error=0.3528\n",
      "[flaml.automl.automl: 12-08 10:19:37] {3203} INFO - iteration 27, current learner catboost\n",
      "[flaml.automl.automl: 12-08 10:19:38] {3387} INFO -  at 16.4s,\testimator catboost's best error=0.3587,\tbest estimator lgbm's best error=0.3528\n",
      "[flaml.automl.automl: 12-08 10:19:38] {3203} INFO - iteration 28, current learner catboost\n",
      "[flaml.automl.automl: 12-08 10:19:42] {3387} INFO -  at 20.8s,\testimator catboost's best error=0.3587,\tbest estimator lgbm's best error=0.3528\n",
      "[flaml.automl.automl: 12-08 10:19:42] {3203} INFO - iteration 29, current learner xgboost\n",
      "/home/qxw5138/miniconda3/envs/myflaml/lib/python3.8/site-packages/xgboost/data.py:192: FutureWarning: pandas.Int64Index is deprecated and will be removed from pandas in a future version. Use pandas.Index with the appropriate dtype instead.\n",
      "  from pandas import MultiIndex, Int64Index\n",
      "[flaml.automl.automl: 12-08 10:19:43] {3387} INFO -  at 21.5s,\testimator xgboost's best error=0.3604,\tbest estimator lgbm's best error=0.3528\n",
      "[flaml.automl.automl: 12-08 10:19:43] {3203} INFO - iteration 30, current learner xgboost\n",
      "/home/qxw5138/miniconda3/envs/myflaml/lib/python3.8/site-packages/xgboost/data.py:192: FutureWarning: pandas.Int64Index is deprecated and will be removed from pandas in a future version. Use pandas.Index with the appropriate dtype instead.\n",
      "  from pandas import MultiIndex, Int64Index\n",
      "[flaml.automl.automl: 12-08 10:19:44] {3387} INFO -  at 22.3s,\testimator xgboost's best error=0.3601,\tbest estimator lgbm's best error=0.3528\n",
      "[flaml.automl.automl: 12-08 10:19:44] {3203} INFO - iteration 31, current learner lgbm\n",
      "[flaml.automl.automl: 12-08 10:19:48] {3387} INFO -  at 26.8s,\testimator lgbm's best error=0.3405,\tbest estimator lgbm's best error=0.3405\n",
      "[flaml.automl.automl: 12-08 10:19:48] {3203} INFO - iteration 32, current learner lgbm\n",
      "[flaml.automl.automl: 12-08 10:19:49] {3387} INFO -  at 27.9s,\testimator lgbm's best error=0.3405,\tbest estimator lgbm's best error=0.3405\n",
      "[flaml.automl.automl: 12-08 10:19:49] {3203} INFO - iteration 33, current learner lgbm\n",
      "[flaml.automl.automl: 12-08 10:19:53] {3387} INFO -  at 31.0s,\testimator lgbm's best error=0.3370,\tbest estimator lgbm's best error=0.3370\n",
      "[flaml.automl.automl: 12-08 10:19:53] {3203} INFO - iteration 34, current learner catboost\n",
      "[flaml.automl.automl: 12-08 10:19:56] {3387} INFO -  at 34.2s,\testimator catboost's best error=0.3487,\tbest estimator lgbm's best error=0.3370\n",
      "[flaml.automl.automl: 12-08 10:19:56] {3203} INFO - iteration 35, current learner lgbm\n",
      "[flaml.automl.automl: 12-08 10:20:00] {3387} INFO -  at 38.7s,\testimator lgbm's best error=0.3370,\tbest estimator lgbm's best error=0.3370\n",
      "[flaml.automl.automl: 12-08 10:20:00] {3203} INFO - iteration 36, current learner lgbm\n",
      "[flaml.automl.automl: 12-08 10:20:04] {3387} INFO -  at 42.0s,\testimator lgbm's best error=0.3370,\tbest estimator lgbm's best error=0.3370\n",
      "[flaml.automl.automl: 12-08 10:20:04] {3203} INFO - iteration 37, current learner xgb_limitdepth\n",
      "/home/qxw5138/miniconda3/envs/myflaml/lib/python3.8/site-packages/xgboost/data.py:192: FutureWarning: pandas.Int64Index is deprecated and will be removed from pandas in a future version. Use pandas.Index with the appropriate dtype instead.\n",
      "  from pandas import MultiIndex, Int64Index\n",
      "[flaml.automl.automl: 12-08 10:20:04] {3387} INFO -  at 42.3s,\testimator xgb_limitdepth's best error=0.3630,\tbest estimator lgbm's best error=0.3370\n",
      "[flaml.automl.automl: 12-08 10:20:04] {3203} INFO - iteration 38, current learner xgb_limitdepth\n",
      "/home/qxw5138/miniconda3/envs/myflaml/lib/python3.8/site-packages/xgboost/data.py:192: FutureWarning: pandas.Int64Index is deprecated and will be removed from pandas in a future version. Use pandas.Index with the appropriate dtype instead.\n",
      "  from pandas import MultiIndex, Int64Index\n",
      "[flaml.automl.automl: 12-08 10:20:04] {3387} INFO -  at 42.3s,\testimator xgb_limitdepth's best error=0.3630,\tbest estimator lgbm's best error=0.3370\n",
      "[flaml.automl.automl: 12-08 10:20:04] {3203} INFO - iteration 39, current learner xgb_limitdepth\n",
      "/home/qxw5138/miniconda3/envs/myflaml/lib/python3.8/site-packages/xgboost/data.py:192: FutureWarning: pandas.Int64Index is deprecated and will be removed from pandas in a future version. Use pandas.Index with the appropriate dtype instead.\n",
      "  from pandas import MultiIndex, Int64Index\n",
      "[flaml.automl.automl: 12-08 10:20:04] {3387} INFO -  at 42.5s,\testimator xgb_limitdepth's best error=0.3630,\tbest estimator lgbm's best error=0.3370\n",
      "[flaml.automl.automl: 12-08 10:20:04] {3203} INFO - iteration 40, current learner xgb_limitdepth\n",
      "/home/qxw5138/miniconda3/envs/myflaml/lib/python3.8/site-packages/xgboost/data.py:192: FutureWarning: pandas.Int64Index is deprecated and will be removed from pandas in a future version. Use pandas.Index with the appropriate dtype instead.\n",
      "  from pandas import MultiIndex, Int64Index\n",
      "[flaml.automl.automl: 12-08 10:20:05] {3387} INFO -  at 43.3s,\testimator xgb_limitdepth's best error=0.3630,\tbest estimator lgbm's best error=0.3370\n",
      "[flaml.automl.automl: 12-08 10:20:05] {3203} INFO - iteration 41, current learner xgb_limitdepth\n",
      "/home/qxw5138/miniconda3/envs/myflaml/lib/python3.8/site-packages/xgboost/data.py:192: FutureWarning: pandas.Int64Index is deprecated and will be removed from pandas in a future version. Use pandas.Index with the appropriate dtype instead.\n",
      "  from pandas import MultiIndex, Int64Index\n",
      "[flaml.automl.automl: 12-08 10:20:05] {3387} INFO -  at 43.3s,\testimator xgb_limitdepth's best error=0.3629,\tbest estimator lgbm's best error=0.3370\n",
      "[flaml.automl.automl: 12-08 10:20:05] {3203} INFO - iteration 42, current learner rf\n",
      "[flaml.automl.automl: 12-08 10:20:05] {3387} INFO -  at 43.5s,\testimator rf's best error=0.3791,\tbest estimator lgbm's best error=0.3370\n",
      "[flaml.automl.automl: 12-08 10:20:05] {3203} INFO - iteration 43, current learner catboost\n",
      "[flaml.automl.automl: 12-08 10:20:07] {3387} INFO -  at 44.9s,\testimator catboost's best error=0.3477,\tbest estimator lgbm's best error=0.3370\n",
      "[flaml.automl.automl: 12-08 10:20:07] {3203} INFO - iteration 44, current learner lgbm\n",
      "[flaml.automl.automl: 12-08 10:20:11] {3387} INFO -  at 49.9s,\testimator lgbm's best error=0.3318,\tbest estimator lgbm's best error=0.3318\n",
      "[flaml.automl.automl: 12-08 10:20:11] {3203} INFO - iteration 45, current learner rf\n",
      "[flaml.automl.automl: 12-08 10:20:12] {3387} INFO -  at 50.1s,\testimator rf's best error=0.3789,\tbest estimator lgbm's best error=0.3318\n",
      "[flaml.automl.automl: 12-08 10:20:12] {3203} INFO - iteration 46, current learner xgb_limitdepth\n",
      "/home/qxw5138/miniconda3/envs/myflaml/lib/python3.8/site-packages/xgboost/data.py:192: FutureWarning: pandas.Int64Index is deprecated and will be removed from pandas in a future version. Use pandas.Index with the appropriate dtype instead.\n",
      "  from pandas import MultiIndex, Int64Index\n",
      "[flaml.automl.automl: 12-08 10:20:12] {3387} INFO -  at 50.3s,\testimator xgb_limitdepth's best error=0.3629,\tbest estimator lgbm's best error=0.3318\n",
      "[flaml.automl.automl: 12-08 10:20:12] {3203} INFO - iteration 47, current learner catboost\n",
      "[flaml.automl.automl: 12-08 10:20:42] {3387} INFO -  at 80.5s,\testimator catboost's best error=0.3477,\tbest estimator lgbm's best error=0.3318\n",
      "[flaml.automl.automl: 12-08 10:20:42] {3203} INFO - iteration 48, current learner lgbm\n",
      "[flaml.automl.automl: 12-08 10:20:46] {3387} INFO -  at 84.7s,\testimator lgbm's best error=0.3282,\tbest estimator lgbm's best error=0.3282\n",
      "[flaml.automl.automl: 12-08 10:20:46] {3203} INFO - iteration 49, current learner lgbm\n",
      "[flaml.automl.automl: 12-08 10:20:51] {3387} INFO -  at 89.2s,\testimator lgbm's best error=0.3282,\tbest estimator lgbm's best error=0.3282\n",
      "[flaml.automl.automl: 12-08 10:20:51] {3203} INFO - iteration 50, current learner lgbm\n",
      "[flaml.automl.automl: 12-08 10:20:54] {3387} INFO -  at 92.6s,\testimator lgbm's best error=0.3282,\tbest estimator lgbm's best error=0.3282\n",
      "[flaml.automl.automl: 12-08 10:20:54] {3203} INFO - iteration 51, current learner lgbm\n",
      "[flaml.automl.automl: 12-08 10:20:58] {3387} INFO -  at 96.5s,\testimator lgbm's best error=0.3282,\tbest estimator lgbm's best error=0.3282\n",
      "[flaml.automl.automl: 12-08 10:20:58] {3203} INFO - iteration 52, current learner catboost\n",
      "[flaml.automl.automl: 12-08 10:21:02] {3387} INFO -  at 100.8s,\testimator catboost's best error=0.3396,\tbest estimator lgbm's best error=0.3282\n",
      "[flaml.automl.automl: 12-08 10:21:02] {3203} INFO - iteration 53, current learner lgbm\n",
      "[flaml.automl.automl: 12-08 10:21:08] {3387} INFO -  at 106.1s,\testimator lgbm's best error=0.3282,\tbest estimator lgbm's best error=0.3282\n",
      "[flaml.automl.automl: 12-08 10:21:08] {3203} INFO - iteration 54, current learner lgbm\n",
      "[flaml.automl.automl: 12-08 10:21:11] {3387} INFO -  at 109.6s,\testimator lgbm's best error=0.3282,\tbest estimator lgbm's best error=0.3282\n",
      "[flaml.automl.automl: 12-08 10:21:11] {3203} INFO - iteration 55, current learner lrl1\n",
      "/home/qxw5138/miniconda3/envs/myflaml/lib/python3.8/site-packages/sklearn/linear_model/_sag.py:328: ConvergenceWarning: The max_iter was reached which means the coef_ did not converge\n",
      "  warnings.warn(\"The max_iter was reached which means \"\n",
      "[flaml.automl.automl: 12-08 10:21:11] {3387} INFO -  at 109.8s,\testimator lrl1's best error=0.4338,\tbest estimator lgbm's best error=0.3282\n",
      "[flaml.automl.automl: 12-08 10:21:11] {3203} INFO - iteration 56, current learner lrl1\n",
      "/home/qxw5138/miniconda3/envs/myflaml/lib/python3.8/site-packages/sklearn/linear_model/_sag.py:328: ConvergenceWarning: The max_iter was reached which means the coef_ did not converge\n",
      "  warnings.warn(\"The max_iter was reached which means \"\n",
      "[flaml.automl.automl: 12-08 10:21:12] {3387} INFO -  at 110.1s,\testimator lrl1's best error=0.4338,\tbest estimator lgbm's best error=0.3282\n",
      "[flaml.automl.automl: 12-08 10:21:12] {3203} INFO - iteration 57, current learner lrl1\n",
      "/home/qxw5138/miniconda3/envs/myflaml/lib/python3.8/site-packages/sklearn/linear_model/_sag.py:328: ConvergenceWarning: The max_iter was reached which means the coef_ did not converge\n",
      "  warnings.warn(\"The max_iter was reached which means \"\n",
      "[flaml.automl.automl: 12-08 10:21:12] {3387} INFO -  at 110.3s,\testimator lrl1's best error=0.4338,\tbest estimator lgbm's best error=0.3282\n",
      "[flaml.automl.automl: 12-08 10:21:12] {3203} INFO - iteration 58, current learner lrl1\n",
      "/home/qxw5138/miniconda3/envs/myflaml/lib/python3.8/site-packages/sklearn/linear_model/_sag.py:328: ConvergenceWarning: The max_iter was reached which means the coef_ did not converge\n",
      "  warnings.warn(\"The max_iter was reached which means \"\n",
      "[flaml.automl.automl: 12-08 10:21:13] {3387} INFO -  at 111.2s,\testimator lrl1's best error=0.4334,\tbest estimator lgbm's best error=0.3282\n",
      "[flaml.automl.automl: 12-08 10:21:13] {3203} INFO - iteration 59, current learner lgbm\n",
      "[flaml.automl.automl: 12-08 10:21:15] {3387} INFO -  at 113.4s,\testimator lgbm's best error=0.3282,\tbest estimator lgbm's best error=0.3282\n",
      "[flaml.automl.automl: 12-08 10:21:15] {3203} INFO - iteration 60, current learner lgbm\n",
      "[flaml.automl.automl: 12-08 10:21:21] {3387} INFO -  at 119.6s,\testimator lgbm's best error=0.3282,\tbest estimator lgbm's best error=0.3282\n",
      "[flaml.automl.automl: 12-08 10:21:21] {3203} INFO - iteration 61, current learner lgbm\n",
      "[flaml.automl.automl: 12-08 10:21:34] {3387} INFO -  at 132.9s,\testimator lgbm's best error=0.3282,\tbest estimator lgbm's best error=0.3282\n",
      "[flaml.automl.automl: 12-08 10:21:34] {3203} INFO - iteration 62, current learner lgbm\n",
      "[flaml.automl.automl: 12-08 10:21:36] {3387} INFO -  at 134.2s,\testimator lgbm's best error=0.3282,\tbest estimator lgbm's best error=0.3282\n",
      "[flaml.automl.automl: 12-08 10:21:36] {3203} INFO - iteration 63, current learner catboost\n",
      "[flaml.automl.automl: 12-08 10:23:35] {3387} INFO -  at 253.8s,\testimator catboost's best error=0.3396,\tbest estimator lgbm's best error=0.3282\n",
      "[flaml.automl.automl: 12-08 10:23:35] {3203} INFO - iteration 64, current learner lgbm\n",
      "[flaml.automl.automl: 12-08 10:23:59] {3387} INFO -  at 277.8s,\testimator lgbm's best error=0.3282,\tbest estimator lgbm's best error=0.3282\n",
      "[flaml.automl.automl: 12-08 10:23:59] {3203} INFO - iteration 65, current learner rf\n",
      "[flaml.automl.automl: 12-08 10:24:00] {3387} INFO -  at 278.0s,\testimator rf's best error=0.3781,\tbest estimator lgbm's best error=0.3282\n",
      "[flaml.automl.automl: 12-08 10:24:00] {3203} INFO - iteration 66, current learner rf\n",
      "[flaml.automl.automl: 12-08 10:24:00] {3387} INFO -  at 278.3s,\testimator rf's best error=0.3781,\tbest estimator lgbm's best error=0.3282\n",
      "[flaml.automl.automl: 12-08 10:24:00] {3203} INFO - iteration 67, current learner lgbm\n",
      "[flaml.automl.automl: 12-08 10:24:01] {3387} INFO -  at 279.6s,\testimator lgbm's best error=0.3282,\tbest estimator lgbm's best error=0.3282\n",
      "[flaml.automl.automl: 12-08 10:24:01] {3203} INFO - iteration 68, current learner rf\n",
      "[flaml.automl.automl: 12-08 10:24:01] {3387} INFO -  at 279.9s,\testimator rf's best error=0.3725,\tbest estimator lgbm's best error=0.3282\n",
      "[flaml.automl.automl: 12-08 10:24:01] {3203} INFO - iteration 69, current learner rf\n",
      "[flaml.automl.automl: 12-08 10:24:02] {3387} INFO -  at 280.2s,\testimator rf's best error=0.3725,\tbest estimator lgbm's best error=0.3282\n",
      "[flaml.automl.automl: 12-08 10:24:02] {3203} INFO - iteration 70, current learner rf\n",
      "[flaml.automl.automl: 12-08 10:24:02] {3387} INFO -  at 280.5s,\testimator rf's best error=0.3725,\tbest estimator lgbm's best error=0.3282\n",
      "[flaml.automl.automl: 12-08 10:24:02] {3203} INFO - iteration 71, current learner lgbm\n",
      "[flaml.automl.automl: 12-08 10:24:07] {3387} INFO -  at 285.2s,\testimator lgbm's best error=0.3282,\tbest estimator lgbm's best error=0.3282\n",
      "[flaml.automl.automl: 12-08 10:24:07] {3203} INFO - iteration 72, current learner rf\n",
      "[flaml.automl.automl: 12-08 10:24:07] {3387} INFO -  at 285.4s,\testimator rf's best error=0.3706,\tbest estimator lgbm's best error=0.3282\n",
      "[flaml.automl.automl: 12-08 10:24:07] {3203} INFO - iteration 73, current learner rf\n",
      "[flaml.automl.automl: 12-08 10:24:07] {3387} INFO -  at 285.7s,\testimator rf's best error=0.3706,\tbest estimator lgbm's best error=0.3282\n",
      "[flaml.automl.automl: 12-08 10:24:07] {3203} INFO - iteration 74, current learner rf\n",
      "[flaml.automl.automl: 12-08 10:24:08] {3387} INFO -  at 285.9s,\testimator rf's best error=0.3706,\tbest estimator lgbm's best error=0.3282\n",
      "[flaml.automl.automl: 12-08 10:24:08] {3203} INFO - iteration 75, current learner xgb_limitdepth\n",
      "/home/qxw5138/miniconda3/envs/myflaml/lib/python3.8/site-packages/xgboost/data.py:192: FutureWarning: pandas.Int64Index is deprecated and will be removed from pandas in a future version. Use pandas.Index with the appropriate dtype instead.\n",
      "  from pandas import MultiIndex, Int64Index\n",
      "[flaml.automl.automl: 12-08 10:24:08] {3387} INFO -  at 286.1s,\testimator xgb_limitdepth's best error=0.3629,\tbest estimator lgbm's best error=0.3282\n",
      "[flaml.automl.automl: 12-08 10:24:08] {3203} INFO - iteration 76, current learner rf\n",
      "[flaml.automl.automl: 12-08 10:24:08] {3387} INFO -  at 286.2s,\testimator rf's best error=0.3706,\tbest estimator lgbm's best error=0.3282\n",
      "[flaml.automl.automl: 12-08 10:24:08] {3203} INFO - iteration 77, current learner extra_tree\n",
      "[flaml.automl.automl: 12-08 10:24:08] {3387} INFO -  at 286.4s,\testimator extra_tree's best error=0.3787,\tbest estimator lgbm's best error=0.3282\n",
      "[flaml.automl.automl: 12-08 10:24:08] {3203} INFO - iteration 78, current learner lgbm\n",
      "[flaml.automl.automl: 12-08 10:24:12] {3387} INFO -  at 290.3s,\testimator lgbm's best error=0.3282,\tbest estimator lgbm's best error=0.3282\n",
      "[flaml.automl.automl: 12-08 10:24:12] {3203} INFO - iteration 79, current learner lgbm\n",
      "[flaml.automl.automl: 12-08 10:24:15] {3387} INFO -  at 293.5s,\testimator lgbm's best error=0.3274,\tbest estimator lgbm's best error=0.3274\n",
      "[flaml.automl.automl: 12-08 10:24:15] {3203} INFO - iteration 80, current learner xgboost\n",
      "/home/qxw5138/miniconda3/envs/myflaml/lib/python3.8/site-packages/xgboost/data.py:192: FutureWarning: pandas.Int64Index is deprecated and will be removed from pandas in a future version. Use pandas.Index with the appropriate dtype instead.\n",
      "  from pandas import MultiIndex, Int64Index\n",
      "[flaml.automl.automl: 12-08 10:24:15] {3387} INFO -  at 293.6s,\testimator xgboost's best error=0.3594,\tbest estimator lgbm's best error=0.3274\n",
      "[flaml.automl.automl: 12-08 10:24:15] {3203} INFO - iteration 81, current learner xgboost\n",
      "/home/qxw5138/miniconda3/envs/myflaml/lib/python3.8/site-packages/xgboost/data.py:192: FutureWarning: pandas.Int64Index is deprecated and will be removed from pandas in a future version. Use pandas.Index with the appropriate dtype instead.\n",
      "  from pandas import MultiIndex, Int64Index\n",
      "[flaml.automl.automl: 12-08 10:24:15] {3387} INFO -  at 293.7s,\testimator xgboost's best error=0.3594,\tbest estimator lgbm's best error=0.3274\n",
      "[flaml.automl.automl: 12-08 10:24:15] {3203} INFO - iteration 82, current learner rf\n",
      "[flaml.automl.automl: 12-08 10:24:15] {3387} INFO -  at 293.9s,\testimator rf's best error=0.3706,\tbest estimator lgbm's best error=0.3274\n",
      "[flaml.automl.automl: 12-08 10:24:15] {3203} INFO - iteration 83, current learner xgboost\n",
      "/home/qxw5138/miniconda3/envs/myflaml/lib/python3.8/site-packages/xgboost/data.py:192: FutureWarning: pandas.Int64Index is deprecated and will be removed from pandas in a future version. Use pandas.Index with the appropriate dtype instead.\n",
      "  from pandas import MultiIndex, Int64Index\n",
      "[flaml.automl.automl: 12-08 10:24:16] {3387} INFO -  at 294.0s,\testimator xgboost's best error=0.3594,\tbest estimator lgbm's best error=0.3274\n",
      "[flaml.automl.automl: 12-08 10:24:16] {3203} INFO - iteration 84, current learner rf\n",
      "[flaml.automl.automl: 12-08 10:24:16] {3387} INFO -  at 294.2s,\testimator rf's best error=0.3706,\tbest estimator lgbm's best error=0.3274\n",
      "[flaml.automl.automl: 12-08 10:24:16] {3203} INFO - iteration 85, current learner xgboost\n",
      "/home/qxw5138/miniconda3/envs/myflaml/lib/python3.8/site-packages/xgboost/data.py:192: FutureWarning: pandas.Int64Index is deprecated and will be removed from pandas in a future version. Use pandas.Index with the appropriate dtype instead.\n",
      "  from pandas import MultiIndex, Int64Index\n",
      "[flaml.automl.automl: 12-08 10:24:16] {3387} INFO -  at 294.5s,\testimator xgboost's best error=0.3594,\tbest estimator lgbm's best error=0.3274\n",
      "[flaml.automl.automl: 12-08 10:24:16] {3203} INFO - iteration 86, current learner xgboost\n",
      "/home/qxw5138/miniconda3/envs/myflaml/lib/python3.8/site-packages/xgboost/data.py:192: FutureWarning: pandas.Int64Index is deprecated and will be removed from pandas in a future version. Use pandas.Index with the appropriate dtype instead.\n",
      "  from pandas import MultiIndex, Int64Index\n",
      "[flaml.automl.automl: 12-08 10:24:16] {3387} INFO -  at 294.5s,\testimator xgboost's best error=0.3594,\tbest estimator lgbm's best error=0.3274\n",
      "[flaml.automl.automl: 12-08 10:24:16] {3203} INFO - iteration 87, current learner xgboost\n",
      "/home/qxw5138/miniconda3/envs/myflaml/lib/python3.8/site-packages/xgboost/data.py:192: FutureWarning: pandas.Int64Index is deprecated and will be removed from pandas in a future version. Use pandas.Index with the appropriate dtype instead.\n",
      "  from pandas import MultiIndex, Int64Index\n",
      "[flaml.automl.automl: 12-08 10:24:16] {3387} INFO -  at 294.6s,\testimator xgboost's best error=0.3594,\tbest estimator lgbm's best error=0.3274\n",
      "[flaml.automl.automl: 12-08 10:24:16] {3203} INFO - iteration 88, current learner xgboost\n",
      "/home/qxw5138/miniconda3/envs/myflaml/lib/python3.8/site-packages/xgboost/data.py:192: FutureWarning: pandas.Int64Index is deprecated and will be removed from pandas in a future version. Use pandas.Index with the appropriate dtype instead.\n",
      "  from pandas import MultiIndex, Int64Index\n",
      "[flaml.automl.automl: 12-08 10:24:16] {3387} INFO -  at 294.7s,\testimator xgboost's best error=0.3528,\tbest estimator lgbm's best error=0.3274\n",
      "[flaml.automl.automl: 12-08 10:24:16] {3203} INFO - iteration 89, current learner xgboost\n",
      "/home/qxw5138/miniconda3/envs/myflaml/lib/python3.8/site-packages/xgboost/data.py:192: FutureWarning: pandas.Int64Index is deprecated and will be removed from pandas in a future version. Use pandas.Index with the appropriate dtype instead.\n",
      "  from pandas import MultiIndex, Int64Index\n",
      "[flaml.automl.automl: 12-08 10:24:17] {3387} INFO -  at 295.0s,\testimator xgboost's best error=0.3528,\tbest estimator lgbm's best error=0.3274\n",
      "[flaml.automl.automl: 12-08 10:24:17] {3203} INFO - iteration 90, current learner xgboost\n",
      "/home/qxw5138/miniconda3/envs/myflaml/lib/python3.8/site-packages/xgboost/data.py:192: FutureWarning: pandas.Int64Index is deprecated and will be removed from pandas in a future version. Use pandas.Index with the appropriate dtype instead.\n",
      "  from pandas import MultiIndex, Int64Index\n",
      "[flaml.automl.automl: 12-08 10:24:17] {3387} INFO -  at 295.3s,\testimator xgboost's best error=0.3524,\tbest estimator lgbm's best error=0.3274\n",
      "[flaml.automl.automl: 12-08 10:24:17] {3203} INFO - iteration 91, current learner lgbm\n",
      "[flaml.automl.automl: 12-08 10:24:20] {3387} INFO -  at 298.9s,\testimator lgbm's best error=0.3274,\tbest estimator lgbm's best error=0.3274\n",
      "[flaml.automl.automl: 12-08 10:24:20] {3203} INFO - iteration 92, current learner xgboost\n",
      "/home/qxw5138/miniconda3/envs/myflaml/lib/python3.8/site-packages/xgboost/data.py:192: FutureWarning: pandas.Int64Index is deprecated and will be removed from pandas in a future version. Use pandas.Index with the appropriate dtype instead.\n",
      "  from pandas import MultiIndex, Int64Index\n",
      "[flaml.automl.automl: 12-08 10:24:21] {3387} INFO -  at 299.1s,\testimator xgboost's best error=0.3524,\tbest estimator lgbm's best error=0.3274\n",
      "[flaml.automl.automl: 12-08 10:24:21] {3203} INFO - iteration 93, current learner rf\n",
      "[flaml.automl.automl: 12-08 10:24:21] {3387} INFO -  at 299.4s,\testimator rf's best error=0.3678,\tbest estimator lgbm's best error=0.3274\n",
      "[flaml.automl.automl: 12-08 10:24:21] {3203} INFO - iteration 94, current learner xgb_limitdepth\n",
      "/home/qxw5138/miniconda3/envs/myflaml/lib/python3.8/site-packages/xgboost/data.py:192: FutureWarning: pandas.Int64Index is deprecated and will be removed from pandas in a future version. Use pandas.Index with the appropriate dtype instead.\n",
      "  from pandas import MultiIndex, Int64Index\n",
      "[flaml.automl.automl: 12-08 10:24:21] {3387} INFO -  at 299.5s,\testimator xgb_limitdepth's best error=0.3629,\tbest estimator lgbm's best error=0.3274\n",
      "[flaml.automl.automl: 12-08 10:24:21] {3203} INFO - iteration 95, current learner rf\n",
      "[flaml.automl.automl: 12-08 10:24:21] {3387} INFO -  at 299.8s,\testimator rf's best error=0.3678,\tbest estimator lgbm's best error=0.3274\n",
      "[flaml.automl.automl: 12-08 10:24:21] {3203} INFO - iteration 96, current learner rf\n",
      "[flaml.automl.automl: 12-08 10:24:22] {3387} INFO -  at 300.1s,\testimator rf's best error=0.3617,\tbest estimator lgbm's best error=0.3274\n",
      "[flaml.automl.automl: 12-08 10:24:22] {3203} INFO - iteration 97, current learner rf\n",
      "[flaml.automl.automl: 12-08 10:24:22] {3387} INFO -  at 300.5s,\testimator rf's best error=0.3593,\tbest estimator lgbm's best error=0.3274\n",
      "[flaml.automl.automl: 12-08 10:24:22] {3203} INFO - iteration 98, current learner xgboost\n",
      "/home/qxw5138/miniconda3/envs/myflaml/lib/python3.8/site-packages/xgboost/data.py:192: FutureWarning: pandas.Int64Index is deprecated and will be removed from pandas in a future version. Use pandas.Index with the appropriate dtype instead.\n",
      "  from pandas import MultiIndex, Int64Index\n",
      "[flaml.automl.automl: 12-08 10:24:22] {3387} INFO -  at 300.8s,\testimator xgboost's best error=0.3524,\tbest estimator lgbm's best error=0.3274\n",
      "[flaml.automl.automl: 12-08 10:24:22] {3203} INFO - iteration 99, current learner rf\n",
      "[flaml.automl.automl: 12-08 10:24:23] {3387} INFO -  at 301.1s,\testimator rf's best error=0.3593,\tbest estimator lgbm's best error=0.3274\n",
      "[flaml.automl.automl: 12-08 10:24:23] {3203} INFO - iteration 100, current learner rf\n",
      "[flaml.automl.automl: 12-08 10:24:23] {3387} INFO -  at 301.4s,\testimator rf's best error=0.3593,\tbest estimator lgbm's best error=0.3274\n",
      "[flaml.automl.automl: 12-08 10:24:23] {3203} INFO - iteration 101, current learner rf\n",
      "[flaml.automl.automl: 12-08 10:24:23] {3387} INFO -  at 301.8s,\testimator rf's best error=0.3593,\tbest estimator lgbm's best error=0.3274\n",
      "[flaml.automl.automl: 12-08 10:24:23] {3203} INFO - iteration 102, current learner rf\n",
      "[flaml.automl.automl: 12-08 10:24:24] {3387} INFO -  at 302.2s,\testimator rf's best error=0.3593,\tbest estimator lgbm's best error=0.3274\n",
      "[flaml.automl.automl: 12-08 10:24:24] {3203} INFO - iteration 103, current learner xgboost\n",
      "/home/qxw5138/miniconda3/envs/myflaml/lib/python3.8/site-packages/xgboost/data.py:192: FutureWarning: pandas.Int64Index is deprecated and will be removed from pandas in a future version. Use pandas.Index with the appropriate dtype instead.\n",
      "  from pandas import MultiIndex, Int64Index\n",
      "[flaml.automl.automl: 12-08 10:24:24] {3387} INFO -  at 302.9s,\testimator xgboost's best error=0.3524,\tbest estimator lgbm's best error=0.3274\n",
      "[flaml.automl.automl: 12-08 10:24:24] {3203} INFO - iteration 104, current learner rf\n",
      "[flaml.automl.automl: 12-08 10:24:26] {3387} INFO -  at 304.3s,\testimator rf's best error=0.3499,\tbest estimator lgbm's best error=0.3274\n",
      "[flaml.automl.automl: 12-08 10:24:26] {3203} INFO - iteration 105, current learner lgbm\n",
      "[flaml.automl.automl: 12-08 10:24:29] {3387} INFO -  at 306.9s,\testimator lgbm's best error=0.3274,\tbest estimator lgbm's best error=0.3274\n",
      "[flaml.automl.automl: 12-08 10:24:29] {3203} INFO - iteration 106, current learner rf\n",
      "[flaml.automl.automl: 12-08 10:24:30] {3387} INFO -  at 308.1s,\testimator rf's best error=0.3475,\tbest estimator lgbm's best error=0.3274\n",
      "[flaml.automl.automl: 12-08 10:24:30] {3203} INFO - iteration 107, current learner rf\n",
      "[flaml.automl.automl: 12-08 10:24:31] {3387} INFO -  at 309.6s,\testimator rf's best error=0.3475,\tbest estimator lgbm's best error=0.3274\n",
      "[flaml.automl.automl: 12-08 10:24:31] {3203} INFO - iteration 108, current learner rf\n",
      "[flaml.automl.automl: 12-08 10:24:33] {3387} INFO -  at 311.4s,\testimator rf's best error=0.3425,\tbest estimator lgbm's best error=0.3274\n",
      "[flaml.automl.automl: 12-08 10:24:33] {3203} INFO - iteration 109, current learner xgboost\n",
      "/home/qxw5138/miniconda3/envs/myflaml/lib/python3.8/site-packages/xgboost/data.py:192: FutureWarning: pandas.Int64Index is deprecated and will be removed from pandas in a future version. Use pandas.Index with the appropriate dtype instead.\n",
      "  from pandas import MultiIndex, Int64Index\n",
      "[flaml.automl.automl: 12-08 10:24:34] {3387} INFO -  at 312.0s,\testimator xgboost's best error=0.3392,\tbest estimator lgbm's best error=0.3274\n",
      "[flaml.automl.automl: 12-08 10:24:34] {3203} INFO - iteration 110, current learner xgboost\n",
      "/home/qxw5138/miniconda3/envs/myflaml/lib/python3.8/site-packages/xgboost/data.py:192: FutureWarning: pandas.Int64Index is deprecated and will be removed from pandas in a future version. Use pandas.Index with the appropriate dtype instead.\n",
      "  from pandas import MultiIndex, Int64Index\n",
      "[flaml.automl.automl: 12-08 10:24:34] {3387} INFO -  at 312.8s,\testimator xgboost's best error=0.3388,\tbest estimator lgbm's best error=0.3274\n",
      "[flaml.automl.automl: 12-08 10:24:34] {3203} INFO - iteration 111, current learner xgboost\n",
      "/home/qxw5138/miniconda3/envs/myflaml/lib/python3.8/site-packages/xgboost/data.py:192: FutureWarning: pandas.Int64Index is deprecated and will be removed from pandas in a future version. Use pandas.Index with the appropriate dtype instead.\n",
      "  from pandas import MultiIndex, Int64Index\n",
      "[flaml.automl.automl: 12-08 10:24:35] {3387} INFO -  at 313.7s,\testimator xgboost's best error=0.3388,\tbest estimator lgbm's best error=0.3274\n",
      "[flaml.automl.automl: 12-08 10:24:35] {3203} INFO - iteration 112, current learner rf\n",
      "[flaml.automl.automl: 12-08 10:24:36] {3387} INFO -  at 314.9s,\testimator rf's best error=0.3425,\tbest estimator lgbm's best error=0.3274\n",
      "[flaml.automl.automl: 12-08 10:24:36] {3203} INFO - iteration 113, current learner lgbm\n",
      "[flaml.automl.automl: 12-08 10:24:47] {3387} INFO -  at 325.8s,\testimator lgbm's best error=0.3268,\tbest estimator lgbm's best error=0.3268\n",
      "[flaml.automl.automl: 12-08 10:24:47] {3203} INFO - iteration 114, current learner xgboost\n",
      "/home/qxw5138/miniconda3/envs/myflaml/lib/python3.8/site-packages/xgboost/data.py:192: FutureWarning: pandas.Int64Index is deprecated and will be removed from pandas in a future version. Use pandas.Index with the appropriate dtype instead.\n",
      "  from pandas import MultiIndex, Int64Index\n",
      "[flaml.automl.automl: 12-08 10:24:48] {3387} INFO -  at 326.9s,\testimator xgboost's best error=0.3317,\tbest estimator lgbm's best error=0.3268\n",
      "[flaml.automl.automl: 12-08 10:24:48] {3203} INFO - iteration 115, current learner xgboost\n",
      "/home/qxw5138/miniconda3/envs/myflaml/lib/python3.8/site-packages/xgboost/data.py:192: FutureWarning: pandas.Int64Index is deprecated and will be removed from pandas in a future version. Use pandas.Index with the appropriate dtype instead.\n",
      "  from pandas import MultiIndex, Int64Index\n",
      "[flaml.automl.automl: 12-08 10:24:49] {3387} INFO -  at 327.6s,\testimator xgboost's best error=0.3317,\tbest estimator lgbm's best error=0.3268\n",
      "[flaml.automl.automl: 12-08 10:24:49] {3203} INFO - iteration 116, current learner lrl1\n",
      "/home/qxw5138/miniconda3/envs/myflaml/lib/python3.8/site-packages/sklearn/linear_model/_sag.py:328: ConvergenceWarning: The max_iter was reached which means the coef_ did not converge\n",
      "  warnings.warn(\"The max_iter was reached which means \"\n",
      "[flaml.automl.automl: 12-08 10:24:50] {3387} INFO -  at 328.4s,\testimator lrl1's best error=0.4334,\tbest estimator lgbm's best error=0.3268\n",
      "[flaml.automl.automl: 12-08 10:24:50] {3203} INFO - iteration 117, current learner rf\n",
      "[flaml.automl.automl: 12-08 10:24:52] {3387} INFO -  at 330.3s,\testimator rf's best error=0.3410,\tbest estimator lgbm's best error=0.3268\n",
      "[flaml.automl.automl: 12-08 10:24:52] {3203} INFO - iteration 118, current learner lgbm\n",
      "[flaml.automl.automl: 12-08 10:24:57] {3387} INFO -  at 335.7s,\testimator lgbm's best error=0.3268,\tbest estimator lgbm's best error=0.3268\n",
      "[flaml.automl.automl: 12-08 10:24:57] {3203} INFO - iteration 119, current learner xgboost\n",
      "/home/qxw5138/miniconda3/envs/myflaml/lib/python3.8/site-packages/xgboost/data.py:192: FutureWarning: pandas.Int64Index is deprecated and will be removed from pandas in a future version. Use pandas.Index with the appropriate dtype instead.\n",
      "  from pandas import MultiIndex, Int64Index\n",
      "[flaml.automl.automl: 12-08 10:24:58] {3387} INFO -  at 336.8s,\testimator xgboost's best error=0.3317,\tbest estimator lgbm's best error=0.3268\n",
      "[flaml.automl.automl: 12-08 10:24:58] {3203} INFO - iteration 120, current learner xgboost\n",
      "/home/qxw5138/miniconda3/envs/myflaml/lib/python3.8/site-packages/xgboost/data.py:192: FutureWarning: pandas.Int64Index is deprecated and will be removed from pandas in a future version. Use pandas.Index with the appropriate dtype instead.\n",
      "  from pandas import MultiIndex, Int64Index\n",
      "[flaml.automl.automl: 12-08 10:25:00] {3387} INFO -  at 338.3s,\testimator xgboost's best error=0.3317,\tbest estimator lgbm's best error=0.3268\n",
      "[flaml.automl.automl: 12-08 10:25:00] {3203} INFO - iteration 121, current learner lgbm\n",
      "[flaml.automl.automl: 12-08 10:25:11] {3387} INFO -  at 349.7s,\testimator lgbm's best error=0.3250,\tbest estimator lgbm's best error=0.3250\n",
      "[flaml.automl.automl: 12-08 10:25:11] {3203} INFO - iteration 122, current learner xgboost\n",
      "/home/qxw5138/miniconda3/envs/myflaml/lib/python3.8/site-packages/xgboost/data.py:192: FutureWarning: pandas.Int64Index is deprecated and will be removed from pandas in a future version. Use pandas.Index with the appropriate dtype instead.\n",
      "  from pandas import MultiIndex, Int64Index\n",
      "[flaml.automl.automl: 12-08 10:25:13] {3387} INFO -  at 351.7s,\testimator xgboost's best error=0.3317,\tbest estimator lgbm's best error=0.3250\n",
      "[flaml.automl.automl: 12-08 10:25:13] {3203} INFO - iteration 123, current learner xgboost\n",
      "/home/qxw5138/miniconda3/envs/myflaml/lib/python3.8/site-packages/xgboost/data.py:192: FutureWarning: pandas.Int64Index is deprecated and will be removed from pandas in a future version. Use pandas.Index with the appropriate dtype instead.\n",
      "  from pandas import MultiIndex, Int64Index\n",
      "[flaml.automl.automl: 12-08 10:25:14] {3387} INFO -  at 352.4s,\testimator xgboost's best error=0.3317,\tbest estimator lgbm's best error=0.3250\n",
      "[flaml.automl.automl: 12-08 10:25:14] {3203} INFO - iteration 124, current learner xgboost\n",
      "/home/qxw5138/miniconda3/envs/myflaml/lib/python3.8/site-packages/xgboost/data.py:192: FutureWarning: pandas.Int64Index is deprecated and will be removed from pandas in a future version. Use pandas.Index with the appropriate dtype instead.\n",
      "  from pandas import MultiIndex, Int64Index\n",
      "[flaml.automl.automl: 12-08 10:25:15] {3387} INFO -  at 353.7s,\testimator xgboost's best error=0.3317,\tbest estimator lgbm's best error=0.3250\n",
      "[flaml.automl.automl: 12-08 10:25:15] {3203} INFO - iteration 125, current learner xgboost\n",
      "/home/qxw5138/miniconda3/envs/myflaml/lib/python3.8/site-packages/xgboost/data.py:192: FutureWarning: pandas.Int64Index is deprecated and will be removed from pandas in a future version. Use pandas.Index with the appropriate dtype instead.\n",
      "  from pandas import MultiIndex, Int64Index\n",
      "[flaml.automl.automl: 12-08 10:25:17] {3387} INFO -  at 355.0s,\testimator xgboost's best error=0.3317,\tbest estimator lgbm's best error=0.3250\n",
      "[flaml.automl.automl: 12-08 10:25:17] {3203} INFO - iteration 126, current learner lgbm\n",
      "[flaml.automl.automl: 12-08 10:25:24] {3387} INFO -  at 362.0s,\testimator lgbm's best error=0.3250,\tbest estimator lgbm's best error=0.3250\n",
      "[flaml.automl.automl: 12-08 10:25:24] {3203} INFO - iteration 127, current learner lgbm\n",
      "[flaml.automl.automl: 12-08 10:25:52] {3387} INFO -  at 390.6s,\testimator lgbm's best error=0.3250,\tbest estimator lgbm's best error=0.3250\n",
      "[flaml.automl.automl: 12-08 10:25:52] {3203} INFO - iteration 128, current learner lgbm\n",
      "[flaml.automl.automl: 12-08 10:26:07] {3387} INFO -  at 405.3s,\testimator lgbm's best error=0.3250,\tbest estimator lgbm's best error=0.3250\n",
      "[flaml.automl.automl: 12-08 10:26:07] {3203} INFO - iteration 129, current learner lgbm\n",
      "[flaml.automl.automl: 12-08 10:26:17] {3387} INFO -  at 415.9s,\testimator lgbm's best error=0.3250,\tbest estimator lgbm's best error=0.3250\n",
      "[flaml.automl.automl: 12-08 10:26:17] {3203} INFO - iteration 130, current learner rf\n",
      "[flaml.automl.automl: 12-08 10:26:19] {3387} INFO -  at 417.5s,\testimator rf's best error=0.3410,\tbest estimator lgbm's best error=0.3250\n",
      "[flaml.automl.automl: 12-08 10:26:19] {3203} INFO - iteration 131, current learner xgboost\n",
      "/home/qxw5138/miniconda3/envs/myflaml/lib/python3.8/site-packages/xgboost/data.py:192: FutureWarning: pandas.Int64Index is deprecated and will be removed from pandas in a future version. Use pandas.Index with the appropriate dtype instead.\n",
      "  from pandas import MultiIndex, Int64Index\n",
      "[flaml.automl.automl: 12-08 10:26:20] {3387} INFO -  at 418.2s,\testimator xgboost's best error=0.3317,\tbest estimator lgbm's best error=0.3250\n",
      "[flaml.automl.automl: 12-08 10:26:20] {3203} INFO - iteration 132, current learner xgboost\n",
      "/home/qxw5138/miniconda3/envs/myflaml/lib/python3.8/site-packages/xgboost/data.py:192: FutureWarning: pandas.Int64Index is deprecated and will be removed from pandas in a future version. Use pandas.Index with the appropriate dtype instead.\n",
      "  from pandas import MultiIndex, Int64Index\n",
      "[flaml.automl.automl: 12-08 10:26:23] {3387} INFO -  at 421.0s,\testimator xgboost's best error=0.3317,\tbest estimator lgbm's best error=0.3250\n",
      "[flaml.automl.automl: 12-08 10:26:23] {3203} INFO - iteration 133, current learner xgboost\n",
      "/home/qxw5138/miniconda3/envs/myflaml/lib/python3.8/site-packages/xgboost/data.py:192: FutureWarning: pandas.Int64Index is deprecated and will be removed from pandas in a future version. Use pandas.Index with the appropriate dtype instead.\n",
      "  from pandas import MultiIndex, Int64Index\n",
      "[flaml.automl.automl: 12-08 10:26:24] {3387} INFO -  at 422.1s,\testimator xgboost's best error=0.3317,\tbest estimator lgbm's best error=0.3250\n",
      "[flaml.automl.automl: 12-08 10:26:24] {3203} INFO - iteration 134, current learner xgboost\n",
      "/home/qxw5138/miniconda3/envs/myflaml/lib/python3.8/site-packages/xgboost/data.py:192: FutureWarning: pandas.Int64Index is deprecated and will be removed from pandas in a future version. Use pandas.Index with the appropriate dtype instead.\n",
      "  from pandas import MultiIndex, Int64Index\n",
      "[flaml.automl.automl: 12-08 10:26:25] {3387} INFO -  at 423.5s,\testimator xgboost's best error=0.3317,\tbest estimator lgbm's best error=0.3250\n",
      "[flaml.automl.automl: 12-08 10:26:25] {3203} INFO - iteration 135, current learner lgbm\n",
      "[flaml.automl.automl: 12-08 10:26:33] {3387} INFO -  at 431.2s,\testimator lgbm's best error=0.3250,\tbest estimator lgbm's best error=0.3250\n",
      "[flaml.automl.automl: 12-08 10:26:33] {3203} INFO - iteration 136, current learner rf\n",
      "[flaml.automl.automl: 12-08 10:26:35] {3387} INFO -  at 433.5s,\testimator rf's best error=0.3341,\tbest estimator lgbm's best error=0.3250\n",
      "[flaml.automl.automl: 12-08 10:26:35] {3203} INFO - iteration 137, current learner rf\n",
      "[flaml.automl.automl: 12-08 10:26:37] {3387} INFO -  at 435.6s,\testimator rf's best error=0.3341,\tbest estimator lgbm's best error=0.3250\n",
      "[flaml.automl.automl: 12-08 10:26:37] {3203} INFO - iteration 138, current learner xgboost\n",
      "/home/qxw5138/miniconda3/envs/myflaml/lib/python3.8/site-packages/xgboost/data.py:192: FutureWarning: pandas.Int64Index is deprecated and will be removed from pandas in a future version. Use pandas.Index with the appropriate dtype instead.\n",
      "  from pandas import MultiIndex, Int64Index\n",
      "[flaml.automl.automl: 12-08 10:26:38] {3387} INFO -  at 436.9s,\testimator xgboost's best error=0.3317,\tbest estimator lgbm's best error=0.3250\n",
      "[flaml.automl.automl: 12-08 10:26:38] {3203} INFO - iteration 139, current learner rf\n",
      "[flaml.automl.automl: 12-08 10:26:42] {3387} INFO -  at 440.8s,\testimator rf's best error=0.3328,\tbest estimator lgbm's best error=0.3250\n",
      "[flaml.automl.automl: 12-08 10:26:42] {3203} INFO - iteration 140, current learner lgbm\n",
      "[flaml.automl.automl: 12-08 10:26:58] {3387} INFO -  at 456.0s,\testimator lgbm's best error=0.3250,\tbest estimator lgbm's best error=0.3250\n",
      "[flaml.automl.automl: 12-08 10:26:58] {3203} INFO - iteration 141, current learner xgboost\n",
      "/home/qxw5138/miniconda3/envs/myflaml/lib/python3.8/site-packages/xgboost/data.py:192: FutureWarning: pandas.Int64Index is deprecated and will be removed from pandas in a future version. Use pandas.Index with the appropriate dtype instead.\n",
      "  from pandas import MultiIndex, Int64Index\n",
      "[flaml.automl.automl: 12-08 10:27:00] {3387} INFO -  at 458.0s,\testimator xgboost's best error=0.3304,\tbest estimator lgbm's best error=0.3250\n",
      "[flaml.automl.automl: 12-08 10:27:00] {3203} INFO - iteration 142, current learner lgbm\n",
      "[flaml.automl.automl: 12-08 10:27:03] {3387} INFO -  at 461.1s,\testimator lgbm's best error=0.3250,\tbest estimator lgbm's best error=0.3250\n",
      "[flaml.automl.automl: 12-08 10:27:03] {3203} INFO - iteration 143, current learner xgboost\n",
      "/home/qxw5138/miniconda3/envs/myflaml/lib/python3.8/site-packages/xgboost/data.py:192: FutureWarning: pandas.Int64Index is deprecated and will be removed from pandas in a future version. Use pandas.Index with the appropriate dtype instead.\n",
      "  from pandas import MultiIndex, Int64Index\n",
      "[flaml.automl.automl: 12-08 10:27:05] {3387} INFO -  at 463.3s,\testimator xgboost's best error=0.3304,\tbest estimator lgbm's best error=0.3250\n",
      "[flaml.automl.automl: 12-08 10:27:05] {3203} INFO - iteration 144, current learner rf\n",
      "[flaml.automl.automl: 12-08 10:27:07] {3387} INFO -  at 465.6s,\testimator rf's best error=0.3318,\tbest estimator lgbm's best error=0.3250\n",
      "[flaml.automl.automl: 12-08 10:27:07] {3203} INFO - iteration 145, current learner xgboost\n",
      "/home/qxw5138/miniconda3/envs/myflaml/lib/python3.8/site-packages/xgboost/data.py:192: FutureWarning: pandas.Int64Index is deprecated and will be removed from pandas in a future version. Use pandas.Index with the appropriate dtype instead.\n",
      "  from pandas import MultiIndex, Int64Index\n",
      "[flaml.automl.automl: 12-08 10:27:09] {3387} INFO -  at 467.0s,\testimator xgboost's best error=0.3304,\tbest estimator lgbm's best error=0.3250\n",
      "[flaml.automl.automl: 12-08 10:27:09] {3203} INFO - iteration 146, current learner rf\n",
      "[flaml.automl.automl: 12-08 10:27:12] {3387} INFO -  at 470.8s,\testimator rf's best error=0.3318,\tbest estimator lgbm's best error=0.3250\n",
      "[flaml.automl.automl: 12-08 10:27:12] {3203} INFO - iteration 147, current learner rf\n",
      "[flaml.automl.automl: 12-08 10:27:14] {3387} INFO -  at 472.0s,\testimator rf's best error=0.3318,\tbest estimator lgbm's best error=0.3250\n",
      "[flaml.automl.automl: 12-08 10:27:14] {3203} INFO - iteration 148, current learner lgbm\n",
      "[flaml.automl.automl: 12-08 10:28:09] {3387} INFO -  at 527.2s,\testimator lgbm's best error=0.3250,\tbest estimator lgbm's best error=0.3250\n",
      "[flaml.automl.automl: 12-08 10:28:09] {3203} INFO - iteration 149, current learner lgbm\n",
      "[flaml.automl.automl: 12-08 10:29:53] {3387} INFO -  at 631.5s,\testimator lgbm's best error=0.3250,\tbest estimator lgbm's best error=0.3250\n",
      "[flaml.automl.automl: 12-08 10:30:04] {3647} INFO - retrain lgbm for 10.7s\n",
      "[flaml.automl.automl: 12-08 10:30:04] {3654} INFO - retrained model: LGBMClassifier(colsample_bytree=0.763983850698587,\n",
      "               learning_rate=0.087493667994037, max_bin=127,\n",
      "               min_child_samples=128, n_estimators=302, num_leaves=466,\n",
      "               reg_alpha=0.0996800847730337, reg_lambda=23.22741934331899,\n",
      "               verbose=-1)\n",
      "[flaml.automl.automl: 12-08 10:30:04] {2932} INFO - fit succeeded\n",
      "[flaml.automl.automl: 12-08 10:30:04] {2933} INFO - Time taken to find the best model: 349.65932273864746\n"
     ]
    }
   ],
   "source": [
    "'''The main flaml automl API'''\n",
    "automl.fit(X_train=X_train, y_train=y_train, **settings)"
   ]
  },
  {
   "cell_type": "markdown",
   "metadata": {
    "slideshow": {
     "slide_type": "slide"
    }
   },
   "source": [
    "### Best model and metric"
   ]
  },
  {
   "cell_type": "code",
   "execution_count": 6,
   "metadata": {
    "slideshow": {
     "slide_type": "slide"
    },
    "tags": []
   },
   "outputs": [
    {
     "name": "stdout",
     "output_type": "stream",
     "text": [
      "Best ML leaner: lgbm\n",
      "Best hyperparmeter config: {'n_estimators': 302, 'num_leaves': 466, 'min_child_samples': 128, 'learning_rate': 0.087493667994037, 'log_max_bin': 7, 'colsample_bytree': 0.763983850698587, 'reg_alpha': 0.0996800847730337, 'reg_lambda': 23.22741934331899, 'FLAML_sample_size': 364083}\n",
      "Best accuracy on validation data: 0.675\n",
      "Training duration of best run: 10.67 s\n"
     ]
    }
   ],
   "source": [
    "'''retrieve best config and best learner'''\n",
    "print('Best ML leaner:', automl.best_estimator)\n",
    "print('Best hyperparmeter config:', automl.best_config)\n",
    "print('Best accuracy on validation data: {0:.4g}'.format(1-automl.best_loss))\n",
    "print('Training duration of best run: {0:.4g} s'.format(automl.best_config_train_time))"
   ]
  },
  {
   "cell_type": "code",
   "execution_count": 7,
   "metadata": {
    "slideshow": {
     "slide_type": "slide"
    }
   },
   "outputs": [
    {
     "data": {
      "text/plain": [
       "LGBMClassifier(colsample_bytree=0.763983850698587,\n",
       "               learning_rate=0.087493667994037, max_bin=127,\n",
       "               min_child_samples=128, n_estimators=302, num_leaves=466,\n",
       "               reg_alpha=0.0996800847730337, reg_lambda=23.22741934331899,\n",
       "               verbose=-1)"
      ]
     },
     "execution_count": 7,
     "metadata": {},
     "output_type": "execute_result"
    }
   ],
   "source": [
    "automl.model.estimator"
   ]
  },
  {
   "cell_type": "code",
   "execution_count": 8,
   "metadata": {
    "slideshow": {
     "slide_type": "slide"
    }
   },
   "outputs": [],
   "source": [
    "'''pickle and save the automl object'''\n",
    "import pickle\n",
    "with open('automl.pkl', 'wb') as f:\n",
    "    pickle.dump(automl, f, pickle.HIGHEST_PROTOCOL)\n",
    "'''load pickled automl object'''\n",
    "with open('automl.pkl', 'rb') as f:\n",
    "    automl = pickle.load(f)"
   ]
  },
  {
   "cell_type": "code",
   "execution_count": null,
   "metadata": {
    "slideshow": {
     "slide_type": "slide"
    },
    "tags": []
   },
   "outputs": [],
   "source": [
    "'''compute predictions of testing dataset''' \n",
    "y_pred = automl.predict(X_test)\n",
    "print('Predicted labels', y_pred)\n",
    "print('True labels', y_test)\n",
    "y_pred_proba = automl.predict_proba(X_test)[:,1]"
   ]
  },
  {
   "cell_type": "code",
   "execution_count": 10,
   "metadata": {
    "slideshow": {
     "slide_type": "slide"
    },
    "tags": []
   },
   "outputs": [
    {
     "name": "stdout",
     "output_type": "stream",
     "text": [
      "accuracy = 0.6732939797991784\n",
      "roc_auc = 0.7276250346550404\n",
      "log_loss = 0.6014655432027879\n"
     ]
    }
   ],
   "source": [
    "''' compute different metric values on testing dataset'''\n",
    "from flaml.ml import sklearn_metric_loss_score\n",
    "print('accuracy', '=', 1 - sklearn_metric_loss_score('accuracy', y_pred, y_test))\n",
    "print('roc_auc', '=', 1 - sklearn_metric_loss_score('roc_auc', y_pred_proba, y_test))\n",
    "print('log_loss', '=', sklearn_metric_loss_score('log_loss', y_pred_proba, y_test))"
   ]
  },
  {
   "cell_type": "markdown",
   "metadata": {
    "slideshow": {
     "slide_type": "slide"
    }
   },
   "source": [
    "See Section 4 for an accuracy comparison with default LightGBM and XGBoost.\n",
    "\n",
    "### Log history"
   ]
  },
  {
   "cell_type": "code",
   "execution_count": 11,
   "metadata": {
    "slideshow": {
     "slide_type": "subslide"
    },
    "tags": []
   },
   "outputs": [
    {
     "name": "stdout",
     "output_type": "stream",
     "text": [
      "{'Current Learner': 'lgbm', 'Current Sample': 10000, 'Current Hyper-parameters': {'n_estimators': 4, 'num_leaves': 4, 'min_child_samples': 20, 'learning_rate': 0.09999999999999995, 'log_max_bin': 8, 'colsample_bytree': 1.0, 'reg_alpha': 0.0009765625, 'reg_lambda': 1.0, 'FLAML_sample_size': 10000}, 'Best Learner': 'lgbm', 'Best Hyper-parameters': {'n_estimators': 4, 'num_leaves': 4, 'min_child_samples': 20, 'learning_rate': 0.09999999999999995, 'log_max_bin': 8, 'colsample_bytree': 1.0, 'reg_alpha': 0.0009765625, 'reg_lambda': 1.0, 'FLAML_sample_size': 10000}}\n",
      "{'Current Learner': 'lgbm', 'Current Sample': 10000, 'Current Hyper-parameters': {'n_estimators': 26, 'num_leaves': 4, 'min_child_samples': 18, 'learning_rate': 0.22930096764186372, 'log_max_bin': 9, 'colsample_bytree': 0.9086551727646448, 'reg_alpha': 0.0015561782752413472, 'reg_lambda': 0.33127416269768944, 'FLAML_sample_size': 10000}, 'Best Learner': 'lgbm', 'Best Hyper-parameters': {'n_estimators': 26, 'num_leaves': 4, 'min_child_samples': 18, 'learning_rate': 0.22930096764186372, 'log_max_bin': 9, 'colsample_bytree': 0.9086551727646448, 'reg_alpha': 0.0015561782752413472, 'reg_lambda': 0.33127416269768944, 'FLAML_sample_size': 10000}}\n",
      "{'Current Learner': 'lgbm', 'Current Sample': 40000, 'Current Hyper-parameters': {'n_estimators': 55, 'num_leaves': 4, 'min_child_samples': 20, 'learning_rate': 0.4365396221333287, 'log_max_bin': 10, 'colsample_bytree': 0.8048558760626646, 'reg_alpha': 0.0009765625, 'reg_lambda': 0.23010605579846408, 'FLAML_sample_size': 40000}, 'Best Learner': 'lgbm', 'Best Hyper-parameters': {'n_estimators': 55, 'num_leaves': 4, 'min_child_samples': 20, 'learning_rate': 0.4365396221333287, 'log_max_bin': 10, 'colsample_bytree': 0.8048558760626646, 'reg_alpha': 0.0009765625, 'reg_lambda': 0.23010605579846408, 'FLAML_sample_size': 40000}}\n",
      "{'Current Learner': 'lgbm', 'Current Sample': 40000, 'Current Hyper-parameters': {'n_estimators': 90, 'num_leaves': 18, 'min_child_samples': 34, 'learning_rate': 0.3572626620529719, 'log_max_bin': 10, 'colsample_bytree': 0.9295656128173544, 'reg_alpha': 0.0009765625, 'reg_lambda': 0.19814636043056766, 'FLAML_sample_size': 40000}, 'Best Learner': 'lgbm', 'Best Hyper-parameters': {'n_estimators': 90, 'num_leaves': 18, 'min_child_samples': 34, 'learning_rate': 0.3572626620529719, 'log_max_bin': 10, 'colsample_bytree': 0.9295656128173544, 'reg_alpha': 0.0009765625, 'reg_lambda': 0.19814636043056766, 'FLAML_sample_size': 40000}}\n",
      "{'Current Learner': 'lgbm', 'Current Sample': 40000, 'Current Hyper-parameters': {'n_estimators': 56, 'num_leaves': 7, 'min_child_samples': 92, 'learning_rate': 0.23536463281405412, 'log_max_bin': 10, 'colsample_bytree': 0.9898009552962395, 'reg_alpha': 0.0009765625, 'reg_lambda': 0.14329426172643323, 'FLAML_sample_size': 40000}, 'Best Learner': 'lgbm', 'Best Hyper-parameters': {'n_estimators': 56, 'num_leaves': 7, 'min_child_samples': 92, 'learning_rate': 0.23536463281405412, 'log_max_bin': 10, 'colsample_bytree': 0.9898009552962395, 'reg_alpha': 0.0009765625, 'reg_lambda': 0.14329426172643323, 'FLAML_sample_size': 40000}}\n",
      "{'Current Learner': 'lgbm', 'Current Sample': 364083, 'Current Hyper-parameters': {'n_estimators': 56, 'num_leaves': 7, 'min_child_samples': 92, 'learning_rate': 0.23536463281405412, 'log_max_bin': 10, 'colsample_bytree': 0.9898009552962395, 'reg_alpha': 0.0009765625, 'reg_lambda': 0.14329426172643323, 'FLAML_sample_size': 364083}, 'Best Learner': 'lgbm', 'Best Hyper-parameters': {'n_estimators': 56, 'num_leaves': 7, 'min_child_samples': 92, 'learning_rate': 0.23536463281405412, 'log_max_bin': 10, 'colsample_bytree': 0.9898009552962395, 'reg_alpha': 0.0009765625, 'reg_lambda': 0.14329426172643323, 'FLAML_sample_size': 364083}}\n",
      "{'Current Learner': 'lgbm', 'Current Sample': 364083, 'Current Hyper-parameters': {'n_estimators': 179, 'num_leaves': 27, 'min_child_samples': 75, 'learning_rate': 0.09744966359309021, 'log_max_bin': 10, 'colsample_bytree': 1.0, 'reg_alpha': 0.002826104794043855, 'reg_lambda': 0.14573182371561622, 'FLAML_sample_size': 364083}, 'Best Learner': 'lgbm', 'Best Hyper-parameters': {'n_estimators': 179, 'num_leaves': 27, 'min_child_samples': 75, 'learning_rate': 0.09744966359309021, 'log_max_bin': 10, 'colsample_bytree': 1.0, 'reg_alpha': 0.002826104794043855, 'reg_lambda': 0.14573182371561622, 'FLAML_sample_size': 364083}}\n",
      "{'Current Learner': 'lgbm', 'Current Sample': 364083, 'Current Hyper-parameters': {'n_estimators': 180, 'num_leaves': 31, 'min_child_samples': 112, 'learning_rate': 0.14172261747380874, 'log_max_bin': 8, 'colsample_bytree': 0.9882716197099741, 'reg_alpha': 0.004676080321450302, 'reg_lambda': 2.704862827036818, 'FLAML_sample_size': 364083}, 'Best Learner': 'lgbm', 'Best Hyper-parameters': {'n_estimators': 180, 'num_leaves': 31, 'min_child_samples': 112, 'learning_rate': 0.14172261747380874, 'log_max_bin': 8, 'colsample_bytree': 0.9882716197099741, 'reg_alpha': 0.004676080321450302, 'reg_lambda': 2.704862827036818, 'FLAML_sample_size': 364083}}\n",
      "{'Current Learner': 'lgbm', 'Current Sample': 364083, 'Current Hyper-parameters': {'n_estimators': 284, 'num_leaves': 24, 'min_child_samples': 57, 'learning_rate': 0.3450637443178264, 'log_max_bin': 8, 'colsample_bytree': 0.9661606582789269, 'reg_alpha': 0.05708594148438568, 'reg_lambda': 3.0806435484123478, 'FLAML_sample_size': 364083}, 'Best Learner': 'lgbm', 'Best Hyper-parameters': {'n_estimators': 284, 'num_leaves': 24, 'min_child_samples': 57, 'learning_rate': 0.3450637443178264, 'log_max_bin': 8, 'colsample_bytree': 0.9661606582789269, 'reg_alpha': 0.05708594148438568, 'reg_lambda': 3.0806435484123478, 'FLAML_sample_size': 364083}}\n",
      "{'Current Learner': 'lgbm', 'Current Sample': 364083, 'Current Hyper-parameters': {'n_estimators': 150, 'num_leaves': 176, 'min_child_samples': 62, 'learning_rate': 0.2607939951456863, 'log_max_bin': 8, 'colsample_bytree': 1.0, 'reg_alpha': 0.015973158305354482, 'reg_lambda': 1.1581244082992255, 'FLAML_sample_size': 364083}, 'Best Learner': 'lgbm', 'Best Hyper-parameters': {'n_estimators': 150, 'num_leaves': 176, 'min_child_samples': 62, 'learning_rate': 0.2607939951456863, 'log_max_bin': 8, 'colsample_bytree': 1.0, 'reg_alpha': 0.015973158305354482, 'reg_lambda': 1.1581244082992255, 'FLAML_sample_size': 364083}}\n"
     ]
    }
   ],
   "source": [
    "from flaml.data import get_output_from_log\n",
    "time_history, best_valid_loss_history, valid_loss_history, config_history, metric_history = \\\n",
    "    get_output_from_log(filename=settings['log_file_name'], time_budget=240)\n",
    "for config in config_history:\n",
    "    print(config)"
   ]
  },
  {
   "cell_type": "code",
   "execution_count": 12,
   "metadata": {
    "slideshow": {
     "slide_type": "slide"
    }
   },
   "outputs": [
    {
     "data": {
      "image/png": "[encoded data removed]",
      "text/plain": [
       "<Figure size 432x288 with 1 Axes>"
      ]
     },
     "metadata": {
      "needs_background": "light"
     },
     "output_type": "display_data"
    }
   ],
   "source": [
    "import matplotlib.pyplot as plt\n",
    "import numpy as np\n",
    "\n",
    "plt.title('Learning Curve')\n",
    "plt.xlabel('Wall Clock Time (s)')\n",
    "plt.ylabel('Validation Accuracy')\n",
    "plt.scatter(time_history, 1 - np.array(valid_loss_history))\n",
    "plt.step(time_history, 1 - np.array(best_valid_loss_history), where='post')\n",
    "plt.show()"
   ]
  },
  {
   "cell_type": "markdown",
   "metadata": {},
   "source": [
    "## 3. Comparison with alternatives\n"
   ]
  },
  {
   "cell_type": "markdown",
   "metadata": {},
   "source": [
    "### Default LightGBM"
   ]
  },
  {
   "cell_type": "code",
   "execution_count": 13,
   "metadata": {},
   "outputs": [],
   "source": [
    "from lightgbm import LGBMClassifier\n",
    "lgbm = LGBMClassifier()"
   ]
  },
  {
   "cell_type": "code",
   "execution_count": 14,
   "metadata": {},
   "outputs": [
    {
     "data": {
      "text/plain": [
       "LGBMClassifier()"
      ]
     },
     "execution_count": 14,
     "metadata": {},
     "output_type": "execute_result"
    }
   ],
   "source": [
    "lgbm.fit(X_train, y_train)"
   ]
  },
  {
   "cell_type": "code",
   "execution_count": 15,
   "metadata": {},
   "outputs": [],
   "source": [
    "y_pred_lgbm = lgbm.predict(X_test)"
   ]
  },
  {
   "cell_type": "markdown",
   "metadata": {},
   "source": [
    "### Default XGBoost"
   ]
  },
  {
   "cell_type": "code",
   "execution_count": 16,
   "metadata": {},
   "outputs": [],
   "source": [
    "from xgboost import XGBClassifier\n",
    "xgb = XGBClassifier()\n",
    "cat_columns = X_train.select_dtypes(include=['category']).columns\n",
    "X = X_train.copy()\n",
    "X[cat_columns] = X[cat_columns].apply(lambda x: x.cat.codes)\n"
   ]
  },
  {
   "cell_type": "code",
   "execution_count": null,
   "metadata": {},
   "outputs": [],
   "source": [
    "xgb.fit(X, y_train)"
   ]
  },
  {
   "cell_type": "code",
   "execution_count": 18,
   "metadata": {},
   "outputs": [],
   "source": [
    "X = X_test.copy()\n",
    "X[cat_columns] = X[cat_columns].apply(lambda x: x.cat.codes)\n",
    "y_pred_xgb = xgb.predict(X)"
   ]
  },
  {
   "cell_type": "code",
   "execution_count": 19,
   "metadata": {},
   "outputs": [
    {
     "name": "stdout",
     "output_type": "stream",
     "text": [
      "default xgboost accuracy = 0.6676060098186078\n",
      "default lgbm accuracy = 0.6602346380315323\n",
      "flaml (10 min) accuracy = 0.6732939797991784\n"
     ]
    }
   ],
   "source": [
    "print('default xgboost accuracy', '=', 1 - sklearn_metric_loss_score('accuracy', y_pred_xgb, y_test))\n",
    "print('default lgbm accuracy', '=', 1 - sklearn_metric_loss_score('accuracy', y_pred_lgbm, y_test))\n",
    "print('flaml (10 min) accuracy', '=', 1 - sklearn_metric_loss_score('accuracy', y_pred, y_test))"
   ]
  },
  {
   "cell_type": "markdown",
   "metadata": {},
   "source": [
    "## 4. Customized Metric\n",
    "\n",
    "It's easy to customize the optimization metric. As an example, we demonstrate with a custom metric function which combines training loss and validation loss as the final loss to minimize."
   ]
  },
  {
   "cell_type": "code",
   "execution_count": 26,
   "metadata": {},
   "outputs": [],
   "source": [
    "def custom_metric(X_val, y_val, estimator, labels, X_train, y_train,\n",
    "                  weight_val=None, weight_train=None, config=None,\n",
    "                  groups_val=None, groups_train=None):\n",
    "    from sklearn.metrics import log_loss\n",
    "    import time\n",
    "    start = time.time()\n",
    "    y_pred = estimator.predict_proba(X_val)\n",
    "    pred_time = (time.time() - start) / len(X_val)\n",
    "    val_loss = log_loss(y_val, y_pred, labels=labels,\n",
    "                         sample_weight=weight_val)\n",
    "    y_pred = estimator.predict_proba(X_train)\n",
    "    train_loss = log_loss(y_train, y_pred, labels=labels,\n",
    "                          sample_weight=weight_train)\n",
    "    alpha = 0.5\n",
    "    return val_loss * (1 + alpha) - alpha * train_loss, {\n",
    "        \"val_loss\": val_loss, \"train_loss\": train_loss, \"pred_time\": pred_time\n",
    "    }\n",
    "    # two elements are returned:\n",
    "    # the first element is the metric to minimize as a float number,\n",
    "    # the second element is a dictionary of the metrics to log"
   ]
  },
  {
   "cell_type": "markdown",
   "metadata": {},
   "source": [
    "We can then pass this custom metric function to automl's `fit` method."
   ]
  },
  {
   "cell_type": "code",
   "execution_count": 27,
   "metadata": {},
   "outputs": [
    {
     "name": "stderr",
     "output_type": "stream",
     "text": [
      "[flaml.automl.automl: 12-08 10:38:41] {2625} INFO - task = classification\n",
      "[flaml.automl.automl: 12-08 10:38:41] {2627} INFO - Data split method: stratified\n",
      "[flaml.automl.automl: 12-08 10:38:41] {2630} INFO - Evaluation method: holdout\n",
      "[flaml.automl.automl: 12-08 10:38:41] {2757} INFO - Minimizing error metric: customized metric\n",
      "[flaml.automl.automl: 12-08 10:38:41] {2902} INFO - List of ML learners in AutoML Run: ['lgbm', 'rf', 'catboost', 'xgboost', 'extra_tree', 'xgb_limitdepth', 'lrl1']\n",
      "[flaml.automl.automl: 12-08 10:38:41] {3203} INFO - iteration 0, current learner lgbm\n",
      "[flaml.automl.automl: 12-08 10:38:41] {3340} INFO - Estimated sufficient time budget=16105s. Estimated necessary time budget=395s.\n",
      "[flaml.automl.automl: 12-08 10:38:41] {3387} INFO -  at 0.6s,\testimator lgbm's best error=0.6647,\tbest estimator lgbm's best error=0.6647\n",
      "[flaml.automl.automl: 12-08 10:38:41] {3203} INFO - iteration 1, current learner lgbm\n",
      "[flaml.automl.automl: 12-08 10:38:41] {3387} INFO -  at 0.6s,\testimator lgbm's best error=0.6647,\tbest estimator lgbm's best error=0.6647\n",
      "[flaml.automl.automl: 12-08 10:38:41] {3203} INFO - iteration 2, current learner lgbm\n",
      "[flaml.automl.automl: 12-08 10:38:41] {3387} INFO -  at 0.7s,\testimator lgbm's best error=0.6491,\tbest estimator lgbm's best error=0.6491\n",
      "[flaml.automl.automl: 12-08 10:38:41] {3203} INFO - iteration 3, current learner xgboost\n",
      "/home/qxw5138/miniconda3/envs/myflaml/lib/python3.8/site-packages/xgboost/data.py:192: FutureWarning: pandas.Int64Index is deprecated and will be removed from pandas in a future version. Use pandas.Index with the appropriate dtype instead.\n",
      "  from pandas import MultiIndex, Int64Index\n",
      "/home/qxw5138/miniconda3/envs/myflaml/lib/python3.8/site-packages/xgboost/data.py:192: FutureWarning: pandas.Int64Index is deprecated and will be removed from pandas in a future version. Use pandas.Index with the appropriate dtype instead.\n",
      "  from pandas import MultiIndex, Int64Index\n",
      "[flaml.automl.automl: 12-08 10:38:41] {3387} INFO -  at 0.8s,\testimator xgboost's best error=0.6672,\tbest estimator lgbm's best error=0.6491\n",
      "[flaml.automl.automl: 12-08 10:38:41] {3203} INFO - iteration 4, current learner extra_tree\n",
      "[flaml.automl.automl: 12-08 10:38:41] {3387} INFO -  at 0.9s,\testimator extra_tree's best error=0.6678,\tbest estimator lgbm's best error=0.6491\n",
      "[flaml.automl.automl: 12-08 10:38:41] {3203} INFO - iteration 5, current learner rf\n",
      "[flaml.automl.automl: 12-08 10:38:42] {3387} INFO -  at 1.1s,\testimator rf's best error=0.6614,\tbest estimator lgbm's best error=0.6491\n",
      "[flaml.automl.automl: 12-08 10:38:42] {3203} INFO - iteration 6, current learner lgbm\n",
      "[flaml.automl.automl: 12-08 10:38:42] {3387} INFO -  at 1.2s,\testimator lgbm's best error=0.6423,\tbest estimator lgbm's best error=0.6423\n",
      "[flaml.automl.automl: 12-08 10:38:42] {3203} INFO - iteration 7, current learner lgbm\n",
      "[flaml.automl.automl: 12-08 10:38:42] {3387} INFO -  at 1.3s,\testimator lgbm's best error=0.6423,\tbest estimator lgbm's best error=0.6423\n",
      "[flaml.automl.automl: 12-08 10:38:42] {3203} INFO - iteration 8, current learner lgbm\n",
      "[flaml.automl.automl: 12-08 10:38:42] {3387} INFO -  at 1.3s,\testimator lgbm's best error=0.6400,\tbest estimator lgbm's best error=0.6400\n",
      "[flaml.automl.automl: 12-08 10:38:42] {3203} INFO - iteration 9, current learner lgbm\n",
      "[flaml.automl.automl: 12-08 10:38:42] {3387} INFO -  at 1.4s,\testimator lgbm's best error=0.6400,\tbest estimator lgbm's best error=0.6400\n",
      "[flaml.automl.automl: 12-08 10:38:42] {3203} INFO - iteration 10, current learner lgbm\n",
      "[flaml.automl.automl: 12-08 10:38:42] {3387} INFO -  at 1.5s,\testimator lgbm's best error=0.6400,\tbest estimator lgbm's best error=0.6400\n",
      "[flaml.automl.automl: 12-08 10:38:42] {3203} INFO - iteration 11, current learner rf\n",
      "[flaml.automl.automl: 12-08 10:38:42] {3387} INFO -  at 1.7s,\testimator rf's best error=0.6523,\tbest estimator lgbm's best error=0.6400\n",
      "[flaml.automl.automl: 12-08 10:38:42] {3203} INFO - iteration 12, current learner xgboost\n",
      "/home/qxw5138/miniconda3/envs/myflaml/lib/python3.8/site-packages/xgboost/data.py:192: FutureWarning: pandas.Int64Index is deprecated and will be removed from pandas in a future version. Use pandas.Index with the appropriate dtype instead.\n",
      "  from pandas import MultiIndex, Int64Index\n",
      "/home/qxw5138/miniconda3/envs/myflaml/lib/python3.8/site-packages/xgboost/data.py:192: FutureWarning: pandas.Int64Index is deprecated and will be removed from pandas in a future version. Use pandas.Index with the appropriate dtype instead.\n",
      "  from pandas import MultiIndex, Int64Index\n",
      "[flaml.automl.automl: 12-08 10:38:42] {3387} INFO -  at 1.9s,\testimator xgboost's best error=0.6672,\tbest estimator lgbm's best error=0.6400\n",
      "[flaml.automl.automl: 12-08 10:38:42] {3203} INFO - iteration 13, current learner xgboost\n",
      "/home/qxw5138/miniconda3/envs/myflaml/lib/python3.8/site-packages/xgboost/data.py:192: FutureWarning: pandas.Int64Index is deprecated and will be removed from pandas in a future version. Use pandas.Index with the appropriate dtype instead.\n",
      "  from pandas import MultiIndex, Int64Index\n",
      "/home/qxw5138/miniconda3/envs/myflaml/lib/python3.8/site-packages/xgboost/data.py:192: FutureWarning: pandas.Int64Index is deprecated and will be removed from pandas in a future version. Use pandas.Index with the appropriate dtype instead.\n",
      "  from pandas import MultiIndex, Int64Index\n",
      "[flaml.automl.automl: 12-08 10:38:42] {3387} INFO -  at 2.0s,\testimator xgboost's best error=0.6500,\tbest estimator lgbm's best error=0.6400\n",
      "[flaml.automl.automl: 12-08 10:38:42] {3203} INFO - iteration 14, current learner rf\n",
      "[flaml.automl.automl: 12-08 10:38:43] {3387} INFO -  at 2.2s,\testimator rf's best error=0.6523,\tbest estimator lgbm's best error=0.6400\n",
      "[flaml.automl.automl: 12-08 10:38:43] {3203} INFO - iteration 15, current learner extra_tree\n",
      "[flaml.automl.automl: 12-08 10:38:43] {3387} INFO -  at 2.4s,\testimator extra_tree's best error=0.6576,\tbest estimator lgbm's best error=0.6400\n",
      "[flaml.automl.automl: 12-08 10:38:43] {3203} INFO - iteration 16, current learner lgbm\n",
      "[flaml.automl.automl: 12-08 10:38:43] {3387} INFO -  at 2.4s,\testimator lgbm's best error=0.6400,\tbest estimator lgbm's best error=0.6400\n",
      "[flaml.automl.automl: 12-08 10:38:43] {3203} INFO - iteration 17, current learner extra_tree\n",
      "[flaml.automl.automl: 12-08 10:38:43] {3387} INFO -  at 2.6s,\testimator extra_tree's best error=0.6576,\tbest estimator lgbm's best error=0.6400\n",
      "[flaml.automl.automl: 12-08 10:38:43] {3203} INFO - iteration 18, current learner lgbm\n",
      "[flaml.automl.automl: 12-08 10:38:43] {3387} INFO -  at 2.8s,\testimator lgbm's best error=0.6400,\tbest estimator lgbm's best error=0.6400\n",
      "[flaml.automl.automl: 12-08 10:38:43] {3203} INFO - iteration 19, current learner xgboost\n",
      "/home/qxw5138/miniconda3/envs/myflaml/lib/python3.8/site-packages/xgboost/data.py:192: FutureWarning: pandas.Int64Index is deprecated and will be removed from pandas in a future version. Use pandas.Index with the appropriate dtype instead.\n",
      "  from pandas import MultiIndex, Int64Index\n",
      "/home/qxw5138/miniconda3/envs/myflaml/lib/python3.8/site-packages/xgboost/data.py:192: FutureWarning: pandas.Int64Index is deprecated and will be removed from pandas in a future version. Use pandas.Index with the appropriate dtype instead.\n",
      "  from pandas import MultiIndex, Int64Index\n",
      "[flaml.automl.automl: 12-08 10:38:43] {3387} INFO -  at 2.8s,\testimator xgboost's best error=0.6413,\tbest estimator lgbm's best error=0.6400\n",
      "[flaml.automl.automl: 12-08 10:38:43] {3203} INFO - iteration 20, current learner xgboost\n",
      "/home/qxw5138/miniconda3/envs/myflaml/lib/python3.8/site-packages/xgboost/data.py:192: FutureWarning: pandas.Int64Index is deprecated and will be removed from pandas in a future version. Use pandas.Index with the appropriate dtype instead.\n",
      "  from pandas import MultiIndex, Int64Index\n",
      "/home/qxw5138/miniconda3/envs/myflaml/lib/python3.8/site-packages/xgboost/data.py:192: FutureWarning: pandas.Int64Index is deprecated and will be removed from pandas in a future version. Use pandas.Index with the appropriate dtype instead.\n",
      "  from pandas import MultiIndex, Int64Index\n",
      "[flaml.automl.automl: 12-08 10:38:43] {3387} INFO -  at 2.9s,\testimator xgboost's best error=0.6413,\tbest estimator lgbm's best error=0.6400\n",
      "[flaml.automl.automl: 12-08 10:38:43] {3203} INFO - iteration 21, current learner xgboost\n",
      "/home/qxw5138/miniconda3/envs/myflaml/lib/python3.8/site-packages/xgboost/data.py:192: FutureWarning: pandas.Int64Index is deprecated and will be removed from pandas in a future version. Use pandas.Index with the appropriate dtype instead.\n",
      "  from pandas import MultiIndex, Int64Index\n",
      "/home/qxw5138/miniconda3/envs/myflaml/lib/python3.8/site-packages/xgboost/data.py:192: FutureWarning: pandas.Int64Index is deprecated and will be removed from pandas in a future version. Use pandas.Index with the appropriate dtype instead.\n",
      "  from pandas import MultiIndex, Int64Index\n",
      "[flaml.automl.automl: 12-08 10:38:43] {3387} INFO -  at 2.9s,\testimator xgboost's best error=0.6413,\tbest estimator lgbm's best error=0.6400\n",
      "[flaml.automl.automl: 12-08 10:38:43] {3203} INFO - iteration 22, current learner lgbm\n",
      "[flaml.automl.automl: 12-08 10:38:44] {3387} INFO -  at 3.1s,\testimator lgbm's best error=0.6335,\tbest estimator lgbm's best error=0.6335\n",
      "[flaml.automl.automl: 12-08 10:38:44] {3203} INFO - iteration 23, current learner lgbm\n",
      "[flaml.automl.automl: 12-08 10:38:44] {3387} INFO -  at 3.2s,\testimator lgbm's best error=0.6335,\tbest estimator lgbm's best error=0.6335\n",
      "[flaml.automl.automl: 12-08 10:38:44] {3203} INFO - iteration 24, current learner xgboost\n",
      "/home/qxw5138/miniconda3/envs/myflaml/lib/python3.8/site-packages/xgboost/data.py:192: FutureWarning: pandas.Int64Index is deprecated and will be removed from pandas in a future version. Use pandas.Index with the appropriate dtype instead.\n",
      "  from pandas import MultiIndex, Int64Index\n",
      "/home/qxw5138/miniconda3/envs/myflaml/lib/python3.8/site-packages/xgboost/data.py:192: FutureWarning: pandas.Int64Index is deprecated and will be removed from pandas in a future version. Use pandas.Index with the appropriate dtype instead.\n",
      "  from pandas import MultiIndex, Int64Index\n",
      "[flaml.automl.automl: 12-08 10:38:44] {3387} INFO -  at 3.6s,\testimator xgboost's best error=0.6413,\tbest estimator lgbm's best error=0.6335\n",
      "[flaml.automl.automl: 12-08 10:38:44] {3203} INFO - iteration 25, current learner extra_tree\n",
      "[flaml.automl.automl: 12-08 10:38:44] {3387} INFO -  at 3.8s,\testimator extra_tree's best error=0.6576,\tbest estimator lgbm's best error=0.6335\n",
      "[flaml.automl.automl: 12-08 10:38:44] {3203} INFO - iteration 26, current learner lgbm\n",
      "[flaml.automl.automl: 12-08 10:38:44] {3387} INFO -  at 3.9s,\testimator lgbm's best error=0.6335,\tbest estimator lgbm's best error=0.6335\n",
      "[flaml.automl.automl: 12-08 10:38:44] {3203} INFO - iteration 27, current learner xgboost\n",
      "/home/qxw5138/miniconda3/envs/myflaml/lib/python3.8/site-packages/xgboost/data.py:192: FutureWarning: pandas.Int64Index is deprecated and will be removed from pandas in a future version. Use pandas.Index with the appropriate dtype instead.\n",
      "  from pandas import MultiIndex, Int64Index\n",
      "/home/qxw5138/miniconda3/envs/myflaml/lib/python3.8/site-packages/xgboost/data.py:192: FutureWarning: pandas.Int64Index is deprecated and will be removed from pandas in a future version. Use pandas.Index with the appropriate dtype instead.\n",
      "  from pandas import MultiIndex, Int64Index\n",
      "[flaml.automl.automl: 12-08 10:38:45] {3387} INFO -  at 4.0s,\testimator xgboost's best error=0.6393,\tbest estimator lgbm's best error=0.6335\n",
      "[flaml.automl.automl: 12-08 10:38:45] {3203} INFO - iteration 28, current learner extra_tree\n",
      "[flaml.automl.automl: 12-08 10:38:45] {3387} INFO -  at 4.2s,\testimator extra_tree's best error=0.6480,\tbest estimator lgbm's best error=0.6335\n",
      "[flaml.automl.automl: 12-08 10:38:45] {3203} INFO - iteration 29, current learner extra_tree\n",
      "[flaml.automl.automl: 12-08 10:38:45] {3387} INFO -  at 4.4s,\testimator extra_tree's best error=0.6480,\tbest estimator lgbm's best error=0.6335\n",
      "[flaml.automl.automl: 12-08 10:38:45] {3203} INFO - iteration 30, current learner lgbm\n",
      "[flaml.automl.automl: 12-08 10:38:45] {3387} INFO -  at 4.6s,\testimator lgbm's best error=0.6335,\tbest estimator lgbm's best error=0.6335\n",
      "[flaml.automl.automl: 12-08 10:38:45] {3203} INFO - iteration 31, current learner lgbm\n",
      "[flaml.automl.automl: 12-08 10:38:45] {3387} INFO -  at 4.7s,\testimator lgbm's best error=0.6335,\tbest estimator lgbm's best error=0.6335\n",
      "[flaml.automl.automl: 12-08 10:38:45] {3203} INFO - iteration 32, current learner lgbm\n",
      "[flaml.automl.automl: 12-08 10:38:46] {3387} INFO -  at 5.4s,\testimator lgbm's best error=0.6328,\tbest estimator lgbm's best error=0.6328\n",
      "[flaml.automl.automl: 12-08 10:38:46] {3203} INFO - iteration 33, current learner catboost\n",
      "[flaml.automl.automl: 12-08 10:38:46] {3387} INFO -  at 5.5s,\testimator catboost's best error=0.6828,\tbest estimator lgbm's best error=0.6328\n",
      "[flaml.automl.automl: 12-08 10:38:46] {3203} INFO - iteration 34, current learner catboost\n",
      "[flaml.automl.automl: 12-08 10:38:46] {3387} INFO -  at 5.6s,\testimator catboost's best error=0.6828,\tbest estimator lgbm's best error=0.6328\n",
      "[flaml.automl.automl: 12-08 10:38:46] {3203} INFO - iteration 35, current learner rf\n",
      "[flaml.automl.automl: 12-08 10:38:46] {3387} INFO -  at 5.8s,\testimator rf's best error=0.6523,\tbest estimator lgbm's best error=0.6328\n",
      "[flaml.automl.automl: 12-08 10:38:46] {3203} INFO - iteration 36, current learner catboost\n",
      "[flaml.automl.automl: 12-08 10:38:46] {3387} INFO -  at 6.0s,\testimator catboost's best error=0.6738,\tbest estimator lgbm's best error=0.6328\n",
      "[flaml.automl.automl: 12-08 10:38:46] {3203} INFO - iteration 37, current learner extra_tree\n",
      "[flaml.automl.automl: 12-08 10:38:47] {3387} INFO -  at 6.1s,\testimator extra_tree's best error=0.6480,\tbest estimator lgbm's best error=0.6328\n",
      "[flaml.automl.automl: 12-08 10:38:47] {3203} INFO - iteration 38, current learner catboost\n",
      "[flaml.automl.automl: 12-08 10:38:47] {3387} INFO -  at 6.3s,\testimator catboost's best error=0.6738,\tbest estimator lgbm's best error=0.6328\n",
      "[flaml.automl.automl: 12-08 10:38:47] {3203} INFO - iteration 39, current learner catboost\n",
      "[flaml.automl.automl: 12-08 10:38:47] {3387} INFO -  at 6.4s,\testimator catboost's best error=0.6738,\tbest estimator lgbm's best error=0.6328\n",
      "[flaml.automl.automl: 12-08 10:38:47] {3203} INFO - iteration 40, current learner lgbm\n",
      "[flaml.automl.automl: 12-08 10:38:48] {3387} INFO -  at 7.2s,\testimator lgbm's best error=0.6241,\tbest estimator lgbm's best error=0.6241\n",
      "[flaml.automl.automl: 12-08 10:38:48] {3203} INFO - iteration 41, current learner rf\n",
      "[flaml.automl.automl: 12-08 10:38:48] {3387} INFO -  at 7.3s,\testimator rf's best error=0.6523,\tbest estimator lgbm's best error=0.6241\n",
      "[flaml.automl.automl: 12-08 10:38:48] {3203} INFO - iteration 42, current learner xgboost\n",
      "/home/qxw5138/miniconda3/envs/myflaml/lib/python3.8/site-packages/xgboost/data.py:192: FutureWarning: pandas.Int64Index is deprecated and will be removed from pandas in a future version. Use pandas.Index with the appropriate dtype instead.\n",
      "  from pandas import MultiIndex, Int64Index\n",
      "/home/qxw5138/miniconda3/envs/myflaml/lib/python3.8/site-packages/xgboost/data.py:192: FutureWarning: pandas.Int64Index is deprecated and will be removed from pandas in a future version. Use pandas.Index with the appropriate dtype instead.\n",
      "  from pandas import MultiIndex, Int64Index\n",
      "[flaml.automl.automl: 12-08 10:38:48] {3387} INFO -  at 7.4s,\testimator xgboost's best error=0.6393,\tbest estimator lgbm's best error=0.6241\n",
      "[flaml.automl.automl: 12-08 10:38:48] {3203} INFO - iteration 43, current learner lgbm\n",
      "[flaml.automl.automl: 12-08 10:38:49] {3387} INFO -  at 8.2s,\testimator lgbm's best error=0.6241,\tbest estimator lgbm's best error=0.6241\n",
      "[flaml.automl.automl: 12-08 10:38:49] {3203} INFO - iteration 44, current learner catboost\n",
      "[flaml.automl.automl: 12-08 10:38:49] {3387} INFO -  at 8.4s,\testimator catboost's best error=0.6727,\tbest estimator lgbm's best error=0.6241\n",
      "[flaml.automl.automl: 12-08 10:38:49] {3203} INFO - iteration 45, current learner extra_tree\n",
      "[flaml.automl.automl: 12-08 10:38:49] {3387} INFO -  at 8.5s,\testimator extra_tree's best error=0.6480,\tbest estimator lgbm's best error=0.6241\n",
      "[flaml.automl.automl: 12-08 10:38:49] {3203} INFO - iteration 46, current learner rf\n",
      "[flaml.automl.automl: 12-08 10:38:49] {3387} INFO -  at 8.6s,\testimator rf's best error=0.6523,\tbest estimator lgbm's best error=0.6241\n",
      "[flaml.automl.automl: 12-08 10:38:49] {3203} INFO - iteration 47, current learner lgbm\n",
      "[flaml.automl.automl: 12-08 10:38:50] {3387} INFO -  at 9.4s,\testimator lgbm's best error=0.6206,\tbest estimator lgbm's best error=0.6206\n",
      "[flaml.automl.automl: 12-08 10:38:50] {3203} INFO - iteration 48, current learner xgb_limitdepth\n",
      "/home/qxw5138/miniconda3/envs/myflaml/lib/python3.8/site-packages/xgboost/data.py:192: FutureWarning: pandas.Int64Index is deprecated and will be removed from pandas in a future version. Use pandas.Index with the appropriate dtype instead.\n",
      "  from pandas import MultiIndex, Int64Index\n",
      "/home/qxw5138/miniconda3/envs/myflaml/lib/python3.8/site-packages/xgboost/data.py:192: FutureWarning: pandas.Int64Index is deprecated and will be removed from pandas in a future version. Use pandas.Index with the appropriate dtype instead.\n",
      "  from pandas import MultiIndex, Int64Index\n",
      "[flaml.automl.automl: 12-08 10:38:50] {3387} INFO -  at 9.5s,\testimator xgb_limitdepth's best error=0.6682,\tbest estimator lgbm's best error=0.6206\n",
      "[flaml.automl.automl: 12-08 10:38:50] {3203} INFO - iteration 49, current learner xgb_limitdepth\n",
      "/home/qxw5138/miniconda3/envs/myflaml/lib/python3.8/site-packages/xgboost/data.py:192: FutureWarning: pandas.Int64Index is deprecated and will be removed from pandas in a future version. Use pandas.Index with the appropriate dtype instead.\n",
      "  from pandas import MultiIndex, Int64Index\n",
      "/home/qxw5138/miniconda3/envs/myflaml/lib/python3.8/site-packages/xgboost/data.py:192: FutureWarning: pandas.Int64Index is deprecated and will be removed from pandas in a future version. Use pandas.Index with the appropriate dtype instead.\n",
      "  from pandas import MultiIndex, Int64Index\n",
      "[flaml.automl.automl: 12-08 10:38:50] {3387} INFO -  at 9.5s,\testimator xgb_limitdepth's best error=0.6682,\tbest estimator lgbm's best error=0.6206\n",
      "[flaml.automl.automl: 12-08 10:38:50] {3203} INFO - iteration 50, current learner xgb_limitdepth\n",
      "/home/qxw5138/miniconda3/envs/myflaml/lib/python3.8/site-packages/xgboost/data.py:192: FutureWarning: pandas.Int64Index is deprecated and will be removed from pandas in a future version. Use pandas.Index with the appropriate dtype instead.\n",
      "  from pandas import MultiIndex, Int64Index\n",
      "/home/qxw5138/miniconda3/envs/myflaml/lib/python3.8/site-packages/xgboost/data.py:192: FutureWarning: pandas.Int64Index is deprecated and will be removed from pandas in a future version. Use pandas.Index with the appropriate dtype instead.\n",
      "  from pandas import MultiIndex, Int64Index\n",
      "[flaml.automl.automl: 12-08 10:38:50] {3387} INFO -  at 9.6s,\testimator xgb_limitdepth's best error=0.6542,\tbest estimator lgbm's best error=0.6206\n",
      "[flaml.automl.automl: 12-08 10:38:50] {3203} INFO - iteration 51, current learner xgb_limitdepth\n",
      "/home/qxw5138/miniconda3/envs/myflaml/lib/python3.8/site-packages/xgboost/data.py:192: FutureWarning: pandas.Int64Index is deprecated and will be removed from pandas in a future version. Use pandas.Index with the appropriate dtype instead.\n",
      "  from pandas import MultiIndex, Int64Index\n",
      "/home/qxw5138/miniconda3/envs/myflaml/lib/python3.8/site-packages/xgboost/data.py:192: FutureWarning: pandas.Int64Index is deprecated and will be removed from pandas in a future version. Use pandas.Index with the appropriate dtype instead.\n",
      "  from pandas import MultiIndex, Int64Index\n",
      "[flaml.automl.automl: 12-08 10:38:50] {3387} INFO -  at 9.7s,\testimator xgb_limitdepth's best error=0.6498,\tbest estimator lgbm's best error=0.6206\n",
      "[flaml.automl.automl: 12-08 10:38:50] {3203} INFO - iteration 52, current learner xgb_limitdepth\n",
      "/home/qxw5138/miniconda3/envs/myflaml/lib/python3.8/site-packages/xgboost/data.py:192: FutureWarning: pandas.Int64Index is deprecated and will be removed from pandas in a future version. Use pandas.Index with the appropriate dtype instead.\n",
      "  from pandas import MultiIndex, Int64Index\n",
      "/home/qxw5138/miniconda3/envs/myflaml/lib/python3.8/site-packages/xgboost/data.py:192: FutureWarning: pandas.Int64Index is deprecated and will be removed from pandas in a future version. Use pandas.Index with the appropriate dtype instead.\n",
      "  from pandas import MultiIndex, Int64Index\n",
      "[flaml.automl.automl: 12-08 10:38:50] {3387} INFO -  at 9.9s,\testimator xgb_limitdepth's best error=0.6498,\tbest estimator lgbm's best error=0.6206\n",
      "[flaml.automl.automl: 12-08 10:38:50] {3203} INFO - iteration 53, current learner lrl1\n",
      "/home/qxw5138/miniconda3/envs/myflaml/lib/python3.8/site-packages/sklearn/linear_model/_sag.py:328: ConvergenceWarning: The max_iter was reached which means the coef_ did not converge\n",
      "  warnings.warn(\"The max_iter was reached which means \"\n",
      "[flaml.automl.automl: 12-08 10:38:51] {3387} INFO -  at 10.1s,\testimator lrl1's best error=0.6817,\tbest estimator lgbm's best error=0.6206\n",
      "[flaml.automl.automl: 12-08 10:38:51] {3647} INFO - retrain lgbm for 0.6s\n",
      "[flaml.automl.automl: 12-08 10:38:51] {3654} INFO - retrained model: LGBMClassifier(learning_rate=0.8795579359736123, max_bin=1023,\n",
      "               min_child_samples=10, n_estimators=5, num_leaves=67,\n",
      "               reg_alpha=0.0020664375232232325, reg_lambda=11.42182869316027,\n",
      "               verbose=-1)\n",
      "[flaml.automl.automl: 12-08 10:38:51] {2932} INFO - fit succeeded\n",
      "[flaml.automl.automl: 12-08 10:38:51] {2933} INFO - Time taken to find the best model: 9.397670030593872\n"
     ]
    }
   ],
   "source": [
    "automl = AutoML()\n",
    "settings = {\n",
    "    \"time_budget\": 10,  # total running time in seconds\n",
    "    \"metric\": custom_metric,  # pass the custom metric funtion here\n",
    "    \"task\": 'classification',  # task type\n",
    "    \"log_file_name\": 'airlines_experiment_custom_metric.log',  # flaml log file\n",
    "}\n",
    "\n",
    "automl.fit(X_train=X_train, y_train=y_train, **settings)"
   ]
  },
  {
   "cell_type": "markdown",
   "metadata": {
    "slideshow": {
     "slide_type": "slide"
    }
   },
   "source": [
    "## 5. Customized Learner"
   ]
  },
  {
   "cell_type": "markdown",
   "metadata": {
    "slideshow": {
     "slide_type": "slide"
    }
   },
   "source": [
    "Some experienced automl users may have a preferred model to tune or may already have a reasonably by-hand-tuned model before launching the automl experiment. They need to select optimal configurations for the customized model mixed with standard built-in learners. \n",
    "\n",
    "FLAML can easily incorporate customized/new learners (preferably with sklearn API) provided by users in a real-time manner, as demonstrated below."
   ]
  },
  {
   "cell_type": "markdown",
   "metadata": {
    "slideshow": {
     "slide_type": "slide"
    }
   },
   "source": [
    "### Example of Regularized Greedy Forest\n",
    "\n",
    "[Regularized Greedy Forest](https://arxiv.org/abs/1109.0887) (RGF) is a machine learning method currently not included in FLAML. The RGF has many tuning parameters, the most critical of which are: `[max_leaf, n_iter, n_tree_search, opt_interval, min_samples_leaf]`. To run a customized/new learner, the user needs to provide the following information:\n",
    "* an implementation of the customized/new learner\n",
    "* a list of hyperparameter names and types\n",
    "* rough ranges of hyperparameters (i.e., upper/lower bounds)\n",
    "* choose initial value corresponding to low cost for cost-related hyperparameters (e.g., initial value for max_leaf and n_iter should be small)\n",
    "\n",
    "In this example, the above information for RGF is wrapped in a python class called *MyRegularizedGreedyForest* that exposes the hyperparameters."
   ]
  },
  {
   "cell_type": "code",
   "execution_count": null,
   "metadata": {},
   "outputs": [],
   "source": [
    "%pip install rgf-python"
   ]
  },
  {
   "cell_type": "code",
   "execution_count": 29,
   "metadata": {
    "slideshow": {
     "slide_type": "slide"
    }
   },
   "outputs": [],
   "source": [
    "''' SKLearnEstimator is the super class for a sklearn learner '''\n",
    "from flaml.model import SKLearnEstimator\n",
    "from flaml import tune\n",
    "from flaml.data import CLASSIFICATION\n",
    "\n",
    "\n",
    "class MyRegularizedGreedyForest(SKLearnEstimator):\n",
    "    def __init__(self, task='binary', **config):\n",
    "        '''Constructor\n",
    "        \n",
    "        Args:\n",
    "            task: A string of the task type, one of\n",
    "                'binary', 'multiclass', 'regression'\n",
    "            config: A dictionary containing the hyperparameter names\n",
    "                and 'n_jobs' as keys. n_jobs is the number of parallel threads.\n",
    "        '''\n",
    "\n",
    "        super().__init__(task, **config)\n",
    "\n",
    "        '''task=binary or multi for classification task'''\n",
    "        if task in CLASSIFICATION:\n",
    "            from rgf.sklearn import RGFClassifier\n",
    "\n",
    "            self.estimator_class = RGFClassifier\n",
    "        else:\n",
    "            from rgf.sklearn import RGFRegressor\n",
    "            \n",
    "            self.estimator_class = RGFRegressor\n",
    "\n",
    "    @classmethod\n",
    "    def search_space(cls, data_size, task):\n",
    "        '''[required method] search space\n",
    "\n",
    "        Returns:\n",
    "            A dictionary of the search space. \n",
    "            Each key is the name of a hyperparameter, and value is a dict with\n",
    "                its domain (required) and low_cost_init_value, init_value,\n",
    "                cat_hp_cost (if applicable).\n",
    "                e.g.,\n",
    "                {'domain': tune.randint(lower=1, upper=10), 'init_value': 1}.\n",
    "        '''\n",
    "        space = {        \n",
    "            'max_leaf': {'domain': tune.lograndint(lower=4, upper=data_size[0]), 'init_value': 4, 'low_cost_init_value': 4},\n",
    "            'n_iter': {'domain': tune.lograndint(lower=1, upper=data_size[0]), 'init_value': 1, 'low_cost_init_value': 1},\n",
    "            'n_tree_search': {'domain': tune.lograndint(lower=1, upper=32768), 'init_value': 1, 'low_cost_init_value': 1},\n",
    "            'opt_interval': {'domain': tune.lograndint(lower=1, upper=10000), 'init_value': 100},\n",
    "            'learning_rate': {'domain': tune.loguniform(lower=0.01, upper=20.0)},\n",
    "            'min_samples_leaf': {'domain': tune.lograndint(lower=1, upper=20), 'init_value': 20},\n",
    "        }\n",
    "        return space\n",
    "\n",
    "    @classmethod\n",
    "    def size(cls, config):\n",
    "        '''[optional method] memory size of the estimator in bytes\n",
    "        \n",
    "        Args:\n",
    "            config - the dict of the hyperparameter config\n",
    "\n",
    "        Returns:\n",
    "            A float of the memory size required by the estimator to train the\n",
    "            given config\n",
    "        '''\n",
    "        max_leaves = int(round(config['max_leaf']))\n",
    "        n_estimators = int(round(config['n_iter']))\n",
    "        return (max_leaves * 3 + (max_leaves - 1) * 4 + 1.0) * n_estimators * 8\n",
    "\n",
    "    @classmethod\n",
    "    def cost_relative2lgbm(cls):\n",
    "        '''[optional method] relative cost compared to lightgbm\n",
    "        '''\n",
    "        return 1.0"
   ]
  },
  {
   "cell_type": "markdown",
   "metadata": {
    "slideshow": {
     "slide_type": "slide"
    }
   },
   "source": [
    "### Add Customized Learner and Run FLAML AutoML\n",
    "\n",
    "After adding RGF into the list of learners, we run automl by tuning hyperpameters of RGF as well as the default learners. "
   ]
  },
  {
   "cell_type": "code",
   "execution_count": 30,
   "metadata": {
    "slideshow": {
     "slide_type": "slide"
    }
   },
   "outputs": [],
   "source": [
    "automl = AutoML()\n",
    "automl.add_learner(learner_name='RGF', learner_class=MyRegularizedGreedyForest)"
   ]
  },
  {
   "cell_type": "code",
   "execution_count": 31,
   "metadata": {
    "slideshow": {
     "slide_type": "slide"
    },
    "tags": []
   },
   "outputs": [
    {
     "name": "stderr",
     "output_type": "stream",
     "text": [
      "[flaml.automl.automl: 12-08 10:38:55] {2625} INFO - task = classification\n",
      "[flaml.automl.automl: 12-08 10:38:55] {2627} INFO - Data split method: stratified\n",
      "[flaml.automl.automl: 12-08 10:38:55] {2630} INFO - Evaluation method: holdout\n",
      "[flaml.automl.automl: 12-08 10:38:55] {2757} INFO - Minimizing error metric: 1-accuracy\n",
      "[flaml.automl.automl: 12-08 10:38:55] {2902} INFO - List of ML learners in AutoML Run: ['RGF', 'lgbm', 'rf', 'xgboost']\n",
      "[flaml.automl.automl: 12-08 10:38:55] {3203} INFO - iteration 0, current learner RGF\n",
      "[flaml.automl.automl: 12-08 10:38:56] {3340} INFO - Estimated sufficient time budget=336003s. Estimated necessary time budget=336s.\n",
      "[flaml.automl.automl: 12-08 10:38:56] {3387} INFO -  at 1.5s,\testimator RGF's best error=0.3840,\tbest estimator RGF's best error=0.3840\n",
      "[flaml.automl.automl: 12-08 10:38:56] {3203} INFO - iteration 1, current learner RGF\n",
      "[flaml.automl.automl: 12-08 10:38:57] {3387} INFO -  at 2.4s,\testimator RGF's best error=0.3840,\tbest estimator RGF's best error=0.3840\n",
      "[flaml.automl.automl: 12-08 10:38:57] {3203} INFO - iteration 2, current learner RGF\n",
      "[flaml.automl.automl: 12-08 10:38:58] {3387} INFO -  at 3.3s,\testimator RGF's best error=0.3840,\tbest estimator RGF's best error=0.3840\n",
      "[flaml.automl.automl: 12-08 10:38:58] {3203} INFO - iteration 3, current learner lgbm\n",
      "[flaml.automl.automl: 12-08 10:38:58] {3387} INFO -  at 3.4s,\testimator lgbm's best error=0.3777,\tbest estimator lgbm's best error=0.3777\n",
      "[flaml.automl.automl: 12-08 10:38:58] {3203} INFO - iteration 4, current learner RGF\n",
      "[flaml.automl.automl: 12-08 10:38:59] {3387} INFO -  at 4.3s,\testimator RGF's best error=0.3840,\tbest estimator lgbm's best error=0.3777\n",
      "[flaml.automl.automl: 12-08 10:38:59] {3203} INFO - iteration 5, current learner lgbm\n",
      "[flaml.automl.automl: 12-08 10:38:59] {3387} INFO -  at 4.4s,\testimator lgbm's best error=0.3777,\tbest estimator lgbm's best error=0.3777\n",
      "[flaml.automl.automl: 12-08 10:38:59] {3203} INFO - iteration 6, current learner lgbm\n",
      "[flaml.automl.automl: 12-08 10:38:59] {3387} INFO -  at 4.4s,\testimator lgbm's best error=0.3777,\tbest estimator lgbm's best error=0.3777\n",
      "[flaml.automl.automl: 12-08 10:38:59] {3203} INFO - iteration 7, current learner lgbm\n",
      "[flaml.automl.automl: 12-08 10:38:59] {3387} INFO -  at 4.4s,\testimator lgbm's best error=0.3661,\tbest estimator lgbm's best error=0.3661\n",
      "[flaml.automl.automl: 12-08 10:38:59] {3203} INFO - iteration 8, current learner lgbm\n",
      "[flaml.automl.automl: 12-08 10:38:59] {3387} INFO -  at 4.5s,\testimator lgbm's best error=0.3661,\tbest estimator lgbm's best error=0.3661\n",
      "[flaml.automl.automl: 12-08 10:38:59] {3203} INFO - iteration 9, current learner lgbm\n",
      "[flaml.automl.automl: 12-08 10:38:59] {3387} INFO -  at 4.6s,\testimator lgbm's best error=0.3633,\tbest estimator lgbm's best error=0.3633\n",
      "[flaml.automl.automl: 12-08 10:38:59] {3203} INFO - iteration 10, current learner lgbm\n",
      "[flaml.automl.automl: 12-08 10:38:59] {3387} INFO -  at 4.6s,\testimator lgbm's best error=0.3633,\tbest estimator lgbm's best error=0.3633\n",
      "[flaml.automl.automl: 12-08 10:38:59] {3203} INFO - iteration 11, current learner lgbm\n",
      "[flaml.automl.automl: 12-08 10:38:59] {3387} INFO -  at 4.7s,\testimator lgbm's best error=0.3633,\tbest estimator lgbm's best error=0.3633\n",
      "[flaml.automl.automl: 12-08 10:38:59] {3203} INFO - iteration 12, current learner lgbm\n",
      "[flaml.automl.automl: 12-08 10:38:59] {3387} INFO -  at 4.8s,\testimator lgbm's best error=0.3613,\tbest estimator lgbm's best error=0.3613\n",
      "[flaml.automl.automl: 12-08 10:38:59] {3203} INFO - iteration 13, current learner lgbm\n",
      "[flaml.automl.automl: 12-08 10:38:59] {3387} INFO -  at 4.8s,\testimator lgbm's best error=0.3613,\tbest estimator lgbm's best error=0.3613\n",
      "[flaml.automl.automl: 12-08 10:38:59] {3203} INFO - iteration 14, current learner lgbm\n",
      "[flaml.automl.automl: 12-08 10:39:00] {3387} INFO -  at 5.0s,\testimator lgbm's best error=0.3613,\tbest estimator lgbm's best error=0.3613\n",
      "[flaml.automl.automl: 12-08 10:39:00] {3203} INFO - iteration 15, current learner lgbm\n",
      "[flaml.automl.automl: 12-08 10:39:00] {3387} INFO -  at 5.1s,\testimator lgbm's best error=0.3613,\tbest estimator lgbm's best error=0.3613\n",
      "[flaml.automl.automl: 12-08 10:39:00] {3203} INFO - iteration 16, current learner RGF\n",
      "[flaml.automl.automl: 12-08 10:39:01] {3387} INFO -  at 6.1s,\testimator RGF's best error=0.3840,\tbest estimator lgbm's best error=0.3613\n",
      "[flaml.automl.automl: 12-08 10:39:01] {3203} INFO - iteration 17, current learner lgbm\n",
      "[flaml.automl.automl: 12-08 10:39:01] {3387} INFO -  at 6.1s,\testimator lgbm's best error=0.3613,\tbest estimator lgbm's best error=0.3613\n",
      "[flaml.automl.automl: 12-08 10:39:01] {3203} INFO - iteration 18, current learner lgbm\n",
      "[flaml.automl.automl: 12-08 10:39:01] {3387} INFO -  at 6.3s,\testimator lgbm's best error=0.3613,\tbest estimator lgbm's best error=0.3613\n",
      "[flaml.automl.automl: 12-08 10:39:01] {3203} INFO - iteration 19, current learner lgbm\n",
      "[flaml.automl.automl: 12-08 10:39:01] {3387} INFO -  at 6.5s,\testimator lgbm's best error=0.3600,\tbest estimator lgbm's best error=0.3600\n",
      "[flaml.automl.automl: 12-08 10:39:01] {3203} INFO - iteration 20, current learner RGF\n",
      "[flaml.automl.automl: 12-08 10:39:02] {3387} INFO -  at 7.5s,\testimator RGF's best error=0.3766,\tbest estimator lgbm's best error=0.3600\n",
      "[flaml.automl.automl: 12-08 10:39:02] {3203} INFO - iteration 21, current learner lgbm\n",
      "[flaml.automl.automl: 12-08 10:39:02] {3387} INFO -  at 7.6s,\testimator lgbm's best error=0.3592,\tbest estimator lgbm's best error=0.3592\n",
      "[flaml.automl.automl: 12-08 10:39:02] {3203} INFO - iteration 22, current learner lgbm\n",
      "[flaml.automl.automl: 12-08 10:39:02] {3387} INFO -  at 7.8s,\testimator lgbm's best error=0.3592,\tbest estimator lgbm's best error=0.3592\n",
      "[flaml.automl.automl: 12-08 10:39:02] {3203} INFO - iteration 23, current learner lgbm\n",
      "[flaml.automl.automl: 12-08 10:39:02] {3387} INFO -  at 7.9s,\testimator lgbm's best error=0.3587,\tbest estimator lgbm's best error=0.3587\n",
      "[flaml.automl.automl: 12-08 10:39:02] {3203} INFO - iteration 24, current learner lgbm\n",
      "[flaml.automl.automl: 12-08 10:39:03] {3387} INFO -  at 8.0s,\testimator lgbm's best error=0.3587,\tbest estimator lgbm's best error=0.3587\n",
      "[flaml.automl.automl: 12-08 10:39:03] {3203} INFO - iteration 25, current learner lgbm\n",
      "[flaml.automl.automl: 12-08 10:39:03] {3387} INFO -  at 8.1s,\testimator lgbm's best error=0.3587,\tbest estimator lgbm's best error=0.3587\n",
      "[flaml.automl.automl: 12-08 10:39:03] {3203} INFO - iteration 26, current learner lgbm\n",
      "[flaml.automl.automl: 12-08 10:39:03] {3387} INFO -  at 8.2s,\testimator lgbm's best error=0.3587,\tbest estimator lgbm's best error=0.3587\n",
      "[flaml.automl.automl: 12-08 10:39:03] {3203} INFO - iteration 27, current learner lgbm\n",
      "[flaml.automl.automl: 12-08 10:39:03] {3387} INFO -  at 8.3s,\testimator lgbm's best error=0.3587,\tbest estimator lgbm's best error=0.3587\n",
      "[flaml.automl.automl: 12-08 10:39:03] {3203} INFO - iteration 28, current learner lgbm\n",
      "[flaml.automl.automl: 12-08 10:39:03] {3387} INFO -  at 8.4s,\testimator lgbm's best error=0.3587,\tbest estimator lgbm's best error=0.3587\n",
      "[flaml.automl.automl: 12-08 10:39:03] {3203} INFO - iteration 29, current learner lgbm\n",
      "[flaml.automl.automl: 12-08 10:39:05] {3387} INFO -  at 10.1s,\testimator lgbm's best error=0.3395,\tbest estimator lgbm's best error=0.3395\n",
      "[flaml.automl.automl: 12-08 10:39:06] {3647} INFO - retrain lgbm for 1.0s\n",
      "[flaml.automl.automl: 12-08 10:39:06] {3654} INFO - retrained model: LGBMClassifier(colsample_bytree=0.9300033695196235,\n",
      "               learning_rate=0.5457843642962414, max_bin=1023,\n",
      "               min_child_samples=4, n_estimators=26, num_leaves=67,\n",
      "               reg_alpha=0.0009765625, reg_lambda=0.006199552814843899,\n",
      "               verbose=-1)\n",
      "[flaml.automl.automl: 12-08 10:39:06] {2932} INFO - fit succeeded\n",
      "[flaml.automl.automl: 12-08 10:39:06] {2933} INFO - Time taken to find the best model: 10.057128429412842\n"
     ]
    }
   ],
   "source": [
    "settings = {\n",
    "    \"time_budget\": 10,  # total running time in seconds\n",
    "    \"metric\": 'accuracy', \n",
    "    \"estimator_list\": ['RGF', 'lgbm', 'rf', 'xgboost'],  # list of ML learners\n",
    "    \"task\": 'classification',  # task type    \n",
    "    \"log_file_name\": 'airlines_experiment_custom_learner.log',  # flaml log file \n",
    "    \"log_training_metric\": True,  # whether to log training metric\n",
    "}\n",
    "\n",
    "automl.fit(X_train=X_train, y_train=y_train, **settings)"
   ]
  }
 ],
 "metadata": {
  "kernelspec": {
   "display_name": "Python 3.9.15 64-bit",
   "language": "python",
   "name": "python3"
  },
  "language_info": {
   "codemirror_mode": {
    "name": "ipython",
    "version": 3
   },
   "file_extension": ".py",
   "mimetype": "text/x-python",
   "name": "python",
   "nbconvert_exporter": "python",
   "pygments_lexer": "ipython3",
   "version": "3.8.12"
  },
  "vscode": {
   "interpreter": {
    "hash": "949777d72b0d2535278d3dc13498b2535136f6dfe0678499012e853ee9abcab1"
   }
  }
 },
 "nbformat": 4,
 "nbformat_minor": 2
}
