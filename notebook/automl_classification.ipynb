{
 "cells": [
  {
   "cell_type": "markdown",
   "metadata": {
    "slideshow": {
     "slide_type": "slide"
    }
   },
   "source": [
    "Copyright (c) Microsoft Corporation. All rights reserved. \n",
    "\n",
    "Licensed under the MIT License.\n",
    "\n",
    "# AutoML with FLAML Library\n",
    "\n",
    "\n",
    "## 1. Introduction\n",
    "\n",
    "FLAML is a Python library (https://github.com/microsoft/FLAML) designed to automatically produce accurate machine learning models \n",
    "with low computational cost. It is fast and economical. The simple and lightweight design makes it easy to use and extend, such as adding new learners. FLAML can \n",
    "- serve as an economical AutoML engine,\n",
    "- be used as a fast hyperparameter tuning tool, or \n",
    "- be embedded in self-tuning software that requires low latency & resource in repetitive\n",
    "   tuning tasks.\n",
    "\n",
    "In this notebook, we use one real data example (binary classification) to showcase how to use FLAML library.\n",
    "\n",
    "FLAML requires `Python>=3.7`. To run this notebook example, please install flaml with the `notebook` option:\n",
    "```bash\n",
    "pip install flaml[notebook]\n",
    "```"
   ]
  },
  {
   "cell_type": "code",
   "execution_count": null,
   "metadata": {},
   "outputs": [],
   "source": [
    "%pip install flaml[notebook]\n",
    "# from v0.6.6, catboost is made an optional dependency to build conda package.\n",
    "# to install catboost without installing the notebook option, you can run:\n",
    "# %pip install flaml[catboost]"
   ]
  },
  {
   "cell_type": "markdown",
   "metadata": {
    "slideshow": {
     "slide_type": "slide"
    }
   },
   "source": [
    "## 2. Classification Example\n",
    "### Load data and preprocess\n",
    "\n",
    "Download [Airlines dataset](https://www.openml.org/d/1169) from OpenML. The task is to predict whether a given flight will be delayed, given the information of the scheduled departure."
   ]
  },
  {
   "cell_type": "code",
   "execution_count": 1,
   "metadata": {
    "slideshow": {
     "slide_type": "subslide"
    },
    "tags": []
   },
   "outputs": [
    {
     "name": "stderr",
     "output_type": "stream",
     "text": [
      "/home/qxw5138/miniconda3/envs/myflaml/lib/python3.8/site-packages/xgboost/compat.py:31: FutureWarning: pandas.Int64Index is deprecated and will be removed from pandas in a future version. Use pandas.Index with the appropriate dtype instead.\n",
      "  from pandas import MultiIndex, Int64Index\n"
     ]
    },
    {
     "name": "stdout",
     "output_type": "stream",
     "text": [
      "load dataset from ./openml_ds1169.pkl\n",
      "Dataset name: airlines\n",
      "X_train.shape: (404537, 7), y_train.shape: (404537,);\n",
      "X_test.shape: (134846, 7), y_test.shape: (134846,)\n",
      "Data type: <class 'pandas.core.frame.DataFrame'> <class 'pandas.core.series.Series'>\n",
      "The first 5 rows of X_train:\n",
      "       Airline  Flight AirportFrom AirportTo DayOfWeek   Time  Length\n",
      "249392      EV  5309.0         MDT       ATL         3  794.0   131.0\n",
      "166918      CO  1079.0         IAH       SAT         5  900.0    60.0\n",
      "89110       US  1636.0         CLE       CLT         1  530.0   103.0\n",
      "70258       WN   928.0         CMH       LAS         7  480.0   280.0\n",
      "492985      WN   729.0         GEG       LAS         3  630.0   140.0\n",
      "The first 5 rows of y_train:\n",
      "249392    1\n",
      "166918    0\n",
      "89110     0\n",
      "70258     0\n",
      "492985    1\n",
      "Name: Delay, dtype: category\n",
      "Categories (2, object): ['0' < '1']\n"
     ]
    }
   ],
   "source": [
    "from flaml.data import load_openml_dataset\n",
    "X_train, X_test, y_train, y_test = load_openml_dataset(dataset_id=1169, data_dir='./')\n",
    "print(\"Data type:\", type(X_train), type(y_train))\n",
    "print(\"The first 5 rows of X_train:\")\n",
    "print(X_train.head())\n",
    "print(\"The first 5 rows of y_train:\")\n",
    "print(y_train.head())"
   ]
  },
  {
   "cell_type": "markdown",
   "metadata": {
    "slideshow": {
     "slide_type": "slide"
    }
   },
   "source": [
    "### Run FLAML\n",
    "In the FLAML automl run configuration, users can specify the task type, time budget, error metric, learner list, whether to subsample, resampling strategy type, and so on. All these arguments have default values which will be used if users do not provide them. For example, the default classifiers are `['lgbm', 'xgboost', 'xgb_limitdepth', 'catboost', 'rf', 'extra_tree', 'lrl1']`. "
   ]
  },
  {
   "cell_type": "code",
   "execution_count": 4,
   "metadata": {
    "slideshow": {
     "slide_type": "slide"
    }
   },
   "outputs": [],
   "source": [
    "''' import AutoML class from flaml package '''\n",
    "from flaml import AutoML\n",
    "automl = AutoML()"
   ]
  },
  {
   "cell_type": "code",
   "execution_count": 3,
   "metadata": {
    "slideshow": {
     "slide_type": "slide"
    }
   },
   "outputs": [],
   "source": [
    "settings = {\n",
    "    \"time_budget\": 600,  # total running time in seconds\n",
    "    \"metric\": 'accuracy',  # can be: 'r2', 'rmse', 'mae', 'mse', 'accuracy', 'roc_auc', 'roc_auc_ovr',\n",
    "                           # 'roc_auc_ovo', 'log_loss', 'mape', 'f1', 'ap', 'ndcg', 'micro_f1', 'macro_f1'\n",
    "    \"task\": 'classification',  # task type\n",
    "    \"log_file_name\": 'airlines_experiment.log',  # flaml log file\n",
    "    \"seed\": 7654321,    # random seed\n",
    "}"
   ]
  },
  {
   "cell_type": "code",
   "execution_count": 4,
   "metadata": {
    "slideshow": {
     "slide_type": "slide"
    },
    "tags": [
     "outputPrepend"
    ]
   },
   "outputs": [
    {
     "name": "stderr",
     "output_type": "stream",
     "text": [
      "[flaml.automl: 06-26 11:27:55] {2390} INFO - task = classification\n",
      "[flaml.automl: 06-26 11:27:55] {2392} INFO - Data split method: stratified\n",
      "[flaml.automl: 06-26 11:27:55] {2396} INFO - Evaluation method: holdout\n",
      "[flaml.automl: 06-26 11:27:55] {2465} INFO - Minimizing error metric: 1-accuracy\n",
      "[flaml.automl: 06-26 11:27:55] {2605} INFO - List of ML learners in AutoML Run: ['lgbm', 'rf', 'catboost', 'xgboost', 'extra_tree', 'xgb_limitdepth', 'lrl1']\n",
      "[flaml.automl: 06-26 11:27:55] {2897} INFO - iteration 0, current learner lgbm\n",
      "[flaml.automl: 06-26 11:27:55] {3025} INFO - Estimated sufficient time budget=20709s. Estimated necessary time budget=508s.\n",
      "[flaml.automl: 06-26 11:27:55] {3072} INFO -  at 0.6s,\testimator lgbm's best error=0.3777,\tbest estimator lgbm's best error=0.3777\n",
      "[flaml.automl: 06-26 11:27:55] {2897} INFO - iteration 1, current learner lgbm\n",
      "[flaml.automl: 06-26 11:27:55] {3072} INFO -  at 0.6s,\testimator lgbm's best error=0.3777,\tbest estimator lgbm's best error=0.3777\n",
      "[flaml.automl: 06-26 11:27:55] {2897} INFO - iteration 2, current learner lgbm\n",
      "[flaml.automl: 06-26 11:27:56] {3072} INFO -  at 0.7s,\testimator lgbm's best error=0.3765,\tbest estimator lgbm's best error=0.3765\n",
      "[flaml.automl: 06-26 11:27:56] {2897} INFO - iteration 3, current learner xgboost\n",
      "/home/qxw5138/miniconda3/envs/myflaml/lib/python3.8/site-packages/xgboost/data.py:192: FutureWarning: pandas.Int64Index is deprecated and will be removed from pandas in a future version. Use pandas.Index with the appropriate dtype instead.\n",
      "  from pandas import MultiIndex, Int64Index\n",
      "[flaml.automl: 06-26 11:27:57] {3072} INFO -  at 2.0s,\testimator xgboost's best error=0.3787,\tbest estimator lgbm's best error=0.3765\n",
      "[flaml.automl: 06-26 11:27:57] {2897} INFO - iteration 4, current learner lgbm\n",
      "[flaml.automl: 06-26 11:27:57] {3072} INFO -  at 2.0s,\testimator lgbm's best error=0.3650,\tbest estimator lgbm's best error=0.3650\n",
      "[flaml.automl: 06-26 11:27:57] {2897} INFO - iteration 5, current learner lgbm\n",
      "[flaml.automl: 06-26 11:27:57] {3072} INFO -  at 2.1s,\testimator lgbm's best error=0.3650,\tbest estimator lgbm's best error=0.3650\n",
      "[flaml.automl: 06-26 11:27:57] {2897} INFO - iteration 6, current learner lgbm\n",
      "[flaml.automl: 06-26 11:27:57] {3072} INFO -  at 2.3s,\testimator lgbm's best error=0.3542,\tbest estimator lgbm's best error=0.3542\n",
      "[flaml.automl: 06-26 11:27:57] {2897} INFO - iteration 7, current learner extra_tree\n",
      "[flaml.automl: 06-26 11:27:57] {3072} INFO -  at 2.4s,\testimator extra_tree's best error=0.3786,\tbest estimator lgbm's best error=0.3542\n",
      "[flaml.automl: 06-26 11:27:57] {2897} INFO - iteration 8, current learner lgbm\n",
      "[flaml.automl: 06-26 11:27:57] {3072} INFO -  at 2.5s,\testimator lgbm's best error=0.3542,\tbest estimator lgbm's best error=0.3542\n",
      "[flaml.automl: 06-26 11:27:57] {2897} INFO - iteration 9, current learner lgbm\n",
      "[flaml.automl: 06-26 11:27:57] {3072} INFO -  at 2.6s,\testimator lgbm's best error=0.3542,\tbest estimator lgbm's best error=0.3542\n",
      "[flaml.automl: 06-26 11:27:57] {2897} INFO - iteration 10, current learner xgboost\n",
      "/home/qxw5138/miniconda3/envs/myflaml/lib/python3.8/site-packages/xgboost/data.py:192: FutureWarning: pandas.Int64Index is deprecated and will be removed from pandas in a future version. Use pandas.Index with the appropriate dtype instead.\n",
      "  from pandas import MultiIndex, Int64Index\n",
      "[flaml.automl: 06-26 11:27:59] {3072} INFO -  at 4.2s,\testimator xgboost's best error=0.3787,\tbest estimator lgbm's best error=0.3542\n",
      "[flaml.automl: 06-26 11:27:59] {2897} INFO - iteration 11, current learner extra_tree\n",
      "[flaml.automl: 06-26 11:27:59] {3072} INFO -  at 4.2s,\testimator extra_tree's best error=0.3786,\tbest estimator lgbm's best error=0.3542\n",
      "[flaml.automl: 06-26 11:27:59] {2897} INFO - iteration 12, current learner extra_tree\n",
      "[flaml.automl: 06-26 11:27:59] {3072} INFO -  at 4.4s,\testimator extra_tree's best error=0.3786,\tbest estimator lgbm's best error=0.3542\n",
      "[flaml.automl: 06-26 11:27:59] {2897} INFO - iteration 13, current learner rf\n",
      "[flaml.automl: 06-26 11:27:59] {3072} INFO -  at 4.5s,\testimator rf's best error=0.3868,\tbest estimator lgbm's best error=0.3542\n",
      "[flaml.automl: 06-26 11:27:59] {2897} INFO - iteration 14, current learner rf\n",
      "[flaml.automl: 06-26 11:28:00] {3072} INFO -  at 4.7s,\testimator rf's best error=0.3786,\tbest estimator lgbm's best error=0.3542\n",
      "[flaml.automl: 06-26 11:28:00] {2897} INFO - iteration 15, current learner extra_tree\n",
      "[flaml.automl: 06-26 11:28:00] {3072} INFO -  at 4.9s,\testimator extra_tree's best error=0.3786,\tbest estimator lgbm's best error=0.3542\n",
      "[flaml.automl: 06-26 11:28:00] {2897} INFO - iteration 16, current learner lgbm\n",
      "[flaml.automl: 06-26 11:28:00] {3072} INFO -  at 5.1s,\testimator lgbm's best error=0.3542,\tbest estimator lgbm's best error=0.3542\n",
      "[flaml.automl: 06-26 11:28:00] {2897} INFO - iteration 17, current learner extra_tree\n",
      "[flaml.automl: 06-26 11:28:00] {3072} INFO -  at 5.4s,\testimator extra_tree's best error=0.3786,\tbest estimator lgbm's best error=0.3542\n",
      "[flaml.automl: 06-26 11:28:00] {2897} INFO - iteration 18, current learner lgbm\n",
      "[flaml.automl: 06-26 11:28:00] {3072} INFO -  at 5.5s,\testimator lgbm's best error=0.3542,\tbest estimator lgbm's best error=0.3542\n",
      "[flaml.automl: 06-26 11:28:00] {2897} INFO - iteration 19, current learner xgboost\n",
      "/home/qxw5138/miniconda3/envs/myflaml/lib/python3.8/site-packages/xgboost/data.py:192: FutureWarning: pandas.Int64Index is deprecated and will be removed from pandas in a future version. Use pandas.Index with the appropriate dtype instead.\n",
      "  from pandas import MultiIndex, Int64Index\n",
      "[flaml.automl: 06-26 11:28:07] {3072} INFO -  at 12.5s,\testimator xgboost's best error=0.3604,\tbest estimator lgbm's best error=0.3542\n",
      "[flaml.automl: 06-26 11:28:07] {2897} INFO - iteration 20, current learner lgbm\n",
      "[flaml.automl: 06-26 11:28:08] {3072} INFO -  at 13.1s,\testimator lgbm's best error=0.3501,\tbest estimator lgbm's best error=0.3501\n",
      "[flaml.automl: 06-26 11:28:08] {2897} INFO - iteration 21, current learner rf\n",
      "[flaml.automl: 06-26 11:28:08] {3072} INFO -  at 13.4s,\testimator rf's best error=0.3753,\tbest estimator lgbm's best error=0.3501\n",
      "[flaml.automl: 06-26 11:28:08] {2897} INFO - iteration 22, current learner lgbm\n",
      "[flaml.automl: 06-26 11:28:09] {3072} INFO -  at 13.8s,\testimator lgbm's best error=0.3501,\tbest estimator lgbm's best error=0.3501\n",
      "[flaml.automl: 06-26 11:28:09] {2897} INFO - iteration 23, current learner lgbm\n",
      "[flaml.automl: 06-26 11:28:10] {3072} INFO -  at 14.8s,\testimator lgbm's best error=0.3352,\tbest estimator lgbm's best error=0.3352\n",
      "[flaml.automl: 06-26 11:28:10] {2897} INFO - iteration 24, current learner extra_tree\n",
      "[flaml.automl: 06-26 11:28:10] {3072} INFO -  at 15.2s,\testimator extra_tree's best error=0.3774,\tbest estimator lgbm's best error=0.3352\n",
      "[flaml.automl: 06-26 11:28:10] {2897} INFO - iteration 25, current learner catboost\n",
      "[flaml.automl: 06-26 11:28:11] {3072} INFO -  at 15.9s,\testimator catboost's best error=0.3587,\tbest estimator lgbm's best error=0.3352\n",
      "[flaml.automl: 06-26 11:28:11] {2897} INFO - iteration 26, current learner catboost\n",
      "[flaml.automl: 06-26 11:28:11] {3072} INFO -  at 16.1s,\testimator catboost's best error=0.3587,\tbest estimator lgbm's best error=0.3352\n",
      "[flaml.automl: 06-26 11:28:11] {2897} INFO - iteration 27, current learner rf\n",
      "[flaml.automl: 06-26 11:28:11] {3072} INFO -  at 16.3s,\testimator rf's best error=0.3753,\tbest estimator lgbm's best error=0.3352\n",
      "[flaml.automl: 06-26 11:28:11] {2897} INFO - iteration 28, current learner catboost\n",
      "[flaml.automl: 06-26 11:28:12] {3072} INFO -  at 17.1s,\testimator catboost's best error=0.3587,\tbest estimator lgbm's best error=0.3352\n",
      "[flaml.automl: 06-26 11:28:12] {2897} INFO - iteration 29, current learner catboost\n",
      "[flaml.automl: 06-26 11:28:15] {3072} INFO -  at 20.6s,\testimator catboost's best error=0.3587,\tbest estimator lgbm's best error=0.3352\n",
      "[flaml.automl: 06-26 11:28:15] {2897} INFO - iteration 30, current learner catboost\n",
      "[flaml.automl: 06-26 11:28:17] {3072} INFO -  at 22.1s,\testimator catboost's best error=0.3487,\tbest estimator lgbm's best error=0.3352\n",
      "[flaml.automl: 06-26 11:28:17] {2897} INFO - iteration 31, current learner lgbm\n",
      "[flaml.automl: 06-26 11:28:18] {3072} INFO -  at 22.8s,\testimator lgbm's best error=0.3352,\tbest estimator lgbm's best error=0.3352\n",
      "[flaml.automl: 06-26 11:28:18] {2897} INFO - iteration 32, current learner lgbm\n",
      "[flaml.automl: 06-26 11:28:19] {3072} INFO -  at 24.4s,\testimator lgbm's best error=0.3352,\tbest estimator lgbm's best error=0.3352\n",
      "[flaml.automl: 06-26 11:28:19] {2897} INFO - iteration 33, current learner lgbm\n",
      "[flaml.automl: 06-26 11:28:21] {3072} INFO -  at 26.5s,\testimator lgbm's best error=0.3352,\tbest estimator lgbm's best error=0.3352\n",
      "[flaml.automl: 06-26 11:28:21] {2897} INFO - iteration 34, current learner xgb_limitdepth\n",
      "/home/qxw5138/miniconda3/envs/myflaml/lib/python3.8/site-packages/xgboost/data.py:192: FutureWarning: pandas.Int64Index is deprecated and will be removed from pandas in a future version. Use pandas.Index with the appropriate dtype instead.\n",
      "  from pandas import MultiIndex, Int64Index\n",
      "[flaml.automl: 06-26 11:28:26] {3072} INFO -  at 31.1s,\testimator xgb_limitdepth's best error=0.3630,\tbest estimator lgbm's best error=0.3352\n",
      "[flaml.automl: 06-26 11:28:26] {2897} INFO - iteration 35, current learner xgb_limitdepth\n",
      "/home/qxw5138/miniconda3/envs/myflaml/lib/python3.8/site-packages/xgboost/data.py:192: FutureWarning: pandas.Int64Index is deprecated and will be removed from pandas in a future version. Use pandas.Index with the appropriate dtype instead.\n",
      "  from pandas import MultiIndex, Int64Index\n",
      "[flaml.automl: 06-26 11:28:28] {3072} INFO -  at 33.3s,\testimator xgb_limitdepth's best error=0.3630,\tbest estimator lgbm's best error=0.3352\n",
      "[flaml.automl: 06-26 11:28:28] {2897} INFO - iteration 36, current learner lgbm\n",
      "[flaml.automl: 06-26 11:28:29] {3072} INFO -  at 33.8s,\testimator lgbm's best error=0.3352,\tbest estimator lgbm's best error=0.3352\n",
      "[flaml.automl: 06-26 11:28:29] {2897} INFO - iteration 37, current learner rf\n",
      "[flaml.automl: 06-26 11:28:29] {3072} INFO -  at 34.1s,\testimator rf's best error=0.3753,\tbest estimator lgbm's best error=0.3352\n",
      "[flaml.automl: 06-26 11:28:29] {2897} INFO - iteration 38, current learner xgb_limitdepth\n",
      "/home/qxw5138/miniconda3/envs/myflaml/lib/python3.8/site-packages/xgboost/data.py:192: FutureWarning: pandas.Int64Index is deprecated and will be removed from pandas in a future version. Use pandas.Index with the appropriate dtype instead.\n",
      "  from pandas import MultiIndex, Int64Index\n",
      "[flaml.automl: 06-26 11:28:37] {3072} INFO -  at 41.7s,\testimator xgb_limitdepth's best error=0.3630,\tbest estimator lgbm's best error=0.3352\n",
      "[flaml.automl: 06-26 11:28:37] {2897} INFO - iteration 39, current learner rf\n",
      "[flaml.automl: 06-26 11:28:37] {3072} INFO -  at 41.9s,\testimator rf's best error=0.3753,\tbest estimator lgbm's best error=0.3352\n",
      "[flaml.automl: 06-26 11:28:37] {2897} INFO - iteration 40, current learner xgboost\n",
      "/home/qxw5138/miniconda3/envs/myflaml/lib/python3.8/site-packages/xgboost/data.py:192: FutureWarning: pandas.Int64Index is deprecated and will be removed from pandas in a future version. Use pandas.Index with the appropriate dtype instead.\n",
      "  from pandas import MultiIndex, Int64Index\n",
      "[flaml.automl: 06-26 11:28:44] {3072} INFO -  at 49.5s,\testimator xgboost's best error=0.3594,\tbest estimator lgbm's best error=0.3352\n",
      "[flaml.automl: 06-26 11:28:44] {2897} INFO - iteration 41, current learner lgbm\n",
      "[flaml.automl: 06-26 11:28:49] {3072} INFO -  at 53.7s,\testimator lgbm's best error=0.3341,\tbest estimator lgbm's best error=0.3341\n",
      "[flaml.automl: 06-26 11:28:49] {2897} INFO - iteration 42, current learner lrl1\n",
      "/home/qxw5138/miniconda3/envs/myflaml/lib/python3.8/site-packages/sklearn/linear_model/_sag.py:328: ConvergenceWarning: The max_iter was reached which means the coef_ did not converge\n",
      "  warnings.warn(\"The max_iter was reached which means \"\n",
      "[flaml.automl: 06-26 11:28:49] {3072} INFO -  at 53.9s,\testimator lrl1's best error=0.4339,\tbest estimator lgbm's best error=0.3341\n",
      "[flaml.automl: 06-26 11:28:49] {2897} INFO - iteration 43, current learner lrl1\n",
      "/home/qxw5138/miniconda3/envs/myflaml/lib/python3.8/site-packages/sklearn/linear_model/_sag.py:328: ConvergenceWarning: The max_iter was reached which means the coef_ did not converge\n",
      "  warnings.warn(\"The max_iter was reached which means \"\n",
      "[flaml.automl: 06-26 11:28:49] {3072} INFO -  at 54.1s,\testimator lrl1's best error=0.4339,\tbest estimator lgbm's best error=0.3341\n",
      "[flaml.automl: 06-26 11:28:49] {2897} INFO - iteration 44, current learner lrl1\n",
      "/home/qxw5138/miniconda3/envs/myflaml/lib/python3.8/site-packages/sklearn/linear_model/_sag.py:328: ConvergenceWarning: The max_iter was reached which means the coef_ did not converge\n",
      "  warnings.warn(\"The max_iter was reached which means \"\n",
      "[flaml.automl: 06-26 11:28:50] {3072} INFO -  at 54.8s,\testimator lrl1's best error=0.4334,\tbest estimator lgbm's best error=0.3341\n",
      "[flaml.automl: 06-26 11:28:50] {2897} INFO - iteration 45, current learner lgbm\n",
      "[flaml.automl: 06-26 11:28:51] {3072} INFO -  at 55.8s,\testimator lgbm's best error=0.3334,\tbest estimator lgbm's best error=0.3334\n",
      "[flaml.automl: 06-26 11:28:51] {2897} INFO - iteration 46, current learner lgbm\n",
      "[flaml.automl: 06-26 11:28:52] {3072} INFO -  at 56.8s,\testimator lgbm's best error=0.3334,\tbest estimator lgbm's best error=0.3334\n",
      "[flaml.automl: 06-26 11:28:52] {2897} INFO - iteration 47, current learner xgb_limitdepth\n",
      "/home/qxw5138/miniconda3/envs/myflaml/lib/python3.8/site-packages/xgboost/data.py:192: FutureWarning: pandas.Int64Index is deprecated and will be removed from pandas in a future version. Use pandas.Index with the appropriate dtype instead.\n",
      "  from pandas import MultiIndex, Int64Index\n",
      "[flaml.automl: 06-26 11:28:59] {3072} INFO -  at 64.0s,\testimator xgb_limitdepth's best error=0.3624,\tbest estimator lgbm's best error=0.3334\n",
      "[flaml.automl: 06-26 11:28:59] {2897} INFO - iteration 48, current learner lgbm\n",
      "[flaml.automl: 06-26 11:29:00] {3072} INFO -  at 64.9s,\testimator lgbm's best error=0.3334,\tbest estimator lgbm's best error=0.3334\n",
      "[flaml.automl: 06-26 11:29:00] {2897} INFO - iteration 49, current learner lgbm\n",
      "[flaml.automl: 06-26 11:29:00] {3072} INFO -  at 65.6s,\testimator lgbm's best error=0.3334,\tbest estimator lgbm's best error=0.3334\n",
      "[flaml.automl: 06-26 11:29:00] {2897} INFO - iteration 50, current learner rf\n",
      "[flaml.automl: 06-26 11:29:01] {3072} INFO -  at 65.8s,\testimator rf's best error=0.3753,\tbest estimator lgbm's best error=0.3334\n",
      "[flaml.automl: 06-26 11:29:01] {2897} INFO - iteration 51, current learner lgbm\n",
      "[flaml.automl: 06-26 11:29:02] {3072} INFO -  at 66.7s,\testimator lgbm's best error=0.3334,\tbest estimator lgbm's best error=0.3334\n",
      "[flaml.automl: 06-26 11:29:02] {2897} INFO - iteration 52, current learner lgbm\n",
      "[flaml.automl: 06-26 11:29:03] {3072} INFO -  at 68.1s,\testimator lgbm's best error=0.3334,\tbest estimator lgbm's best error=0.3334\n",
      "[flaml.automl: 06-26 11:29:03] {2897} INFO - iteration 53, current learner catboost\n",
      "[flaml.automl: 06-26 11:29:04] {3072} INFO -  at 69.1s,\testimator catboost's best error=0.3477,\tbest estimator lgbm's best error=0.3334\n",
      "[flaml.automl: 06-26 11:29:04] {2897} INFO - iteration 54, current learner lgbm\n",
      "[flaml.automl: 06-26 11:29:05] {3072} INFO -  at 70.0s,\testimator lgbm's best error=0.3334,\tbest estimator lgbm's best error=0.3334\n",
      "[flaml.automl: 06-26 11:29:05] {2897} INFO - iteration 55, current learner lgbm\n",
      "[flaml.automl: 06-26 11:29:06] {3072} INFO -  at 70.9s,\testimator lgbm's best error=0.3334,\tbest estimator lgbm's best error=0.3334\n",
      "[flaml.automl: 06-26 11:29:06] {2897} INFO - iteration 56, current learner lgbm\n",
      "[flaml.automl: 06-26 11:29:07] {3072} INFO -  at 71.9s,\testimator lgbm's best error=0.3329,\tbest estimator lgbm's best error=0.3329\n",
      "[flaml.automl: 06-26 11:29:07] {2897} INFO - iteration 57, current learner lgbm\n",
      "[flaml.automl: 06-26 11:29:08] {3072} INFO -  at 73.0s,\testimator lgbm's best error=0.3329,\tbest estimator lgbm's best error=0.3329\n",
      "[flaml.automl: 06-26 11:29:08] {2897} INFO - iteration 58, current learner rf\n",
      "[flaml.automl: 06-26 11:29:08] {3072} INFO -  at 73.3s,\testimator rf's best error=0.3753,\tbest estimator lgbm's best error=0.3329\n",
      "[flaml.automl: 06-26 11:29:08] {2897} INFO - iteration 59, current learner lgbm\n",
      "[flaml.automl: 06-26 11:29:09] {3072} INFO -  at 74.3s,\testimator lgbm's best error=0.3329,\tbest estimator lgbm's best error=0.3329\n",
      "[flaml.automl: 06-26 11:29:09] {2897} INFO - iteration 60, current learner lgbm\n",
      "[flaml.automl: 06-26 11:29:10] {3072} INFO -  at 75.2s,\testimator lgbm's best error=0.3329,\tbest estimator lgbm's best error=0.3329\n",
      "[flaml.automl: 06-26 11:29:10] {2897} INFO - iteration 61, current learner lgbm\n",
      "[flaml.automl: 06-26 11:29:12] {3072} INFO -  at 76.7s,\testimator lgbm's best error=0.3329,\tbest estimator lgbm's best error=0.3329\n",
      "[flaml.automl: 06-26 11:29:12] {2897} INFO - iteration 62, current learner lgbm\n",
      "[flaml.automl: 06-26 11:29:14] {3072} INFO -  at 78.8s,\testimator lgbm's best error=0.3329,\tbest estimator lgbm's best error=0.3329\n",
      "[flaml.automl: 06-26 11:29:14] {2897} INFO - iteration 63, current learner lgbm\n",
      "[flaml.automl: 06-26 11:29:14] {3072} INFO -  at 79.4s,\testimator lgbm's best error=0.3329,\tbest estimator lgbm's best error=0.3329\n",
      "[flaml.automl: 06-26 11:29:14] {2897} INFO - iteration 64, current learner lgbm\n",
      "[flaml.automl: 06-26 11:29:19] {3072} INFO -  at 84.2s,\testimator lgbm's best error=0.3329,\tbest estimator lgbm's best error=0.3329\n",
      "[flaml.automl: 06-26 11:29:19] {2897} INFO - iteration 65, current learner rf\n",
      "[flaml.automl: 06-26 11:29:19] {3072} INFO -  at 84.6s,\testimator rf's best error=0.3753,\tbest estimator lgbm's best error=0.3329\n",
      "[flaml.automl: 06-26 11:29:19] {2897} INFO - iteration 66, current learner catboost\n",
      "[flaml.automl: 06-26 11:29:32] {3072} INFO -  at 97.1s,\testimator catboost's best error=0.3477,\tbest estimator lgbm's best error=0.3329\n",
      "[flaml.automl: 06-26 11:29:32] {2897} INFO - iteration 67, current learner lgbm\n",
      "[flaml.automl: 06-26 11:29:32] {3072} INFO -  at 97.6s,\testimator lgbm's best error=0.3329,\tbest estimator lgbm's best error=0.3329\n",
      "[flaml.automl: 06-26 11:29:32] {2897} INFO - iteration 68, current learner lgbm\n",
      "[flaml.automl: 06-26 11:29:34] {3072} INFO -  at 98.8s,\testimator lgbm's best error=0.3329,\tbest estimator lgbm's best error=0.3329\n",
      "[flaml.automl: 06-26 11:29:34] {2897} INFO - iteration 69, current learner rf\n",
      "[flaml.automl: 06-26 11:29:34] {3072} INFO -  at 99.1s,\testimator rf's best error=0.3753,\tbest estimator lgbm's best error=0.3329\n",
      "[flaml.automl: 06-26 11:29:34] {2897} INFO - iteration 70, current learner lgbm\n",
      "[flaml.automl: 06-26 11:29:35] {3072} INFO -  at 99.8s,\testimator lgbm's best error=0.3329,\tbest estimator lgbm's best error=0.3329\n",
      "[flaml.automl: 06-26 11:29:35] {2897} INFO - iteration 71, current learner lgbm\n",
      "[flaml.automl: 06-26 11:29:36] {3072} INFO -  at 100.8s,\testimator lgbm's best error=0.3329,\tbest estimator lgbm's best error=0.3329\n",
      "[flaml.automl: 06-26 11:29:36] {2897} INFO - iteration 72, current learner lgbm\n",
      "[flaml.automl: 06-26 11:29:37] {3072} INFO -  at 101.7s,\testimator lgbm's best error=0.3329,\tbest estimator lgbm's best error=0.3329\n",
      "[flaml.automl: 06-26 11:29:37] {2897} INFO - iteration 73, current learner rf\n",
      "[flaml.automl: 06-26 11:29:37] {3072} INFO -  at 102.1s,\testimator rf's best error=0.3753,\tbest estimator lgbm's best error=0.3329\n",
      "[flaml.automl: 06-26 11:29:37] {2897} INFO - iteration 74, current learner lgbm\n",
      "[flaml.automl: 06-26 11:29:38] {3072} INFO -  at 102.8s,\testimator lgbm's best error=0.3329,\tbest estimator lgbm's best error=0.3329\n",
      "[flaml.automl: 06-26 11:29:38] {2897} INFO - iteration 75, current learner extra_tree\n",
      "[flaml.automl: 06-26 11:29:38] {3072} INFO -  at 103.1s,\testimator extra_tree's best error=0.3774,\tbest estimator lgbm's best error=0.3329\n",
      "[flaml.automl: 06-26 11:29:38] {2897} INFO - iteration 76, current learner lgbm\n",
      "[flaml.automl: 06-26 11:29:40] {3072} INFO -  at 105.5s,\testimator lgbm's best error=0.3329,\tbest estimator lgbm's best error=0.3329\n",
      "[flaml.automl: 06-26 11:29:40] {2897} INFO - iteration 77, current learner extra_tree\n",
      "[flaml.automl: 06-26 11:29:41] {3072} INFO -  at 106.0s,\testimator extra_tree's best error=0.3774,\tbest estimator lgbm's best error=0.3329\n",
      "[flaml.automl: 06-26 11:29:41] {2897} INFO - iteration 78, current learner lgbm\n",
      "[flaml.automl: 06-26 11:29:42] {3072} INFO -  at 107.4s,\testimator lgbm's best error=0.3329,\tbest estimator lgbm's best error=0.3329\n",
      "[flaml.automl: 06-26 11:29:42] {2897} INFO - iteration 79, current learner lgbm\n",
      "[flaml.automl: 06-26 11:29:45] {3072} INFO -  at 109.9s,\testimator lgbm's best error=0.3293,\tbest estimator lgbm's best error=0.3293\n",
      "[flaml.automl: 06-26 11:29:45] {2897} INFO - iteration 80, current learner lgbm\n",
      "[flaml.automl: 06-26 11:29:46] {3072} INFO -  at 111.1s,\testimator lgbm's best error=0.3293,\tbest estimator lgbm's best error=0.3293\n",
      "[flaml.automl: 06-26 11:29:46] {2897} INFO - iteration 81, current learner lgbm\n",
      "[flaml.automl: 06-26 11:29:53] {3072} INFO -  at 117.6s,\testimator lgbm's best error=0.3293,\tbest estimator lgbm's best error=0.3293\n",
      "[flaml.automl: 06-26 11:29:53] {2897} INFO - iteration 82, current learner lgbm\n",
      "[flaml.automl: 06-26 11:29:55] {3072} INFO -  at 120.2s,\testimator lgbm's best error=0.3279,\tbest estimator lgbm's best error=0.3279\n",
      "[flaml.automl: 06-26 11:29:55] {2897} INFO - iteration 83, current learner extra_tree\n",
      "[flaml.automl: 06-26 11:29:55] {3072} INFO -  at 120.5s,\testimator extra_tree's best error=0.3749,\tbest estimator lgbm's best error=0.3279\n",
      "[flaml.automl: 06-26 11:29:55] {2897} INFO - iteration 84, current learner lgbm\n",
      "[flaml.automl: 06-26 11:29:58] {3072} INFO -  at 123.1s,\testimator lgbm's best error=0.3278,\tbest estimator lgbm's best error=0.3278\n",
      "[flaml.automl: 06-26 11:29:58] {2897} INFO - iteration 85, current learner lgbm\n",
      "[flaml.automl: 06-26 11:29:59] {3072} INFO -  at 124.5s,\testimator lgbm's best error=0.3278,\tbest estimator lgbm's best error=0.3278\n",
      "[flaml.automl: 06-26 11:29:59] {2897} INFO - iteration 86, current learner lgbm\n",
      "[flaml.automl: 06-26 11:30:05] {3072} INFO -  at 130.6s,\testimator lgbm's best error=0.3278,\tbest estimator lgbm's best error=0.3278\n",
      "[flaml.automl: 06-26 11:30:05] {2897} INFO - iteration 87, current learner extra_tree\n",
      "[flaml.automl: 06-26 11:30:06] {3072} INFO -  at 131.2s,\testimator extra_tree's best error=0.3749,\tbest estimator lgbm's best error=0.3278\n",
      "[flaml.automl: 06-26 11:30:06] {2897} INFO - iteration 88, current learner lgbm\n",
      "[flaml.automl: 06-26 11:30:07] {3072} INFO -  at 131.9s,\testimator lgbm's best error=0.3278,\tbest estimator lgbm's best error=0.3278\n",
      "[flaml.automl: 06-26 11:30:07] {2897} INFO - iteration 89, current learner lgbm\n",
      "[flaml.automl: 06-26 11:30:15] {3072} INFO -  at 140.4s,\testimator lgbm's best error=0.3278,\tbest estimator lgbm's best error=0.3278\n",
      "[flaml.automl: 06-26 11:30:15] {2897} INFO - iteration 90, current learner lgbm\n",
      "[flaml.automl: 06-26 11:30:32] {3072} INFO -  at 156.8s,\testimator lgbm's best error=0.3278,\tbest estimator lgbm's best error=0.3278\n",
      "[flaml.automl: 06-26 11:30:32] {2897} INFO - iteration 91, current learner lgbm\n",
      "[flaml.automl: 06-26 11:30:32] {3072} INFO -  at 157.3s,\testimator lgbm's best error=0.3278,\tbest estimator lgbm's best error=0.3278\n",
      "[flaml.automl: 06-26 11:30:32] {2897} INFO - iteration 92, current learner extra_tree\n",
      "[flaml.automl: 06-26 11:30:32] {3072} INFO -  at 157.6s,\testimator extra_tree's best error=0.3749,\tbest estimator lgbm's best error=0.3278\n",
      "[flaml.automl: 06-26 11:30:32] {2897} INFO - iteration 93, current learner lgbm\n",
      "[flaml.automl: 06-26 11:30:33] {3072} INFO -  at 158.3s,\testimator lgbm's best error=0.3278,\tbest estimator lgbm's best error=0.3278\n",
      "[flaml.automl: 06-26 11:30:33] {2897} INFO - iteration 94, current learner lrl1\n",
      "/home/qxw5138/miniconda3/envs/myflaml/lib/python3.8/site-packages/sklearn/linear_model/_sag.py:328: ConvergenceWarning: The max_iter was reached which means the coef_ did not converge\n",
      "  warnings.warn(\"The max_iter was reached which means \"\n",
      "[flaml.automl: 06-26 11:30:34] {3072} INFO -  at 159.1s,\testimator lrl1's best error=0.4334,\tbest estimator lgbm's best error=0.3278\n",
      "[flaml.automl: 06-26 11:30:34] {2897} INFO - iteration 95, current learner rf\n",
      "[flaml.automl: 06-26 11:30:34] {3072} INFO -  at 159.4s,\testimator rf's best error=0.3753,\tbest estimator lgbm's best error=0.3278\n",
      "[flaml.automl: 06-26 11:30:34] {2897} INFO - iteration 96, current learner rf\n",
      "[flaml.automl: 06-26 11:30:35] {3072} INFO -  at 159.7s,\testimator rf's best error=0.3753,\tbest estimator lgbm's best error=0.3278\n",
      "[flaml.automl: 06-26 11:30:35] {2897} INFO - iteration 97, current learner lgbm\n",
      "[flaml.automl: 06-26 11:30:47] {3072} INFO -  at 172.5s,\testimator lgbm's best error=0.3278,\tbest estimator lgbm's best error=0.3278\n",
      "[flaml.automl: 06-26 11:30:47] {2897} INFO - iteration 98, current learner extra_tree\n",
      "[flaml.automl: 06-26 11:30:48] {3072} INFO -  at 172.8s,\testimator extra_tree's best error=0.3749,\tbest estimator lgbm's best error=0.3278\n",
      "[flaml.automl: 06-26 11:30:48] {2897} INFO - iteration 99, current learner rf\n",
      "[flaml.automl: 06-26 11:30:48] {3072} INFO -  at 173.1s,\testimator rf's best error=0.3753,\tbest estimator lgbm's best error=0.3278\n",
      "[flaml.automl: 06-26 11:30:48] {2897} INFO - iteration 100, current learner rf\n",
      "[flaml.automl: 06-26 11:30:48] {3072} INFO -  at 173.4s,\testimator rf's best error=0.3753,\tbest estimator lgbm's best error=0.3278\n",
      "[flaml.automl: 06-26 11:30:48] {2897} INFO - iteration 101, current learner lgbm\n",
      "[flaml.automl: 06-26 11:30:52] {3072} INFO -  at 177.3s,\testimator lgbm's best error=0.3278,\tbest estimator lgbm's best error=0.3278\n",
      "[flaml.automl: 06-26 11:30:52] {2897} INFO - iteration 102, current learner lgbm\n",
      "[flaml.automl: 06-26 11:30:54] {3072} INFO -  at 179.0s,\testimator lgbm's best error=0.3278,\tbest estimator lgbm's best error=0.3278\n",
      "[flaml.automl: 06-26 11:30:54] {2897} INFO - iteration 103, current learner extra_tree\n",
      "[flaml.automl: 06-26 11:30:54] {3072} INFO -  at 179.3s,\testimator extra_tree's best error=0.3749,\tbest estimator lgbm's best error=0.3278\n",
      "[flaml.automl: 06-26 11:30:54] {2897} INFO - iteration 104, current learner rf\n",
      "[flaml.automl: 06-26 11:30:55] {3072} INFO -  at 179.7s,\testimator rf's best error=0.3753,\tbest estimator lgbm's best error=0.3278\n",
      "[flaml.automl: 06-26 11:30:55] {2897} INFO - iteration 105, current learner lgbm\n",
      "[flaml.automl: 06-26 11:30:56] {3072} INFO -  at 180.7s,\testimator lgbm's best error=0.3278,\tbest estimator lgbm's best error=0.3278\n",
      "[flaml.automl: 06-26 11:30:56] {2897} INFO - iteration 106, current learner rf\n",
      "[flaml.automl: 06-26 11:30:56] {3072} INFO -  at 181.0s,\testimator rf's best error=0.3642,\tbest estimator lgbm's best error=0.3278\n",
      "[flaml.automl: 06-26 11:30:56] {2897} INFO - iteration 107, current learner rf\n",
      "[flaml.automl: 06-26 11:30:56] {3072} INFO -  at 181.2s,\testimator rf's best error=0.3642,\tbest estimator lgbm's best error=0.3278\n",
      "[flaml.automl: 06-26 11:30:56] {2897} INFO - iteration 108, current learner rf\n",
      "[flaml.automl: 06-26 11:30:56] {3072} INFO -  at 181.5s,\testimator rf's best error=0.3642,\tbest estimator lgbm's best error=0.3278\n",
      "[flaml.automl: 06-26 11:30:56] {2897} INFO - iteration 109, current learner extra_tree\n",
      "[flaml.automl: 06-26 11:30:57] {3072} INFO -  at 181.9s,\testimator extra_tree's best error=0.3749,\tbest estimator lgbm's best error=0.3278\n",
      "[flaml.automl: 06-26 11:30:57] {2897} INFO - iteration 110, current learner rf\n",
      "[flaml.automl: 06-26 11:30:57] {3072} INFO -  at 182.2s,\testimator rf's best error=0.3629,\tbest estimator lgbm's best error=0.3278\n",
      "[flaml.automl: 06-26 11:30:57] {2897} INFO - iteration 111, current learner extra_tree\n",
      "[flaml.automl: 06-26 11:30:58] {3072} INFO -  at 182.7s,\testimator extra_tree's best error=0.3749,\tbest estimator lgbm's best error=0.3278\n",
      "[flaml.automl: 06-26 11:30:58] {2897} INFO - iteration 112, current learner rf\n",
      "[flaml.automl: 06-26 11:30:58] {3072} INFO -  at 183.1s,\testimator rf's best error=0.3578,\tbest estimator lgbm's best error=0.3278\n",
      "[flaml.automl: 06-26 11:30:58] {2897} INFO - iteration 113, current learner lgbm\n",
      "[flaml.automl: 06-26 11:31:18] {3072} INFO -  at 203.3s,\testimator lgbm's best error=0.3278,\tbest estimator lgbm's best error=0.3278\n",
      "[flaml.automl: 06-26 11:31:18] {2897} INFO - iteration 114, current learner rf\n",
      "[flaml.automl: 06-26 11:31:19] {3072} INFO -  at 203.7s,\testimator rf's best error=0.3578,\tbest estimator lgbm's best error=0.3278\n",
      "[flaml.automl: 06-26 11:31:19] {2897} INFO - iteration 115, current learner rf\n",
      "[flaml.automl: 06-26 11:31:19] {3072} INFO -  at 204.0s,\testimator rf's best error=0.3578,\tbest estimator lgbm's best error=0.3278\n",
      "[flaml.automl: 06-26 11:31:19] {2897} INFO - iteration 116, current learner lrl1\n",
      "/home/qxw5138/miniconda3/envs/myflaml/lib/python3.8/site-packages/sklearn/linear_model/_sag.py:328: ConvergenceWarning: The max_iter was reached which means the coef_ did not converge\n",
      "  warnings.warn(\"The max_iter was reached which means \"\n",
      "[flaml.automl: 06-26 11:31:20] {3072} INFO -  at 204.8s,\testimator lrl1's best error=0.4334,\tbest estimator lgbm's best error=0.3278\n",
      "[flaml.automl: 06-26 11:31:20] {2897} INFO - iteration 117, current learner rf\n",
      "[flaml.automl: 06-26 11:31:20] {3072} INFO -  at 205.3s,\testimator rf's best error=0.3578,\tbest estimator lgbm's best error=0.3278\n",
      "[flaml.automl: 06-26 11:31:20] {2897} INFO - iteration 118, current learner lgbm\n",
      "[flaml.automl: 06-26 11:31:23] {3072} INFO -  at 208.2s,\testimator lgbm's best error=0.3273,\tbest estimator lgbm's best error=0.3273\n",
      "[flaml.automl: 06-26 11:31:23] {2897} INFO - iteration 119, current learner extra_tree\n",
      "[flaml.automl: 06-26 11:31:24] {3072} INFO -  at 208.6s,\testimator extra_tree's best error=0.3736,\tbest estimator lgbm's best error=0.3273\n",
      "[flaml.automl: 06-26 11:31:24] {2897} INFO - iteration 120, current learner rf\n",
      "[flaml.automl: 06-26 11:31:24] {3072} INFO -  at 208.9s,\testimator rf's best error=0.3578,\tbest estimator lgbm's best error=0.3273\n",
      "[flaml.automl: 06-26 11:31:24] {2897} INFO - iteration 121, current learner lgbm\n",
      "[flaml.automl: 06-26 11:31:26] {3072} INFO -  at 211.6s,\testimator lgbm's best error=0.3273,\tbest estimator lgbm's best error=0.3273\n",
      "[flaml.automl: 06-26 11:31:26] {2897} INFO - iteration 122, current learner rf\n",
      "[flaml.automl: 06-26 11:31:28] {3072} INFO -  at 213.1s,\testimator rf's best error=0.3536,\tbest estimator lgbm's best error=0.3273\n",
      "[flaml.automl: 06-26 11:31:28] {2897} INFO - iteration 123, current learner rf\n",
      "[flaml.automl: 06-26 11:31:29] {3072} INFO -  at 214.3s,\testimator rf's best error=0.3446,\tbest estimator lgbm's best error=0.3273\n",
      "[flaml.automl: 06-26 11:31:29] {2897} INFO - iteration 124, current learner rf\n",
      "[flaml.automl: 06-26 11:31:31] {3072} INFO -  at 215.8s,\testimator rf's best error=0.3446,\tbest estimator lgbm's best error=0.3273\n",
      "[flaml.automl: 06-26 11:31:31] {2897} INFO - iteration 125, current learner rf\n",
      "[flaml.automl: 06-26 11:31:33] {3072} INFO -  at 217.9s,\testimator rf's best error=0.3446,\tbest estimator lgbm's best error=0.3273\n",
      "[flaml.automl: 06-26 11:31:33] {2897} INFO - iteration 126, current learner lgbm\n",
      "[flaml.automl: 06-26 11:31:42] {3072} INFO -  at 227.0s,\testimator lgbm's best error=0.3273,\tbest estimator lgbm's best error=0.3273\n",
      "[flaml.automl: 06-26 11:31:42] {2897} INFO - iteration 127, current learner lgbm\n",
      "[flaml.automl: 06-26 11:31:43] {3072} INFO -  at 227.9s,\testimator lgbm's best error=0.3273,\tbest estimator lgbm's best error=0.3273\n",
      "[flaml.automl: 06-26 11:31:43] {2897} INFO - iteration 128, current learner lgbm\n",
      "[flaml.automl: 06-26 11:31:45] {3072} INFO -  at 229.7s,\testimator lgbm's best error=0.3273,\tbest estimator lgbm's best error=0.3273\n",
      "[flaml.automl: 06-26 11:31:45] {2897} INFO - iteration 129, current learner lgbm\n",
      "[flaml.automl: 06-26 11:31:48] {3072} INFO -  at 233.2s,\testimator lgbm's best error=0.3273,\tbest estimator lgbm's best error=0.3273\n",
      "[flaml.automl: 06-26 11:31:48] {2897} INFO - iteration 130, current learner rf\n",
      "[flaml.automl: 06-26 11:31:49] {3072} INFO -  at 234.1s,\testimator rf's best error=0.3446,\tbest estimator lgbm's best error=0.3273\n",
      "[flaml.automl: 06-26 11:31:49] {2897} INFO - iteration 131, current learner catboost\n",
      "[flaml.automl: 06-26 11:31:52] {3072} INFO -  at 236.8s,\testimator catboost's best error=0.3396,\tbest estimator lgbm's best error=0.3273\n",
      "[flaml.automl: 06-26 11:31:52] {2897} INFO - iteration 132, current learner rf\n",
      "[flaml.automl: 06-26 11:31:53] {3072} INFO -  at 238.4s,\testimator rf's best error=0.3423,\tbest estimator lgbm's best error=0.3273\n",
      "[flaml.automl: 06-26 11:31:53] {2897} INFO - iteration 133, current learner catboost\n",
      "[flaml.automl: 06-26 11:32:56] {3072} INFO -  at 301.6s,\testimator catboost's best error=0.3396,\tbest estimator lgbm's best error=0.3273\n",
      "[flaml.automl: 06-26 11:32:56] {2897} INFO - iteration 134, current learner extra_tree\n",
      "[flaml.automl: 06-26 11:32:57] {3072} INFO -  at 302.1s,\testimator extra_tree's best error=0.3736,\tbest estimator lgbm's best error=0.3273\n",
      "[flaml.automl: 06-26 11:32:57] {2897} INFO - iteration 135, current learner lgbm\n",
      "[flaml.automl: 06-26 11:33:00] {3072} INFO -  at 304.9s,\testimator lgbm's best error=0.3273,\tbest estimator lgbm's best error=0.3273\n",
      "[flaml.automl: 06-26 11:33:00] {2897} INFO - iteration 136, current learner lgbm\n",
      "[flaml.automl: 06-26 11:33:03] {3072} INFO -  at 308.5s,\testimator lgbm's best error=0.3273,\tbest estimator lgbm's best error=0.3273\n",
      "[flaml.automl: 06-26 11:33:03] {2897} INFO - iteration 137, current learner rf\n",
      "[flaml.automl: 06-26 11:33:05] {3072} INFO -  at 309.9s,\testimator rf's best error=0.3423,\tbest estimator lgbm's best error=0.3273\n",
      "[flaml.automl: 06-26 11:33:05] {2897} INFO - iteration 138, current learner xgb_limitdepth\n",
      "/home/qxw5138/miniconda3/envs/myflaml/lib/python3.8/site-packages/xgboost/data.py:192: FutureWarning: pandas.Int64Index is deprecated and will be removed from pandas in a future version. Use pandas.Index with the appropriate dtype instead.\n",
      "  from pandas import MultiIndex, Int64Index\n",
      "[flaml.automl: 06-26 11:33:08] {3072} INFO -  at 313.6s,\testimator xgb_limitdepth's best error=0.3624,\tbest estimator lgbm's best error=0.3273\n",
      "[flaml.automl: 06-26 11:33:08] {2897} INFO - iteration 139, current learner rf\n",
      "[flaml.automl: 06-26 11:33:10] {3072} INFO -  at 315.4s,\testimator rf's best error=0.3339,\tbest estimator lgbm's best error=0.3273\n",
      "[flaml.automl: 06-26 11:33:10] {2897} INFO - iteration 140, current learner lgbm\n",
      "[flaml.automl: 06-26 11:33:14] {3072} INFO -  at 318.7s,\testimator lgbm's best error=0.3273,\tbest estimator lgbm's best error=0.3273\n",
      "[flaml.automl: 06-26 11:33:14] {2897} INFO - iteration 141, current learner rf\n",
      "[flaml.automl: 06-26 11:33:15] {3072} INFO -  at 320.1s,\testimator rf's best error=0.3339,\tbest estimator lgbm's best error=0.3273\n",
      "[flaml.automl: 06-26 11:33:15] {2897} INFO - iteration 142, current learner rf\n",
      "[flaml.automl: 06-26 11:33:18] {3072} INFO -  at 323.0s,\testimator rf's best error=0.3337,\tbest estimator lgbm's best error=0.3273\n",
      "[flaml.automl: 06-26 11:33:18] {2897} INFO - iteration 143, current learner xgboost\n",
      "/home/qxw5138/miniconda3/envs/myflaml/lib/python3.8/site-packages/xgboost/data.py:192: FutureWarning: pandas.Int64Index is deprecated and will be removed from pandas in a future version. Use pandas.Index with the appropriate dtype instead.\n",
      "  from pandas import MultiIndex, Int64Index\n",
      "[flaml.automl: 06-26 11:33:21] {3072} INFO -  at 326.5s,\testimator xgboost's best error=0.3594,\tbest estimator lgbm's best error=0.3273\n",
      "[flaml.automl: 06-26 11:33:21] {2897} INFO - iteration 144, current learner lgbm\n",
      "[flaml.automl: 06-26 11:33:23] {3072} INFO -  at 328.2s,\testimator lgbm's best error=0.3273,\tbest estimator lgbm's best error=0.3273\n",
      "[flaml.automl: 06-26 11:33:23] {2897} INFO - iteration 145, current learner extra_tree\n",
      "[flaml.automl: 06-26 11:33:23] {3072} INFO -  at 328.6s,\testimator extra_tree's best error=0.3736,\tbest estimator lgbm's best error=0.3273\n",
      "[flaml.automl: 06-26 11:33:23] {2897} INFO - iteration 146, current learner catboost\n",
      "[flaml.automl: 06-26 11:33:38] {3072} INFO -  at 343.4s,\testimator catboost's best error=0.3396,\tbest estimator lgbm's best error=0.3273\n",
      "[flaml.automl: 06-26 11:33:38] {2897} INFO - iteration 147, current learner rf\n",
      "[flaml.automl: 06-26 11:33:40] {3072} INFO -  at 345.3s,\testimator rf's best error=0.3337,\tbest estimator lgbm's best error=0.3273\n",
      "[flaml.automl: 06-26 11:33:40] {2897} INFO - iteration 148, current learner lgbm\n",
      "[flaml.automl: 06-26 11:33:42] {3072} INFO -  at 347.1s,\testimator lgbm's best error=0.3273,\tbest estimator lgbm's best error=0.3273\n",
      "[flaml.automl: 06-26 11:33:42] {2897} INFO - iteration 149, current learner lgbm\n",
      "[flaml.automl: 06-26 11:33:47] {3072} INFO -  at 352.4s,\testimator lgbm's best error=0.3273,\tbest estimator lgbm's best error=0.3273\n",
      "[flaml.automl: 06-26 11:33:47] {2897} INFO - iteration 150, current learner lgbm\n",
      "[flaml.automl: 06-26 11:33:48] {3072} INFO -  at 353.5s,\testimator lgbm's best error=0.3273,\tbest estimator lgbm's best error=0.3273\n",
      "[flaml.automl: 06-26 11:33:48] {2897} INFO - iteration 151, current learner lgbm\n",
      "[flaml.automl: 06-26 11:33:54] {3072} INFO -  at 359.3s,\testimator lgbm's best error=0.3273,\tbest estimator lgbm's best error=0.3273\n",
      "[flaml.automl: 06-26 11:33:54] {2897} INFO - iteration 152, current learner lgbm\n",
      "[flaml.automl: 06-26 11:33:55] {3072} INFO -  at 360.0s,\testimator lgbm's best error=0.3273,\tbest estimator lgbm's best error=0.3273\n",
      "[flaml.automl: 06-26 11:33:55] {2897} INFO - iteration 153, current learner lgbm\n",
      "[flaml.automl: 06-26 11:34:04] {3072} INFO -  at 369.2s,\testimator lgbm's best error=0.3273,\tbest estimator lgbm's best error=0.3273\n",
      "[flaml.automl: 06-26 11:34:04] {2897} INFO - iteration 154, current learner catboost\n",
      "[flaml.automl: 06-26 11:34:05] {3072} INFO -  at 370.6s,\testimator catboost's best error=0.3396,\tbest estimator lgbm's best error=0.3273\n",
      "[flaml.automl: 06-26 11:34:05] {2897} INFO - iteration 155, current learner rf\n",
      "[flaml.automl: 06-26 11:34:11] {3072} INFO -  at 375.7s,\testimator rf's best error=0.3325,\tbest estimator lgbm's best error=0.3273\n",
      "[flaml.automl: 06-26 11:34:11] {2897} INFO - iteration 156, current learner lgbm\n",
      "[flaml.automl: 06-26 11:34:17] {3072} INFO -  at 382.1s,\testimator lgbm's best error=0.3273,\tbest estimator lgbm's best error=0.3273\n",
      "[flaml.automl: 06-26 11:34:17] {2897} INFO - iteration 157, current learner lgbm\n",
      "[flaml.automl: 06-26 11:34:18] {3072} INFO -  at 383.4s,\testimator lgbm's best error=0.3273,\tbest estimator lgbm's best error=0.3273\n",
      "[flaml.automl: 06-26 11:34:18] {2897} INFO - iteration 158, current learner xgb_limitdepth\n",
      "/home/qxw5138/miniconda3/envs/myflaml/lib/python3.8/site-packages/xgboost/data.py:192: FutureWarning: pandas.Int64Index is deprecated and will be removed from pandas in a future version. Use pandas.Index with the appropriate dtype instead.\n",
      "  from pandas import MultiIndex, Int64Index\n",
      "[flaml.automl: 06-26 11:34:21] {3072} INFO -  at 386.1s,\testimator xgb_limitdepth's best error=0.3624,\tbest estimator lgbm's best error=0.3273\n",
      "[flaml.automl: 06-26 11:34:21] {2897} INFO - iteration 159, current learner rf\n",
      "[flaml.automl: 06-26 11:34:24] {3072} INFO -  at 389.1s,\testimator rf's best error=0.3325,\tbest estimator lgbm's best error=0.3273\n",
      "[flaml.automl: 06-26 11:34:24] {2897} INFO - iteration 160, current learner lgbm\n",
      "[flaml.automl: 06-26 11:34:25] {3072} INFO -  at 390.1s,\testimator lgbm's best error=0.3273,\tbest estimator lgbm's best error=0.3273\n",
      "[flaml.automl: 06-26 11:34:25] {2897} INFO - iteration 161, current learner lgbm\n",
      "[flaml.automl: 06-26 11:34:35] {3072} INFO -  at 399.8s,\testimator lgbm's best error=0.3273,\tbest estimator lgbm's best error=0.3273\n",
      "[flaml.automl: 06-26 11:34:35] {2897} INFO - iteration 162, current learner catboost\n",
      "[flaml.automl: 06-26 11:34:35] {3072} INFO -  at 400.3s,\testimator catboost's best error=0.3396,\tbest estimator lgbm's best error=0.3273\n",
      "[flaml.automl: 06-26 11:34:35] {2897} INFO - iteration 163, current learner lgbm\n",
      "[flaml.automl: 06-26 11:34:40] {3072} INFO -  at 405.5s,\testimator lgbm's best error=0.3273,\tbest estimator lgbm's best error=0.3273\n",
      "[flaml.automl: 06-26 11:34:40] {2897} INFO - iteration 164, current learner rf\n",
      "[flaml.automl: 06-26 11:34:48] {3072} INFO -  at 412.7s,\testimator rf's best error=0.3325,\tbest estimator lgbm's best error=0.3273\n",
      "[flaml.automl: 06-26 11:34:48] {2897} INFO - iteration 165, current learner lrl1\n",
      "/home/qxw5138/miniconda3/envs/myflaml/lib/python3.8/site-packages/sklearn/linear_model/_sag.py:328: ConvergenceWarning: The max_iter was reached which means the coef_ did not converge\n",
      "  warnings.warn(\"The max_iter was reached which means \"\n",
      "[flaml.automl: 06-26 11:34:58] {3072} INFO -  at 423.3s,\testimator lrl1's best error=0.4255,\tbest estimator lgbm's best error=0.3273\n",
      "[flaml.automl: 06-26 11:34:58] {2897} INFO - iteration 166, current learner extra_tree\n",
      "[flaml.automl: 06-26 11:34:59] {3072} INFO -  at 424.4s,\testimator extra_tree's best error=0.3610,\tbest estimator lgbm's best error=0.3273\n",
      "[flaml.automl: 06-26 11:34:59] {2897} INFO - iteration 167, current learner extra_tree\n",
      "[flaml.automl: 06-26 11:35:00] {3072} INFO -  at 425.0s,\testimator extra_tree's best error=0.3572,\tbest estimator lgbm's best error=0.3273\n",
      "[flaml.automl: 06-26 11:35:00] {2897} INFO - iteration 168, current learner extra_tree\n",
      "[flaml.automl: 06-26 11:35:01] {3072} INFO -  at 425.8s,\testimator extra_tree's best error=0.3572,\tbest estimator lgbm's best error=0.3273\n",
      "[flaml.automl: 06-26 11:35:01] {2897} INFO - iteration 169, current learner extra_tree\n",
      "[flaml.automl: 06-26 11:35:01] {3072} INFO -  at 426.4s,\testimator extra_tree's best error=0.3572,\tbest estimator lgbm's best error=0.3273\n",
      "[flaml.automl: 06-26 11:35:01] {2897} INFO - iteration 170, current learner extra_tree\n",
      "[flaml.automl: 06-26 11:35:02] {3072} INFO -  at 427.3s,\testimator extra_tree's best error=0.3572,\tbest estimator lgbm's best error=0.3273\n",
      "[flaml.automl: 06-26 11:35:02] {2897} INFO - iteration 171, current learner lgbm\n",
      "[flaml.automl: 06-26 11:35:04] {3072} INFO -  at 429.0s,\testimator lgbm's best error=0.3273,\tbest estimator lgbm's best error=0.3273\n",
      "[flaml.automl: 06-26 11:35:04] {2897} INFO - iteration 172, current learner lgbm\n",
      "[flaml.automl: 06-26 11:35:11] {3072} INFO -  at 435.7s,\testimator lgbm's best error=0.3273,\tbest estimator lgbm's best error=0.3273\n",
      "[flaml.automl: 06-26 11:35:11] {2897} INFO - iteration 173, current learner lgbm\n",
      "[flaml.automl: 06-26 11:35:12] {3072} INFO -  at 437.2s,\testimator lgbm's best error=0.3273,\tbest estimator lgbm's best error=0.3273\n",
      "[flaml.automl: 06-26 11:35:12] {2897} INFO - iteration 174, current learner extra_tree\n",
      "[flaml.automl: 06-26 11:35:13] {3072} INFO -  at 437.7s,\testimator extra_tree's best error=0.3572,\tbest estimator lgbm's best error=0.3273\n",
      "[flaml.automl: 06-26 11:35:13] {2897} INFO - iteration 175, current learner extra_tree\n",
      "[flaml.automl: 06-26 11:35:14] {3072} INFO -  at 438.6s,\testimator extra_tree's best error=0.3503,\tbest estimator lgbm's best error=0.3273\n",
      "[flaml.automl: 06-26 11:35:14] {2897} INFO - iteration 176, current learner extra_tree\n",
      "[flaml.automl: 06-26 11:35:14] {3072} INFO -  at 439.5s,\testimator extra_tree's best error=0.3459,\tbest estimator lgbm's best error=0.3273\n",
      "[flaml.automl: 06-26 11:35:14] {2897} INFO - iteration 177, current learner extra_tree\n",
      "[flaml.automl: 06-26 11:35:15] {3072} INFO -  at 440.4s,\testimator extra_tree's best error=0.3459,\tbest estimator lgbm's best error=0.3273\n",
      "[flaml.automl: 06-26 11:35:15] {2897} INFO - iteration 178, current learner lrl1\n",
      "/home/qxw5138/miniconda3/envs/myflaml/lib/python3.8/site-packages/sklearn/linear_model/_sag.py:328: ConvergenceWarning: The max_iter was reached which means the coef_ did not converge\n",
      "  warnings.warn(\"The max_iter was reached which means \"\n",
      "[flaml.automl: 06-26 11:35:26] {3072} INFO -  at 450.9s,\testimator lrl1's best error=0.4254,\tbest estimator lgbm's best error=0.3273\n",
      "[flaml.automl: 06-26 11:35:26] {2897} INFO - iteration 179, current learner extra_tree\n",
      "[flaml.automl: 06-26 11:35:27] {3072} INFO -  at 452.2s,\testimator extra_tree's best error=0.3431,\tbest estimator lgbm's best error=0.3273\n",
      "[flaml.automl: 06-26 11:35:27] {2897} INFO - iteration 180, current learner extra_tree\n",
      "[flaml.automl: 06-26 11:35:28] {3072} INFO -  at 453.1s,\testimator extra_tree's best error=0.3431,\tbest estimator lgbm's best error=0.3273\n",
      "[flaml.automl: 06-26 11:35:28] {2897} INFO - iteration 181, current learner extra_tree\n",
      "[flaml.automl: 06-26 11:35:29] {3072} INFO -  at 454.6s,\testimator extra_tree's best error=0.3431,\tbest estimator lgbm's best error=0.3273\n",
      "[flaml.automl: 06-26 11:35:29] {2897} INFO - iteration 182, current learner extra_tree\n",
      "[flaml.automl: 06-26 11:35:31] {3072} INFO -  at 455.7s,\testimator extra_tree's best error=0.3431,\tbest estimator lgbm's best error=0.3273\n",
      "[flaml.automl: 06-26 11:35:31] {2897} INFO - iteration 183, current learner extra_tree\n",
      "[flaml.automl: 06-26 11:35:32] {3072} INFO -  at 457.3s,\testimator extra_tree's best error=0.3382,\tbest estimator lgbm's best error=0.3273\n",
      "[flaml.automl: 06-26 11:35:32] {2897} INFO - iteration 184, current learner rf\n",
      "[flaml.automl: 06-26 11:35:37] {3072} INFO -  at 462.2s,\testimator rf's best error=0.3325,\tbest estimator lgbm's best error=0.3273\n",
      "[flaml.automl: 06-26 11:35:37] {2897} INFO - iteration 185, current learner lgbm\n",
      "[flaml.automl: 06-26 11:35:46] {3072} INFO -  at 471.5s,\testimator lgbm's best error=0.3273,\tbest estimator lgbm's best error=0.3273\n",
      "[flaml.automl: 06-26 11:35:46] {2897} INFO - iteration 186, current learner extra_tree\n",
      "[flaml.automl: 06-26 11:35:48] {3072} INFO -  at 472.8s,\testimator extra_tree's best error=0.3382,\tbest estimator lgbm's best error=0.3273\n",
      "[flaml.automl: 06-26 11:35:48] {2897} INFO - iteration 187, current learner extra_tree\n",
      "[flaml.automl: 06-26 11:35:49] {3072} INFO -  at 474.5s,\testimator extra_tree's best error=0.3344,\tbest estimator lgbm's best error=0.3273\n",
      "[flaml.automl: 06-26 11:35:49] {2897} INFO - iteration 188, current learner extra_tree\n",
      "[flaml.automl: 06-26 11:35:51] {3072} INFO -  at 476.1s,\testimator extra_tree's best error=0.3344,\tbest estimator lgbm's best error=0.3273\n",
      "[flaml.automl: 06-26 11:35:51] {2897} INFO - iteration 189, current learner extra_tree\n",
      "[flaml.automl: 06-26 11:35:54] {3072} INFO -  at 479.3s,\testimator extra_tree's best error=0.3344,\tbest estimator lgbm's best error=0.3273\n",
      "[flaml.automl: 06-26 11:35:54] {2897} INFO - iteration 190, current learner lgbm\n",
      "[flaml.automl: 06-26 11:35:56] {3072} INFO -  at 480.7s,\testimator lgbm's best error=0.3273,\tbest estimator lgbm's best error=0.3273\n",
      "[flaml.automl: 06-26 11:35:56] {2897} INFO - iteration 191, current learner rf\n",
      "[flaml.automl: 06-26 11:35:59] {3072} INFO -  at 484.3s,\testimator rf's best error=0.3325,\tbest estimator lgbm's best error=0.3273\n",
      "[flaml.automl: 06-26 11:35:59] {2897} INFO - iteration 192, current learner extra_tree\n",
      "[flaml.automl: 06-26 11:36:00] {3072} INFO -  at 485.6s,\testimator extra_tree's best error=0.3344,\tbest estimator lgbm's best error=0.3273\n",
      "[flaml.automl: 06-26 11:36:00] {2897} INFO - iteration 193, current learner lgbm\n",
      "[flaml.automl: 06-26 11:36:08] {3072} INFO -  at 493.6s,\testimator lgbm's best error=0.3273,\tbest estimator lgbm's best error=0.3273\n",
      "[flaml.automl: 06-26 11:36:08] {2897} INFO - iteration 194, current learner extra_tree\n",
      "[flaml.automl: 06-26 11:36:11] {3072} INFO -  at 496.0s,\testimator extra_tree's best error=0.3344,\tbest estimator lgbm's best error=0.3273\n",
      "[flaml.automl: 06-26 11:36:11] {2897} INFO - iteration 195, current learner extra_tree\n",
      "[flaml.automl: 06-26 11:36:12] {3072} INFO -  at 497.6s,\testimator extra_tree's best error=0.3344,\tbest estimator lgbm's best error=0.3273\n",
      "[flaml.automl: 06-26 11:36:12] {2897} INFO - iteration 196, current learner extra_tree\n",
      "[flaml.automl: 06-26 11:36:14] {3072} INFO -  at 499.3s,\testimator extra_tree's best error=0.3344,\tbest estimator lgbm's best error=0.3273\n",
      "[flaml.automl: 06-26 11:36:14] {2897} INFO - iteration 197, current learner rf\n",
      "[flaml.automl: 06-26 11:36:25] {3072} INFO -  at 510.0s,\testimator rf's best error=0.3314,\tbest estimator lgbm's best error=0.3273\n",
      "[flaml.automl: 06-26 11:36:25] {2897} INFO - iteration 198, current learner lgbm\n",
      "[flaml.automl: 06-26 11:36:26] {3072} INFO -  at 511.2s,\testimator lgbm's best error=0.3273,\tbest estimator lgbm's best error=0.3273\n",
      "[flaml.automl: 06-26 11:36:26] {2897} INFO - iteration 199, current learner extra_tree\n",
      "[flaml.automl: 06-26 11:36:28] {3072} INFO -  at 513.5s,\testimator extra_tree's best error=0.3344,\tbest estimator lgbm's best error=0.3273\n",
      "[flaml.automl: 06-26 11:36:28] {2897} INFO - iteration 200, current learner extra_tree\n",
      "[flaml.automl: 06-26 11:36:31] {3072} INFO -  at 515.8s,\testimator extra_tree's best error=0.3344,\tbest estimator lgbm's best error=0.3273\n",
      "[flaml.automl: 06-26 11:36:31] {2897} INFO - iteration 201, current learner extra_tree\n",
      "[flaml.automl: 06-26 11:36:32] {3072} INFO -  at 517.5s,\testimator extra_tree's best error=0.3344,\tbest estimator lgbm's best error=0.3273\n",
      "[flaml.automl: 06-26 11:36:32] {2897} INFO - iteration 202, current learner extra_tree\n",
      "[flaml.automl: 06-26 11:36:34] {3072} INFO -  at 519.1s,\testimator extra_tree's best error=0.3344,\tbest estimator lgbm's best error=0.3273\n",
      "[flaml.automl: 06-26 11:36:34] {2897} INFO - iteration 203, current learner lgbm\n",
      "[flaml.automl: 06-26 11:36:35] {3072} INFO -  at 520.0s,\testimator lgbm's best error=0.3273,\tbest estimator lgbm's best error=0.3273\n",
      "[flaml.automl: 06-26 11:36:35] {2897} INFO - iteration 204, current learner lgbm\n",
      "[flaml.automl: 06-26 11:36:43] {3072} INFO -  at 528.5s,\testimator lgbm's best error=0.3273,\tbest estimator lgbm's best error=0.3273\n",
      "[flaml.automl: 06-26 11:36:43] {2897} INFO - iteration 205, current learner extra_tree\n",
      "[flaml.automl: 06-26 11:36:46] {3072} INFO -  at 530.7s,\testimator extra_tree's best error=0.3344,\tbest estimator lgbm's best error=0.3273\n",
      "[flaml.automl: 06-26 11:36:46] {2897} INFO - iteration 206, current learner extra_tree\n",
      "[flaml.automl: 06-26 11:36:48] {3072} INFO -  at 532.6s,\testimator extra_tree's best error=0.3344,\tbest estimator lgbm's best error=0.3273\n",
      "[flaml.automl: 06-26 11:36:48] {2897} INFO - iteration 207, current learner extra_tree\n",
      "[flaml.automl: 06-26 11:36:49] {3072} INFO -  at 534.3s,\testimator extra_tree's best error=0.3344,\tbest estimator lgbm's best error=0.3273\n",
      "[flaml.automl: 06-26 11:36:49] {2897} INFO - iteration 208, current learner catboost\n",
      "[flaml.automl: 06-26 11:36:50] {3072} INFO -  at 535.2s,\testimator catboost's best error=0.3396,\tbest estimator lgbm's best error=0.3273\n",
      "[flaml.automl: 06-26 11:36:50] {2897} INFO - iteration 209, current learner extra_tree\n",
      "[flaml.automl: 06-26 11:36:52] {3072} INFO -  at 537.0s,\testimator extra_tree's best error=0.3344,\tbest estimator lgbm's best error=0.3273\n",
      "[flaml.automl: 06-26 11:36:52] {2897} INFO - iteration 210, current learner xgboost\n",
      "/home/qxw5138/miniconda3/envs/myflaml/lib/python3.8/site-packages/xgboost/data.py:192: FutureWarning: pandas.Int64Index is deprecated and will be removed from pandas in a future version. Use pandas.Index with the appropriate dtype instead.\n",
      "  from pandas import MultiIndex, Int64Index\n",
      "[flaml.automl: 06-26 11:36:52] {3072} INFO -  at 537.5s,\testimator xgboost's best error=0.3594,\tbest estimator lgbm's best error=0.3273\n",
      "[flaml.automl: 06-26 11:36:52] {2897} INFO - iteration 211, current learner rf\n",
      "[flaml.automl: 06-26 11:37:02] {3072} INFO -  at 546.7s,\testimator rf's best error=0.3314,\tbest estimator lgbm's best error=0.3273\n",
      "[flaml.automl: 06-26 11:37:02] {2897} INFO - iteration 212, current learner catboost\n",
      "[flaml.automl: 06-26 11:37:02] {3072} INFO -  at 547.5s,\testimator catboost's best error=0.3396,\tbest estimator lgbm's best error=0.3273\n",
      "[flaml.automl: 06-26 11:37:02] {2897} INFO - iteration 213, current learner xgboost\n",
      "/home/qxw5138/miniconda3/envs/myflaml/lib/python3.8/site-packages/xgboost/data.py:192: FutureWarning: pandas.Int64Index is deprecated and will be removed from pandas in a future version. Use pandas.Index with the appropriate dtype instead.\n",
      "  from pandas import MultiIndex, Int64Index\n",
      "[flaml.automl: 06-26 11:37:03] {3072} INFO -  at 548.2s,\testimator xgboost's best error=0.3594,\tbest estimator lgbm's best error=0.3273\n",
      "[flaml.automl: 06-26 11:37:03] {2897} INFO - iteration 214, current learner catboost\n",
      "[flaml.automl: 06-26 11:37:05] {3072} INFO -  at 550.0s,\testimator catboost's best error=0.3396,\tbest estimator lgbm's best error=0.3273\n",
      "[flaml.automl: 06-26 11:37:05] {2897} INFO - iteration 215, current learner extra_tree\n",
      "[flaml.automl: 06-26 11:37:07] {3072} INFO -  at 551.8s,\testimator extra_tree's best error=0.3344,\tbest estimator lgbm's best error=0.3273\n",
      "[flaml.automl: 06-26 11:37:07] {2897} INFO - iteration 216, current learner extra_tree\n",
      "[flaml.automl: 06-26 11:37:08] {3072} INFO -  at 553.4s,\testimator extra_tree's best error=0.3344,\tbest estimator lgbm's best error=0.3273\n",
      "[flaml.automl: 06-26 11:37:08] {2897} INFO - iteration 217, current learner rf\n",
      "[flaml.automl: 06-26 11:37:18] {3072} INFO -  at 563.1s,\testimator rf's best error=0.3314,\tbest estimator lgbm's best error=0.3273\n",
      "[flaml.automl: 06-26 11:37:18] {2897} INFO - iteration 218, current learner extra_tree\n",
      "[flaml.automl: 06-26 11:37:20] {3072} INFO -  at 564.8s,\testimator extra_tree's best error=0.3344,\tbest estimator lgbm's best error=0.3273\n",
      "[flaml.automl: 06-26 11:37:20] {2897} INFO - iteration 219, current learner lgbm\n",
      "[flaml.automl: 06-26 11:37:25] {3072} INFO -  at 569.8s,\testimator lgbm's best error=0.3273,\tbest estimator lgbm's best error=0.3273\n",
      "[flaml.automl: 06-26 11:37:25] {2897} INFO - iteration 220, current learner lgbm\n",
      "[flaml.automl: 06-26 11:37:26] {3072} INFO -  at 571.5s,\testimator lgbm's best error=0.3273,\tbest estimator lgbm's best error=0.3273\n",
      "[flaml.automl: 06-26 11:37:26] {2897} INFO - iteration 221, current learner lgbm\n",
      "[flaml.automl: 06-26 11:37:39] {3072} INFO -  at 584.3s,\testimator lgbm's best error=0.3273,\tbest estimator lgbm's best error=0.3273\n",
      "[flaml.automl: 06-26 11:37:39] {2897} INFO - iteration 222, current learner catboost\n",
      "[flaml.automl: 06-26 11:37:42] {3072} INFO -  at 587.2s,\testimator catboost's best error=0.3396,\tbest estimator lgbm's best error=0.3273\n",
      "[flaml.automl: 06-26 11:37:42] {2897} INFO - iteration 223, current learner lgbm\n",
      "[flaml.automl: 06-26 11:37:43] {3072} INFO -  at 588.1s,\testimator lgbm's best error=0.3273,\tbest estimator lgbm's best error=0.3273\n",
      "[flaml.automl: 06-26 11:37:43] {2897} INFO - iteration 224, current learner extra_tree\n",
      "[flaml.automl: 06-26 11:37:45] {3072} INFO -  at 590.3s,\testimator extra_tree's best error=0.3344,\tbest estimator lgbm's best error=0.3273\n",
      "[flaml.automl: 06-26 11:37:45] {2897} INFO - iteration 225, current learner extra_tree\n",
      "[flaml.automl: 06-26 11:37:47] {3072} INFO -  at 592.1s,\testimator extra_tree's best error=0.3344,\tbest estimator lgbm's best error=0.3273\n",
      "[flaml.automl: 06-26 11:37:47] {2897} INFO - iteration 226, current learner lgbm\n",
      "[flaml.automl: 06-26 11:37:56] {3072} INFO -  at 601.4s,\testimator lgbm's best error=0.3273,\tbest estimator lgbm's best error=0.3273\n",
      "[flaml.automl: 06-26 11:37:59] {3336} INFO - retrain lgbm for 2.5s\n",
      "[flaml.automl: 06-26 11:37:59] {3343} INFO - retrained model: LGBMClassifier(colsample_bytree=0.5600522335317232,\n",
      "               learning_rate=0.2396361028431205, max_bin=255,\n",
      "               min_child_samples=9, n_estimators=60, num_leaves=442,\n",
      "               reg_alpha=0.014640121941781848, reg_lambda=31.966856561688306,\n",
      "               verbose=-1)\n",
      "[flaml.automl: 06-26 11:37:59] {2636} INFO - fit succeeded\n",
      "[flaml.automl: 06-26 11:37:59] {2637} INFO - Time taken to find the best model: 208.1849286556244\n"
     ]
    }
   ],
   "source": [
    "'''The main flaml automl API'''\n",
    "automl.fit(X_train=X_train, y_train=y_train, **settings)"
   ]
  },
  {
   "cell_type": "markdown",
   "metadata": {
    "slideshow": {
     "slide_type": "slide"
    }
   },
   "source": [
    "### Best model and metric"
   ]
  },
  {
   "cell_type": "code",
   "execution_count": 5,
   "metadata": {
    "slideshow": {
     "slide_type": "slide"
    },
    "tags": []
   },
   "outputs": [
    {
     "name": "stdout",
     "output_type": "stream",
     "text": [
      "Best ML leaner: lgbm\n",
      "Best hyperparmeter config: {'n_estimators': 60, 'num_leaves': 442, 'min_child_samples': 9, 'learning_rate': 0.2396361028431205, 'log_max_bin': 8, 'colsample_bytree': 0.5600522335317232, 'reg_alpha': 0.014640121941781848, 'reg_lambda': 31.966856561688306, 'FLAML_sample_size': 364083}\n",
      "Best accuracy on validation data: 0.6727\n",
      "Training duration of best run: 2.481 s\n"
     ]
    }
   ],
   "source": [
    "'''retrieve best config and best learner'''\n",
    "print('Best ML leaner:', automl.best_estimator)\n",
    "print('Best hyperparmeter config:', automl.best_config)\n",
    "print('Best accuracy on validation data: {0:.4g}'.format(1-automl.best_loss))\n",
    "print('Training duration of best run: {0:.4g} s'.format(automl.best_config_train_time))"
   ]
  },
  {
   "cell_type": "code",
   "execution_count": 6,
   "metadata": {
    "slideshow": {
     "slide_type": "slide"
    }
   },
   "outputs": [
    {
     "data": {
      "text/plain": [
       "LGBMClassifier(colsample_bytree=0.5600522335317232,\n",
       "               learning_rate=0.2396361028431205, max_bin=255,\n",
       "               min_child_samples=9, n_estimators=60, num_leaves=442,\n",
       "               reg_alpha=0.014640121941781848, reg_lambda=31.966856561688306,\n",
       "               verbose=-1)"
      ]
     },
     "execution_count": 6,
     "metadata": {},
     "output_type": "execute_result"
    }
   ],
   "source": [
    "automl.model.estimator"
   ]
  },
  {
   "cell_type": "code",
   "execution_count": 7,
   "metadata": {
    "slideshow": {
     "slide_type": "slide"
    }
   },
   "outputs": [],
   "source": [
    "'''pickle and save the automl object'''\n",
    "import pickle\n",
    "with open('automl.pkl', 'wb') as f:\n",
    "    pickle.dump(automl, f, pickle.HIGHEST_PROTOCOL)\n",
    "'''load pickled automl object'''\n",
    "with open('automl.pkl', 'rb') as f:\n",
    "    automl = pickle.load(f)"
   ]
  },
  {
   "cell_type": "code",
   "execution_count": null,
   "metadata": {
    "slideshow": {
     "slide_type": "slide"
    },
    "tags": []
   },
   "outputs": [],
   "source": [
    "'''compute predictions of testing dataset''' \n",
    "y_pred = automl.predict(X_test)\n",
    "print('Predicted labels', y_pred)\n",
    "print('True labels', y_test)\n",
    "y_pred_proba = automl.predict_proba(X_test)[:,1]"
   ]
  },
  {
   "cell_type": "code",
   "execution_count": 9,
   "metadata": {
    "slideshow": {
     "slide_type": "slide"
    },
    "tags": []
   },
   "outputs": [
    {
     "name": "stdout",
     "output_type": "stream",
     "text": [
      "accuracy = 0.6721000252139477\n",
      "roc_auc = 0.7260223620091362\n",
      "log_loss = 0.6028208016279878\n"
     ]
    }
   ],
   "source": [
    "''' compute different metric values on testing dataset'''\n",
    "from flaml.ml import sklearn_metric_loss_score\n",
    "print('accuracy', '=', 1 - sklearn_metric_loss_score('accuracy', y_pred, y_test))\n",
    "print('roc_auc', '=', 1 - sklearn_metric_loss_score('roc_auc', y_pred_proba, y_test))\n",
    "print('log_loss', '=', sklearn_metric_loss_score('log_loss', y_pred_proba, y_test))"
   ]
  },
  {
   "cell_type": "markdown",
   "metadata": {
    "slideshow": {
     "slide_type": "slide"
    }
   },
   "source": [
    "See Section 4 for an accuracy comparison with default LightGBM and XGBoost.\n",
    "\n",
    "### Log history"
   ]
  },
  {
   "cell_type": "code",
   "execution_count": 10,
   "metadata": {
    "slideshow": {
     "slide_type": "subslide"
    },
    "tags": []
   },
   "outputs": [
    {
     "name": "stdout",
     "output_type": "stream",
     "text": [
      "{'Current Learner': 'lgbm', 'Current Sample': 10000, 'Current Hyper-parameters': {'n_estimators': 4, 'num_leaves': 4, 'min_child_samples': 20, 'learning_rate': 0.09999999999999995, 'log_max_bin': 8, 'colsample_bytree': 1.0, 'reg_alpha': 0.0009765625, 'reg_lambda': 1.0, 'FLAML_sample_size': 10000}, 'Best Learner': 'lgbm', 'Best Hyper-parameters': {'n_estimators': 4, 'num_leaves': 4, 'min_child_samples': 20, 'learning_rate': 0.09999999999999995, 'log_max_bin': 8, 'colsample_bytree': 1.0, 'reg_alpha': 0.0009765625, 'reg_lambda': 1.0, 'FLAML_sample_size': 10000}}\n",
      "{'Current Learner': 'lgbm', 'Current Sample': 40000, 'Current Hyper-parameters': {'n_estimators': 4, 'num_leaves': 4, 'min_child_samples': 20, 'learning_rate': 0.09999999999999995, 'log_max_bin': 8, 'colsample_bytree': 1.0, 'reg_alpha': 0.0009765625, 'reg_lambda': 1.0, 'FLAML_sample_size': 40000}, 'Best Learner': 'lgbm', 'Best Hyper-parameters': {'n_estimators': 4, 'num_leaves': 4, 'min_child_samples': 20, 'learning_rate': 0.09999999999999995, 'log_max_bin': 8, 'colsample_bytree': 1.0, 'reg_alpha': 0.0009765625, 'reg_lambda': 1.0, 'FLAML_sample_size': 40000}}\n",
      "{'Current Learner': 'lgbm', 'Current Sample': 40000, 'Current Hyper-parameters': {'n_estimators': 5, 'num_leaves': 23, 'min_child_samples': 19, 'learning_rate': 0.1410934390479032, 'log_max_bin': 9, 'colsample_bytree': 0.9714776170720395, 'reg_alpha': 0.002808563524743009, 'reg_lambda': 0.09986161193248314, 'FLAML_sample_size': 40000}, 'Best Learner': 'lgbm', 'Best Hyper-parameters': {'n_estimators': 5, 'num_leaves': 23, 'min_child_samples': 19, 'learning_rate': 0.1410934390479032, 'log_max_bin': 9, 'colsample_bytree': 0.9714776170720395, 'reg_alpha': 0.002808563524743009, 'reg_lambda': 0.09986161193248314, 'FLAML_sample_size': 40000}}\n",
      "{'Current Learner': 'lgbm', 'Current Sample': 40000, 'Current Hyper-parameters': {'n_estimators': 9, 'num_leaves': 122, 'min_child_samples': 13, 'learning_rate': 0.17838649336621862, 'log_max_bin': 9, 'colsample_bytree': 1.0, 'reg_alpha': 0.0009765625, 'reg_lambda': 0.14980604206255926, 'FLAML_sample_size': 40000}, 'Best Learner': 'lgbm', 'Best Hyper-parameters': {'n_estimators': 9, 'num_leaves': 122, 'min_child_samples': 13, 'learning_rate': 0.17838649336621862, 'log_max_bin': 9, 'colsample_bytree': 1.0, 'reg_alpha': 0.0009765625, 'reg_lambda': 0.14980604206255926, 'FLAML_sample_size': 40000}}\n",
      "{'Current Learner': 'lgbm', 'Current Sample': 364083, 'Current Hyper-parameters': {'n_estimators': 9, 'num_leaves': 122, 'min_child_samples': 13, 'learning_rate': 0.17838649336621862, 'log_max_bin': 9, 'colsample_bytree': 1.0, 'reg_alpha': 0.0009765625, 'reg_lambda': 0.14980604206255926, 'FLAML_sample_size': 364083}, 'Best Learner': 'lgbm', 'Best Hyper-parameters': {'n_estimators': 9, 'num_leaves': 122, 'min_child_samples': 13, 'learning_rate': 0.17838649336621862, 'log_max_bin': 9, 'colsample_bytree': 1.0, 'reg_alpha': 0.0009765625, 'reg_lambda': 0.14980604206255926, 'FLAML_sample_size': 364083}}\n",
      "{'Current Learner': 'lgbm', 'Current Sample': 364083, 'Current Hyper-parameters': {'n_estimators': 13, 'num_leaves': 386, 'min_child_samples': 8, 'learning_rate': 0.311389719947293, 'log_max_bin': 10, 'colsample_bytree': 0.9578832533798918, 'reg_alpha': 0.008324935018783976, 'reg_lambda': 0.0717028838736516, 'FLAML_sample_size': 364083}, 'Best Learner': 'lgbm', 'Best Hyper-parameters': {'n_estimators': 13, 'num_leaves': 386, 'min_child_samples': 8, 'learning_rate': 0.311389719947293, 'log_max_bin': 10, 'colsample_bytree': 0.9578832533798918, 'reg_alpha': 0.008324935018783976, 'reg_lambda': 0.0717028838736516, 'FLAML_sample_size': 364083}}\n",
      "{'Current Learner': 'lgbm', 'Current Sample': 364083, 'Current Hyper-parameters': {'n_estimators': 42, 'num_leaves': 1514, 'min_child_samples': 7, 'learning_rate': 0.12892686166312714, 'log_max_bin': 10, 'colsample_bytree': 1.0, 'reg_alpha': 0.02409179009708949, 'reg_lambda': 0.07292261327620711, 'FLAML_sample_size': 364083}, 'Best Learner': 'lgbm', 'Best Hyper-parameters': {'n_estimators': 42, 'num_leaves': 1514, 'min_child_samples': 7, 'learning_rate': 0.12892686166312714, 'log_max_bin': 10, 'colsample_bytree': 1.0, 'reg_alpha': 0.02409179009708949, 'reg_lambda': 0.07292261327620711, 'FLAML_sample_size': 364083}}\n",
      "{'Current Learner': 'lgbm', 'Current Sample': 364083, 'Current Hyper-parameters': {'n_estimators': 13, 'num_leaves': 386, 'min_child_samples': 9, 'learning_rate': 0.31138971994729275, 'log_max_bin': 9, 'colsample_bytree': 0.9445532928652074, 'reg_alpha': 0.008324935018783973, 'reg_lambda': 0.07170288387365166, 'FLAML_sample_size': 364083}, 'Best Learner': 'lgbm', 'Best Hyper-parameters': {'n_estimators': 13, 'num_leaves': 386, 'min_child_samples': 9, 'learning_rate': 0.31138971994729275, 'log_max_bin': 9, 'colsample_bytree': 0.9445532928652074, 'reg_alpha': 0.008324935018783973, 'reg_lambda': 0.07170288387365166, 'FLAML_sample_size': 364083}}\n",
      "{'Current Learner': 'lgbm', 'Current Sample': 364083, 'Current Hyper-parameters': {'n_estimators': 10, 'num_leaves': 1071, 'min_child_samples': 6, 'learning_rate': 0.2812642029069173, 'log_max_bin': 8, 'colsample_bytree': 0.840929439562598, 'reg_alpha': 0.005137420746906319, 'reg_lambda': 1.301460529233676, 'FLAML_sample_size': 364083}, 'Best Learner': 'lgbm', 'Best Hyper-parameters': {'n_estimators': 10, 'num_leaves': 1071, 'min_child_samples': 6, 'learning_rate': 0.2812642029069173, 'log_max_bin': 8, 'colsample_bytree': 0.840929439562598, 'reg_alpha': 0.005137420746906319, 'reg_lambda': 1.301460529233676, 'FLAML_sample_size': 364083}}\n",
      "{'Current Learner': 'lgbm', 'Current Sample': 364083, 'Current Hyper-parameters': {'n_estimators': 16, 'num_leaves': 2777, 'min_child_samples': 8, 'learning_rate': 0.31232663250227655, 'log_max_bin': 7, 'colsample_bytree': 0.7949355649224266, 'reg_alpha': 0.01191407710735776, 'reg_lambda': 23.606345493416228, 'FLAML_sample_size': 364083}, 'Best Learner': 'lgbm', 'Best Hyper-parameters': {'n_estimators': 16, 'num_leaves': 2777, 'min_child_samples': 8, 'learning_rate': 0.31232663250227655, 'log_max_bin': 7, 'colsample_bytree': 0.7949355649224266, 'reg_alpha': 0.01191407710735776, 'reg_lambda': 23.606345493416228, 'FLAML_sample_size': 364083}}\n",
      "{'Current Learner': 'lgbm', 'Current Sample': 364083, 'Current Hyper-parameters': {'n_estimators': 31, 'num_leaves': 1313, 'min_child_samples': 13, 'learning_rate': 0.17093171348974986, 'log_max_bin': 8, 'colsample_bytree': 0.6683882068055242, 'reg_alpha': 0.006834546117671793, 'reg_lambda': 2.784878063560665, 'FLAML_sample_size': 364083}, 'Best Learner': 'lgbm', 'Best Hyper-parameters': {'n_estimators': 31, 'num_leaves': 1313, 'min_child_samples': 13, 'learning_rate': 0.17093171348974986, 'log_max_bin': 8, 'colsample_bytree': 0.6683882068055242, 'reg_alpha': 0.006834546117671793, 'reg_lambda': 2.784878063560665, 'FLAML_sample_size': 364083}}\n",
      "{'Current Learner': 'lgbm', 'Current Sample': 364083, 'Current Hyper-parameters': {'n_estimators': 53, 'num_leaves': 637, 'min_child_samples': 9, 'learning_rate': 0.11918915125655012, 'log_max_bin': 7, 'colsample_bytree': 0.5890224443417673, 'reg_alpha': 0.08110063317456558, 'reg_lambda': 10.91807270717506, 'FLAML_sample_size': 364083}, 'Best Learner': 'lgbm', 'Best Hyper-parameters': {'n_estimators': 53, 'num_leaves': 637, 'min_child_samples': 9, 'learning_rate': 0.11918915125655012, 'log_max_bin': 7, 'colsample_bytree': 0.5890224443417673, 'reg_alpha': 0.08110063317456558, 'reg_lambda': 10.91807270717506, 'FLAML_sample_size': 364083}}\n",
      "{'Current Learner': 'lgbm', 'Current Sample': 364083, 'Current Hyper-parameters': {'n_estimators': 31, 'num_leaves': 1314, 'min_child_samples': 13, 'learning_rate': 0.17093171348974986, 'log_max_bin': 8, 'colsample_bytree': 0.6683882068055242, 'reg_alpha': 0.006834546117671798, 'reg_lambda': 2.784878063560669, 'FLAML_sample_size': 364083}, 'Best Learner': 'lgbm', 'Best Hyper-parameters': {'n_estimators': 31, 'num_leaves': 1314, 'min_child_samples': 13, 'learning_rate': 0.17093171348974986, 'log_max_bin': 8, 'colsample_bytree': 0.6683882068055242, 'reg_alpha': 0.006834546117671798, 'reg_lambda': 2.784878063560669, 'FLAML_sample_size': 364083}}\n",
      "{'Current Learner': 'lgbm', 'Current Sample': 364083, 'Current Hyper-parameters': {'n_estimators': 60, 'num_leaves': 442, 'min_child_samples': 9, 'learning_rate': 0.2396361028431205, 'log_max_bin': 8, 'colsample_bytree': 0.5600522335317232, 'reg_alpha': 0.014640121941781848, 'reg_lambda': 31.966856561688306, 'FLAML_sample_size': 364083}, 'Best Learner': 'lgbm', 'Best Hyper-parameters': {'n_estimators': 60, 'num_leaves': 442, 'min_child_samples': 9, 'learning_rate': 0.2396361028431205, 'log_max_bin': 8, 'colsample_bytree': 0.5600522335317232, 'reg_alpha': 0.014640121941781848, 'reg_lambda': 31.966856561688306, 'FLAML_sample_size': 364083}}\n"
     ]
    }
   ],
   "source": [
    "from flaml.data import get_output_from_log\n",
    "time_history, best_valid_loss_history, valid_loss_history, config_history, metric_history = \\\n",
    "    get_output_from_log(filename=settings['log_file_name'], time_budget=240)\n",
    "for config in config_history:\n",
    "    print(config)"
   ]
  },
  {
   "cell_type": "code",
   "execution_count": 11,
   "metadata": {
    "slideshow": {
     "slide_type": "slide"
    }
   },
   "outputs": [
    {
     "data": {
      "image/png": "[encoded data removed]",
      "text/plain": [
       "<Figure size 432x288 with 1 Axes>"
      ]
     },
     "metadata": {
      "needs_background": "light"
     },
     "output_type": "display_data"
    }
   ],
   "source": [
    "import matplotlib.pyplot as plt\n",
    "import numpy as np\n",
    "\n",
    "plt.title('Learning Curve')\n",
    "plt.xlabel('Wall Clock Time (s)')\n",
    "plt.ylabel('Validation Accuracy')\n",
    "plt.scatter(time_history, 1 - np.array(valid_loss_history))\n",
    "plt.step(time_history, 1 - np.array(best_valid_loss_history), where='post')\n",
    "plt.show()"
   ]
  },
  {
   "cell_type": "markdown",
   "metadata": {},
   "source": [
    "## 3. Comparison with alternatives\n"
   ]
  },
  {
   "cell_type": "markdown",
   "metadata": {},
   "source": [
    "### Default LightGBM"
   ]
  },
  {
   "cell_type": "code",
   "execution_count": 12,
   "metadata": {},
   "outputs": [],
   "source": [
    "from lightgbm import LGBMClassifier\n",
    "lgbm = LGBMClassifier()"
   ]
  },
  {
   "cell_type": "code",
   "execution_count": 13,
   "metadata": {},
   "outputs": [
    {
     "data": {
      "text/plain": [
       "LGBMClassifier()"
      ]
     },
     "execution_count": 13,
     "metadata": {},
     "output_type": "execute_result"
    }
   ],
   "source": [
    "lgbm.fit(X_train, y_train)"
   ]
  },
  {
   "cell_type": "code",
   "execution_count": 14,
   "metadata": {},
   "outputs": [],
   "source": [
    "y_pred_lgbm = lgbm.predict(X_test)"
   ]
  },
  {
   "cell_type": "markdown",
   "metadata": {},
   "source": [
    "### Default XGBoost"
   ]
  },
  {
   "cell_type": "code",
   "execution_count": 15,
   "metadata": {},
   "outputs": [],
   "source": [
    "from xgboost import XGBClassifier\n",
    "xgb = XGBClassifier()\n",
    "cat_columns = X_train.select_dtypes(include=['category']).columns\n",
    "X = X_train.copy()\n",
    "X[cat_columns] = X[cat_columns].apply(lambda x: x.cat.codes)\n"
   ]
  },
  {
   "cell_type": "code",
   "execution_count": null,
   "metadata": {},
   "outputs": [],
   "source": [
    "xgb.fit(X, y_train)"
   ]
  },
  {
   "cell_type": "code",
   "execution_count": 17,
   "metadata": {},
   "outputs": [],
   "source": [
    "X = X_test.copy()\n",
    "X[cat_columns] = X[cat_columns].apply(lambda x: x.cat.codes)\n",
    "y_pred_xgb = xgb.predict(X)"
   ]
  },
  {
   "cell_type": "code",
   "execution_count": 18,
   "metadata": {},
   "outputs": [
    {
     "name": "stdout",
     "output_type": "stream",
     "text": [
      "default xgboost accuracy = 0.6676060098186078\n",
      "default lgbm accuracy = 0.6602346380315323\n",
      "flaml (10 min) accuracy = 0.6721000252139477\n"
     ]
    }
   ],
   "source": [
    "print('default xgboost accuracy', '=', 1 - sklearn_metric_loss_score('accuracy', y_pred_xgb, y_test))\n",
    "print('default lgbm accuracy', '=', 1 - sklearn_metric_loss_score('accuracy', y_pred_lgbm, y_test))\n",
    "print('flaml (10 min) accuracy', '=', 1 - sklearn_metric_loss_score('accuracy', y_pred, y_test))"
   ]
  },
  {
   "cell_type": "markdown",
   "metadata": {
    "slideshow": {
     "slide_type": "slide"
    }
   },
   "source": [
    "## 4. Customized Learner"
   ]
  },
  {
   "cell_type": "markdown",
   "metadata": {
    "slideshow": {
     "slide_type": "slide"
    }
   },
   "source": [
    "Some experienced automl users may have a preferred model to tune or may already have a reasonably by-hand-tuned model before launching the automl experiment. They need to select optimal configurations for the customized model mixed with standard built-in learners. \n",
    "\n",
    "FLAML can easily incorporate customized/new learners (preferably with sklearn API) provided by users in a real-time manner, as demonstrated below."
   ]
  },
  {
   "cell_type": "markdown",
   "metadata": {
    "slideshow": {
     "slide_type": "slide"
    }
   },
   "source": [
    "### Example of Regularized Greedy Forest\n",
    "\n",
    "[Regularized Greedy Forest](https://arxiv.org/abs/1109.0887) (RGF) is a machine learning method currently not included in FLAML. The RGF has many tuning parameters, the most critical of which are: `[max_leaf, n_iter, n_tree_search, opt_interval, min_samples_leaf]`. To run a customized/new learner, the user needs to provide the following information:\n",
    "* an implementation of the customized/new learner\n",
    "* a list of hyperparameter names and types\n",
    "* rough ranges of hyperparameters (i.e., upper/lower bounds)\n",
    "* choose initial value corresponding to low cost for cost-related hyperparameters (e.g., initial value for max_leaf and n_iter should be small)\n",
    "\n",
    "In this example, the above information for RGF is wrapped in a python class called *MyRegularizedGreedyForest* that exposes the hyperparameters."
   ]
  },
  {
   "cell_type": "code",
   "execution_count": 19,
   "metadata": {
    "slideshow": {
     "slide_type": "slide"
    }
   },
   "outputs": [],
   "source": [
    "''' SKLearnEstimator is the super class for a sklearn learner '''\n",
    "from flaml.model import SKLearnEstimator\n",
    "from flaml import tune\n",
    "from flaml.data import CLASSIFICATION\n",
    "\n",
    "\n",
    "class MyRegularizedGreedyForest(SKLearnEstimator):\n",
    "    def __init__(self, task='binary', **config):\n",
    "        '''Constructor\n",
    "        \n",
    "        Args:\n",
    "            task: A string of the task type, one of\n",
    "                'binary', 'multiclass', 'regression'\n",
    "            config: A dictionary containing the hyperparameter names\n",
    "                and 'n_jobs' as keys. n_jobs is the number of parallel threads.\n",
    "        '''\n",
    "\n",
    "        super().__init__(task, **config)\n",
    "\n",
    "        '''task=binary or multi for classification task'''\n",
    "        if task in CLASSIFICATION:\n",
    "            from rgf.sklearn import RGFClassifier\n",
    "\n",
    "            self.estimator_class = RGFClassifier\n",
    "        else:\n",
    "            from rgf.sklearn import RGFRegressor\n",
    "            \n",
    "            self.estimator_class = RGFRegressor\n",
    "\n",
    "    @classmethod\n",
    "    def search_space(cls, data_size, task):\n",
    "        '''[required method] search space\n",
    "\n",
    "        Returns:\n",
    "            A dictionary of the search space. \n",
    "            Each key is the name of a hyperparameter, and value is a dict with\n",
    "                its domain (required) and low_cost_init_value, init_value,\n",
    "                cat_hp_cost (if applicable).\n",
    "                e.g.,\n",
    "                {'domain': tune.randint(lower=1, upper=10), 'init_value': 1}.\n",
    "        '''\n",
    "        space = {        \n",
    "            'max_leaf': {'domain': tune.lograndint(lower=4, upper=data_size[0]), 'init_value': 4, 'low_cost_init_value': 4},\n",
    "            'n_iter': {'domain': tune.lograndint(lower=1, upper=data_size[0]), 'init_value': 1, 'low_cost_init_value': 1},\n",
    "            'n_tree_search': {'domain': tune.lograndint(lower=1, upper=32768), 'init_value': 1, 'low_cost_init_value': 1},\n",
    "            'opt_interval': {'domain': tune.lograndint(lower=1, upper=10000), 'init_value': 100},\n",
    "            'learning_rate': {'domain': tune.loguniform(lower=0.01, upper=20.0)},\n",
    "            'min_samples_leaf': {'domain': tune.lograndint(lower=1, upper=20), 'init_value': 20},\n",
    "        }\n",
    "        return space\n",
    "\n",
    "    @classmethod\n",
    "    def size(cls, config):\n",
    "        '''[optional method] memory size of the estimator in bytes\n",
    "        \n",
    "        Args:\n",
    "            config - the dict of the hyperparameter config\n",
    "\n",
    "        Returns:\n",
    "            A float of the memory size required by the estimator to train the\n",
    "            given config\n",
    "        '''\n",
    "        max_leaves = int(round(config['max_leaf']))\n",
    "        n_estimators = int(round(config['n_iter']))\n",
    "        return (max_leaves * 3 + (max_leaves - 1) * 4 + 1.0) * n_estimators * 8\n",
    "\n",
    "    @classmethod\n",
    "    def cost_relative2lgbm(cls):\n",
    "        '''[optional method] relative cost compared to lightgbm\n",
    "        '''\n",
    "        return 1.0\n"
   ]
  },
  {
   "cell_type": "markdown",
   "metadata": {
    "slideshow": {
     "slide_type": "slide"
    }
   },
   "source": [
    "### Add Customized Learner and Run FLAML AutoML\n",
    "\n",
    "After adding RGF into the list of learners, we run automl by tuning hyperpameters of RGF as well as the default learners. "
   ]
  },
  {
   "cell_type": "code",
   "execution_count": 20,
   "metadata": {
    "slideshow": {
     "slide_type": "slide"
    }
   },
   "outputs": [],
   "source": [
    "automl = AutoML()\n",
    "automl.add_learner(learner_name='RGF', learner_class=MyRegularizedGreedyForest)"
   ]
  },
  {
   "cell_type": "code",
   "execution_count": 21,
   "metadata": {
    "slideshow": {
     "slide_type": "slide"
    },
    "tags": []
   },
   "outputs": [
    {
     "name": "stderr",
     "output_type": "stream",
     "text": [
      "[flaml.automl: 06-26 11:38:54] {2390} INFO - task = classification\n",
      "[flaml.automl: 06-26 11:38:54] {2392} INFO - Data split method: stratified\n",
      "[flaml.automl: 06-26 11:38:54] {2396} INFO - Evaluation method: holdout\n",
      "[flaml.automl: 06-26 11:38:54] {2465} INFO - Minimizing error metric: 1-accuracy\n",
      "[flaml.automl: 06-26 11:38:54] {2605} INFO - List of ML learners in AutoML Run: ['RGF', 'lgbm', 'rf', 'xgboost']\n",
      "[flaml.automl: 06-26 11:38:54] {2897} INFO - iteration 0, current learner RGF\n",
      "/home/qxw5138/miniconda3/envs/myflaml/lib/python3.8/site-packages/rgf/utils.py:224: UserWarning: Cannot find FastRGF executable files. FastRGF estimators will be unavailable for usage.\n",
      "  warnings.warn(\"Cannot find FastRGF executable files. \"\n",
      "[flaml.automl: 06-26 11:38:56] {3025} INFO - Estimated sufficient time budget=654049s. Estimated necessary time budget=654s.\n",
      "[flaml.automl: 06-26 11:38:56] {3072} INFO -  at 2.2s,\testimator RGF's best error=0.3840,\tbest estimator RGF's best error=0.3840\n",
      "[flaml.automl: 06-26 11:38:56] {2897} INFO - iteration 1, current learner RGF\n",
      "[flaml.automl: 06-26 11:38:57] {3072} INFO -  at 3.0s,\testimator RGF's best error=0.3840,\tbest estimator RGF's best error=0.3840\n",
      "[flaml.automl: 06-26 11:38:57] {2897} INFO - iteration 2, current learner RGF\n",
      "[flaml.automl: 06-26 11:38:58] {3072} INFO -  at 3.8s,\testimator RGF's best error=0.3840,\tbest estimator RGF's best error=0.3840\n",
      "[flaml.automl: 06-26 11:38:58] {2897} INFO - iteration 3, current learner RGF\n",
      "[flaml.automl: 06-26 11:38:59] {3072} INFO -  at 4.6s,\testimator RGF's best error=0.3840,\tbest estimator RGF's best error=0.3840\n",
      "[flaml.automl: 06-26 11:38:59] {2897} INFO - iteration 4, current learner lgbm\n",
      "[flaml.automl: 06-26 11:38:59] {3072} INFO -  at 4.6s,\testimator lgbm's best error=0.3777,\tbest estimator lgbm's best error=0.3777\n",
      "[flaml.automl: 06-26 11:38:59] {2897} INFO - iteration 5, current learner lgbm\n",
      "[flaml.automl: 06-26 11:38:59] {3072} INFO -  at 4.7s,\testimator lgbm's best error=0.3777,\tbest estimator lgbm's best error=0.3777\n",
      "[flaml.automl: 06-26 11:38:59] {2897} INFO - iteration 6, current learner lgbm\n",
      "[flaml.automl: 06-26 11:38:59] {3072} INFO -  at 4.7s,\testimator lgbm's best error=0.3765,\tbest estimator lgbm's best error=0.3765\n",
      "[flaml.automl: 06-26 11:38:59] {2897} INFO - iteration 7, current learner lgbm\n",
      "[flaml.automl: 06-26 11:38:59] {3072} INFO -  at 4.8s,\testimator lgbm's best error=0.3650,\tbest estimator lgbm's best error=0.3650\n",
      "[flaml.automl: 06-26 11:38:59] {2897} INFO - iteration 8, current learner lgbm\n",
      "[flaml.automl: 06-26 11:38:59] {3072} INFO -  at 4.9s,\testimator lgbm's best error=0.3650,\tbest estimator lgbm's best error=0.3650\n",
      "[flaml.automl: 06-26 11:38:59] {2897} INFO - iteration 9, current learner lgbm\n",
      "[flaml.automl: 06-26 11:38:59] {3072} INFO -  at 5.0s,\testimator lgbm's best error=0.3624,\tbest estimator lgbm's best error=0.3624\n",
      "[flaml.automl: 06-26 11:38:59] {2897} INFO - iteration 10, current learner lgbm\n",
      "[flaml.automl: 06-26 11:38:59] {3072} INFO -  at 5.1s,\testimator lgbm's best error=0.3624,\tbest estimator lgbm's best error=0.3624\n",
      "[flaml.automl: 06-26 11:38:59] {2897} INFO - iteration 11, current learner lgbm\n",
      "[flaml.automl: 06-26 11:38:59] {3072} INFO -  at 5.2s,\testimator lgbm's best error=0.3624,\tbest estimator lgbm's best error=0.3624\n",
      "[flaml.automl: 06-26 11:38:59] {2897} INFO - iteration 12, current learner lgbm\n",
      "[flaml.automl: 06-26 11:38:59] {3072} INFO -  at 5.4s,\testimator lgbm's best error=0.3600,\tbest estimator lgbm's best error=0.3600\n",
      "[flaml.automl: 06-26 11:38:59] {2897} INFO - iteration 13, current learner lgbm\n",
      "[flaml.automl: 06-26 11:39:00] {3072} INFO -  at 5.5s,\testimator lgbm's best error=0.3600,\tbest estimator lgbm's best error=0.3600\n",
      "[flaml.automl: 06-26 11:39:00] {2897} INFO - iteration 14, current learner lgbm\n",
      "[flaml.automl: 06-26 11:39:00] {3072} INFO -  at 6.0s,\testimator lgbm's best error=0.3543,\tbest estimator lgbm's best error=0.3543\n",
      "[flaml.automl: 06-26 11:39:00] {2897} INFO - iteration 15, current learner lgbm\n",
      "[flaml.automl: 06-26 11:39:00] {3072} INFO -  at 6.4s,\testimator lgbm's best error=0.3514,\tbest estimator lgbm's best error=0.3514\n",
      "[flaml.automl: 06-26 11:39:00] {2897} INFO - iteration 16, current learner RGF\n",
      "[flaml.automl: 06-26 11:39:01] {3072} INFO -  at 7.2s,\testimator RGF's best error=0.3840,\tbest estimator lgbm's best error=0.3514\n",
      "[flaml.automl: 06-26 11:39:01] {2897} INFO - iteration 17, current learner lgbm\n",
      "[flaml.automl: 06-26 11:39:01] {3072} INFO -  at 7.4s,\testimator lgbm's best error=0.3514,\tbest estimator lgbm's best error=0.3514\n",
      "[flaml.automl: 06-26 11:39:01] {2897} INFO - iteration 18, current learner lgbm\n",
      "[flaml.automl: 06-26 11:39:02] {3072} INFO -  at 7.6s,\testimator lgbm's best error=0.3514,\tbest estimator lgbm's best error=0.3514\n",
      "[flaml.automl: 06-26 11:39:02] {2897} INFO - iteration 19, current learner lgbm\n",
      "[flaml.automl: 06-26 11:39:02] {3072} INFO -  at 7.8s,\testimator lgbm's best error=0.3514,\tbest estimator lgbm's best error=0.3514\n",
      "[flaml.automl: 06-26 11:39:02] {2897} INFO - iteration 20, current learner RGF\n",
      "[flaml.automl: 06-26 11:39:03] {3072} INFO -  at 8.6s,\testimator RGF's best error=0.3766,\tbest estimator lgbm's best error=0.3514\n",
      "[flaml.automl: 06-26 11:39:03] {2897} INFO - iteration 21, current learner lgbm\n",
      "[flaml.automl: 06-26 11:39:03] {3072} INFO -  at 8.7s,\testimator lgbm's best error=0.3514,\tbest estimator lgbm's best error=0.3514\n",
      "[flaml.automl: 06-26 11:39:03] {2897} INFO - iteration 22, current learner lgbm\n",
      "[flaml.automl: 06-26 11:39:05] {3072} INFO -  at 10.5s,\testimator lgbm's best error=0.3436,\tbest estimator lgbm's best error=0.3436\n",
      "[flaml.automl: 06-26 11:39:08] {3336} INFO - retrain lgbm for 3.9s\n",
      "[flaml.automl: 06-26 11:39:08] {3343} INFO - retrained model: LGBMClassifier(colsample_bytree=0.6013779332617044,\n",
      "               learning_rate=0.2831716718674676, max_bin=1023,\n",
      "               min_child_samples=5, n_estimators=257, num_leaves=25,\n",
      "               reg_alpha=0.0009765625, reg_lambda=0.0009765625, verbose=-1)\n",
      "[flaml.automl: 06-26 11:39:08] {2636} INFO - fit succeeded\n",
      "[flaml.automl: 06-26 11:39:08] {2637} INFO - Time taken to find the best model: 10.490756750106812\n",
      "[flaml.automl: 06-26 11:39:08] {2648} WARNING - Time taken to find the best model is 105% of the provided time budget and not all estimators' hyperparameter search converged. Consider increasing the time budget.\n"
     ]
    }
   ],
   "source": [
    "settings = {\n",
    "    \"time_budget\": 10,  # total running time in seconds\n",
    "    \"metric\": 'accuracy', \n",
    "    \"estimator_list\": ['RGF', 'lgbm', 'rf', 'xgboost'],  # list of ML learners\n",
    "    \"task\": 'classification',  # task type    \n",
    "    \"log_file_name\": 'airlines_experiment_custom_learner.log',  # flaml log file \n",
    "    \"log_training_metric\": True,  # whether to log training metric\n",
    "}\n",
    "\n",
    "automl.fit(X_train=X_train, y_train=y_train, **settings)"
   ]
  },
  {
   "cell_type": "markdown",
   "metadata": {},
   "source": [
    "## 5. Customized Metric\n",
    "\n",
    "It's also easy to customize the optimization metric. As an example, we demonstrate with a custom metric function which combines training loss and validation loss as the final loss to minimize."
   ]
  },
  {
   "cell_type": "code",
   "execution_count": 5,
   "metadata": {},
   "outputs": [],
   "source": [
    "def custom_metric(X_val, y_val, estimator, labels, X_train, y_train,\n",
    "                  weight_val=None, weight_train=None, config=None,\n",
    "                  groups_val=None, groups_train=None):\n",
    "    from sklearn.metrics import log_loss\n",
    "    import time\n",
    "    start = time.time()\n",
    "    y_pred = estimator.predict_proba(X_val)\n",
    "    pred_time = (time.time() - start) / len(X_val)\n",
    "    val_loss = log_loss(y_val, y_pred, labels=labels,\n",
    "                         sample_weight=weight_val)\n",
    "    y_pred = estimator.predict_proba(X_train)\n",
    "    train_loss = log_loss(y_train, y_pred, labels=labels,\n",
    "                          sample_weight=weight_train)\n",
    "    alpha = 0.5\n",
    "    return val_loss * (1 + alpha) - alpha * train_loss, {\n",
    "        \"val_loss\": val_loss, \"train_loss\": train_loss, \"pred_time\": pred_time\n",
    "    }\n",
    "    # two elements are returned:\n",
    "    # the first element is the metric to minimize as a float number,\n",
    "    # the second element is a dictionary of the metrics to log"
   ]
  },
  {
   "cell_type": "markdown",
   "metadata": {},
   "source": [
    "We can then pass this custom metric function to automl's `fit` method."
   ]
  },
  {
   "cell_type": "code",
   "execution_count": 23,
   "metadata": {},
   "outputs": [
    {
     "name": "stderr",
     "output_type": "stream",
     "text": [
      "[flaml.automl: 06-26 11:39:09] {2390} INFO - task = classification\n",
      "[flaml.automl: 06-26 11:39:09] {2392} INFO - Data split method: stratified\n",
      "[flaml.automl: 06-26 11:39:09] {2396} INFO - Evaluation method: holdout\n",
      "[flaml.automl: 06-26 11:39:09] {2465} INFO - Minimizing error metric: customized metric\n",
      "[flaml.automl: 06-26 11:39:09] {2605} INFO - List of ML learners in AutoML Run: ['lgbm', 'rf', 'catboost', 'xgboost', 'extra_tree', 'xgb_limitdepth', 'lrl1']\n",
      "[flaml.automl: 06-26 11:39:09] {2897} INFO - iteration 0, current learner lgbm\n",
      "[flaml.automl: 06-26 11:39:09] {3025} INFO - Estimated sufficient time budget=12795s. Estimated necessary time budget=314s.\n",
      "[flaml.automl: 06-26 11:39:09] {3072} INFO -  at 0.5s,\testimator lgbm's best error=0.6647,\tbest estimator lgbm's best error=0.6647\n",
      "[flaml.automl: 06-26 11:39:09] {2897} INFO - iteration 1, current learner lgbm\n",
      "[flaml.automl: 06-26 11:39:09] {3072} INFO -  at 0.5s,\testimator lgbm's best error=0.6647,\tbest estimator lgbm's best error=0.6647\n",
      "[flaml.automl: 06-26 11:39:09] {2897} INFO - iteration 2, current learner lgbm\n",
      "[flaml.automl: 06-26 11:39:09] {3072} INFO -  at 0.6s,\testimator lgbm's best error=0.6647,\tbest estimator lgbm's best error=0.6647\n",
      "[flaml.automl: 06-26 11:39:09] {2897} INFO - iteration 3, current learner xgboost\n",
      "/home/qxw5138/miniconda3/envs/myflaml/lib/python3.8/site-packages/xgboost/data.py:192: FutureWarning: pandas.Int64Index is deprecated and will be removed from pandas in a future version. Use pandas.Index with the appropriate dtype instead.\n",
      "  from pandas import MultiIndex, Int64Index\n",
      "/home/qxw5138/miniconda3/envs/myflaml/lib/python3.8/site-packages/xgboost/data.py:192: FutureWarning: pandas.Int64Index is deprecated and will be removed from pandas in a future version. Use pandas.Index with the appropriate dtype instead.\n",
      "  from pandas import MultiIndex, Int64Index\n",
      "[flaml.automl: 06-26 11:39:10] {3072} INFO -  at 1.1s,\testimator xgboost's best error=0.6845,\tbest estimator lgbm's best error=0.6647\n",
      "[flaml.automl: 06-26 11:39:10] {2897} INFO - iteration 4, current learner extra_tree\n",
      "[flaml.automl: 06-26 11:39:10] {3072} INFO -  at 1.2s,\testimator extra_tree's best error=0.6815,\tbest estimator lgbm's best error=0.6647\n",
      "[flaml.automl: 06-26 11:39:10] {2897} INFO - iteration 5, current learner rf\n",
      "[flaml.automl: 06-26 11:39:10] {3072} INFO -  at 1.3s,\testimator rf's best error=0.6626,\tbest estimator rf's best error=0.6626\n",
      "[flaml.automl: 06-26 11:39:10] {2897} INFO - iteration 6, current learner lgbm\n",
      "[flaml.automl: 06-26 11:39:11] {3072} INFO -  at 1.8s,\testimator lgbm's best error=0.6646,\tbest estimator rf's best error=0.6626\n",
      "[flaml.automl: 06-26 11:39:11] {2897} INFO - iteration 7, current learner rf\n",
      "[flaml.automl: 06-26 11:39:11] {3072} INFO -  at 2.0s,\testimator rf's best error=0.6475,\tbest estimator rf's best error=0.6475\n",
      "[flaml.automl: 06-26 11:39:11] {2897} INFO - iteration 8, current learner rf\n",
      "[flaml.automl: 06-26 11:39:11] {3072} INFO -  at 2.2s,\testimator rf's best error=0.6475,\tbest estimator rf's best error=0.6475\n",
      "[flaml.automl: 06-26 11:39:11] {2897} INFO - iteration 9, current learner rf\n",
      "[flaml.automl: 06-26 11:39:11] {3072} INFO -  at 2.3s,\testimator rf's best error=0.6475,\tbest estimator rf's best error=0.6475\n",
      "[flaml.automl: 06-26 11:39:11] {2897} INFO - iteration 10, current learner rf\n",
      "[flaml.automl: 06-26 11:39:11] {3072} INFO -  at 2.5s,\testimator rf's best error=0.6465,\tbest estimator rf's best error=0.6465\n",
      "[flaml.automl: 06-26 11:39:11] {2897} INFO - iteration 11, current learner extra_tree\n",
      "[flaml.automl: 06-26 11:39:11] {3072} INFO -  at 2.6s,\testimator extra_tree's best error=0.6607,\tbest estimator rf's best error=0.6465\n",
      "[flaml.automl: 06-26 11:39:11] {2897} INFO - iteration 12, current learner xgboost\n",
      "/home/qxw5138/miniconda3/envs/myflaml/lib/python3.8/site-packages/xgboost/data.py:192: FutureWarning: pandas.Int64Index is deprecated and will be removed from pandas in a future version. Use pandas.Index with the appropriate dtype instead.\n",
      "  from pandas import MultiIndex, Int64Index\n",
      "/home/qxw5138/miniconda3/envs/myflaml/lib/python3.8/site-packages/xgboost/data.py:192: FutureWarning: pandas.Int64Index is deprecated and will be removed from pandas in a future version. Use pandas.Index with the appropriate dtype instead.\n",
      "  from pandas import MultiIndex, Int64Index\n",
      "[flaml.automl: 06-26 11:39:12] {3072} INFO -  at 3.1s,\testimator xgboost's best error=0.6845,\tbest estimator rf's best error=0.6465\n",
      "[flaml.automl: 06-26 11:39:12] {2897} INFO - iteration 13, current learner extra_tree\n",
      "[flaml.automl: 06-26 11:39:12] {3072} INFO -  at 3.3s,\testimator extra_tree's best error=0.6607,\tbest estimator rf's best error=0.6465\n",
      "[flaml.automl: 06-26 11:39:12] {2897} INFO - iteration 14, current learner xgboost\n",
      "/home/qxw5138/miniconda3/envs/myflaml/lib/python3.8/site-packages/xgboost/data.py:192: FutureWarning: pandas.Int64Index is deprecated and will be removed from pandas in a future version. Use pandas.Index with the appropriate dtype instead.\n",
      "  from pandas import MultiIndex, Int64Index\n",
      "/home/qxw5138/miniconda3/envs/myflaml/lib/python3.8/site-packages/xgboost/data.py:192: FutureWarning: pandas.Int64Index is deprecated and will be removed from pandas in a future version. Use pandas.Index with the appropriate dtype instead.\n",
      "  from pandas import MultiIndex, Int64Index\n",
      "[flaml.automl: 06-26 11:39:12] {3072} INFO -  at 3.7s,\testimator xgboost's best error=0.6729,\tbest estimator rf's best error=0.6465\n",
      "[flaml.automl: 06-26 11:39:12] {2897} INFO - iteration 15, current learner extra_tree\n",
      "[flaml.automl: 06-26 11:39:12] {3072} INFO -  at 3.8s,\testimator extra_tree's best error=0.6607,\tbest estimator rf's best error=0.6465\n",
      "[flaml.automl: 06-26 11:39:12] {2897} INFO - iteration 16, current learner rf\n",
      "[flaml.automl: 06-26 11:39:13] {3072} INFO -  at 4.0s,\testimator rf's best error=0.6444,\tbest estimator rf's best error=0.6444\n",
      "[flaml.automl: 06-26 11:39:13] {2897} INFO - iteration 17, current learner extra_tree\n",
      "[flaml.automl: 06-26 11:39:13] {3072} INFO -  at 4.1s,\testimator extra_tree's best error=0.6512,\tbest estimator rf's best error=0.6444\n",
      "[flaml.automl: 06-26 11:39:13] {2897} INFO - iteration 18, current learner rf\n",
      "[flaml.automl: 06-26 11:39:13] {3072} INFO -  at 4.3s,\testimator rf's best error=0.6444,\tbest estimator rf's best error=0.6444\n",
      "[flaml.automl: 06-26 11:39:13] {2897} INFO - iteration 19, current learner rf\n",
      "[flaml.automl: 06-26 11:39:13] {3072} INFO -  at 4.5s,\testimator rf's best error=0.6444,\tbest estimator rf's best error=0.6444\n",
      "[flaml.automl: 06-26 11:39:13] {2897} INFO - iteration 20, current learner rf\n",
      "[flaml.automl: 06-26 11:39:13] {3072} INFO -  at 4.6s,\testimator rf's best error=0.6444,\tbest estimator rf's best error=0.6444\n",
      "[flaml.automl: 06-26 11:39:13] {2897} INFO - iteration 21, current learner extra_tree\n",
      "[flaml.automl: 06-26 11:39:13] {3072} INFO -  at 4.8s,\testimator extra_tree's best error=0.6500,\tbest estimator rf's best error=0.6444\n",
      "[flaml.automl: 06-26 11:39:13] {2897} INFO - iteration 22, current learner rf\n",
      "[flaml.automl: 06-26 11:39:14] {3072} INFO -  at 4.9s,\testimator rf's best error=0.6444,\tbest estimator rf's best error=0.6444\n",
      "[flaml.automl: 06-26 11:39:14] {2897} INFO - iteration 23, current learner catboost\n",
      "[flaml.automl: 06-26 11:39:14] {3072} INFO -  at 5.1s,\testimator catboost's best error=0.6828,\tbest estimator rf's best error=0.6444\n",
      "[flaml.automl: 06-26 11:39:14] {2897} INFO - iteration 24, current learner catboost\n",
      "[flaml.automl: 06-26 11:39:14] {3072} INFO -  at 5.2s,\testimator catboost's best error=0.6828,\tbest estimator rf's best error=0.6444\n",
      "[flaml.automl: 06-26 11:39:14] {2897} INFO - iteration 25, current learner catboost\n",
      "[flaml.automl: 06-26 11:39:14] {3072} INFO -  at 5.4s,\testimator catboost's best error=0.6492,\tbest estimator rf's best error=0.6444\n",
      "[flaml.automl: 06-26 11:39:14] {2897} INFO - iteration 26, current learner extra_tree\n",
      "[flaml.automl: 06-26 11:39:14] {3072} INFO -  at 5.5s,\testimator extra_tree's best error=0.6500,\tbest estimator rf's best error=0.6444\n",
      "[flaml.automl: 06-26 11:39:14] {2897} INFO - iteration 27, current learner catboost\n",
      "[flaml.automl: 06-26 11:39:14] {3072} INFO -  at 5.8s,\testimator catboost's best error=0.6492,\tbest estimator rf's best error=0.6444\n",
      "[flaml.automl: 06-26 11:39:14] {2897} INFO - iteration 28, current learner catboost\n",
      "[flaml.automl: 06-26 11:39:15] {3072} INFO -  at 6.0s,\testimator catboost's best error=0.6382,\tbest estimator catboost's best error=0.6382\n",
      "[flaml.automl: 06-26 11:39:15] {2897} INFO - iteration 29, current learner xgboost\n",
      "/home/qxw5138/miniconda3/envs/myflaml/lib/python3.8/site-packages/xgboost/data.py:192: FutureWarning: pandas.Int64Index is deprecated and will be removed from pandas in a future version. Use pandas.Index with the appropriate dtype instead.\n",
      "  from pandas import MultiIndex, Int64Index\n",
      "/home/qxw5138/miniconda3/envs/myflaml/lib/python3.8/site-packages/xgboost/data.py:192: FutureWarning: pandas.Int64Index is deprecated and will be removed from pandas in a future version. Use pandas.Index with the appropriate dtype instead.\n",
      "  from pandas import MultiIndex, Int64Index\n",
      "[flaml.automl: 06-26 11:39:15] {3072} INFO -  at 6.5s,\testimator xgboost's best error=0.6490,\tbest estimator catboost's best error=0.6382\n",
      "[flaml.automl: 06-26 11:39:15] {2897} INFO - iteration 30, current learner xgboost\n",
      "/home/qxw5138/miniconda3/envs/myflaml/lib/python3.8/site-packages/xgboost/data.py:192: FutureWarning: pandas.Int64Index is deprecated and will be removed from pandas in a future version. Use pandas.Index with the appropriate dtype instead.\n",
      "  from pandas import MultiIndex, Int64Index\n",
      "/home/qxw5138/miniconda3/envs/myflaml/lib/python3.8/site-packages/xgboost/data.py:192: FutureWarning: pandas.Int64Index is deprecated and will be removed from pandas in a future version. Use pandas.Index with the appropriate dtype instead.\n",
      "  from pandas import MultiIndex, Int64Index\n",
      "[flaml.automl: 06-26 11:39:16] {3072} INFO -  at 7.2s,\testimator xgboost's best error=0.6490,\tbest estimator catboost's best error=0.6382\n",
      "[flaml.automl: 06-26 11:39:16] {2897} INFO - iteration 31, current learner catboost\n",
      "[flaml.automl: 06-26 11:39:16] {3072} INFO -  at 7.3s,\testimator catboost's best error=0.6382,\tbest estimator catboost's best error=0.6382\n",
      "[flaml.automl: 06-26 11:39:16] {2897} INFO - iteration 32, current learner rf\n",
      "[flaml.automl: 06-26 11:39:16] {3072} INFO -  at 7.6s,\testimator rf's best error=0.6444,\tbest estimator catboost's best error=0.6382\n",
      "[flaml.automl: 06-26 11:39:16] {2897} INFO - iteration 33, current learner catboost\n",
      "[flaml.automl: 06-26 11:39:16] {3072} INFO -  at 7.7s,\testimator catboost's best error=0.6382,\tbest estimator catboost's best error=0.6382\n",
      "[flaml.automl: 06-26 11:39:16] {2897} INFO - iteration 34, current learner xgboost\n",
      "/home/qxw5138/miniconda3/envs/myflaml/lib/python3.8/site-packages/xgboost/data.py:192: FutureWarning: pandas.Int64Index is deprecated and will be removed from pandas in a future version. Use pandas.Index with the appropriate dtype instead.\n",
      "  from pandas import MultiIndex, Int64Index\n",
      "/home/qxw5138/miniconda3/envs/myflaml/lib/python3.8/site-packages/xgboost/data.py:192: FutureWarning: pandas.Int64Index is deprecated and will be removed from pandas in a future version. Use pandas.Index with the appropriate dtype instead.\n",
      "  from pandas import MultiIndex, Int64Index\n",
      "[flaml.automl: 06-26 11:39:17] {3072} INFO -  at 8.2s,\testimator xgboost's best error=0.6490,\tbest estimator catboost's best error=0.6382\n",
      "[flaml.automl: 06-26 11:39:17] {2897} INFO - iteration 35, current learner catboost\n",
      "[flaml.automl: 06-26 11:39:19] {3072} INFO -  at 9.9s,\testimator catboost's best error=0.6197,\tbest estimator catboost's best error=0.6197\n",
      "[flaml.automl: 06-26 11:39:19] {2897} INFO - iteration 36, current learner xgb_limitdepth\n",
      "/home/qxw5138/miniconda3/envs/myflaml/lib/python3.8/site-packages/xgboost/data.py:192: FutureWarning: pandas.Int64Index is deprecated and will be removed from pandas in a future version. Use pandas.Index with the appropriate dtype instead.\n",
      "  from pandas import MultiIndex, Int64Index\n",
      "/home/qxw5138/miniconda3/envs/myflaml/lib/python3.8/site-packages/xgboost/data.py:192: FutureWarning: pandas.Int64Index is deprecated and will be removed from pandas in a future version. Use pandas.Index with the appropriate dtype instead.\n",
      "  from pandas import MultiIndex, Int64Index\n",
      "[flaml.automl: 06-26 11:39:19] {3072} INFO -  at 10.6s,\testimator xgb_limitdepth's best error=0.6682,\tbest estimator catboost's best error=0.6197\n",
      "[flaml.automl: 06-26 11:39:20] {3336} INFO - retrain catboost for 1.0s\n",
      "[flaml.automl: 06-26 11:39:20] {3343} INFO - retrained model: <catboost.core.CatBoostClassifier object at 0x7f05378c1280>\n",
      "[flaml.automl: 06-26 11:39:20] {2636} INFO - fit succeeded\n",
      "[flaml.automl: 06-26 11:39:20] {2637} INFO - Time taken to find the best model: 9.931932210922241\n",
      "[flaml.automl: 06-26 11:39:20] {2648} WARNING - Time taken to find the best model is 99% of the provided time budget and not all estimators' hyperparameter search converged. Consider increasing the time budget.\n"
     ]
    }
   ],
   "source": [
    "automl = AutoML()\n",
    "settings = {\n",
    "    \"time_budget\": 10,  # total running time in seconds\n",
    "    \"metric\": custom_metric,  # pass the custom metric funtion here\n",
    "    \"task\": 'classification',  # task type\n",
    "    \"log_file_name\": 'airlines_experiment_custom_metric.log',  # flaml log file\n",
    "}\n",
    "\n",
    "automl.fit(X_train=X_train, y_train=y_train, **settings)"
   ]
  },
  {
   "cell_type": "markdown",
   "metadata": {},
   "source": [
    "## 6. Constraints\n",
    "\n",
    "There are several types of constraints you can impose.\n",
    "\n",
    "(1) Constraints on the AutoML process via `time_budget` and/or `max_iter`.\n",
    "\n",
    "(2) Constraints on the constructor arguments of the estimators.\n",
    "Some constraints on the estimator can be implemented via the custom learner. The following example adds a monotonicity constraint to XGBoost. This approach can be used to set any constraint that is an argument in the underlying estimator's constructor."
   ]
  },
  {
   "cell_type": "code",
   "execution_count": null,
   "metadata": {},
   "outputs": [],
   "source": [
    "from flaml.model import XGBoostSklearnEstimator\n",
    "class MonotonicXGBoostEstimator(XGBoostSklearnEstimator):\n",
    "    @classmethod\n",
    "    def search_space(cls, data_size):\n",
    "        return super().search_space(data_size).update({\"monotone_constraints\": \"(1, -1)\"})\n",
    "\n",
    "automl = AutoML()\n",
    "automl.add_learner(learner_name=\"monoton_xgb\", learner_class=MonotonicXGBoostEstimator)\n",
    "settings = {\n",
    "    \"time_budget\": 10,  # total running time in seconds\n",
    "    \"task\": 'classification',  # task type\n",
    "    \"estimator_list\": ['monoton_xgb']\n",
    "}\n",
    "automl.fit(X_train, y_train, **settings)"
   ]
  },
  {
   "cell_type": "markdown",
   "metadata": {},
   "source": [
    "(3) Constraints on the models tried in AutoML.\n",
    "Users can set constraints such as the maximal number of models to try, limit on training time and prediction time per model.\n",
    "* `train_time_limit`: training time in seconds.\n",
    "* `pred_time_limit`: prediction time per instance in seconds.\n",
    "\n",
    "(4) Constraints on the metrics of the ML model tried in AutoML."
   ]
  },
  {
   "cell_type": "code",
   "execution_count": null,
   "metadata": {},
   "outputs": [],
   "source": [
    "automl = AutoML()\n",
    "metric_constraints = [(\"train_loss\", \"<=\", 0.1), (\"val_loss\", \"<=\", 0.1)]\n",
    "settings = {\n",
    "    \"time_budget\": 10,  # total running time in seconds\n",
    "    \"metric\": custom_metric,  # pass the custom metric funtion here\n",
    "    \"task\": 'classification',  # task type\n",
    "    \"train_time_limit\": 1,\n",
    "    \"pred_time_limit\": 0.1,\n",
    "    \"metric_constraints\": metric_constraints,\n",
    "}\n",
    "automl.fit(X_train, y_train, **settings)"
   ]
  },
  {
   "cell_type": "markdown",
   "metadata": {},
   "source": [
    "## 7. Warmstart\n",
    "We can warm start the AutoML by providing starting points of hyperparameter configurstions for each estimator. For example, if you have run AutoML for one hour, after checking the results, you would like to run it for another two hours, then you can use the best configurations found for each estimator as the starting points for the new run."
   ]
  },
  {
   "cell_type": "code",
   "execution_count": null,
   "metadata": {},
   "outputs": [],
   "source": [
    "from flaml import AutoML\n",
    "automl1 = AutoML()\n",
    "automl1.fit(X_train, y_train, time_budget=30)\n",
    "automl2 = AutoML()\n",
    "automl2.fit(X_train, y_train, time_budget=60, starting_points=automl1.best_config_per_estimator)"
   ]
  },
  {
   "cell_type": "markdown",
   "metadata": {},
   "source": [
    "## 8. Parallel tuning\n",
    "When you have parallel resources, you can either spend them in training and keep the model search sequential, or perform parallel search.\n",
    "\n",
    "To do parallel tuning, install the `ray` and `blendsearch` options:"
   ]
  },
  {
   "cell_type": "code",
   "execution_count": null,
   "metadata": {},
   "outputs": [],
   "source": [
    "%pip install flaml[ray,blendsearch]"
   ]
  },
  {
   "cell_type": "code",
   "execution_count": 11,
   "metadata": {},
   "outputs": [
    {
     "data": {
      "text/html": [
       "== Status ==<br>Current time: 2022-07-06 20:43:54 (running for 00:00:32.73)<br>Memory usage on this node: 33.7/503.5 GiB<br>Using FIFO scheduling algorithm.<br>Resources requested: 0/4 CPUs, 0/4 GPUs, 0.0/320.61 GiB heap, 0.0/141.4 GiB objects<br>Current best trial: 01b0614b with val_loss=0.31434113510724326 and parameters={'ml': {'early_stopping_rounds': 11, 'learning_rate': 0.2, 'n_estimators': 8192, 'learner': 'catboost'}, 'FLAML_sample_size': 10000}<br>Result logdir: /home/qxw5138/ray_results/train_2022-07-06_20-43-21<br>Number of trials: 17/1000000 (17 TERMINATED)<br><br>"
      ],
      "text/plain": [
       "<IPython.core.display.HTML object>"
      ]
     },
     "metadata": {},
     "output_type": "display_data"
    },
    {
     "name": "stderr",
     "output_type": "stream",
     "text": [
      "2022-07-06 20:43:55,021\tINFO tune.py:747 -- Total run time: 33.57 seconds (32.44 seconds for the tuning loop).\n",
      "[flaml.automl: 07-06 20:43:55] {3193} INFO - selected model: None\n",
      "[flaml.automl: 07-06 20:44:06] {3336} INFO - retrain catboost for 11.5s\n",
      "[flaml.automl: 07-06 20:44:06] {3343} INFO - retrained model: <catboost.core.CatBoostClassifier object at 0x7f133123c070>\n",
      "[flaml.automl: 07-06 20:44:06] {2636} INFO - fit succeeded\n",
      "[flaml.automl: 07-06 20:44:06] {2637} INFO - Time taken to find the best model: 26.927322387695312\n",
      "[flaml.automl: 07-06 20:44:06] {2648} WARNING - Time taken to find the best model is 90% of the provided time budget and not all estimators' hyperparameter search converged. Consider increasing the time budget.\n"
     ]
    }
   ],
   "source": [
    "import ray\n",
    "ray.init(num_cpus=4)\n",
    "automl = AutoML()\n",
    "automl.fit(X_train, y_train, time_budget=30, n_jobs=2, n_concurrent_trials=2)"
   ]
  }
 ],
 "metadata": {
  "interpreter": {
   "hash": "5432eb6463ddd46aaa76ccf859b1fa421ab98224a755661a6688060ed6e23d59"
  },
  "kernelspec": {
   "display_name": "ds440flaml",
   "language": "python",
   "name": "python3"
  },
  "language_info": {
   "codemirror_mode": {
    "name": "ipython",
    "version": 3
   },
   "file_extension": ".py",
   "mimetype": "text/x-python",
   "name": "python",
   "nbconvert_exporter": "python",
   "pygments_lexer": "ipython3",
   "version": "3.8.12"
  }
 },
 "nbformat": 4,
 "nbformat_minor": 2
}
