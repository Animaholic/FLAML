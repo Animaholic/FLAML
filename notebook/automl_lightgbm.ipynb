{
 "cells": [
  {
   "cell_type": "markdown",
   "metadata": {
    "slideshow": {
     "slide_type": "slide"
    }
   },
   "source": [
    "Copyright (c) Microsoft Corporation. All rights reserved. \n",
    "\n",
    "Licensed under the MIT License.\n",
    "\n",
    "# Tune LightGBM with FLAML Library\n",
    "\n",
    "\n",
    "## 1. Introduction\n",
    "\n",
    "FLAML is a Python library (https://github.com/microsoft/FLAML) designed to automatically produce accurate machine learning models \n",
    "with low computational cost. It is fast and economical. The simple and lightweight design makes it easy \n",
    "to use and extend, such as adding new learners. FLAML can \n",
    "- serve as an economical AutoML engine,\n",
    "- be used as a fast hyperparameter tuning tool, or \n",
    "- be embedded in self-tuning software that requires low latency & resource in repetitive\n",
    "   tuning tasks.\n",
    "\n",
    "In this notebook, we demonstrate how to use FLAML library to tune hyperparameters of LightGBM with a regression example.\n",
    "\n",
    "FLAML requires `Python>=3.7`. To run this notebook example, please install flaml with the `notebook` option:\n",
    "```bash\n",
    "pip install flaml[notebook]\n",
    "```"
   ]
  },
  {
   "cell_type": "code",
   "execution_count": 1,
   "metadata": {},
   "outputs": [],
   "source": [
    "%pip install flaml[notebook]==1.0.10"
   ]
  },
  {
   "cell_type": "markdown",
   "metadata": {
    "slideshow": {
     "slide_type": "slide"
    }
   },
   "source": [
    "## 2. Regression Example\n",
    "### Load data and preprocess\n",
    "\n",
    "Download [houses dataset](https://www.openml.org/d/537) from OpenML. The task is to predict median price of the house in the region based on demographic composition and a state of housing market in the region."
   ]
  },
  {
   "cell_type": "code",
   "execution_count": 38,
   "metadata": {
    "slideshow": {
     "slide_type": "subslide"
    },
    "tags": []
   },
   "outputs": [
    {
     "name": "stdout",
     "output_type": "stream",
     "text": [
      "load dataset from ./openml_ds537.pkl\n",
      "Dataset name: houses\n",
      "X_train.shape: (15480, 8), y_train.shape: (15480,);\n",
      "X_test.shape: (5160, 8), y_test.shape: (5160,)\n"
     ]
    }
   ],
   "source": [
    "from flaml.data import load_openml_dataset\n",
    "X_train, X_test, y_train, y_test = load_openml_dataset(dataset_id=537, data_dir='./')"
   ]
  },
  {
   "cell_type": "markdown",
   "metadata": {
    "slideshow": {
     "slide_type": "slide"
    }
   },
   "source": [
    "### Run FLAML\n",
    "In the FLAML automl run configuration, users can specify the task type, time budget, error metric, learner list, whether to subsample, resampling strategy type, and so on. All these arguments have default values which will be used if users do not provide them. "
   ]
  },
  {
   "cell_type": "code",
   "execution_count": 39,
   "metadata": {
    "slideshow": {
     "slide_type": "slide"
    },
    "tags": []
   },
   "outputs": [],
   "source": [
    "''' import AutoML class from flaml package '''\n",
    "from flaml import AutoML\n",
    "automl = AutoML()"
   ]
  },
  {
   "cell_type": "code",
   "execution_count": 40,
   "metadata": {
    "slideshow": {
     "slide_type": "slide"
    }
   },
   "outputs": [],
   "source": [
    "settings = {\n",
    "    \"time_budget\": 240,  # total running time in seconds\n",
    "    \"metric\": 'r2',  # primary metrics for regression can be chosen from: ['mae','mse','r2','rmse','mape']\n",
    "    \"estimator_list\": ['lgbm'],  # list of ML learners; we tune lightgbm in this example\n",
    "    \"task\": 'regression',  # task type    \n",
    "    \"log_file_name\": 'houses_experiment.log',  # flaml log file\n",
    "    \"seed\": 7654321,    # random seed\n",
    "}"
   ]
  },
  {
   "cell_type": "code",
   "execution_count": 41,
   "metadata": {
    "slideshow": {
     "slide_type": "slide"
    },
    "tags": []
   },
   "outputs": [
    {
     "name": "stderr",
     "output_type": "stream",
     "text": [
      "[flaml.automl: 08-19 14:26:03] {2540} INFO - task = regression\n",
      "[flaml.automl: 08-19 14:26:03] {2542} INFO - Data split method: uniform\n",
      "[flaml.automl: 08-19 14:26:03] {2545} INFO - Evaluation method: cv\n",
      "[flaml.automl: 08-19 14:26:03] {2664} INFO - Minimizing error metric: 1-r2\n",
      "[flaml.automl: 08-19 14:26:03] {2806} INFO - List of ML learners in AutoML Run: ['lgbm']\n",
      "[flaml.automl: 08-19 14:26:03] {3108} INFO - iteration 0, current learner lgbm\n",
      "[flaml.automl: 08-19 14:26:04] {3241} INFO - Estimated sufficient time budget=2673s. Estimated necessary time budget=3s.\n",
      "[flaml.automl: 08-19 14:26:04] {3288} INFO -  at 0.4s,\testimator lgbm's best error=0.7383,\tbest estimator lgbm's best error=0.7383\n",
      "[flaml.automl: 08-19 14:26:04] {3108} INFO - iteration 1, current learner lgbm\n",
      "[flaml.automl: 08-19 14:26:04] {3288} INFO -  at 0.6s,\testimator lgbm's best error=0.7383,\tbest estimator lgbm's best error=0.7383\n",
      "[flaml.automl: 08-19 14:26:04] {3108} INFO - iteration 2, current learner lgbm\n",
      "[flaml.automl: 08-19 14:26:04] {3288} INFO -  at 1.0s,\testimator lgbm's best error=0.3267,\tbest estimator lgbm's best error=0.3267\n",
      "[flaml.automl: 08-19 14:26:04] {3108} INFO - iteration 3, current learner lgbm\n",
      "[flaml.automl: 08-19 14:26:05] {3288} INFO -  at 1.9s,\testimator lgbm's best error=0.1882,\tbest estimator lgbm's best error=0.1882\n",
      "[flaml.automl: 08-19 14:26:05] {3108} INFO - iteration 4, current learner lgbm\n",
      "[flaml.automl: 08-19 14:26:05] {3288} INFO -  at 2.2s,\testimator lgbm's best error=0.1882,\tbest estimator lgbm's best error=0.1882\n",
      "[flaml.automl: 08-19 14:26:05] {3108} INFO - iteration 5, current learner lgbm\n",
      "[flaml.automl: 08-19 14:26:09] {3288} INFO -  at 5.9s,\testimator lgbm's best error=0.1882,\tbest estimator lgbm's best error=0.1882\n",
      "[flaml.automl: 08-19 14:26:09] {3108} INFO - iteration 6, current learner lgbm\n",
      "[flaml.automl: 08-19 14:26:09] {3288} INFO -  at 6.1s,\testimator lgbm's best error=0.1882,\tbest estimator lgbm's best error=0.1882\n",
      "[flaml.automl: 08-19 14:26:09] {3108} INFO - iteration 7, current learner lgbm\n",
      "[flaml.automl: 08-19 14:26:10] {3288} INFO -  at 6.7s,\testimator lgbm's best error=0.1882,\tbest estimator lgbm's best error=0.1882\n",
      "[flaml.automl: 08-19 14:26:10] {3108} INFO - iteration 8, current learner lgbm\n",
      "[flaml.automl: 08-19 14:26:11] {3288} INFO -  at 7.4s,\testimator lgbm's best error=0.1882,\tbest estimator lgbm's best error=0.1882\n",
      "[flaml.automl: 08-19 14:26:11] {3108} INFO - iteration 9, current learner lgbm\n",
      "[flaml.automl: 08-19 14:26:11] {3288} INFO -  at 7.6s,\testimator lgbm's best error=0.1882,\tbest estimator lgbm's best error=0.1882\n",
      "[flaml.automl: 08-19 14:26:11] {3108} INFO - iteration 10, current learner lgbm\n",
      "[flaml.automl: 08-19 14:26:14] {3288} INFO -  at 10.5s,\testimator lgbm's best error=0.1744,\tbest estimator lgbm's best error=0.1744\n",
      "[flaml.automl: 08-19 14:26:14] {3108} INFO - iteration 11, current learner lgbm\n",
      "[flaml.automl: 08-19 14:26:15] {3288} INFO -  at 11.3s,\testimator lgbm's best error=0.1744,\tbest estimator lgbm's best error=0.1744\n",
      "[flaml.automl: 08-19 14:26:15] {3108} INFO - iteration 12, current learner lgbm\n",
      "[flaml.automl: 08-19 14:26:31] {3288} INFO -  at 27.4s,\testimator lgbm's best error=0.1744,\tbest estimator lgbm's best error=0.1744\n",
      "[flaml.automl: 08-19 14:26:31] {3108} INFO - iteration 13, current learner lgbm\n",
      "[flaml.automl: 08-19 14:26:32] {3288} INFO -  at 28.7s,\testimator lgbm's best error=0.1744,\tbest estimator lgbm's best error=0.1744\n",
      "[flaml.automl: 08-19 14:26:32] {3108} INFO - iteration 14, current learner lgbm\n",
      "[flaml.automl: 08-19 14:26:42] {3288} INFO -  at 38.8s,\testimator lgbm's best error=0.1744,\tbest estimator lgbm's best error=0.1744\n",
      "[flaml.automl: 08-19 14:26:42] {3108} INFO - iteration 15, current learner lgbm\n",
      "[flaml.automl: 08-19 14:26:51] {3288} INFO -  at 48.0s,\testimator lgbm's best error=0.1744,\tbest estimator lgbm's best error=0.1744\n",
      "[flaml.automl: 08-19 14:26:51] {3108} INFO - iteration 16, current learner lgbm\n",
      "[flaml.automl: 08-19 14:26:52] {3288} INFO -  at 49.2s,\testimator lgbm's best error=0.1744,\tbest estimator lgbm's best error=0.1744\n",
      "[flaml.automl: 08-19 14:26:52] {3108} INFO - iteration 17, current learner lgbm\n",
      "[flaml.automl: 08-19 14:27:16] {3288} INFO -  at 72.4s,\testimator lgbm's best error=0.1744,\tbest estimator lgbm's best error=0.1744\n",
      "[flaml.automl: 08-19 14:27:16] {3108} INFO - iteration 18, current learner lgbm\n",
      "[flaml.automl: 08-19 14:27:16] {3288} INFO -  at 72.9s,\testimator lgbm's best error=0.1744,\tbest estimator lgbm's best error=0.1744\n",
      "[flaml.automl: 08-19 14:27:16] {3108} INFO - iteration 19, current learner lgbm\n",
      "[flaml.automl: 08-19 14:27:18] {3288} INFO -  at 74.4s,\testimator lgbm's best error=0.1744,\tbest estimator lgbm's best error=0.1744\n",
      "[flaml.automl: 08-19 14:27:18] {3108} INFO - iteration 20, current learner lgbm\n",
      "[flaml.automl: 08-19 14:27:30] {3288} INFO -  at 86.5s,\testimator lgbm's best error=0.1738,\tbest estimator lgbm's best error=0.1738\n",
      "[flaml.automl: 08-19 14:27:30] {3108} INFO - iteration 21, current learner lgbm\n",
      "[flaml.automl: 08-19 14:27:37] {3288} INFO -  at 93.7s,\testimator lgbm's best error=0.1738,\tbest estimator lgbm's best error=0.1738\n",
      "[flaml.automl: 08-19 14:27:37] {3108} INFO - iteration 22, current learner lgbm\n",
      "[flaml.automl: 08-19 14:27:40] {3288} INFO -  at 96.9s,\testimator lgbm's best error=0.1738,\tbest estimator lgbm's best error=0.1738\n",
      "[flaml.automl: 08-19 14:27:40] {3108} INFO - iteration 23, current learner lgbm\n",
      "[flaml.automl: 08-19 14:27:57] {3288} INFO -  at 113.7s,\testimator lgbm's best error=0.1738,\tbest estimator lgbm's best error=0.1738\n",
      "[flaml.automl: 08-19 14:27:57] {3108} INFO - iteration 24, current learner lgbm\n",
      "[flaml.automl: 08-19 14:27:58] {3288} INFO -  at 114.7s,\testimator lgbm's best error=0.1738,\tbest estimator lgbm's best error=0.1738\n",
      "[flaml.automl: 08-19 14:27:58] {3108} INFO - iteration 25, current learner lgbm\n",
      "[flaml.automl: 08-19 14:28:00] {3288} INFO -  at 116.7s,\testimator lgbm's best error=0.1738,\tbest estimator lgbm's best error=0.1738\n",
      "[flaml.automl: 08-19 14:28:00] {3108} INFO - iteration 26, current learner lgbm\n",
      "[flaml.automl: 08-19 14:28:03] {3288} INFO -  at 119.6s,\testimator lgbm's best error=0.1608,\tbest estimator lgbm's best error=0.1608\n",
      "[flaml.automl: 08-19 14:28:03] {3108} INFO - iteration 27, current learner lgbm\n",
      "[flaml.automl: 08-19 14:28:07] {3288} INFO -  at 123.3s,\testimator lgbm's best error=0.1608,\tbest estimator lgbm's best error=0.1608\n",
      "[flaml.automl: 08-19 14:28:07] {3108} INFO - iteration 28, current learner lgbm\n",
      "[flaml.automl: 08-19 14:28:09] {3288} INFO -  at 125.5s,\testimator lgbm's best error=0.1608,\tbest estimator lgbm's best error=0.1608\n",
      "[flaml.automl: 08-19 14:28:09] {3108} INFO - iteration 29, current learner lgbm\n",
      "[flaml.automl: 08-19 14:28:11] {3288} INFO -  at 127.8s,\testimator lgbm's best error=0.1608,\tbest estimator lgbm's best error=0.1608\n",
      "[flaml.automl: 08-19 14:28:11] {3108} INFO - iteration 30, current learner lgbm\n",
      "[flaml.automl: 08-19 14:28:16] {3288} INFO -  at 133.2s,\testimator lgbm's best error=0.1608,\tbest estimator lgbm's best error=0.1608\n",
      "[flaml.automl: 08-19 14:28:16] {3108} INFO - iteration 31, current learner lgbm\n",
      "[flaml.automl: 08-19 14:28:24] {3288} INFO -  at 141.1s,\testimator lgbm's best error=0.1608,\tbest estimator lgbm's best error=0.1608\n",
      "[flaml.automl: 08-19 14:28:24] {3108} INFO - iteration 32, current learner lgbm\n",
      "[flaml.automl: 08-19 14:28:25] {3288} INFO -  at 142.2s,\testimator lgbm's best error=0.1608,\tbest estimator lgbm's best error=0.1608\n",
      "[flaml.automl: 08-19 14:28:25] {3108} INFO - iteration 33, current learner lgbm\n",
      "[flaml.automl: 08-19 14:28:43] {3288} INFO -  at 160.2s,\testimator lgbm's best error=0.1608,\tbest estimator lgbm's best error=0.1608\n",
      "[flaml.automl: 08-19 14:28:43] {3108} INFO - iteration 34, current learner lgbm\n",
      "[flaml.automl: 08-19 14:28:44] {3288} INFO -  at 160.9s,\testimator lgbm's best error=0.1608,\tbest estimator lgbm's best error=0.1608\n",
      "[flaml.automl: 08-19 14:28:44] {3108} INFO - iteration 35, current learner lgbm\n",
      "[flaml.automl: 08-19 14:28:49] {3288} INFO -  at 165.5s,\testimator lgbm's best error=0.1608,\tbest estimator lgbm's best error=0.1608\n",
      "[flaml.automl: 08-19 14:28:49] {3108} INFO - iteration 36, current learner lgbm\n",
      "[flaml.automl: 08-19 14:28:50] {3288} INFO -  at 167.0s,\testimator lgbm's best error=0.1608,\tbest estimator lgbm's best error=0.1608\n",
      "[flaml.automl: 08-19 14:28:50] {3108} INFO - iteration 37, current learner lgbm\n",
      "[flaml.automl: 08-19 14:28:53] {3288} INFO -  at 169.7s,\testimator lgbm's best error=0.1608,\tbest estimator lgbm's best error=0.1608\n",
      "[flaml.automl: 08-19 14:28:53] {3108} INFO - iteration 38, current learner lgbm\n",
      "[flaml.automl: 08-19 14:28:57] {3288} INFO -  at 173.3s,\testimator lgbm's best error=0.1608,\tbest estimator lgbm's best error=0.1608\n",
      "[flaml.automl: 08-19 14:28:57] {3108} INFO - iteration 39, current learner lgbm\n",
      "[flaml.automl: 08-19 14:28:58] {3288} INFO -  at 175.0s,\testimator lgbm's best error=0.1608,\tbest estimator lgbm's best error=0.1608\n",
      "[flaml.automl: 08-19 14:28:58] {3108} INFO - iteration 40, current learner lgbm\n",
      "[flaml.automl: 08-19 14:29:04] {3288} INFO -  at 180.8s,\testimator lgbm's best error=0.1608,\tbest estimator lgbm's best error=0.1608\n",
      "[flaml.automl: 08-19 14:29:04] {3108} INFO - iteration 41, current learner lgbm\n",
      "[flaml.automl: 08-19 14:29:06] {3288} INFO -  at 182.8s,\testimator lgbm's best error=0.1608,\tbest estimator lgbm's best error=0.1608\n",
      "[flaml.automl: 08-19 14:29:06] {3108} INFO - iteration 42, current learner lgbm\n",
      "[flaml.automl: 08-19 14:29:10] {3288} INFO -  at 186.8s,\testimator lgbm's best error=0.1605,\tbest estimator lgbm's best error=0.1605\n",
      "[flaml.automl: 08-19 14:29:10] {3108} INFO - iteration 43, current learner lgbm\n",
      "[flaml.automl: 08-19 14:29:11] {3288} INFO -  at 187.6s,\testimator lgbm's best error=0.1605,\tbest estimator lgbm's best error=0.1605\n",
      "[flaml.automl: 08-19 14:29:11] {3108} INFO - iteration 44, current learner lgbm\n",
      "[flaml.automl: 08-19 14:29:22] {3288} INFO -  at 198.6s,\testimator lgbm's best error=0.1605,\tbest estimator lgbm's best error=0.1605\n",
      "[flaml.automl: 08-19 14:29:22] {3108} INFO - iteration 45, current learner lgbm\n",
      "[flaml.automl: 08-19 14:29:24] {3288} INFO -  at 201.2s,\testimator lgbm's best error=0.1605,\tbest estimator lgbm's best error=0.1605\n",
      "[flaml.automl: 08-19 14:29:24] {3108} INFO - iteration 46, current learner lgbm\n",
      "[flaml.automl: 08-19 14:29:29] {3288} INFO -  at 205.7s,\testimator lgbm's best error=0.1605,\tbest estimator lgbm's best error=0.1605\n",
      "[flaml.automl: 08-19 14:29:29] {3108} INFO - iteration 47, current learner lgbm\n",
      "[flaml.automl: 08-19 14:29:30] {3288} INFO -  at 207.0s,\testimator lgbm's best error=0.1605,\tbest estimator lgbm's best error=0.1605\n",
      "[flaml.automl: 08-19 14:29:30] {3108} INFO - iteration 48, current learner lgbm\n",
      "[flaml.automl: 08-19 14:29:39] {3288} INFO -  at 215.6s,\testimator lgbm's best error=0.1605,\tbest estimator lgbm's best error=0.1605\n",
      "[flaml.automl: 08-19 14:29:39] {3108} INFO - iteration 49, current learner lgbm\n",
      "[flaml.automl: 08-19 14:29:40] {3288} INFO -  at 216.8s,\testimator lgbm's best error=0.1605,\tbest estimator lgbm's best error=0.1605\n",
      "[flaml.automl: 08-19 14:29:40] {3108} INFO - iteration 50, current learner lgbm\n",
      "[flaml.automl: 08-19 14:29:53] {3288} INFO -  at 230.1s,\testimator lgbm's best error=0.1564,\tbest estimator lgbm's best error=0.1564\n",
      "[flaml.automl: 08-19 14:29:56] {3552} INFO - retrain lgbm for 2.8s\n",
      "[flaml.automl: 08-19 14:29:56] {3559} INFO - retrained model: LGBMRegressor(colsample_bytree=0.6884091116362046,\n",
      "              learning_rate=0.0825101833775657, max_bin=1023,\n",
      "              min_child_samples=15, n_estimators=436, num_leaves=46,\n",
      "              reg_alpha=0.0010949400705571237, reg_lambda=0.004934208563558304,\n",
      "              verbose=-1)\n",
      "[flaml.automl: 08-19 14:29:56] {2837} INFO - fit succeeded\n",
      "[flaml.automl: 08-19 14:29:56] {2838} INFO - Time taken to find the best model: 230.08108830451965\n",
      "[flaml.automl: 08-19 14:29:56] {2849} WARNING - Time taken to find the best model is 96% of the provided time budget and not all estimators' hyperparameter search converged. Consider increasing the time budget.\n"
     ]
    }
   ],
   "source": [
    "'''The main flaml automl API'''\n",
    "automl.fit(X_train=X_train, y_train=y_train, **settings)"
   ]
  },
  {
   "cell_type": "markdown",
   "metadata": {
    "slideshow": {
     "slide_type": "slide"
    }
   },
   "source": [
    "### Best model and metric"
   ]
  },
  {
   "cell_type": "code",
   "execution_count": 42,
   "metadata": {
    "slideshow": {
     "slide_type": "slide"
    },
    "tags": []
   },
   "outputs": [
    {
     "name": "stdout",
     "output_type": "stream",
     "text": [
      "Best hyperparmeter config: {'n_estimators': 436, 'num_leaves': 46, 'min_child_samples': 15, 'learning_rate': 0.0825101833775657, 'log_max_bin': 10, 'colsample_bytree': 0.6884091116362046, 'reg_alpha': 0.0010949400705571237, 'reg_lambda': 0.004934208563558304}\n",
      "Best r2 on validation data: 0.8436\n",
      "Training duration of best run: 2.842 s\n"
     ]
    }
   ],
   "source": [
    "''' retrieve best config'''\n",
    "print('Best hyperparmeter config:', automl.best_config)\n",
    "print('Best r2 on validation data: {0:.4g}'.format(1-automl.best_loss))\n",
    "print('Training duration of best run: {0:.4g} s'.format(automl.best_config_train_time))"
   ]
  },
  {
   "cell_type": "code",
   "execution_count": 43,
   "metadata": {
    "slideshow": {
     "slide_type": "slide"
    }
   },
   "outputs": [
    {
     "data": {
      "text/html": [
       "<style>#sk-container-id-5 {color: black;background-color: white;}#sk-container-id-5 pre{padding: 0;}#sk-container-id-5 div.sk-toggleable {background-color: white;}#sk-container-id-5 label.sk-toggleable__label {cursor: pointer;display: block;width: 100%;margin-bottom: 0;padding: 0.3em;box-sizing: border-box;text-align: center;}#sk-container-id-5 label.sk-toggleable__label-arrow:before {content: \"▸\";float: left;margin-right: 0.25em;color: #696969;}#sk-container-id-5 label.sk-toggleable__label-arrow:hover:before {color: black;}#sk-container-id-5 div.sk-estimator:hover label.sk-toggleable__label-arrow:before {color: black;}#sk-container-id-5 div.sk-toggleable__content {max-height: 0;max-width: 0;overflow: hidden;text-align: left;background-color: #f0f8ff;}#sk-container-id-5 div.sk-toggleable__content pre {margin: 0.2em;color: black;border-radius: 0.25em;background-color: #f0f8ff;}#sk-container-id-5 input.sk-toggleable__control:checked~div.sk-toggleable__content {max-height: 200px;max-width: 100%;overflow: auto;}#sk-container-id-5 input.sk-toggleable__control:checked~label.sk-toggleable__label-arrow:before {content: \"▾\";}#sk-container-id-5 div.sk-estimator input.sk-toggleable__control:checked~label.sk-toggleable__label {background-color: #d4ebff;}#sk-container-id-5 div.sk-label input.sk-toggleable__control:checked~label.sk-toggleable__label {background-color: #d4ebff;}#sk-container-id-5 input.sk-hidden--visually {border: 0;clip: rect(1px 1px 1px 1px);clip: rect(1px, 1px, 1px, 1px);height: 1px;margin: -1px;overflow: hidden;padding: 0;position: absolute;width: 1px;}#sk-container-id-5 div.sk-estimator {font-family: monospace;background-color: #f0f8ff;border: 1px dotted black;border-radius: 0.25em;box-sizing: border-box;margin-bottom: 0.5em;}#sk-container-id-5 div.sk-estimator:hover {background-color: #d4ebff;}#sk-container-id-5 div.sk-parallel-item::after {content: \"\";width: 100%;border-bottom: 1px solid gray;flex-grow: 1;}#sk-container-id-5 div.sk-label:hover label.sk-toggleable__label {background-color: #d4ebff;}#sk-container-id-5 div.sk-serial::before {content: \"\";position: absolute;border-left: 1px solid gray;box-sizing: border-box;top: 0;bottom: 0;left: 50%;z-index: 0;}#sk-container-id-5 div.sk-serial {display: flex;flex-direction: column;align-items: center;background-color: white;padding-right: 0.2em;padding-left: 0.2em;position: relative;}#sk-container-id-5 div.sk-item {position: relative;z-index: 1;}#sk-container-id-5 div.sk-parallel {display: flex;align-items: stretch;justify-content: center;background-color: white;position: relative;}#sk-container-id-5 div.sk-item::before, #sk-container-id-5 div.sk-parallel-item::before {content: \"\";position: absolute;border-left: 1px solid gray;box-sizing: border-box;top: 0;bottom: 0;left: 50%;z-index: -1;}#sk-container-id-5 div.sk-parallel-item {display: flex;flex-direction: column;z-index: 1;position: relative;background-color: white;}#sk-container-id-5 div.sk-parallel-item:first-child::after {align-self: flex-end;width: 50%;}#sk-container-id-5 div.sk-parallel-item:last-child::after {align-self: flex-start;width: 50%;}#sk-container-id-5 div.sk-parallel-item:only-child::after {width: 0;}#sk-container-id-5 div.sk-dashed-wrapped {border: 1px dashed gray;margin: 0 0.4em 0.5em 0.4em;box-sizing: border-box;padding-bottom: 0.4em;background-color: white;}#sk-container-id-5 div.sk-label label {font-family: monospace;font-weight: bold;display: inline-block;line-height: 1.2em;}#sk-container-id-5 div.sk-label-container {text-align: center;}#sk-container-id-5 div.sk-container {/* jupyter's `normalize.less` sets `[hidden] { display: none; }` but bootstrap.min.css set `[hidden] { display: none !important; }` so we also need the `!important` here to be able to override the default hidden behavior on the sphinx rendered scikit-learn.org. See: https://github.com/scikit-learn/scikit-learn/issues/21755 */display: inline-block !important;position: relative;}#sk-container-id-5 div.sk-text-repr-fallback {display: none;}</style><div id=\"sk-container-id-5\" class=\"sk-top-container\"><div class=\"sk-text-repr-fallback\"><pre>LGBMRegressor(colsample_bytree=0.6884091116362046,\n",
       "              learning_rate=0.0825101833775657, max_bin=1023,\n",
       "              min_child_samples=15, n_estimators=436, num_leaves=46,\n",
       "              reg_alpha=0.0010949400705571237, reg_lambda=0.004934208563558304,\n",
       "              verbose=-1)</pre><b>In a Jupyter environment, please rerun this cell to show the HTML representation or trust the notebook. <br />On GitHub, the HTML representation is unable to render, please try loading this page with nbviewer.org.</b></div><div class=\"sk-container\" hidden><div class=\"sk-item\"><div class=\"sk-estimator sk-toggleable\"><input class=\"sk-toggleable__control sk-hidden--visually\" id=\"sk-estimator-id-5\" type=\"checkbox\" checked><label for=\"sk-estimator-id-5\" class=\"sk-toggleable__label sk-toggleable__label-arrow\">LGBMRegressor</label><div class=\"sk-toggleable__content\"><pre>LGBMRegressor(colsample_bytree=0.6884091116362046,\n",
       "              learning_rate=0.0825101833775657, max_bin=1023,\n",
       "              min_child_samples=15, n_estimators=436, num_leaves=46,\n",
       "              reg_alpha=0.0010949400705571237, reg_lambda=0.004934208563558304,\n",
       "              verbose=-1)</pre></div></div></div></div></div>"
      ],
      "text/plain": [
       "LGBMRegressor(colsample_bytree=0.6884091116362046,\n",
       "              learning_rate=0.0825101833775657, max_bin=1023,\n",
       "              min_child_samples=15, n_estimators=436, num_leaves=46,\n",
       "              reg_alpha=0.0010949400705571237, reg_lambda=0.004934208563558304,\n",
       "              verbose=-1)"
      ]
     },
     "execution_count": 43,
     "metadata": {},
     "output_type": "execute_result"
    }
   ],
   "source": [
    "automl.model.estimator"
   ]
  },
  {
   "cell_type": "code",
   "execution_count": 44,
   "metadata": {},
   "outputs": [
    {
     "data": {
      "text/plain": [
       "<BarContainer object of 8 artists>"
      ]
     },
     "execution_count": 44,
     "metadata": {},
     "output_type": "execute_result"
    },
    {
     "data": {
      "image/png": "[encoded data removed]",
      "text/plain": [
       "<Figure size 640x480 with 1 Axes>"
      ]
     },
     "metadata": {},
     "output_type": "display_data"
    }
   ],
   "source": [
    "import matplotlib.pyplot as plt\n",
    "plt.barh(automl.feature_names_in_, automl.feature_importances_)"
   ]
  },
  {
   "cell_type": "code",
   "execution_count": 45,
   "metadata": {
    "slideshow": {
     "slide_type": "slide"
    }
   },
   "outputs": [],
   "source": [
    "''' pickle and save the automl object '''\n",
    "import pickle\n",
    "with open('automl.pkl', 'wb') as f:\n",
    "    pickle.dump(automl, f, pickle.HIGHEST_PROTOCOL)"
   ]
  },
  {
   "cell_type": "code",
   "execution_count": 46,
   "metadata": {
    "slideshow": {
     "slide_type": "slide"
    },
    "tags": []
   },
   "outputs": [
    {
     "name": "stdout",
     "output_type": "stream",
     "text": [
      "Predicted labels [154950.89603668 261662.95147298 147753.80526837 ... 223816.69491088\n",
      " 204988.34248538 279060.41682988]\n",
      "True labels 14740    136900.0\n",
      "10101    241300.0\n",
      "20566    200700.0\n",
      "2670      72500.0\n",
      "15709    460000.0\n",
      "           ...   \n",
      "13132    121200.0\n",
      "8228     137500.0\n",
      "3948     160900.0\n",
      "8522     227300.0\n",
      "16798    265600.0\n",
      "Name: median_house_value, Length: 5160, dtype: float64\n"
     ]
    }
   ],
   "source": [
    "''' compute predictions of testing dataset ''' \n",
    "y_pred = automl.predict(X_test)\n",
    "print('Predicted labels', y_pred)\n",
    "print('True labels', y_test)"
   ]
  },
  {
   "cell_type": "code",
   "execution_count": 47,
   "metadata": {
    "slideshow": {
     "slide_type": "slide"
    },
    "tags": []
   },
   "outputs": [
    {
     "name": "stdout",
     "output_type": "stream",
     "text": [
      "r2 = 0.8504619441564182\n",
      "mse = 1976669769.3583572\n",
      "mae = 29365.09842559213\n"
     ]
    }
   ],
   "source": [
    "''' compute different metric values on testing dataset'''\n",
    "from flaml.ml import sklearn_metric_loss_score\n",
    "print('r2', '=', 1 - sklearn_metric_loss_score('r2', y_pred, y_test))\n",
    "print('mse', '=', sklearn_metric_loss_score('mse', y_pred, y_test))\n",
    "print('mae', '=', sklearn_metric_loss_score('mae', y_pred, y_test))"
   ]
  },
  {
   "cell_type": "code",
   "execution_count": 48,
   "metadata": {
    "slideshow": {
     "slide_type": "subslide"
    },
    "tags": []
   },
   "outputs": [
    {
     "name": "stdout",
     "output_type": "stream",
     "text": [
      "{'Current Learner': 'lgbm', 'Current Sample': 15480, 'Current Hyper-parameters': {'n_estimators': 4, 'num_leaves': 4, 'min_child_samples': 20, 'learning_rate': 0.09999999999999995, 'log_max_bin': 8, 'colsample_bytree': 1.0, 'reg_alpha': 0.0009765625, 'reg_lambda': 1.0}, 'Best Learner': 'lgbm', 'Best Hyper-parameters': {'n_estimators': 4, 'num_leaves': 4, 'min_child_samples': 20, 'learning_rate': 0.09999999999999995, 'log_max_bin': 8, 'colsample_bytree': 1.0, 'reg_alpha': 0.0009765625, 'reg_lambda': 1.0}}\n",
      "{'Current Learner': 'lgbm', 'Current Sample': 15480, 'Current Hyper-parameters': {'n_estimators': 22, 'num_leaves': 4, 'min_child_samples': 18, 'learning_rate': 0.2293009676418639, 'log_max_bin': 9, 'colsample_bytree': 0.9086551727646448, 'reg_alpha': 0.0015561782752413472, 'reg_lambda': 0.33127416269768944}, 'Best Learner': 'lgbm', 'Best Hyper-parameters': {'n_estimators': 22, 'num_leaves': 4, 'min_child_samples': 18, 'learning_rate': 0.2293009676418639, 'log_max_bin': 9, 'colsample_bytree': 0.9086551727646448, 'reg_alpha': 0.0015561782752413472, 'reg_lambda': 0.33127416269768944}}\n",
      "{'Current Learner': 'lgbm', 'Current Sample': 15480, 'Current Hyper-parameters': {'n_estimators': 28, 'num_leaves': 20, 'min_child_samples': 17, 'learning_rate': 0.32352862101602586, 'log_max_bin': 10, 'colsample_bytree': 0.8801327898366843, 'reg_alpha': 0.004475520554844502, 'reg_lambda': 0.033081571878574946}, 'Best Learner': 'lgbm', 'Best Hyper-parameters': {'n_estimators': 28, 'num_leaves': 20, 'min_child_samples': 17, 'learning_rate': 0.32352862101602586, 'log_max_bin': 10, 'colsample_bytree': 0.8801327898366843, 'reg_alpha': 0.004475520554844502, 'reg_lambda': 0.033081571878574946}}\n",
      "{'Current Learner': 'lgbm', 'Current Sample': 15480, 'Current Hyper-parameters': {'n_estimators': 44, 'num_leaves': 81, 'min_child_samples': 29, 'learning_rate': 0.26477481203117526, 'log_max_bin': 10, 'colsample_bytree': 1.0, 'reg_alpha': 0.0009765625, 'reg_lambda': 0.028486834222229064}, 'Best Learner': 'lgbm', 'Best Hyper-parameters': {'n_estimators': 44, 'num_leaves': 81, 'min_child_samples': 29, 'learning_rate': 0.26477481203117526, 'log_max_bin': 10, 'colsample_bytree': 1.0, 'reg_alpha': 0.0009765625, 'reg_lambda': 0.028486834222229064}}\n"
     ]
    }
   ],
   "source": [
    "from flaml.data import get_output_from_log\n",
    "time_history, best_valid_loss_history, valid_loss_history, config_history, metric_history = \\\n",
    "    get_output_from_log(filename=settings['log_file_name'], time_budget=60)\n",
    "\n",
    "for config in config_history:\n",
    "    print(config)"
   ]
  },
  {
   "cell_type": "code",
   "execution_count": 49,
   "metadata": {
    "slideshow": {
     "slide_type": "slide"
    }
   },
   "outputs": [
    {
     "data": {
      "image/png": "[encoded data removed]",
      "text/plain": [
       "<Figure size 640x480 with 1 Axes>"
      ]
     },
     "metadata": {},
     "output_type": "display_data"
    }
   ],
   "source": [
    "import numpy as np\n",
    "\n",
    "plt.title('Learning Curve')\n",
    "plt.xlabel('Wall Clock Time (s)')\n",
    "plt.ylabel('Validation r2')\n",
    "plt.scatter(time_history, 1 - np.array(valid_loss_history))\n",
    "plt.step(time_history, 1 - np.array(best_valid_loss_history), where='post')\n",
    "plt.show()"
   ]
  },
  {
   "cell_type": "markdown",
   "metadata": {},
   "source": [
    "## 3. Comparison with alternatives\n",
    "\n",
    "### FLAML's accuracy"
   ]
  },
  {
   "cell_type": "code",
   "execution_count": 50,
   "metadata": {
    "tags": []
   },
   "outputs": [
    {
     "name": "stdout",
     "output_type": "stream",
     "text": [
      "flaml (4min) r2 = 0.8504619441564182\n"
     ]
    }
   ],
   "source": [
    "print('flaml (4min) r2', '=', 1 - sklearn_metric_loss_score('r2', y_pred, y_test))"
   ]
  },
  {
   "cell_type": "markdown",
   "metadata": {},
   "source": [
    "### Default LightGBM"
   ]
  },
  {
   "cell_type": "code",
   "execution_count": 51,
   "metadata": {},
   "outputs": [],
   "source": [
    "from lightgbm import LGBMRegressor\n",
    "lgbm = LGBMRegressor()"
   ]
  },
  {
   "cell_type": "code",
   "execution_count": 52,
   "metadata": {},
   "outputs": [
    {
     "data": {
      "text/html": [
       "<style>#sk-container-id-6 {color: black;background-color: white;}#sk-container-id-6 pre{padding: 0;}#sk-container-id-6 div.sk-toggleable {background-color: white;}#sk-container-id-6 label.sk-toggleable__label {cursor: pointer;display: block;width: 100%;margin-bottom: 0;padding: 0.3em;box-sizing: border-box;text-align: center;}#sk-container-id-6 label.sk-toggleable__label-arrow:before {content: \"▸\";float: left;margin-right: 0.25em;color: #696969;}#sk-container-id-6 label.sk-toggleable__label-arrow:hover:before {color: black;}#sk-container-id-6 div.sk-estimator:hover label.sk-toggleable__label-arrow:before {color: black;}#sk-container-id-6 div.sk-toggleable__content {max-height: 0;max-width: 0;overflow: hidden;text-align: left;background-color: #f0f8ff;}#sk-container-id-6 div.sk-toggleable__content pre {margin: 0.2em;color: black;border-radius: 0.25em;background-color: #f0f8ff;}#sk-container-id-6 input.sk-toggleable__control:checked~div.sk-toggleable__content {max-height: 200px;max-width: 100%;overflow: auto;}#sk-container-id-6 input.sk-toggleable__control:checked~label.sk-toggleable__label-arrow:before {content: \"▾\";}#sk-container-id-6 div.sk-estimator input.sk-toggleable__control:checked~label.sk-toggleable__label {background-color: #d4ebff;}#sk-container-id-6 div.sk-label input.sk-toggleable__control:checked~label.sk-toggleable__label {background-color: #d4ebff;}#sk-container-id-6 input.sk-hidden--visually {border: 0;clip: rect(1px 1px 1px 1px);clip: rect(1px, 1px, 1px, 1px);height: 1px;margin: -1px;overflow: hidden;padding: 0;position: absolute;width: 1px;}#sk-container-id-6 div.sk-estimator {font-family: monospace;background-color: #f0f8ff;border: 1px dotted black;border-radius: 0.25em;box-sizing: border-box;margin-bottom: 0.5em;}#sk-container-id-6 div.sk-estimator:hover {background-color: #d4ebff;}#sk-container-id-6 div.sk-parallel-item::after {content: \"\";width: 100%;border-bottom: 1px solid gray;flex-grow: 1;}#sk-container-id-6 div.sk-label:hover label.sk-toggleable__label {background-color: #d4ebff;}#sk-container-id-6 div.sk-serial::before {content: \"\";position: absolute;border-left: 1px solid gray;box-sizing: border-box;top: 0;bottom: 0;left: 50%;z-index: 0;}#sk-container-id-6 div.sk-serial {display: flex;flex-direction: column;align-items: center;background-color: white;padding-right: 0.2em;padding-left: 0.2em;position: relative;}#sk-container-id-6 div.sk-item {position: relative;z-index: 1;}#sk-container-id-6 div.sk-parallel {display: flex;align-items: stretch;justify-content: center;background-color: white;position: relative;}#sk-container-id-6 div.sk-item::before, #sk-container-id-6 div.sk-parallel-item::before {content: \"\";position: absolute;border-left: 1px solid gray;box-sizing: border-box;top: 0;bottom: 0;left: 50%;z-index: -1;}#sk-container-id-6 div.sk-parallel-item {display: flex;flex-direction: column;z-index: 1;position: relative;background-color: white;}#sk-container-id-6 div.sk-parallel-item:first-child::after {align-self: flex-end;width: 50%;}#sk-container-id-6 div.sk-parallel-item:last-child::after {align-self: flex-start;width: 50%;}#sk-container-id-6 div.sk-parallel-item:only-child::after {width: 0;}#sk-container-id-6 div.sk-dashed-wrapped {border: 1px dashed gray;margin: 0 0.4em 0.5em 0.4em;box-sizing: border-box;padding-bottom: 0.4em;background-color: white;}#sk-container-id-6 div.sk-label label {font-family: monospace;font-weight: bold;display: inline-block;line-height: 1.2em;}#sk-container-id-6 div.sk-label-container {text-align: center;}#sk-container-id-6 div.sk-container {/* jupyter's `normalize.less` sets `[hidden] { display: none; }` but bootstrap.min.css set `[hidden] { display: none !important; }` so we also need the `!important` here to be able to override the default hidden behavior on the sphinx rendered scikit-learn.org. See: https://github.com/scikit-learn/scikit-learn/issues/21755 */display: inline-block !important;position: relative;}#sk-container-id-6 div.sk-text-repr-fallback {display: none;}</style><div id=\"sk-container-id-6\" class=\"sk-top-container\"><div class=\"sk-text-repr-fallback\"><pre>LGBMRegressor()</pre><b>In a Jupyter environment, please rerun this cell to show the HTML representation or trust the notebook. <br />On GitHub, the HTML representation is unable to render, please try loading this page with nbviewer.org.</b></div><div class=\"sk-container\" hidden><div class=\"sk-item\"><div class=\"sk-estimator sk-toggleable\"><input class=\"sk-toggleable__control sk-hidden--visually\" id=\"sk-estimator-id-6\" type=\"checkbox\" checked><label for=\"sk-estimator-id-6\" class=\"sk-toggleable__label sk-toggleable__label-arrow\">LGBMRegressor</label><div class=\"sk-toggleable__content\"><pre>LGBMRegressor()</pre></div></div></div></div></div>"
      ],
      "text/plain": [
       "LGBMRegressor()"
      ]
     },
     "execution_count": 52,
     "metadata": {},
     "output_type": "execute_result"
    }
   ],
   "source": [
    "lgbm.fit(X_train, y_train)"
   ]
  },
  {
   "cell_type": "code",
   "execution_count": 53,
   "metadata": {
    "tags": []
   },
   "outputs": [
    {
     "name": "stdout",
     "output_type": "stream",
     "text": [
      "default lgbm r2 = 0.8296179648694404\n"
     ]
    }
   ],
   "source": [
    "y_pred = lgbm.predict(X_test)\n",
    "from flaml.ml import sklearn_metric_loss_score\n",
    "print('default lgbm r2', '=', 1 - sklearn_metric_loss_score('r2', y_pred, y_test))"
   ]
  },
  {
   "cell_type": "markdown",
   "metadata": {},
   "source": [
    "### Optuna LightGBM Tuner"
   ]
  },
  {
   "cell_type": "code",
   "execution_count": 54,
   "metadata": {},
   "outputs": [
    {
     "name": "stdout",
     "output_type": "stream",
     "text": [
      "Requirement already satisfied: optuna==2.8.0 in /home/ec2-user/miniconda3/envs/flaml/lib/python3.8/site-packages (2.8.0)\n",
      "Requirement already satisfied: alembic in /home/ec2-user/miniconda3/envs/flaml/lib/python3.8/site-packages (from optuna==2.8.0) (1.8.1)\n",
      "Requirement already satisfied: sqlalchemy>=1.1.0 in /home/ec2-user/miniconda3/envs/flaml/lib/python3.8/site-packages (from optuna==2.8.0) (1.4.40)\n",
      "Requirement already satisfied: numpy in /home/ec2-user/miniconda3/envs/flaml/lib/python3.8/site-packages (from optuna==2.8.0) (1.23.2)\n",
      "Requirement already satisfied: cmaes>=0.8.2 in /home/ec2-user/miniconda3/envs/flaml/lib/python3.8/site-packages (from optuna==2.8.0) (0.8.2)\n",
      "Requirement already satisfied: colorlog in /home/ec2-user/miniconda3/envs/flaml/lib/python3.8/site-packages (from optuna==2.8.0) (6.6.0)\n",
      "Requirement already satisfied: packaging>=20.0 in /home/ec2-user/miniconda3/envs/flaml/lib/python3.8/site-packages (from optuna==2.8.0) (21.3)\n",
      "Requirement already satisfied: tqdm in /home/ec2-user/miniconda3/envs/flaml/lib/python3.8/site-packages (from optuna==2.8.0) (4.64.0)\n",
      "Requirement already satisfied: cliff in /home/ec2-user/miniconda3/envs/flaml/lib/python3.8/site-packages (from optuna==2.8.0) (4.0.0)\n",
      "Requirement already satisfied: scipy!=1.4.0 in /home/ec2-user/miniconda3/envs/flaml/lib/python3.8/site-packages (from optuna==2.8.0) (1.9.0)\n",
      "Requirement already satisfied: pyparsing!=3.0.5,>=2.0.2 in /home/ec2-user/miniconda3/envs/flaml/lib/python3.8/site-packages (from packaging>=20.0->optuna==2.8.0) (3.0.9)\n",
      "Requirement already satisfied: greenlet!=0.4.17 in /home/ec2-user/miniconda3/envs/flaml/lib/python3.8/site-packages (from sqlalchemy>=1.1.0->optuna==2.8.0) (1.1.2)\n",
      "Requirement already satisfied: importlib-resources in /home/ec2-user/miniconda3/envs/flaml/lib/python3.8/site-packages (from alembic->optuna==2.8.0) (5.9.0)\n",
      "Requirement already satisfied: Mako in /home/ec2-user/miniconda3/envs/flaml/lib/python3.8/site-packages (from alembic->optuna==2.8.0) (1.2.1)\n",
      "Requirement already satisfied: importlib-metadata in /home/ec2-user/miniconda3/envs/flaml/lib/python3.8/site-packages (from alembic->optuna==2.8.0) (4.12.0)\n",
      "Requirement already satisfied: PrettyTable>=0.7.2 in /home/ec2-user/miniconda3/envs/flaml/lib/python3.8/site-packages (from cliff->optuna==2.8.0) (3.3.0)\n",
      "Requirement already satisfied: cmd2>=1.0.0 in /home/ec2-user/miniconda3/envs/flaml/lib/python3.8/site-packages (from cliff->optuna==2.8.0) (2.4.2)\n",
      "Requirement already satisfied: PyYAML>=3.12 in /home/ec2-user/miniconda3/envs/flaml/lib/python3.8/site-packages (from cliff->optuna==2.8.0) (6.0)\n",
      "Requirement already satisfied: autopage>=0.4.0 in /home/ec2-user/miniconda3/envs/flaml/lib/python3.8/site-packages (from cliff->optuna==2.8.0) (0.5.1)\n",
      "Requirement already satisfied: stevedore>=2.0.1 in /home/ec2-user/miniconda3/envs/flaml/lib/python3.8/site-packages (from cliff->optuna==2.8.0) (4.0.0)\n",
      "Requirement already satisfied: attrs>=16.3.0 in /home/ec2-user/miniconda3/envs/flaml/lib/python3.8/site-packages (from cmd2>=1.0.0->cliff->optuna==2.8.0) (22.1.0)\n",
      "Requirement already satisfied: pyperclip>=1.6 in /home/ec2-user/miniconda3/envs/flaml/lib/python3.8/site-packages (from cmd2>=1.0.0->cliff->optuna==2.8.0) (1.8.2)\n",
      "Requirement already satisfied: wcwidth>=0.1.7 in /home/ec2-user/miniconda3/envs/flaml/lib/python3.8/site-packages (from cmd2>=1.0.0->cliff->optuna==2.8.0) (0.2.5)\n",
      "Requirement already satisfied: zipp>=0.5 in /home/ec2-user/miniconda3/envs/flaml/lib/python3.8/site-packages (from importlib-metadata->alembic->optuna==2.8.0) (3.8.1)\n",
      "Requirement already satisfied: pbr!=2.1.0,>=2.0.0 in /home/ec2-user/miniconda3/envs/flaml/lib/python3.8/site-packages (from stevedore>=2.0.1->cliff->optuna==2.8.0) (5.10.0)\n",
      "Requirement already satisfied: MarkupSafe>=0.9.2 in /home/ec2-user/miniconda3/envs/flaml/lib/python3.8/site-packages (from Mako->alembic->optuna==2.8.0) (2.1.1)\n",
      "Note: you may need to restart the kernel to use updated packages.\n"
     ]
    }
   ],
   "source": [
    "%pip install optuna==2.8.0"
   ]
  },
  {
   "cell_type": "code",
   "execution_count": 55,
   "metadata": {},
   "outputs": [],
   "source": [
    "from sklearn.model_selection import train_test_split\n",
    "train_x, val_x, train_y, val_y = train_test_split(X_train, y_train, test_size=0.1)\n",
    "import optuna.integration.lightgbm as lgb\n",
    "dtrain = lgb.Dataset(train_x, label=train_y)\n",
    "dval = lgb.Dataset(val_x, label=val_y)\n",
    "params = {\n",
    "    \"objective\": \"regression\",\n",
    "    \"metric\": \"regression\",\n",
    "    \"verbosity\": -1,\n",
    "}"
   ]
  },
  {
   "cell_type": "code",
   "execution_count": 56,
   "metadata": {
    "tags": [
     "outputPrepend"
    ]
   },
   "outputs": [
    {
     "name": "stderr",
     "output_type": "stream",
     "text": [
      "\u001b[32m[I 2022-08-19 14:30:01,711]\u001b[0m A new study created in memory with name: no-name-8fbdb818-9837-4f94-8f57-c393fbe4a3af\u001b[0m\n"
     ]
    },
    {
     "name": "stdout",
     "output_type": "stream",
     "text": [
      "[LightGBM] [Warning] Unknown parameter: feature_pre_filter\n"
     ]
    },
    {
     "name": "stderr",
     "output_type": "stream",
     "text": [
      "\u001b[32m[I 2022-08-19 14:30:04,871]\u001b[0m Trial 0 finished with value: 2147291179.0395293 and parameters: {'feature_fraction': 1.0}. Best is trial 0 with value: 2147291179.0395293.\u001b[0m\n",
      "\u001b[32m[I 2022-08-19 14:30:07,408]\u001b[0m Trial 1 finished with value: 2027103695.9770539 and parameters: {'feature_fraction': 0.8}. Best is trial 1 with value: 2027103695.9770539.\u001b[0m\n",
      "\u001b[32m[I 2022-08-19 14:30:09,854]\u001b[0m Trial 2 finished with value: 2125123735.6499698 and parameters: {'feature_fraction': 0.6}. Best is trial 1 with value: 2027103695.9770539.\u001b[0m\n",
      "\u001b[32m[I 2022-08-19 14:30:12,380]\u001b[0m Trial 3 finished with value: 2027103695.9770539 and parameters: {'feature_fraction': 0.7}. Best is trial 1 with value: 2027103695.9770539.\u001b[0m\n",
      "\u001b[32m[I 2022-08-19 14:30:14,887]\u001b[0m Trial 4 finished with value: 2221252362.078979 and parameters: {'feature_fraction': 0.5}. Best is trial 1 with value: 2027103695.9770539.\u001b[0m\n",
      "\u001b[32m[I 2022-08-19 14:30:17,552]\u001b[0m Trial 5 finished with value: 2113023040.7493408 and parameters: {'feature_fraction': 0.8999999999999999}. Best is trial 1 with value: 2027103695.9770539.\u001b[0m\n",
      "\u001b[32m[I 2022-08-19 14:30:19,726]\u001b[0m Trial 6 finished with value: 2129729447.7232711 and parameters: {'feature_fraction': 0.4}. Best is trial 1 with value: 2027103695.9770539.\u001b[0m\n",
      "feature_fraction, val_score: 2027103695.977054: 100%|##########| 7/7 [00:18<00:00,  2.57s/it]\n",
      "\u001b[32m[I 2022-08-19 14:30:26,884]\u001b[0m Trial 7 finished with value: 2153102051.571428 and parameters: {'num_leaves': 117}. Best is trial 7 with value: 2153102051.571428.\u001b[0m\n",
      "\u001b[32m[I 2022-08-19 14:30:28,102]\u001b[0m Trial 8 finished with value: 2122208920.607172 and parameters: {'num_leaves': 8}. Best is trial 8 with value: 2122208920.607172.\u001b[0m\n",
      "\u001b[32m[I 2022-08-19 14:30:31,374]\u001b[0m Trial 9 finished with value: 2107492681.7831585 and parameters: {'num_leaves': 46}. Best is trial 9 with value: 2107492681.7831585.\u001b[0m\n",
      "\u001b[32m[I 2022-08-19 14:30:34,591]\u001b[0m Trial 10 finished with value: 2067234636.6746926 and parameters: {'num_leaves': 41}. Best is trial 10 with value: 2067234636.6746926.\u001b[0m\n",
      "\u001b[32m[I 2022-08-19 14:30:42,706]\u001b[0m Trial 11 finished with value: 2157723341.991555 and parameters: {'num_leaves': 137}. Best is trial 10 with value: 2067234636.6746926.\u001b[0m\n",
      "\u001b[32m[I 2022-08-19 14:30:48,812]\u001b[0m Trial 12 finished with value: 2144153512.8728046 and parameters: {'num_leaves': 99}. Best is trial 10 with value: 2067234636.6746926.\u001b[0m\n",
      "\u001b[32m[I 2022-08-19 14:30:56,943]\u001b[0m Trial 13 finished with value: 2171424776.230104 and parameters: {'num_leaves': 131}. Best is trial 10 with value: 2067234636.6746926.\u001b[0m\n",
      "\u001b[32m[I 2022-08-19 14:31:03,487]\u001b[0m Trial 14 finished with value: 2094075525.1291854 and parameters: {'num_leaves': 85}. Best is trial 10 with value: 2067234636.6746926.\u001b[0m\n",
      "\u001b[32m[I 2022-08-19 14:31:10,285]\u001b[0m Trial 15 finished with value: 2128002934.2535832 and parameters: {'num_leaves': 113}. Best is trial 10 with value: 2067234636.6746926.\u001b[0m\n",
      "\u001b[32m[I 2022-08-19 14:31:15,355]\u001b[0m Trial 16 finished with value: 2095047632.8808584 and parameters: {'num_leaves': 79}. Best is trial 10 with value: 2067234636.6746926.\u001b[0m\n",
      "\u001b[32m[I 2022-08-19 14:31:27,953]\u001b[0m Trial 17 finished with value: 2195951756.433248 and parameters: {'num_leaves': 217}. Best is trial 10 with value: 2067234636.6746926.\u001b[0m\n",
      "\u001b[32m[I 2022-08-19 14:31:29,353]\u001b[0m Trial 18 finished with value: 2112841591.9662855 and parameters: {'num_leaves': 11}. Best is trial 10 with value: 2067234636.6746926.\u001b[0m\n",
      "\u001b[32m[I 2022-08-19 14:31:32,540]\u001b[0m Trial 19 finished with value: 2054387824.9535184 and parameters: {'num_leaves': 40}. Best is trial 19 with value: 2054387824.9535184.\u001b[0m\n",
      "\u001b[32m[I 2022-08-19 14:31:35,905]\u001b[0m Trial 20 finished with value: 2112828433.244751 and parameters: {'num_leaves': 47}. Best is trial 19 with value: 2054387824.9535184.\u001b[0m\n",
      "\u001b[32m[I 2022-08-19 14:31:47,473]\u001b[0m Trial 21 finished with value: 2201708147.602069 and parameters: {'num_leaves': 197}. Best is trial 19 with value: 2054387824.9535184.\u001b[0m\n",
      "\u001b[32m[I 2022-08-19 14:31:51,015]\u001b[0m Trial 22 finished with value: 2107492681.7831585 and parameters: {'num_leaves': 46}. Best is trial 19 with value: 2054387824.9535184.\u001b[0m\n",
      "\u001b[32m[I 2022-08-19 14:32:00,809]\u001b[0m Trial 23 finished with value: 2202402054.990555 and parameters: {'num_leaves': 166}. Best is trial 19 with value: 2054387824.9535184.\u001b[0m\n",
      "\u001b[32m[I 2022-08-19 14:32:02,856]\u001b[0m Trial 24 finished with value: 2023373826.6930401 and parameters: {'num_leaves': 22}. Best is trial 24 with value: 2023373826.6930401.\u001b[0m\n",
      "\u001b[32m[I 2022-08-19 14:32:04,485]\u001b[0m Trial 25 finished with value: 2094906957.590643 and parameters: {'num_leaves': 14}. Best is trial 24 with value: 2023373826.6930401.\u001b[0m\n",
      "\u001b[32m[I 2022-08-19 14:32:08,928]\u001b[0m Trial 26 finished with value: 2094584175.3524451 and parameters: {'num_leaves': 69}. Best is trial 24 with value: 2023373826.6930401.\u001b[0m\n",
      "num_leaves, val_score: 2023373826.693040: 100%|##########| 20/20 [01:49<00:00,  5.46s/it]\n",
      "\u001b[32m[I 2022-08-19 14:32:11,869]\u001b[0m Trial 27 finished with value: 2062465082.5876758 and parameters: {'bagging_fraction': 0.8976779191246269, 'bagging_freq': 1}. Best is trial 27 with value: 2062465082.5876758.\u001b[0m\n",
      "\u001b[32m[I 2022-08-19 14:32:14,581]\u001b[0m Trial 28 finished with value: 2024570073.8714666 and parameters: {'bagging_fraction': 0.7102750973814858, 'bagging_freq': 1}. Best is trial 28 with value: 2024570073.8714666.\u001b[0m\n",
      "\u001b[32m[I 2022-08-19 14:32:16,990]\u001b[0m Trial 29 finished with value: 2063551295.3287122 and parameters: {'bagging_fraction': 0.9567296421940273, 'bagging_freq': 7}. Best is trial 28 with value: 2024570073.8714666.\u001b[0m\n",
      "\u001b[32m[I 2022-08-19 14:32:19,896]\u001b[0m Trial 30 finished with value: 2062360224.5246172 and parameters: {'bagging_fraction': 0.9279811226569815, 'bagging_freq': 1}. Best is trial 28 with value: 2024570073.8714666.\u001b[0m\n",
      "\u001b[32m[I 2022-08-19 14:32:22,453]\u001b[0m Trial 31 finished with value: 2116145745.7056575 and parameters: {'bagging_fraction': 0.7432759374876607, 'bagging_freq': 7}. Best is trial 28 with value: 2024570073.8714666.\u001b[0m\n",
      "\u001b[32m[I 2022-08-19 14:32:25,034]\u001b[0m Trial 32 finished with value: 2040270267.2437565 and parameters: {'bagging_fraction': 0.9807690972204939, 'bagging_freq': 1}. Best is trial 28 with value: 2024570073.8714666.\u001b[0m\n",
      "\u001b[32m[I 2022-08-19 14:32:28,086]\u001b[0m Trial 33 finished with value: 2114099028.7517028 and parameters: {'bagging_fraction': 0.5764668687539389, 'bagging_freq': 1}. Best is trial 28 with value: 2024570073.8714666.\u001b[0m\n",
      "\u001b[32m[I 2022-08-19 14:32:30,599]\u001b[0m Trial 34 finished with value: 2093869660.0814357 and parameters: {'bagging_fraction': 0.8256408911097234, 'bagging_freq': 4}. Best is trial 28 with value: 2024570073.8714666.\u001b[0m\n",
      "\u001b[32m[I 2022-08-19 14:32:33,419]\u001b[0m Trial 35 finished with value: 2096225764.4084606 and parameters: {'bagging_fraction': 0.7014324834651005, 'bagging_freq': 6}. Best is trial 28 with value: 2024570073.8714666.\u001b[0m\n",
      "\u001b[32m[I 2022-08-19 14:32:36,134]\u001b[0m Trial 36 finished with value: 2138003596.945032 and parameters: {'bagging_fraction': 0.5583833201893088, 'bagging_freq': 1}. Best is trial 28 with value: 2024570073.8714666.\u001b[0m\n",
      "bagging, val_score: 2023373826.693040: 100%|##########| 10/10 [00:27<00:00,  2.72s/it]\n",
      "\u001b[32m[I 2022-08-19 14:32:38,140]\u001b[0m Trial 37 finished with value: 2023373826.6930401 and parameters: {'feature_fraction': 0.784}. Best is trial 37 with value: 2023373826.6930401.\u001b[0m\n",
      "\u001b[32m[I 2022-08-19 14:32:40,304]\u001b[0m Trial 38 finished with value: 2083536584.4856184 and parameters: {'feature_fraction': 0.88}. Best is trial 37 with value: 2023373826.6930401.\u001b[0m\n",
      "\u001b[32m[I 2022-08-19 14:32:42,328]\u001b[0m Trial 39 finished with value: 2023373826.6930401 and parameters: {'feature_fraction': 0.7200000000000001}. Best is trial 37 with value: 2023373826.6930401.\u001b[0m\n",
      "\u001b[32m[I 2022-08-19 14:32:44,712]\u001b[0m Trial 40 finished with value: 2083536584.4856184 and parameters: {'feature_fraction': 0.8480000000000001}. Best is trial 37 with value: 2023373826.6930401.\u001b[0m\n",
      "\u001b[32m[I 2022-08-19 14:32:46,816]\u001b[0m Trial 41 finished with value: 2083536584.4856184 and parameters: {'feature_fraction': 0.8160000000000001}. Best is trial 37 with value: 2023373826.6930401.\u001b[0m\n",
      "\u001b[32m[I 2022-08-19 14:32:48,816]\u001b[0m Trial 42 finished with value: 2023373826.6930401 and parameters: {'feature_fraction': 0.7520000000000001}. Best is trial 37 with value: 2023373826.6930401.\u001b[0m\n",
      "feature_fraction_stage2, val_score: 2023373826.693040: 100%|##########| 6/6 [00:12<00:00,  2.11s/it]\n",
      "\u001b[32m[I 2022-08-19 14:32:51,122]\u001b[0m Trial 43 finished with value: 2087832009.9671495 and parameters: {'lambda_l1': 0.0017867049293892648, 'lambda_l2': 0.32011646374496444}. Best is trial 43 with value: 2087832009.9671495.\u001b[0m\n",
      "\u001b[32m[I 2022-08-19 14:32:53,141]\u001b[0m Trial 44 finished with value: 2044807356.45883 and parameters: {'lambda_l1': 6.860653712080662e-07, 'lambda_l2': 0.0016056009907102376}. Best is trial 44 with value: 2044807356.45883.\u001b[0m\n",
      "\u001b[32m[I 2022-08-19 14:32:55,148]\u001b[0m Trial 45 finished with value: 2023373817.2811556 and parameters: {'lambda_l1': 7.651469441589495e-07, 'lambda_l2': 3.7311099083828933e-06}. Best is trial 45 with value: 2023373817.2811556.\u001b[0m\n",
      "\u001b[32m[I 2022-08-19 14:32:57,647]\u001b[0m Trial 46 finished with value: 2023373823.594674 and parameters: {'lambda_l1': 1.0074416455744479e-07, 'lambda_l2': 1.079984795578841e-06}. Best is trial 45 with value: 2023373817.2811556.\u001b[0m\n",
      "\u001b[32m[I 2022-08-19 14:32:59,660]\u001b[0m Trial 47 finished with value: 2103655024.7329082 and parameters: {'lambda_l1': 1.688741753972323e-06, 'lambda_l2': 0.03367314166459796}. Best is trial 45 with value: 2023373817.2811556.\u001b[0m\n",
      "\u001b[32m[I 2022-08-19 14:33:01,719]\u001b[0m Trial 48 finished with value: 2023373823.3175213 and parameters: {'lambda_l1': 0.0005137351285796685, 'lambda_l2': 1.1187239378777308e-06}. Best is trial 45 with value: 2023373817.2811556.\u001b[0m\n",
      "\u001b[32m[I 2022-08-19 14:33:03,742]\u001b[0m Trial 49 finished with value: 2012825784.4799635 and parameters: {'lambda_l1': 1.7459219041300027, 'lambda_l2': 0.0004574117691883087}. Best is trial 49 with value: 2012825784.4799635.\u001b[0m\n",
      "\u001b[32m[I 2022-08-19 14:33:05,947]\u001b[0m Trial 50 finished with value: 2038532846.6222024 and parameters: {'lambda_l1': 2.0348207668205354e-06, 'lambda_l2': 0.5293555562360815}. Best is trial 49 with value: 2012825784.4799635.\u001b[0m\n",
      "\u001b[32m[I 2022-08-19 14:33:07,973]\u001b[0m Trial 51 finished with value: 2023373826.413511 and parameters: {'lambda_l1': 0.00020763533400612973, 'lambda_l2': 2.566151760122251e-08}. Best is trial 49 with value: 2012825784.4799635.\u001b[0m\n",
      "\u001b[32m[I 2022-08-19 14:33:10,005]\u001b[0m Trial 52 finished with value: 2023373823.33296 and parameters: {'lambda_l1': 6.745890495777255e-07, 'lambda_l2': 1.1991970123223683e-06}. Best is trial 49 with value: 2012825784.4799635.\u001b[0m\n",
      "\u001b[32m[I 2022-08-19 14:33:12,279]\u001b[0m Trial 53 finished with value: 2023372294.7715 and parameters: {'lambda_l1': 3.593697172378387, 'lambda_l2': 0.0002591304319388369}. Best is trial 49 with value: 2012825784.4799635.\u001b[0m\n",
      "\u001b[32m[I 2022-08-19 14:33:14,346]\u001b[0m Trial 54 finished with value: 2023371544.5906973 and parameters: {'lambda_l1': 7.4113049281674215, 'lambda_l2': 0.00018294403132597484}. Best is trial 49 with value: 2012825784.4799635.\u001b[0m\n",
      "\u001b[32m[I 2022-08-19 14:33:16,330]\u001b[0m Trial 55 finished with value: 2023371842.3254004 and parameters: {'lambda_l1': 5.490566006139139, 'lambda_l2': 0.00025341764436301605}. Best is trial 49 with value: 2012825784.4799635.\u001b[0m\n",
      "\u001b[32m[I 2022-08-19 14:33:18,576]\u001b[0m Trial 56 finished with value: 2071097519.12333 and parameters: {'lambda_l1': 0.14014972912947152, 'lambda_l2': 0.005915365751493022}. Best is trial 49 with value: 2012825784.4799635.\u001b[0m\n",
      "\u001b[32m[I 2022-08-19 14:33:20,614]\u001b[0m Trial 57 finished with value: 2023373741.6397815 and parameters: {'lambda_l1': 0.14465994205029584, 'lambda_l2': 1.961596202474825e-05}. Best is trial 49 with value: 2012825784.4799635.\u001b[0m\n",
      "\u001b[32m[I 2022-08-19 14:33:22,740]\u001b[0m Trial 58 finished with value: 2081961023.8220637 and parameters: {'lambda_l1': 0.2516652387896391, 'lambda_l2': 8.514455836746762}. Best is trial 49 with value: 2012825784.4799635.\u001b[0m\n",
      "\u001b[32m[I 2022-08-19 14:33:24,996]\u001b[0m Trial 59 finished with value: 2023371395.535413 and parameters: {'lambda_l1': 9.442157905673197, 'lambda_l2': 4.218635546011494e-05}. Best is trial 49 with value: 2012825784.4799635.\u001b[0m\n",
      "\u001b[32m[I 2022-08-19 14:33:26,977]\u001b[0m Trial 60 finished with value: 2023373718.794164 and parameters: {'lambda_l1': 0.007946156620961086, 'lambda_l2': 4.226531347735691e-05}. Best is trial 49 with value: 2012825784.4799635.\u001b[0m\n",
      "\u001b[32m[I 2022-08-19 14:33:29,014]\u001b[0m Trial 61 finished with value: 2023373700.9890735 and parameters: {'lambda_l1': 0.506601942498153, 'lambda_l2': 4.518709657991422e-08}. Best is trial 49 with value: 2012825784.4799635.\u001b[0m\n",
      "\u001b[32m[I 2022-08-19 14:33:31,321]\u001b[0m Trial 62 finished with value: 2053983580.5720456 and parameters: {'lambda_l1': 0.023605851475522598, 'lambda_l2': 0.0026100050609328034}. Best is trial 49 with value: 2012825784.4799635.\u001b[0m\n",
      "regularization_factors, val_score: 2012825784.479964: 100%|##########| 20/20 [00:42<00:00,  2.12s/it]\n",
      "\u001b[32m[I 2022-08-19 14:33:33,870]\u001b[0m Trial 63 finished with value: 2063537073.7149749 and parameters: {'min_child_samples': 100}. Best is trial 63 with value: 2063537073.7149749.\u001b[0m\n",
      "\u001b[32m[I 2022-08-19 14:33:36,243]\u001b[0m Trial 64 finished with value: 2052314263.0161862 and parameters: {'min_child_samples': 50}. Best is trial 64 with value: 2052314263.0161862.\u001b[0m\n",
      "\u001b[32m[I 2022-08-19 14:33:38,339]\u001b[0m Trial 65 finished with value: 2074078016.4231691 and parameters: {'min_child_samples': 25}. Best is trial 64 with value: 2052314263.0161862.\u001b[0m\n",
      "\u001b[32m[I 2022-08-19 14:33:40,305]\u001b[0m Trial 66 finished with value: 2055138857.2610078 and parameters: {'min_child_samples': 5}. Best is trial 64 with value: 2052314263.0161862.\u001b[0m\n",
      "\u001b[32m[I 2022-08-19 14:33:42,603]\u001b[0m Trial 67 finished with value: 2062122570.7408898 and parameters: {'min_child_samples': 10}. Best is trial 64 with value: 2052314263.0161862.\u001b[0m\n",
      "min_data_in_leaf, val_score: 2012825784.479964: 100%|##########| 5/5 [00:11<00:00,  2.25s/it]"
     ]
    },
    {
     "name": "stdout",
     "output_type": "stream",
     "text": [
      "CPU times: user 6min 39s, sys: 9.03 s, total: 6min 48s\n",
      "Wall time: 3min 40s\n"
     ]
    },
    {
     "name": "stderr",
     "output_type": "stream",
     "text": [
      "\n"
     ]
    }
   ],
   "source": [
    "%%time\n",
    "model = lgb.train(params, dtrain, valid_sets=[dtrain, dval], verbose_eval=10000)        \n"
   ]
  },
  {
   "cell_type": "code",
   "execution_count": 57,
   "metadata": {
    "tags": []
   },
   "outputs": [
    {
     "name": "stdout",
     "output_type": "stream",
     "text": [
      "Optuna LightGBM Tuner r2 = 0.8444598010690063\n"
     ]
    }
   ],
   "source": [
    "y_pred = model.predict(X_test)\n",
    "from flaml.ml import sklearn_metric_loss_score\n",
    "print('Optuna LightGBM Tuner r2', '=', 1 - sklearn_metric_loss_score('r2', y_pred, y_test))"
   ]
  },
  {
   "cell_type": "markdown",
   "metadata": {},
   "source": [
    "## 4. Add a customized LightGBM learner in FLAML\n",
    "The native API of LightGBM allows one to specify a custom objective function in the model constructor. You can easily enable it by adding a customized LightGBM learner in FLAML. In the following example, we show how to add such a customized LightGBM learner with a custom objective function."
   ]
  },
  {
   "cell_type": "markdown",
   "metadata": {},
   "source": [
    "### Create a customized LightGBM learner with a custom objective function"
   ]
  },
  {
   "cell_type": "code",
   "execution_count": 58,
   "metadata": {},
   "outputs": [],
   "source": [
    "import numpy as np \n",
    "\n",
    "''' define your customized objective function '''\n",
    "def my_loss_obj(y_true, y_pred):\n",
    "    c = 0.5\n",
    "    residual = y_pred - y_true\n",
    "    grad = c * residual /(np.abs(residual) + c)\n",
    "    hess = c ** 2 / (np.abs(residual) + c) ** 2\n",
    "    # rmse grad and hess\n",
    "    grad_rmse = residual\n",
    "    hess_rmse = 1.0\n",
    "    \n",
    "    # mae grad and hess\n",
    "    grad_mae = np.array(residual)\n",
    "    grad_mae[grad_mae > 0] = 1.\n",
    "    grad_mae[grad_mae <= 0] = -1.\n",
    "    hess_mae = 1.0\n",
    "\n",
    "    coef = [0.4, 0.3, 0.3]\n",
    "    return coef[0] * grad + coef[1] * grad_rmse + coef[2] * grad_mae, \\\n",
    "        coef[0] * hess + coef[1] * hess_rmse + coef[2] * hess_mae\n",
    "\n",
    "\n",
    "from flaml.model import LGBMEstimator\n",
    "\n",
    "''' create a customized LightGBM learner class with your objective function '''\n",
    "class MyLGBM(LGBMEstimator):\n",
    "    '''LGBMEstimator with my_loss_obj as the objective function\n",
    "    '''\n",
    "\n",
    "    def __init__(self, **config):\n",
    "        super().__init__(objective=my_loss_obj, **config)"
   ]
  },
  {
   "cell_type": "markdown",
   "metadata": {},
   "source": [
    "### Add the customized learner in FLAML"
   ]
  },
  {
   "cell_type": "code",
   "execution_count": 59,
   "metadata": {
    "tags": []
   },
   "outputs": [
    {
     "name": "stderr",
     "output_type": "stream",
     "text": [
      "[flaml.automl: 08-19 14:33:43] {2540} INFO - task = regression\n",
      "[flaml.automl: 08-19 14:33:43] {2542} INFO - Data split method: uniform\n",
      "[flaml.automl: 08-19 14:33:43] {2545} INFO - Evaluation method: cv\n",
      "[flaml.automl: 08-19 14:33:43] {2664} INFO - Minimizing error metric: 1-r2\n",
      "[flaml.automl: 08-19 14:33:43] {2806} INFO - List of ML learners in AutoML Run: ['my_lgbm']\n",
      "[flaml.automl: 08-19 14:33:43] {3108} INFO - iteration 0, current learner my_lgbm\n",
      "[flaml.automl: 08-19 14:33:43] {3241} INFO - Estimated sufficient time budget=3513s. Estimated necessary time budget=4s.\n",
      "[flaml.automl: 08-19 14:33:43] {3288} INFO -  at 0.4s,\testimator my_lgbm's best error=2.9883,\tbest estimator my_lgbm's best error=2.9883\n",
      "[flaml.automl: 08-19 14:33:43] {3108} INFO - iteration 1, current learner my_lgbm\n",
      "[flaml.automl: 08-19 14:33:43] {3288} INFO -  at 0.6s,\testimator my_lgbm's best error=2.9883,\tbest estimator my_lgbm's best error=2.9883\n",
      "[flaml.automl: 08-19 14:33:43] {3108} INFO - iteration 2, current learner my_lgbm\n",
      "[flaml.automl: 08-19 14:33:43] {3288} INFO -  at 0.8s,\testimator my_lgbm's best error=1.7086,\tbest estimator my_lgbm's best error=1.7086\n",
      "[flaml.automl: 08-19 14:33:43] {3108} INFO - iteration 3, current learner my_lgbm\n",
      "[flaml.automl: 08-19 14:33:44] {3288} INFO -  at 1.0s,\testimator my_lgbm's best error=0.3574,\tbest estimator my_lgbm's best error=0.3574\n",
      "[flaml.automl: 08-19 14:33:44] {3108} INFO - iteration 4, current learner my_lgbm\n",
      "[flaml.automl: 08-19 14:33:44] {3288} INFO -  at 1.2s,\testimator my_lgbm's best error=0.3574,\tbest estimator my_lgbm's best error=0.3574\n",
      "[flaml.automl: 08-19 14:33:44] {3108} INFO - iteration 5, current learner my_lgbm\n",
      "[flaml.automl: 08-19 14:33:44] {3288} INFO -  at 1.5s,\testimator my_lgbm's best error=0.2977,\tbest estimator my_lgbm's best error=0.2977\n",
      "[flaml.automl: 08-19 14:33:44] {3108} INFO - iteration 6, current learner my_lgbm\n",
      "[flaml.automl: 08-19 14:33:44] {3288} INFO -  at 1.7s,\testimator my_lgbm's best error=0.2977,\tbest estimator my_lgbm's best error=0.2977\n",
      "[flaml.automl: 08-19 14:33:44] {3108} INFO - iteration 7, current learner my_lgbm\n",
      "[flaml.automl: 08-19 14:33:45] {3288} INFO -  at 1.9s,\testimator my_lgbm's best error=0.2977,\tbest estimator my_lgbm's best error=0.2977\n",
      "[flaml.automl: 08-19 14:33:45] {3108} INFO - iteration 8, current learner my_lgbm\n",
      "[flaml.automl: 08-19 14:33:45] {3288} INFO -  at 2.7s,\testimator my_lgbm's best error=0.2754,\tbest estimator my_lgbm's best error=0.2754\n",
      "[flaml.automl: 08-19 14:33:45] {3108} INFO - iteration 9, current learner my_lgbm\n",
      "[flaml.automl: 08-19 14:33:46] {3288} INFO -  at 3.0s,\testimator my_lgbm's best error=0.2754,\tbest estimator my_lgbm's best error=0.2754\n",
      "[flaml.automl: 08-19 14:33:46] {3108} INFO - iteration 10, current learner my_lgbm\n",
      "[flaml.automl: 08-19 14:33:48] {3288} INFO -  at 4.8s,\testimator my_lgbm's best error=0.1838,\tbest estimator my_lgbm's best error=0.1838\n",
      "[flaml.automl: 08-19 14:33:48] {3108} INFO - iteration 11, current learner my_lgbm\n",
      "[flaml.automl: 08-19 14:33:50] {3288} INFO -  at 7.6s,\testimator my_lgbm's best error=0.1838,\tbest estimator my_lgbm's best error=0.1838\n",
      "[flaml.automl: 08-19 14:33:50] {3108} INFO - iteration 12, current learner my_lgbm\n",
      "[flaml.automl: 08-19 14:33:52] {3288} INFO -  at 9.0s,\testimator my_lgbm's best error=0.1838,\tbest estimator my_lgbm's best error=0.1838\n",
      "[flaml.automl: 08-19 14:33:52] {3108} INFO - iteration 13, current learner my_lgbm\n",
      "[flaml.automl: 08-19 14:33:54] {3288} INFO -  at 11.3s,\testimator my_lgbm's best error=0.1838,\tbest estimator my_lgbm's best error=0.1838\n",
      "[flaml.automl: 08-19 14:33:54] {3108} INFO - iteration 14, current learner my_lgbm\n",
      "[flaml.automl: 08-19 14:33:56] {3288} INFO -  at 13.2s,\testimator my_lgbm's best error=0.1838,\tbest estimator my_lgbm's best error=0.1838\n",
      "[flaml.automl: 08-19 14:33:56] {3108} INFO - iteration 15, current learner my_lgbm\n",
      "[flaml.automl: 08-19 14:33:59] {3288} INFO -  at 15.9s,\testimator my_lgbm's best error=0.1793,\tbest estimator my_lgbm's best error=0.1793\n",
      "[flaml.automl: 08-19 14:33:59] {3108} INFO - iteration 16, current learner my_lgbm\n",
      "[flaml.automl: 08-19 14:34:01] {3288} INFO -  at 17.8s,\testimator my_lgbm's best error=0.1793,\tbest estimator my_lgbm's best error=0.1793\n",
      "[flaml.automl: 08-19 14:34:01] {3108} INFO - iteration 17, current learner my_lgbm\n",
      "[flaml.automl: 08-19 14:34:11] {3288} INFO -  at 28.7s,\testimator my_lgbm's best error=0.1763,\tbest estimator my_lgbm's best error=0.1763\n",
      "[flaml.automl: 08-19 14:34:11] {3108} INFO - iteration 18, current learner my_lgbm\n",
      "[flaml.automl: 08-19 14:34:14] {3288} INFO -  at 31.6s,\testimator my_lgbm's best error=0.1763,\tbest estimator my_lgbm's best error=0.1763\n",
      "[flaml.automl: 08-19 14:34:14] {3108} INFO - iteration 19, current learner my_lgbm\n",
      "[flaml.automl: 08-19 14:34:18] {3288} INFO -  at 34.9s,\testimator my_lgbm's best error=0.1763,\tbest estimator my_lgbm's best error=0.1763\n",
      "[flaml.automl: 08-19 14:34:18] {3108} INFO - iteration 20, current learner my_lgbm\n",
      "[flaml.automl: 08-19 14:34:40] {3288} INFO -  at 57.2s,\testimator my_lgbm's best error=0.1763,\tbest estimator my_lgbm's best error=0.1763\n",
      "[flaml.automl: 08-19 14:34:40] {3108} INFO - iteration 21, current learner my_lgbm\n",
      "[flaml.automl: 08-19 14:34:51] {3288} INFO -  at 67.9s,\testimator my_lgbm's best error=0.1763,\tbest estimator my_lgbm's best error=0.1763\n",
      "[flaml.automl: 08-19 14:34:51] {3108} INFO - iteration 22, current learner my_lgbm\n",
      "[flaml.automl: 08-19 14:34:57] {3288} INFO -  at 74.2s,\testimator my_lgbm's best error=0.1686,\tbest estimator my_lgbm's best error=0.1686\n",
      "[flaml.automl: 08-19 14:34:57] {3108} INFO - iteration 23, current learner my_lgbm\n",
      "[flaml.automl: 08-19 14:35:02] {3288} INFO -  at 79.4s,\testimator my_lgbm's best error=0.1686,\tbest estimator my_lgbm's best error=0.1686\n",
      "[flaml.automl: 08-19 14:35:02] {3108} INFO - iteration 24, current learner my_lgbm\n",
      "[flaml.automl: 08-19 14:35:12] {3288} INFO -  at 89.4s,\testimator my_lgbm's best error=0.1686,\tbest estimator my_lgbm's best error=0.1686\n",
      "[flaml.automl: 08-19 14:35:12] {3108} INFO - iteration 25, current learner my_lgbm\n",
      "[flaml.automl: 08-19 14:35:39] {3288} INFO -  at 116.7s,\testimator my_lgbm's best error=0.1686,\tbest estimator my_lgbm's best error=0.1686\n",
      "[flaml.automl: 08-19 14:35:39] {3108} INFO - iteration 26, current learner my_lgbm\n",
      "[flaml.automl: 08-19 14:35:41] {3288} INFO -  at 118.7s,\testimator my_lgbm's best error=0.1686,\tbest estimator my_lgbm's best error=0.1686\n",
      "[flaml.automl: 08-19 14:35:41] {3108} INFO - iteration 27, current learner my_lgbm\n",
      "[flaml.automl: 08-19 14:35:57] {3288} INFO -  at 133.9s,\testimator my_lgbm's best error=0.1686,\tbest estimator my_lgbm's best error=0.1686\n",
      "[flaml.automl: 08-19 14:35:57] {3108} INFO - iteration 28, current learner my_lgbm\n",
      "[flaml.automl: 08-19 14:36:00] {3288} INFO -  at 137.1s,\testimator my_lgbm's best error=0.1686,\tbest estimator my_lgbm's best error=0.1686\n",
      "[flaml.automl: 08-19 14:36:00] {3108} INFO - iteration 29, current learner my_lgbm\n",
      "[flaml.automl: 08-19 14:36:01] {3288} INFO -  at 138.4s,\testimator my_lgbm's best error=0.1686,\tbest estimator my_lgbm's best error=0.1686\n",
      "[flaml.automl: 08-19 14:36:01] {3108} INFO - iteration 30, current learner my_lgbm\n",
      "[flaml.automl: 08-19 14:36:13] {3288} INFO -  at 150.4s,\testimator my_lgbm's best error=0.1686,\tbest estimator my_lgbm's best error=0.1686\n",
      "[flaml.automl: 08-19 14:36:15] {3552} INFO - retrain my_lgbm for 1.4s\n",
      "[flaml.automl: 08-19 14:36:15] {3559} INFO - retrained model: LGBMRegressor(colsample_bytree=0.783676729687123,\n",
      "              learning_rate=0.49086790129318314, max_bin=511,\n",
      "              min_child_samples=5, n_estimators=40, num_leaves=472,\n",
      "              objective=<function my_loss_obj at 0x7fa2189a49d0>,\n",
      "              reg_alpha=0.0009765625, reg_lambda=0.003042181059805583,\n",
      "              verbose=-1)\n",
      "[flaml.automl: 08-19 14:36:15] {2837} INFO - fit succeeded\n",
      "[flaml.automl: 08-19 14:36:15] {2838} INFO - Time taken to find the best model: 74.16670298576355\n"
     ]
    }
   ],
   "source": [
    "automl = AutoML()\n",
    "automl.add_learner(learner_name='my_lgbm', learner_class=MyLGBM)\n",
    "settings = {\n",
    "    \"time_budget\": 150,  # total running time in seconds\n",
    "    \"metric\": 'r2',  # primary metrics for regression can be chosen from: ['mae','mse','r2']\n",
    "    \"estimator_list\": ['my_lgbm',],  # list of ML learners; we tune lightgbm in this example\n",
    "    \"task\": 'regression',  # task type    \n",
    "    \"log_file_name\": 'houses_experiment_my_lgbm.log',  # flaml log file\n",
    "}\n",
    "automl.fit(X_train=X_train, y_train=y_train, **settings)"
   ]
  },
  {
   "cell_type": "code",
   "execution_count": 60,
   "metadata": {
    "tags": []
   },
   "outputs": [
    {
     "name": "stdout",
     "output_type": "stream",
     "text": [
      "Best hyperparmeter config: {'n_estimators': 40, 'num_leaves': 472, 'min_child_samples': 5, 'learning_rate': 0.49086790129318314, 'log_max_bin': 9, 'colsample_bytree': 0.783676729687123, 'reg_alpha': 0.0009765625, 'reg_lambda': 0.003042181059805583}\n",
      "Best r2 on validation data: 0.8314\n",
      "Training duration of best run: 1.436 s\n",
      "Predicted labels [132791.8974753  261783.72528027 157936.02135606 ... 231511.42570721\n",
      " 220549.58812948 263519.27074828]\n",
      "True labels 14740    136900.0\n",
      "10101    241300.0\n",
      "20566    200700.0\n",
      "2670      72500.0\n",
      "15709    460000.0\n",
      "           ...   \n",
      "13132    121200.0\n",
      "8228     137500.0\n",
      "3948     160900.0\n",
      "8522     227300.0\n",
      "16798    265600.0\n",
      "Name: median_house_value, Length: 5160, dtype: float64\n",
      "r2 = 0.8362103987498559\n",
      "mse = 2165053915.5402246\n",
      "mae = 30417.01739126795\n"
     ]
    }
   ],
   "source": [
    "print('Best hyperparmeter config:', automl.best_config)\n",
    "print('Best r2 on validation data: {0:.4g}'.format(1-automl.best_loss))\n",
    "print('Training duration of best run: {0:.4g} s'.format(automl.best_config_train_time))\n",
    "\n",
    "y_pred = automl.predict(X_test)\n",
    "print('Predicted labels', y_pred)\n",
    "print('True labels', y_test)\n",
    "\n",
    "from flaml.ml import sklearn_metric_loss_score\n",
    "print('r2', '=', 1 - sklearn_metric_loss_score('r2', y_pred, y_test))\n",
    "print('mse', '=', sklearn_metric_loss_score('mse', y_pred, y_test))\n",
    "print('mae', '=', sklearn_metric_loss_score('mae', y_pred, y_test))"
   ]
  },
  {
   "cell_type": "markdown",
   "metadata": {},
   "source": [
    "### Customize learners via custom_hp in FLAML\n",
    "\n",
    "You can provide a 'custom_hp' as a shortcut to override the original search spaces of the built-in learners."
   ]
  },
  {
   "cell_type": "code",
   "execution_count": 61,
   "metadata": {},
   "outputs": [
    {
     "name": "stderr",
     "output_type": "stream",
     "text": [
      "[flaml.automl: 08-19 14:36:15] {2540} INFO - task = regression\n",
      "[flaml.automl: 08-19 14:36:15] {2542} INFO - Data split method: uniform\n",
      "[flaml.automl: 08-19 14:36:15] {2545} INFO - Evaluation method: cv\n",
      "[flaml.automl: 08-19 14:36:15] {2664} INFO - Minimizing error metric: 1-r2\n",
      "[flaml.automl: 08-19 14:36:15] {2806} INFO - List of ML learners in AutoML Run: ['lgbm', 'rf', 'catboost', 'xgboost', 'extra_tree', 'xgb_limitdepth']\n",
      "[flaml.automl: 08-19 14:36:15] {3108} INFO - iteration 0, current learner lgbm\n",
      "[flaml.automl: 08-19 14:36:15] {3241} INFO - Estimated sufficient time budget=1919s. Estimated necessary time budget=16s.\n",
      "[flaml.automl: 08-19 14:36:15] {3288} INFO -  at 0.3s,\testimator lgbm's best error=0.7383,\tbest estimator lgbm's best error=0.7383\n",
      "[flaml.automl: 08-19 14:36:15] {3108} INFO - iteration 1, current learner lgbm\n",
      "[flaml.automl: 08-19 14:36:15] {3288} INFO -  at 0.4s,\testimator lgbm's best error=0.7383,\tbest estimator lgbm's best error=0.7383\n",
      "[flaml.automl: 08-19 14:36:15] {3108} INFO - iteration 2, current learner lgbm\n",
      "[flaml.automl: 08-19 14:36:16] {3288} INFO -  at 0.8s,\testimator lgbm's best error=0.5506,\tbest estimator lgbm's best error=0.5506\n",
      "[flaml.automl: 08-19 14:36:16] {3108} INFO - iteration 3, current learner xgboost\n",
      "[flaml.automl: 08-19 14:36:16] {3288} INFO -  at 1.0s,\testimator xgboost's best error=1.8235,\tbest estimator lgbm's best error=0.5506\n",
      "[flaml.automl: 08-19 14:36:16] {3108} INFO - iteration 4, current learner lgbm\n",
      "[flaml.automl: 08-19 14:36:16] {3288} INFO -  at 1.2s,\testimator lgbm's best error=0.3916,\tbest estimator lgbm's best error=0.3916\n",
      "[flaml.automl: 08-19 14:36:16] {3108} INFO - iteration 5, current learner lgbm\n",
      "[flaml.automl: 08-19 14:36:16] {3288} INFO -  at 1.3s,\testimator lgbm's best error=0.3916,\tbest estimator lgbm's best error=0.3916\n",
      "[flaml.automl: 08-19 14:36:16] {3108} INFO - iteration 6, current learner lgbm\n",
      "[flaml.automl: 08-19 14:36:16] {3288} INFO -  at 1.5s,\testimator lgbm's best error=0.3916,\tbest estimator lgbm's best error=0.3916\n",
      "[flaml.automl: 08-19 14:36:16] {3108} INFO - iteration 7, current learner lgbm\n",
      "[flaml.automl: 08-19 14:36:17] {3288} INFO -  at 1.7s,\testimator lgbm's best error=0.3031,\tbest estimator lgbm's best error=0.3031\n",
      "[flaml.automl: 08-19 14:36:17] {3108} INFO - iteration 8, current learner extra_tree\n",
      "[flaml.automl: 08-19 14:36:17] {3288} INFO -  at 1.8s,\testimator extra_tree's best error=0.6071,\tbest estimator lgbm's best error=0.3031\n",
      "[flaml.automl: 08-19 14:36:17] {3108} INFO - iteration 9, current learner xgboost\n",
      "[flaml.automl: 08-19 14:36:17] {3288} INFO -  at 2.1s,\testimator xgboost's best error=1.8235,\tbest estimator lgbm's best error=0.3031\n",
      "[flaml.automl: 08-19 14:36:17] {3108} INFO - iteration 10, current learner extra_tree\n",
      "[flaml.automl: 08-19 14:36:17] {3288} INFO -  at 2.3s,\testimator extra_tree's best error=0.4393,\tbest estimator lgbm's best error=0.3031\n",
      "[flaml.automl: 08-19 14:36:17] {3108} INFO - iteration 11, current learner xgboost\n",
      "[flaml.automl: 08-19 14:36:18] {3288} INFO -  at 2.8s,\testimator xgboost's best error=0.6769,\tbest estimator lgbm's best error=0.3031\n",
      "[flaml.automl: 08-19 14:36:18] {3108} INFO - iteration 12, current learner extra_tree\n",
      "[flaml.automl: 08-19 14:36:18] {3288} INFO -  at 2.9s,\testimator extra_tree's best error=0.4393,\tbest estimator lgbm's best error=0.3031\n",
      "[flaml.automl: 08-19 14:36:18] {3108} INFO - iteration 13, current learner rf\n",
      "[flaml.automl: 08-19 14:36:19] {3288} INFO -  at 4.2s,\testimator rf's best error=0.2488,\tbest estimator rf's best error=0.2488\n",
      "[flaml.automl: 08-19 14:36:19] {3108} INFO - iteration 14, current learner rf\n",
      "[flaml.automl: 08-19 14:36:20] {3288} INFO -  at 5.2s,\testimator rf's best error=0.2424,\tbest estimator rf's best error=0.2424\n",
      "[flaml.automl: 08-19 14:36:20] {3108} INFO - iteration 15, current learner xgboost\n",
      "[flaml.automl: 08-19 14:36:20] {3288} INFO -  at 5.5s,\testimator xgboost's best error=0.3620,\tbest estimator rf's best error=0.2424\n",
      "[flaml.automl: 08-19 14:36:20] {3108} INFO - iteration 16, current learner lgbm\n",
      "[flaml.automl: 08-19 14:36:21] {3288} INFO -  at 6.0s,\testimator lgbm's best error=0.2631,\tbest estimator rf's best error=0.2424\n",
      "[flaml.automl: 08-19 14:36:21] {3108} INFO - iteration 17, current learner extra_tree\n",
      "[flaml.automl: 08-19 14:36:21] {3288} INFO -  at 6.3s,\testimator extra_tree's best error=0.3922,\tbest estimator rf's best error=0.2424\n",
      "[flaml.automl: 08-19 14:36:21] {3108} INFO - iteration 18, current learner lgbm\n",
      "[flaml.automl: 08-19 14:36:21] {3288} INFO -  at 6.5s,\testimator lgbm's best error=0.2631,\tbest estimator rf's best error=0.2424\n",
      "[flaml.automl: 08-19 14:36:21] {3108} INFO - iteration 19, current learner xgboost\n",
      "[flaml.automl: 08-19 14:36:22] {3288} INFO -  at 6.8s,\testimator xgboost's best error=0.3620,\tbest estimator rf's best error=0.2424\n",
      "[flaml.automl: 08-19 14:36:22] {3108} INFO - iteration 20, current learner rf\n",
      "[flaml.automl: 08-19 14:36:24] {3288} INFO -  at 8.9s,\testimator rf's best error=0.2205,\tbest estimator rf's best error=0.2205\n",
      "[flaml.automl: 08-19 14:36:24] {3108} INFO - iteration 21, current learner xgboost\n",
      "[flaml.automl: 08-19 14:36:24] {3288} INFO -  at 9.1s,\testimator xgboost's best error=0.3620,\tbest estimator rf's best error=0.2205\n",
      "[flaml.automl: 08-19 14:36:24] {3108} INFO - iteration 22, current learner lgbm\n",
      "[flaml.automl: 08-19 14:36:24] {3288} INFO -  at 9.4s,\testimator lgbm's best error=0.2185,\tbest estimator lgbm's best error=0.2185\n",
      "[flaml.automl: 08-19 14:36:24] {3108} INFO - iteration 23, current learner lgbm\n",
      "[flaml.automl: 08-19 14:36:24] {3288} INFO -  at 9.6s,\testimator lgbm's best error=0.2185,\tbest estimator lgbm's best error=0.2185\n",
      "[flaml.automl: 08-19 14:36:24] {3108} INFO - iteration 24, current learner xgboost\n",
      "[flaml.automl: 08-19 14:36:25] {3288} INFO -  at 10.0s,\testimator xgboost's best error=0.3364,\tbest estimator lgbm's best error=0.2185\n",
      "[flaml.automl: 08-19 14:36:25] {3108} INFO - iteration 25, current learner extra_tree\n",
      "[flaml.automl: 08-19 14:36:25] {3288} INFO -  at 10.3s,\testimator extra_tree's best error=0.3230,\tbest estimator lgbm's best error=0.2185\n",
      "[flaml.automl: 08-19 14:36:25] {3108} INFO - iteration 26, current learner lgbm\n",
      "[flaml.automl: 08-19 14:36:25] {3288} INFO -  at 10.5s,\testimator lgbm's best error=0.2185,\tbest estimator lgbm's best error=0.2185\n",
      "[flaml.automl: 08-19 14:36:25] {3108} INFO - iteration 27, current learner xgboost\n",
      "[flaml.automl: 08-19 14:36:26] {3288} INFO -  at 10.8s,\testimator xgboost's best error=0.3364,\tbest estimator lgbm's best error=0.2185\n",
      "[flaml.automl: 08-19 14:36:26] {3108} INFO - iteration 28, current learner extra_tree\n",
      "[flaml.automl: 08-19 14:36:26] {3288} INFO -  at 11.1s,\testimator extra_tree's best error=0.3230,\tbest estimator lgbm's best error=0.2185\n",
      "[flaml.automl: 08-19 14:36:26] {3108} INFO - iteration 29, current learner extra_tree\n",
      "[flaml.automl: 08-19 14:36:26] {3288} INFO -  at 11.4s,\testimator extra_tree's best error=0.2858,\tbest estimator lgbm's best error=0.2185\n",
      "[flaml.automl: 08-19 14:36:26] {3108} INFO - iteration 30, current learner lgbm\n",
      "[flaml.automl: 08-19 14:36:27] {3288} INFO -  at 12.1s,\testimator lgbm's best error=0.1966,\tbest estimator lgbm's best error=0.1966\n",
      "[flaml.automl: 08-19 14:36:27] {3108} INFO - iteration 31, current learner lgbm\n",
      "[flaml.automl: 08-19 14:36:28] {3288} INFO -  at 12.8s,\testimator lgbm's best error=0.1966,\tbest estimator lgbm's best error=0.1966\n",
      "[flaml.automl: 08-19 14:36:28] {3108} INFO - iteration 32, current learner lgbm\n",
      "[flaml.automl: 08-19 14:36:29] {3288} INFO -  at 13.8s,\testimator lgbm's best error=0.1892,\tbest estimator lgbm's best error=0.1892\n",
      "[flaml.automl: 08-19 14:36:29] {3108} INFO - iteration 33, current learner extra_tree\n",
      "[flaml.automl: 08-19 14:36:29] {3288} INFO -  at 14.4s,\testimator extra_tree's best error=0.2570,\tbest estimator lgbm's best error=0.1892\n",
      "[flaml.automl: 08-19 14:36:29] {3108} INFO - iteration 34, current learner lgbm\n",
      "[flaml.automl: 08-19 14:36:30] {3288} INFO -  at 15.0s,\testimator lgbm's best error=0.1892,\tbest estimator lgbm's best error=0.1892\n",
      "[flaml.automl: 08-19 14:36:30] {3108} INFO - iteration 35, current learner lgbm\n",
      "[flaml.automl: 08-19 14:36:32] {3288} INFO -  at 17.1s,\testimator lgbm's best error=0.1762,\tbest estimator lgbm's best error=0.1762\n",
      "[flaml.automl: 08-19 14:36:32] {3108} INFO - iteration 36, current learner extra_tree\n",
      "[flaml.automl: 08-19 14:36:32] {3288} INFO -  at 17.5s,\testimator extra_tree's best error=0.2570,\tbest estimator lgbm's best error=0.1762\n",
      "[flaml.automl: 08-19 14:36:32] {3108} INFO - iteration 37, current learner rf\n",
      "[flaml.automl: 08-19 14:36:35] {3288} INFO -  at 20.6s,\testimator rf's best error=0.2043,\tbest estimator lgbm's best error=0.1762\n",
      "[flaml.automl: 08-19 14:36:35] {3108} INFO - iteration 38, current learner xgboost\n",
      "[flaml.automl: 08-19 14:36:36] {3288} INFO -  at 20.9s,\testimator xgboost's best error=0.3364,\tbest estimator lgbm's best error=0.1762\n",
      "[flaml.automl: 08-19 14:36:36] {3108} INFO - iteration 39, current learner lgbm\n",
      "[flaml.automl: 08-19 14:36:37] {3288} INFO -  at 21.9s,\testimator lgbm's best error=0.1762,\tbest estimator lgbm's best error=0.1762\n",
      "[flaml.automl: 08-19 14:36:37] {3108} INFO - iteration 40, current learner xgboost\n",
      "[flaml.automl: 08-19 14:36:37] {3288} INFO -  at 22.3s,\testimator xgboost's best error=0.2738,\tbest estimator lgbm's best error=0.1762\n",
      "[flaml.automl: 08-19 14:36:37] {3108} INFO - iteration 41, current learner extra_tree\n",
      "[flaml.automl: 08-19 14:36:38] {3288} INFO -  at 23.4s,\testimator extra_tree's best error=0.2570,\tbest estimator lgbm's best error=0.1762\n",
      "[flaml.automl: 08-19 14:36:38] {3108} INFO - iteration 42, current learner lgbm\n",
      "[flaml.automl: 08-19 14:36:43] {3288} INFO -  at 28.5s,\testimator lgbm's best error=0.1648,\tbest estimator lgbm's best error=0.1648\n",
      "[flaml.automl: 08-19 14:36:43] {3108} INFO - iteration 43, current learner catboost\n",
      "[flaml.automl: 08-19 14:37:12] {3288} INFO -  at 57.1s,\testimator catboost's best error=0.1768,\tbest estimator lgbm's best error=0.1648\n",
      "[flaml.automl: 08-19 14:37:12] {3108} INFO - iteration 44, current learner xgboost\n",
      "[flaml.automl: 08-19 14:37:16] {3288} INFO -  at 60.9s,\testimator xgboost's best error=0.2738,\tbest estimator lgbm's best error=0.1648\n",
      "[flaml.automl: 08-19 14:37:27] {3552} INFO - retrain lgbm for 11.2s\n",
      "[flaml.automl: 08-19 14:37:27] {3559} INFO - retrained model: LGBMRegressor(colsample_bytree=0.4280572638757817,\n",
      "              learning_rate=0.12229148765139466, max_bin=255,\n",
      "              min_child_samples=45, n_estimators=378, num_leaves=30,\n",
      "              reg_alpha=0.0009765625, reg_lambda=18.717310934365923,\n",
      "              subsample=0.8687573632569908, subsample_freq=1, verbose=-1)\n",
      "[flaml.automl: 08-19 14:37:27] {2837} INFO - fit succeeded\n",
      "[flaml.automl: 08-19 14:37:27] {2838} INFO - Time taken to find the best model: 28.469687938690186\n"
     ]
    }
   ],
   "source": [
    "from flaml import tune\n",
    "automl = AutoML()\n",
    "custom_hp = {\n",
    "    \"xgboost\": {\n",
    "        \"n_estimators\": {\n",
    "            \"domain\": tune.lograndint(lower=4, upper=100),\n",
    "            \"low_cost_init_value\": 4,\n",
    "        },\n",
    "    },\n",
    "    \"rf\": {\n",
    "        \"max_leaves\": {\n",
    "            \"domain\": None,  # disable search\n",
    "        },\n",
    "    },\n",
    "    \"lgbm\": {\n",
    "        \"subsample\": {\n",
    "            \"domain\": tune.uniform(lower=0.1, upper=1.0),\n",
    "            \"init_value\": 1.0,\n",
    "        },\n",
    "        \"subsample_freq\": {\n",
    "            \"domain\": 1,  # subsample_freq must > 0 to enable subsample\n",
    "        },\n",
    "    },\n",
    "}\n",
    "settings = {\n",
    "    \"time_budget\": 60,  # total running time in seconds\n",
    "    \"metric\": 'r2',  # primary metrics for regression can be chosen from: ['mae','mse','r2']\n",
    "    \"custom_hp\": custom_hp,\n",
    "    \"task\": 'regression',  # task type    \n",
    "    \"log_file_name\": 'houses_experiment_my_lgbm.log',  # flaml log file\n",
    "}\n",
    "automl.fit(X_train=X_train, y_train=y_train, **settings)"
   ]
  },
  {
   "cell_type": "code",
   "execution_count": 62,
   "metadata": {},
   "outputs": [
    {
     "name": "stdout",
     "output_type": "stream",
     "text": [
      "Best hyperparmeter config: {'n_estimators': 378, 'num_leaves': 30, 'min_child_samples': 45, 'learning_rate': 0.12229148765139466, 'log_max_bin': 8, 'colsample_bytree': 0.4280572638757817, 'reg_alpha': 0.0009765625, 'reg_lambda': 18.717310934365923, 'subsample': 0.8687573632569908, 'subsample_freq': 1}\n",
      "Best r2 on validation data: 0.8352\n",
      "Training duration of best run: 11.24 s\n",
      "Predicted labels [149787.03152099 262888.75538702 154935.80727812 ... 214050.57916561\n",
      " 226633.52713256 261029.05148998]\n",
      "True labels 14740    136900.0\n",
      "10101    241300.0\n",
      "20566    200700.0\n",
      "2670      72500.0\n",
      "15709    460000.0\n",
      "           ...   \n",
      "13132    121200.0\n",
      "8228     137500.0\n",
      "3948     160900.0\n",
      "8522     227300.0\n",
      "16798    265600.0\n",
      "Name: median_house_value, Length: 5160, dtype: float64\n",
      "r2 = 0.8412520803443934\n",
      "mse = 2098410414.4031174\n",
      "mae = 31073.08166515394\n"
     ]
    }
   ],
   "source": [
    "print('Best hyperparmeter config:', automl.best_config)\n",
    "print('Best r2 on validation data: {0:.4g}'.format(1-automl.best_loss))\n",
    "print('Training duration of best run: {0:.4g} s'.format(automl.best_config_train_time))\n",
    "\n",
    "y_pred = automl.predict(X_test)\n",
    "print('Predicted labels', y_pred)\n",
    "print('True labels', y_test)\n",
    "\n",
    "from flaml.ml import sklearn_metric_loss_score\n",
    "print('r2', '=', 1 - sklearn_metric_loss_score('r2', y_pred, y_test))\n",
    "print('mse', '=', sklearn_metric_loss_score('mse', y_pred, y_test))\n",
    "print('mae', '=', sklearn_metric_loss_score('mae', y_pred, y_test))"
   ]
  }
 ],
 "metadata": {
  "kernelspec": {
   "display_name": "Python 3.9.12 64-bit",
   "language": "python",
   "name": "python3"
  },
  "language_info": {
   "codemirror_mode": {
    "name": "ipython",
    "version": 3
   },
   "file_extension": ".py",
   "mimetype": "text/x-python",
   "name": "python",
   "nbconvert_exporter": "python",
   "pygments_lexer": "ipython3",
   "version": "3.9.12"
  },
  "vscode": {
   "interpreter": {
    "hash": "949777d72b0d2535278d3dc13498b2535136f6dfe0678499012e853ee9abcab1"
   }
  }
 },
 "nbformat": 4,
 "nbformat_minor": 2
}
